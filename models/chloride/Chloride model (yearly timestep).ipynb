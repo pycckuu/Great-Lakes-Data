{
 "cells": [
  {
   "cell_type": "code",
   "execution_count": null,
   "metadata": {},
   "outputs": [],
   "source": [
    "import sys\n",
    "import seaborn as sns\n",
    "from matplotlib.colors import ListedColormap\n",
    "from datetime import datetime, timedelta\n",
    "import matplotlib.dates as mdates\n",
    "import matplotlib.ticker as tkr\n",
    "from matplotlib import rc\n",
    "import numpy as np\n",
    "import matplotlib.pyplot as plt\n",
    "import scipy as sp\n",
    "import cmocean\n",
    "import os\n",
    "import warnings\n",
    "import pandas as pd\n",
    "import h5py\n",
    "from datetime import datetime\n",
    "from scipy import interpolate\n",
    "sys.path.append('/Users/imarkelo/git/PorousMediaLab/')\n",
    "from porousmedialab.batch import Batch\n",
    "\n",
    "sns.set_style(\"whitegrid\")\n",
    "sns.set_style(\"ticks\")\n",
    "warnings.filterwarnings('ignore')\n",
    "sns.set_style(\"whitegrid\")\n",
    "sns.set_style(\"ticks\")\n",
    "rc('text', usetex=False)\n",
    "rc(\"savefig\", dpi=90)\n",
    "rc(\"figure\", dpi=90)\n",
    "plt.rcParams['figure.figsize'] = 6, 4\n",
    "pd.options.display.max_columns = 999\n",
    "pd.options.display.max_rows = 400\n",
    "str(datetime.now())\n",
    "%matplotlib inline"
   ]
  },
  {
   "cell_type": "code",
   "execution_count": null,
   "metadata": {},
   "outputs": [],
   "source": [
    "cl_stclaitr_209 = pd.read_excel('../../measurements/St Clair Lake/Chloride_in_Lake_St_Clair.xlsx', sheet_name='st. 209')[['Collect Date','Result B']]\n",
    "cl_stclaitr_209['Collect Date'] = pd.to_datetime(cl_stclaitr_209['Collect Date'])\n",
    "cl_stclaitr_209['Collect Date'] = pd.to_datetime(cl_stclaitr_209['Collect Date'])\n",
    "cl_stclaitr_209['Date'] = cl_stclaitr_209['Collect Date'].dt.date\n",
    "cl_stclaitr_209['Year'] = cl_stclaitr_209['Collect Date'].dt.year\n",
    "cl_stclaitr_209['Month'] = cl_stclaitr_209['Collect Date'].dt.month\n",
    "cl_stclaitr_209['seq_m'] = (cl_stclaitr_209['Year'] - 1996)*12 + cl_stclaitr_209['Month'] - shift\n",
    "\n",
    "cl_stclaitr_210 = pd.read_excel('../../measurements/St Clair Lake/Chloride_in_Lake_St_Clair.xlsx', sheet_name='st. 210')[['Collect Date','Result B']]\n",
    "cl_stclaitr_210['Collect Date'] = pd.to_datetime(cl_stclaitr_210['Collect Date'])\n",
    "cl_stclaitr_210['Collect Date'] = pd.to_datetime(cl_stclaitr_210['Collect Date'])\n",
    "cl_stclaitr_210['Date'] = cl_stclaitr_210['Collect Date'].dt.date\n",
    "cl_stclaitr_210['Year'] = cl_stclaitr_210['Collect Date'].dt.year\n",
    "cl_stclaitr_210['Month'] = cl_stclaitr_210['Collect Date'].dt.month\n",
    "cl_stclaitr_210['seq_m'] = (cl_stclaitr_210['Year'] - 1996)*12 + cl_stclaitr_210['Month'] - shift\n",
    "\n",
    "cl_stclaitr_210 = cl_stclaitr_210.groupby('seq_m').mean().reset_index()\n",
    "cl_stclaitr_209 = cl_stclaitr_209.groupby('seq_m').mean().reset_index()\n",
    "\n",
    "cl_stclaitr = pd.merge(cl_stclaitr_210, cl_stclaitr_209, on=['seq_m', 'Year'])[['seq_m','Year','Result B_y', 'Result B_x']]\n",
    "\n",
    "cl_stclaitr['Cl'] = (cl_stclaitr['Result B_y'] + cl_stclaitr['Result B_x'])/2\n",
    "\n",
    "cl_stclaitr = cl_stclaitr.groupby('seq_m').mean().reset_index()"
   ]
  },
  {
   "cell_type": "code",
   "execution_count": null,
   "metadata": {},
   "outputs": [],
   "source": [
    "rivers_cl_kta = pd.read_csv('rivers_cl_kta_annual.csv')"
   ]
  },
  {
   "cell_type": "code",
   "execution_count": null,
   "metadata": {},
   "outputs": [],
   "source": []
  },
  {
   "cell_type": "code",
   "execution_count": null,
   "metadata": {
    "scrolled": false
   },
   "outputs": [],
   "source": [
    "rivers = {'ca': {'clair': ['Thames_R', 'Sydenham_R', 'Ruscom_R'],\n",
    "                 'eastern': ['Grand_R', 'Nanticoke_R', 'Lynn_R', 'Big_R'],\n",
    "                 'central': ['Big_Otter_R', 'Kettle_R'],\n",
    "                 'western': ['Turkey_R', 'Canard_R']},\n",
    "          'us': {'clair': ['Clinton_R', 'Belle_R', 'Black_R_MI'],\n",
    "                 'eastern': ['Cattaraugus_R', 'Buffalo_R'],\n",
    "                 'central': ['Sandusky_R', 'Black_OH_R', 'Vermilion_R', 'Rocky_R', 'Cuyahoga_R',\n",
    "                             'Chagrin_R', 'Grand_OH_R', 'Conneaut_R'],\n",
    "                 'western': ['Rouge_R', 'Huron_MI_R', 'Raisin_R', 'Maumee_R', 'Portage_R']},\n",
    "          'StClair': ['St_Clair_R']}\n",
    "Lsc = rivers_cl_kta[\n",
    "    ['Thames_R', 'Sydenham_R', 'Ruscom_R']+\n",
    "    ['Clinton_R', 'Black_R_MI']].dropna().sum(axis=1)/0.75 + \\\n",
    "    rivers_cl_kta[['St_Clair_R']].dropna().sum(axis=1)\n",
    "Lsc.plot()"
   ]
  },
  {
   "cell_type": "code",
   "execution_count": null,
   "metadata": {},
   "outputs": [],
   "source": [
    "LTsc = Lsc.index.values\n",
    "Lsc_spl = sp.interpolate.InterpolatedUnivariateSpline(LTsc, Lsc, ext=3)\n",
    "plt.scatter(LTsc, Lsc)\n",
    "plt.plot(LTsc, Lsc_spl(LTsc))"
   ]
  },
  {
   "cell_type": "code",
   "execution_count": null,
   "metadata": {},
   "outputs": [],
   "source": [
    "discharge_ckmy = pd.read_csv('discharge_ckmy.csv').groupby(discharge_ckmy.level_0).mean()\n",
    "Wsc = discharge_ckmy[rivers['us']['clair']+rivers['ca']['clair']].dropna().sum(axis=1)/0.75 + \\\n",
    "    discharge_ckmy[rivers['StClair']].dropna().sum(axis=1)\n",
    "WTsc = Wsc.index.values\n",
    "plt.plot(WTsc, Wsc)"
   ]
  },
  {
   "cell_type": "code",
   "execution_count": null,
   "metadata": {},
   "outputs": [],
   "source": [
    "Wwb = discharge_ckmy[rivers['us']['western']+rivers['ca']['western']].sum(axis=1)/0.75\n",
    "WTwb = Wwb.index.values\n",
    "plt.plot(WTwb, Wwb)"
   ]
  },
  {
   "cell_type": "code",
   "execution_count": null,
   "metadata": {},
   "outputs": [],
   "source": [
    "Lwb = rivers_cl_kta[rivers['us']['western']+rivers['ca']['western']].sum(axis=1)\n",
    "LTwb = Lwb.index.values\n",
    "Lwb_spl = sp.interpolate.InterpolatedUnivariateSpline(LTwb, Lwb, ext=3)\n",
    "plt.scatter(LTwb, Lwb)\n",
    "plt.plot(LTwb, Lwb_spl(LTwb))"
   ]
  },
  {
   "cell_type": "code",
   "execution_count": null,
   "metadata": {},
   "outputs": [],
   "source": [
    "Wcb = discharge_ckmy[rivers['us']['central']+rivers['ca']['central']].sum(axis=1)/0.75\n",
    "WTcb = Wcb.index.values\n",
    "plt.plot(WTcb, Wcb)"
   ]
  },
  {
   "cell_type": "code",
   "execution_count": null,
   "metadata": {},
   "outputs": [],
   "source": [
    "Lcb = rivers_cl_kta[rivers['us']['central']+rivers['ca']['central']].sum(axis=1)\n",
    "LTcb = Lcb.index.values\n",
    "Lcb_spl = sp.interpolate.InterpolatedUnivariateSpline(LTcb, Lcb, ext=3)\n",
    "plt.scatter(LTcb, Lcb)\n",
    "plt.plot(LTcb, Lcb_spl(LTcb))"
   ]
  },
  {
   "cell_type": "code",
   "execution_count": null,
   "metadata": {},
   "outputs": [],
   "source": [
    "Web = discharge_ckmy[rivers['us']['eastern']+rivers['ca']['eastern']].sum(axis=1)/0.75\n",
    "WTeb = Web.index.values\n",
    "plt.plot(WTeb, Web)"
   ]
  },
  {
   "cell_type": "code",
   "execution_count": null,
   "metadata": {},
   "outputs": [],
   "source": [
    "Leb = rivers_cl_kta[rivers['us']['central']+rivers['ca']['central']].sum(axis=1)\n",
    "LTeb = Leb.index.values\n",
    "Leb_spl = sp.interpolate.InterpolatedUnivariateSpline(LTeb, Leb, ext=3)\n",
    "plt.scatter(LTeb, Leb)\n",
    "plt.plot(LTeb, Leb_spl(LTeb))"
   ]
  },
  {
   "cell_type": "code",
   "execution_count": null,
   "metadata": {},
   "outputs": [],
   "source": [
    "shift = 5\n",
    "\n",
    "tend = 22 - shift\n",
    "dt = 0.01\n",
    "bl = Batch(tend, dt)\n",
    "bl.add_species(name='Csc', init_conc=8.35)\n",
    "bl.add_species(name='Cwb', init_conc=13)\n",
    "bl.add_species(name='Ccb', init_conc=14)\n",
    "bl.add_species(name='Ceb', init_conc=16)\n",
    "bl.constants['Vsc'] = 4.17\n",
    "bl.constants['Vwb'] = 25\n",
    "bl.constants['Vcb'] = 305\n",
    "bl.constants['Veb'] = 154\n",
    "\n",
    "bl.constants['Dwc'] = 0.\n",
    "bl.constants['Dce'] = 1.5\n",
    "\n",
    "bl.functions['LTsc'] = np.array2string(Lsc.index.values-shift, separator=',')\n",
    "bl.functions['Lsc'] = np.array2string(Lsc.values, separator=',')\n",
    "bl.functions['WTsc'] = np.array2string(Wsc.index.values-shift, separator=',')\n",
    "bl.functions['Wsc'] = np.array2string(Wsc.values, separator=',')\n",
    "bl.functions['LTwb'] = np.array2string(Lwb.index.values-shift, separator=',')\n",
    "bl.functions['Lwb'] = np.array2string(Lwb.values, separator=',')\n",
    "bl.functions['WTwb'] = np.array2string(Wwb.index.values-shift, separator=',')\n",
    "bl.functions['Wwb'] = np.array2string(Wwb.values, separator=',')\n",
    "bl.functions['LTcb'] = np.array2string(Lcb.index.values-shift, separator=',')\n",
    "bl.functions['Lcb'] = np.array2string(Lcb.values, separator=',')\n",
    "bl.functions['WTcb'] = np.array2string(Wcb.index.values-shift, separator=',')\n",
    "bl.functions['Wcb'] = np.array2string(Wcb.values, separator=',')\n",
    "bl.functions['LTeb'] = np.array2string(Leb.index.values-shift, separator=',')\n",
    "bl.functions['Leb'] = np.array2string(Leb.values, separator=',')\n",
    "bl.functions['WTeb'] = np.array2string(Web.index.values-shift, separator=',')\n",
    "bl.functions['Web'] = np.array2string(Web.values, separator=',')\n",
    "bl.functions['Wsc_spl'] = 'sp.interpolate.InterpolatedUnivariateSpline(WTsc, Wsc,ext=3)'\n",
    "bl.functions['Lsc_spl'] = 'sp.interpolate.InterpolatedUnivariateSpline(LTsc, Lsc, ext=3)'\n",
    "bl.functions['Wwb_spl'] = 'sp.interpolate.InterpolatedUnivariateSpline(WTwb, Wwb,ext=3)'\n",
    "bl.functions['Lwb_spl'] = 'sp.interpolate.InterpolatedUnivariateSpline(LTwb, Lwb, ext=3)'\n",
    "bl.functions['Wcb_spl'] = 'sp.interpolate.InterpolatedUnivariateSpline(WTcb, Wcb,ext=3)'\n",
    "bl.functions['Lcb_spl'] = 'sp.interpolate.InterpolatedUnivariateSpline(LTcb, Lcb, ext=3)'\n",
    "bl.functions['Web_spl'] = 'sp.interpolate.InterpolatedUnivariateSpline(WTeb, Web,ext=3)'\n",
    "bl.functions['Leb_spl'] = 'sp.interpolate.InterpolatedUnivariateSpline(LTeb, Leb, ext=3)'\n",
    "\n",
    "bl.dcdt['Csc'] = 'Lsc_spl(TIME)/Vsc  - Wsc_spl(TIME)*Csc/Vsc'\n",
    "bl.dcdt['Cwb'] = '(Lwb_spl(TIME)+300)/Vwb  + Wsc_spl(TIME)*Csc/Vwb - (Wsc_spl(TIME)+Wwb_spl(TIME))*Cwb/Vwb - Dwc*(Cwb - Ccb)'\n",
    "bl.dcdt['Ccb'] = '(Lcb_spl(TIME)+150)/Vcb  + (Wsc_spl(TIME)+Wwb_spl(TIME))*Cwb/Vcb - (Wsc_spl(TIME)+Wwb_spl(TIME)+Wcb_spl(TIME))*Ccb/Vcb- Dwc*(Ccb - Cwb) - Dce*(Ccb - Ceb)'\n",
    "bl.dcdt['Ceb'] = '(Leb_spl(TIME))/Veb  + (Wsc_spl(TIME)+Wwb_spl(TIME)+Wcb_spl(TIME))*Ccb/Veb - (Wsc_spl(TIME)+Wwb_spl(TIME)+Wcb_spl(TIME)+Web_spl(TIME))*Ceb/Veb - Dce*(Ceb - Ccb)'\n",
    "bl.solve()"
   ]
  },
  {
   "cell_type": "code",
   "execution_count": null,
   "metadata": {},
   "outputs": [],
   "source": []
  },
  {
   "cell_type": "code",
   "execution_count": null,
   "metadata": {},
   "outputs": [],
   "source": [
    "f, axes = plt.subplots(1,1, figsize=(5,3), dpi=200, sharex=True)\n",
    "\n",
    "\n",
    "axes.plot((bl.time + shift) + 1996, bl.species['Csc']['concentration'].flatten())\n",
    "axes.scatter((cl_stclaitr['seq_m'].values+ shift-1)/12 + 1996, cl_stclaitr['Cl'].values, edgecolors=sns.color_palette()[3], s=50, marker='o', facecolors='white', zorder=10)\n",
    "# axes.scatter((cl_stclaitr_210['seq_m'].values + shift)/12 + 1996, cl_stclaitr_210['Result B'].values, edgecolors=sns.color_palette()[3], s=50, marker='o', facecolors='white', zorder=10)\n",
    "\n",
    "axes.set_ylim(0,14)\n",
    "axes.set_xlim(2003,2017)\n",
    "# axes.set_xlim(datetime(2002,12,31),datetime(2018,1,1))\n",
    "# axes.legend(loc=2)\n",
    "axes.set_ylabel('Lake St. Clair Cl, $mg\\cdot L^{-1}$')\n",
    "\n",
    "\n",
    "# handles, labels = axes.get_legend_handles_labels()\n",
    "# f.legend( handles, labels, loc = (0.3, 0.83), ncol=2, frameon=1, framealpha=0.5, fontsize='small' )\n",
    "# handles_2, labels_2 = ax2.get_legend_handles_labels()\n",
    "# f.legend( handles + handles_2, labels+labels_2, loc = (0.18, 0.87), ncol=3, frameon=1, framealpha=0.5, fontsize='x-small' )\n",
    "plt.tight_layout(h_pad=0.1)\n",
    "axes.set_xlabel('')\n",
    "axes.grid(lw=0.2)\n",
    "plt.tight_layout()\n",
    "# f.savefig('/Users/imarkelo/Google Drive/GDocuments/Lake Erie/Draft/Water Budget/latex_figures/img/evap_recent.pdf')\n",
    "\n",
    "\n",
    "\n",
    "\n"
   ]
  },
  {
   "cell_type": "markdown",
   "metadata": {},
   "source": [
    "### Area weighted averages or depth integrated values:"
   ]
  },
  {
   "cell_type": "code",
   "execution_count": null,
   "metadata": {},
   "outputs": [],
   "source": [
    "EB_A = pd.read_csv('Eastern_basin_averages_mgL.csv').groupby('Year').mean().reset_index()\n",
    "CB_A = pd.read_csv('Central_basin_averages_mgL.csv').groupby('Year').mean().reset_index()\n",
    "WB_A = pd.read_csv('Western_basin_averages_mgL.csv').groupby('Year').mean().reset_index()"
   ]
  },
  {
   "cell_type": "code",
   "execution_count": null,
   "metadata": {},
   "outputs": [],
   "source": [
    "WB_AWA = pd.read_csv('Western_basin_area_weighted_averages_mgL.csv').groupby('Year').mean().reset_index()\n",
    "\n",
    "f, axes = plt.subplots(1,1, figsize=(5,3), dpi=200, sharex=True)\n",
    "\n",
    "\n",
    "axes.plot((bl.time + shift) + 1996, bl.species['Cwb']['concentration'].flatten())\n",
    "# axes.scatter((cl_stclaitr['seq_m'].values+ shift)/12 + 1996, cl_stclaitr['Cl'].values, c=sns.color_palette()[1], s=10)\n",
    "axes.scatter(WB_AWA.Year, WB_AWA.Value.values, edgecolors=sns.color_palette()[3], s=50, marker='o', facecolors='white', zorder=10)\n",
    "# axes.scatter(WB_A.Year, WB_A['mean'].values, c=sns.color_palette()[3], s=50, marker='x', zorder=10)\n",
    "\n",
    "# axes.set_ylim(0,None)\n",
    "axes.set_xlim(2003,2017)\n",
    "# axes.set_xlim(datetime(2002,12,31),datetime(2018,1,1))\n",
    "# axes.legend(loc=2)\n",
    "axes.set_ylabel('Lake Erie (Western) Cl, $mg\\cdot L^{-1}$')\n",
    "\n",
    "\n",
    "# handles, labels = axes.get_legend_handles_labels()\n",
    "# f.legend( handles, labels, loc = (0.3, 0.83), ncol=2, frameon=1, framealpha=0.5, fontsize='small' )\n",
    "# handles_2, labels_2 = ax2.get_legend_handles_labels()\n",
    "# f.legend( handles + handles_2, labels+labels_2, loc = (0.18, 0.87), ncol=3, frameon=1, framealpha=0.5, fontsize='x-small' )\n",
    "plt.tight_layout(h_pad=0.1)\n",
    "axes.set_xlabel('')\n",
    "axes.grid(lw=0.2)\n",
    "plt.tight_layout()\n",
    "# f.savefig('/Users/imarkelo/Google Drive/GDocuments/Lake Erie/Draft/Water Budget/latex_figures/img/evap_recent.pdf')\n",
    "\n",
    "\n",
    "\n",
    "\n"
   ]
  },
  {
   "cell_type": "code",
   "execution_count": null,
   "metadata": {},
   "outputs": [],
   "source": [
    "CB_AWA = pd.read_csv('Central_basin_area_weighted_averages_mgL.csv').groupby('Year').mean().reset_index()\n",
    "\n",
    "f, axes = plt.subplots(1,1, figsize=(5,3), dpi=200, sharex=True)\n",
    "\n",
    "\n",
    "axes.plot((bl.time + shift) + 1996, bl.species['Ccb']['concentration'].flatten())\n",
    "# axes.scatter((cl_stclaitr['seq_m'].values+ shift)/12 + 1996, cl_stclaitr['Cl'].values, c=sns.color_palette()[1], s=10)\n",
    "axes.scatter(CB_AWA.Year + (CB_AWA.Month-1)/11, CB_AWA.Value.values, edgecolors=sns.color_palette()[3], s=50, marker='o', facecolors='white', zorder=10)\n",
    "# axes.scatter(CB_A.Year + (CB_A.Month-1)/11, CB_A['mean'].values, c=sns.color_palette()[3], s=50, marker='x', zorder=10)\n",
    "\n",
    "axes.set_ylim(0,None)\n",
    "axes.set_xlim(2003,2017)\n",
    "# axes.set_xlim(datetime(2002,12,31),datetime(2018,1,1))\n",
    "# axes.legend(loc=2)\n",
    "axes.set_ylabel('Lake Erie (Central) Cl, $mg\\cdot L^{-1}$')\n",
    "\n",
    "\n",
    "# handles, labels = axes.get_legend_handles_labels()\n",
    "# f.legend( handles, labels, loc = (0.3, 0.83), ncol=2, frameon=1, framealpha=0.5, fontsize='small' )\n",
    "# handles_2, labels_2 = ax2.get_legend_handles_labels()\n",
    "# f.legend( handles + handles_2, labels+labels_2, loc = (0.18, 0.87), ncol=3, frameon=1, framealpha=0.5, fontsize='x-small' )\n",
    "plt.tight_layout(h_pad=0.1)\n",
    "axes.set_xlabel('')\n",
    "axes.grid(lw=0.2)\n",
    "plt.tight_layout()\n",
    "# f.savefig('/Users/imarkelo/Google Drive/GDocuments/Lake Erie/Draft/Water Budget/latex_figures/img/evap_recent.pdf')\n",
    "\n",
    "\n",
    "\n",
    "\n"
   ]
  },
  {
   "cell_type": "code",
   "execution_count": null,
   "metadata": {},
   "outputs": [],
   "source": [
    "EB_AWA = pd.read_csv('Eastern_basin_area_weighted_averages_mgL.csv').groupby('Year').mean().reset_index()\n",
    "\n",
    "f, axes = plt.subplots(1,1, figsize=(5,3), dpi=200, sharex=True)\n",
    "\n",
    "\n",
    "axes.plot((bl.time + shift) + 1996, bl.species['Ceb']['concentration'].flatten())\n",
    "# axes.scatter((cl_stclaitr['seq_m'].values+ shift)/12 + 1996, cl_stclaitr['Cl'].values, c=sns.color_palette()[1], s=10)\n",
    "axes.scatter(EB_AWA.Year, EB_AWA.Value.values, edgecolors=sns.color_palette()[3], s=50, marker='o', facecolors='white', zorder=10)\n",
    "# axes.scatter(EB_A.Year , EB_A['mean'].values, c=sns.color_palette()[3], s=50, marker='x', zorder=10)\n",
    "\n",
    "axes.set_ylim(0,None)\n",
    "axes.set_xlim(2003,2017)\n",
    "# axes.set_xlim(datetime(2002,12,31),datetime(2018,1,1))\n",
    "# axes.legend(loc=2)\n",
    "axes.set_ylabel('Lake Erie (Eastern) Cl, $mg\\cdot L^{-1}$')\n",
    "\n",
    "\n",
    "# handles, labels = axes.get_legend_handles_labels()\n",
    "# f.legend( handles, labels, loc = (0.3, 0.83), ncol=2, frameon=1, framealpha=0.5, fontsize='small' )\n",
    "# handles_2, labels_2 = ax2.get_legend_handles_labels()\n",
    "# f.legend( handles + handles_2, labels+labels_2, loc = (0.18, 0.87), ncol=3, frameon=1, framealpha=0.5, fontsize='x-small' )\n",
    "plt.tight_layout(h_pad=0.1)\n",
    "axes.set_xlabel('')\n",
    "axes.grid(lw=0.2)\n",
    "plt.tight_layout()\n",
    "# f.savefig('/Users/imarkelo/Google Drive/GDocuments/Lake Erie/Draft/Water Budget/latex_figures/img/evap_recent.pdf')\n",
    "\n",
    "\n",
    "\n",
    "\n"
   ]
  },
  {
   "cell_type": "code",
   "execution_count": null,
   "metadata": {},
   "outputs": [],
   "source": []
  },
  {
   "cell_type": "code",
   "execution_count": null,
   "metadata": {},
   "outputs": [],
   "source": [
    "EB_AWA = pd.read_csv('Eastern_basin_area_weighted_averages_mgL.csv')\n",
    "\n",
    "f, axes = plt.subplots(1,1, figsize=(5,3), dpi=200, sharex=True)\n",
    "\n",
    "\n",
    "axes.plot((bl.time + shift) + 1996, bl.species['Cwb']['concentration'].flatten(), label='WB')\n",
    "axes.plot((bl.time + shift) + 1996, bl.species['Ccb']['concentration'].flatten(), label='CB')\n",
    "axes.plot((bl.time + shift) + 1996, bl.species['Ceb']['concentration'].flatten(), label='EB')\n",
    "# axes.scatter((cl_stclaitr['seq_m'].values+ shift)/12 + 1996, cl_stclaitr['Cl'].values, c=sns.color_palette()[1], s=10)\n",
    "\n",
    "# axes.scatter(WB_AWA.Year + (WB_AWA.Month-1)/11, WB_AWA.Value.values, edgecolors=sns.color_palette()[0], s=30, marker='o', facecolors='white', zorder=10)\n",
    "# axes.scatter(CB_AWA.Year + (CB_AWA.Month-1)/11, CB_AWA.Value.values, edgecolors=sns.color_palette()[1], s=30, marker='o', facecolors='white', zorder=10)\n",
    "# axes.scatter(EB_AWA.Year + (EB_AWA.Month-1)/11, EB_AWA.Value.values, edgecolors=sns.color_palette()[2], s=30, marker='o', facecolors='white', zorder=10)\n",
    "\n",
    "\n",
    "# axes.set_ylim(0,None)\n",
    "axes.set_xlim(2003,2017)\n",
    "# axes.set_xlim(datetime(2002,12,31),datetime(2018,1,1))\n",
    "# axes.legend(loc=2)\n",
    "axes.set_ylabel('Lake Erie (Eastern) Cl, $mg\\cdot L^{-1}$')\n",
    "\n",
    "\n",
    "handles, labels = axes.get_legend_handles_labels()\n",
    "f.legend( handles, labels, loc = (0.3, 0.23), ncol=3, frameon=1, framealpha=0.5, fontsize='small' )\n",
    "# handles_2, labels_2 = ax2.get_legend_handles_labels()\n",
    "# f.legend( handles + handles_2, labels+labels_2, loc = (0.18, 0.87), ncol=3, frameon=1, framealpha=0.5, fontsize='x-small' )\n",
    "plt.tight_layout(h_pad=0.1)\n",
    "axes.set_xlabel('')\n",
    "axes.grid(lw=0.2)\n",
    "plt.tight_layout()\n",
    "# f.savefig('/Users/imarkelo/Google Drive/GDocuments/Lake Erie/Draft/Water Budget/latex_figures/img/evap_recent.pdf')\n",
    "\n",
    "\n",
    "\n",
    "\n"
   ]
  },
  {
   "cell_type": "code",
   "execution_count": null,
   "metadata": {},
   "outputs": [],
   "source": []
  },
  {
   "cell_type": "code",
   "execution_count": null,
   "metadata": {},
   "outputs": [],
   "source": []
  },
  {
   "cell_type": "code",
   "execution_count": null,
   "metadata": {},
   "outputs": [],
   "source": []
  }
 ],
 "metadata": {
  "kernelspec": {
   "display_name": "Python 3",
   "language": "python",
   "name": "python3"
  },
  "language_info": {
   "codemirror_mode": {
    "name": "ipython",
    "version": 3
   },
   "file_extension": ".py",
   "mimetype": "text/x-python",
   "name": "python",
   "nbconvert_exporter": "python",
   "pygments_lexer": "ipython3",
   "version": "3.6.3"
  }
 },
 "nbformat": 4,
 "nbformat_minor": 2
}
