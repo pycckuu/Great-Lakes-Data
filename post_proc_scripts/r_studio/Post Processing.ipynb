{
 "cells": [
  {
   "cell_type": "code",
   "execution_count": 19,
   "metadata": {},
   "outputs": [],
   "source": [
    "import glob\n",
    "import pandas as pd\n",
    "import os\n",
    "import datetime\n",
    "import numpy as np"
   ]
  },
  {
   "cell_type": "code",
   "execution_count": 5,
   "metadata": {},
   "outputs": [],
   "source": [
    "directory = 'plots/'"
   ]
  },
  {
   "cell_type": "code",
   "execution_count": 80,
   "metadata": {},
   "outputs": [],
   "source": [
    "rivers = [\"Black_River_St_Clair\", \"Rouge_River_US_Detroit\", \"Clinton_River_St_Clair\"]"
   ]
  },
  {
   "cell_type": "code",
   "execution_count": 108,
   "metadata": {},
   "outputs": [],
   "source": [
    "df = pd.DataFrame({'Year': np.linspace(1980,2018,39)})\n",
    "for r in rivers:\n",
    "    daily =pd.read_csv('plots/'+r+'/TP/'+r+'_TP_Daily.csv')\n",
    "    daily['Date'] = pd.to_datetime(daily['Date'], errors='coerce')\n",
    "    daily = daily.groupby(daily.Date.dt.year).median().reset_index()\n",
    "    daily = daily.rename(index=str, columns={\"FluxDay\": r, 'Date':'Year'})[['Year', r]]\n",
    "    df = df.merge(daily, on='Year')\n",
    "df[rivers] = df[rivers]/1000*365\n",
    "df['Total, MTA'] = df[rivers].sum(axis=1)\n",
    "df[['Year']+rivers+['Total, MTA']].round(2).to_clipboard(index=False)"
   ]
  },
  {
   "cell_type": "code",
   "execution_count": 106,
   "metadata": {},
   "outputs": [],
   "source": [
    "df = pd.DataFrame({'Year': np.linspace(1980,2018,39)})\n",
    "for r in rivers:\n",
    "    daily =pd.read_csv('plots/'+r+'/Cl/'+r+'_Cl_Daily.csv')\n",
    "    daily['Date'] = pd.to_datetime(daily['Date'], errors='coerce')\n",
    "    daily = daily.groupby(daily.Date.dt.year).median().reset_index()\n",
    "    daily = daily.rename(index=str, columns={\"FluxDay\": r, 'Date':'Year'})[['Year', r]]\n",
    "    df = df.merge(daily, on='Year')\n",
    "df[rivers] = df[rivers]/1000*365\n",
    "df['Total, MTA'] = df[rivers].sum(axis=1)\n",
    "df[['Year']+rivers+['Total, MTA']].round(2).to_clipboard(index=False)"
   ]
  },
  {
   "cell_type": "code",
   "execution_count": 105,
   "metadata": {},
   "outputs": [],
   "source": [
    "df = pd.DataFrame({'Year': np.linspace(1980,2018,39)})\n",
    "for r in rivers:\n",
    "    daily =pd.read_csv('plots/'+r+'/NO3/'+r+'_NO3_Daily.csv')\n",
    "    daily['Date'] = pd.to_datetime(daily['Date'], errors='coerce')\n",
    "    daily = daily.groupby(daily.Date.dt.year).median().reset_index()\n",
    "    daily = daily.rename(index=str, columns={\"FluxDay\": r, 'Date':'Year'})[['Year', r]]\n",
    "    df = df.merge(daily, on='Year')\n",
    "df[rivers] = df[rivers]/1000*365\n",
    "df['Total, MTA'] = df[rivers].sum(axis=1)\n",
    "df[['Year']+rivers+['Total, MTA']].round(2).to_clipboard(index=False)"
   ]
  },
  {
   "cell_type": "code",
   "execution_count": 109,
   "metadata": {},
   "outputs": [],
   "source": [
    "df = pd.DataFrame({'Year': np.linspace(1980,2018,39)})\n",
    "for r in rivers:\n",
    "    daily =pd.read_csv('plots/'+r+'/PO4/'+r+'_PO4_Daily.csv')\n",
    "    daily['Date'] = pd.to_datetime(daily['Date'], errors='coerce')\n",
    "    daily = daily.groupby(daily.Date.dt.year).median().reset_index()\n",
    "    daily = daily.rename(index=str, columns={\"FluxDay\": r, 'Date':'Year'})[['Year', r]]\n",
    "    df = df.merge(daily, on='Year')\n",
    "df[rivers] = df[rivers]/1000*365\n",
    "df['Total, MTA'] = df[rivers].sum(axis=1)\n",
    "df[['Year']+rivers+['Total, MTA']].round(2).to_clipboard(index=False)"
   ]
  }
 ],
 "metadata": {
  "kernelspec": {
   "display_name": "Python 3",
   "language": "python",
   "name": "python3"
  },
  "language_info": {
   "codemirror_mode": {
    "name": "ipython",
    "version": 3
   },
   "file_extension": ".py",
   "mimetype": "text/x-python",
   "name": "python",
   "nbconvert_exporter": "python",
   "pygments_lexer": "ipython3",
   "version": "3.6.3"
  }
 },
 "nbformat": 4,
 "nbformat_minor": 2
}
