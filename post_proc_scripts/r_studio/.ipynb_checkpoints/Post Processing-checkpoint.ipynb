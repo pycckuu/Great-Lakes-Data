{
 "cells": [
  {
   "cell_type": "code",
   "execution_count": 1,
   "metadata": {},
   "outputs": [],
   "source": [
    "import glob\n",
    "import pandas as pd\n",
    "import datetime"
   ]
  },
  {
   "cell_type": "code",
   "execution_count": 70,
   "metadata": {},
   "outputs": [
    {
     "name": "stdout",
     "output_type": "stream",
     "text": [
      "40 24 36 75 40\n"
     ]
    }
   ],
   "source": [
    "code = '820070'\n",
    "river = pd.read_csv('/Users/imarkelo/git/Great-Lakes-Data/measurements/MIDEQ/MIDEQ-'+code+'.csv', encoding='windows-1251')\n",
    "river = river.dropna(subset=['Sample Date'])\n",
    "river['Date'] = pd.to_datetime(river['Sample Date'], errors='coerce').apply(datetime.datetime.date)\n",
    "river['Characteristic'] = river['Characteristic'].apply(lambda x: x.strip())\n",
    "river[river['Characteristic']=='Total Total Phosphorus'][['Date','Units','Result Value']].to_csv('proc_data/TP_MIDEQ-'+code+'.csv', index=False)\n",
    "river[river['Characteristic']=='Total Nitrate + Nitrite'][['Date','Units','Result Value']].to_csv('proc_data/NO32_MIDEQ-'+code+'.csv', index=False)\n",
    "river[river['Characteristic']=='Total Total Nitrate'][['Date','Units','Result Value']].to_csv('proc_data/NO3_MIDEQ-'+code+'.csv', index=False)\n",
    "river[river['Characteristic']=='Total Chloride'][['Date','Units','Result Value']].to_csv('proc_data/Cl_MIDEQ-'+code+'.csv', index=False)\n",
    "river[river['Characteristic']=='Total Total Ortho Phosphate'][['Date','Units','Result Value']].to_csv('proc_data/PO4_MIDEQ-'+code+'.csv', index=False)\n",
    "print(river[river['Characteristic']=='Total Total Phosphorus'].shape[0], \n",
    "      river[river['Characteristic']=='Total Nitrate + Nitrite'].shape[0], \n",
    "      river[river['Characteristic']=='Total Total Nitrate'].shape[0], \n",
    "      river[river['Characteristic']=='Total Chloride'].shape[0], \n",
    "      river[river['Characteristic']=='Total Total Ortho Phosphate'].shape[0], \n",
    "      sep=' ')\n",
    "\n",
    "\n",
    "\n"
   ]
  },
  {
   "cell_type": "code",
   "execution_count": null,
   "metadata": {},
   "outputs": [],
   "source": []
  },
  {
   "cell_type": "code",
   "execution_count": null,
   "metadata": {},
   "outputs": [],
   "source": []
  },
  {
   "cell_type": "code",
   "execution_count": null,
   "metadata": {},
   "outputs": [],
   "source": []
  },
  {
   "cell_type": "code",
   "execution_count": null,
   "metadata": {},
   "outputs": [],
   "source": []
  },
  {
   "cell_type": "code",
   "execution_count": 61,
   "metadata": {},
   "outputs": [
    {
     "name": "stdout",
     "output_type": "stream",
     "text": [
      "(95, 13)\n",
      "(47, 13)\n",
      "(84, 13)\n",
      "(127, 13)\n",
      "(95, 13)\n"
     ]
    }
   ],
   "source": [
    "clinton_river = pd.read_csv('/Users/imarkelo/git/Great-Lakes-Data/measurements/MIDEQ/MIDEQ-500233.csv', encoding='windows-1251')\n",
    "clinton_river = clinton_river.dropna(subset=['Sample Date'])\n",
    "clinton_river['Date'] = pd.to_datetime(clinton_river['Sample Date'], errors='coerce').apply(datetime.datetime.date)\n",
    "clinton_river['Characteristic'] = clinton_river['Characteristic'].apply(lambda x: x.strip())\n",
    "clinton_river[clinton_river['Characteristic']=='Total Total Phosphorus'][['Date','Units','Result Value']].to_csv('proc_data/TP_MIDEQ-500233.csv', index=False)\n",
    "print(clinton_river[clinton_river['Characteristic']=='Total Total Phosphorus'].shape)\n",
    "clinton_river[clinton_river['Characteristic']=='Total Nitrate + Nitrite'][['Date','Units','Result Value']].to_csv('proc_data/NO32_MIDEQ-500233.csv', index=False)\n",
    "print(clinton_river[clinton_river['Characteristic']=='Total Nitrate + Nitrite'].shape)\n",
    "clinton_river[clinton_river['Characteristic']=='Total Total Nitrate'][['Date','Units','Result Value']].to_csv('proc_data/NO3_MIDEQ-500233.csv', index=False)\n",
    "print(clinton_river[clinton_river['Characteristic']=='Total Total Nitrate'].shape)\n",
    "clinton_river[clinton_river['Characteristic']=='Total Chloride'][['Date','Units','Result Value']].to_csv('proc_data/Cl_MIDEQ-500233.csv', index=False)\n",
    "print(clinton_river[clinton_river['Characteristic']=='Total Chloride'].shape)\n",
    "clinton_river[clinton_river['Characteristic']=='Total Total Ortho Phosphate'][['Date','Units','Result Value']].to_csv('proc_data/PO4_MIDEQ-500233.csv', index=False)\n",
    "print(clinton_river[clinton_river['Characteristic']=='Total Total Ortho Phosphate'].shape)\n",
    "\n",
    "\n",
    "\n"
   ]
  },
  {
   "cell_type": "code",
   "execution_count": 60,
   "metadata": {},
   "outputs": [
    {
     "data": {
      "text/html": [
       "<div>\n",
       "<style scoped>\n",
       "    .dataframe tbody tr th:only-of-type {\n",
       "        vertical-align: middle;\n",
       "    }\n",
       "\n",
       "    .dataframe tbody tr th {\n",
       "        vertical-align: top;\n",
       "    }\n",
       "\n",
       "    .dataframe thead th {\n",
       "        text-align: right;\n",
       "    }\n",
       "</style>\n",
       "<table border=\"1\" class=\"dataframe\">\n",
       "  <thead>\n",
       "    <tr style=\"text-align: right;\">\n",
       "      <th></th>\n",
       "      <th>Description</th>\n",
       "      <th>Type</th>\n",
       "      <th>Water Depth</th>\n",
       "      <th>Latitude</th>\n",
       "      <th>Longitude</th>\n",
       "      <th>USGS HUC Code</th>\n",
       "      <th>Characteristic</th>\n",
       "      <th>Result Value</th>\n",
       "      <th>Units</th>\n",
       "      <th>Project Name</th>\n",
       "      <th>Sample Date</th>\n",
       "      <th>Value Type</th>\n",
       "      <th>Date</th>\n",
       "    </tr>\n",
       "  </thead>\n",
       "  <tbody>\n",
       "    <tr>\n",
       "      <th>1</th>\n",
       "      <td>NaN</td>\n",
       "      <td>NaN</td>\n",
       "      <td>NaN</td>\n",
       "      <td>NaN</td>\n",
       "      <td>NaN</td>\n",
       "      <td>NaN</td>\n",
       "      <td>Total Copper</td>\n",
       "      <td>3.518</td>\n",
       "      <td>ug/l</td>\n",
       "      <td>WCTMP</td>\n",
       "      <td>9/8/1998</td>\n",
       "      <td>Actual</td>\n",
       "      <td>1998-09-08</td>\n",
       "    </tr>\n",
       "    <tr>\n",
       "      <th>2</th>\n",
       "      <td>NaN</td>\n",
       "      <td>NaN</td>\n",
       "      <td>NaN</td>\n",
       "      <td>NaN</td>\n",
       "      <td>NaN</td>\n",
       "      <td>NaN</td>\n",
       "      <td>Total Nickel</td>\n",
       "      <td>5.887</td>\n",
       "      <td>ug/l</td>\n",
       "      <td>WCTMP</td>\n",
       "      <td>9/8/1998</td>\n",
       "      <td>Actual</td>\n",
       "      <td>1998-09-08</td>\n",
       "    </tr>\n",
       "    <tr>\n",
       "      <th>3</th>\n",
       "      <td>NaN</td>\n",
       "      <td>NaN</td>\n",
       "      <td>NaN</td>\n",
       "      <td>NaN</td>\n",
       "      <td>NaN</td>\n",
       "      <td>NaN</td>\n",
       "      <td>Total Nitrogen</td>\n",
       "      <td>ammonia (NH3) as NH3</td>\n",
       "      <td>0.174</td>\n",
       "      <td>mg/l</td>\n",
       "      <td>WCTMP</td>\n",
       "      <td>9/8/1998</td>\n",
       "      <td>0001-01-01</td>\n",
       "    </tr>\n",
       "    <tr>\n",
       "      <th>4</th>\n",
       "      <td>NaN</td>\n",
       "      <td>NaN</td>\n",
       "      <td>NaN</td>\n",
       "      <td>NaN</td>\n",
       "      <td>NaN</td>\n",
       "      <td>NaN</td>\n",
       "      <td>Total Nitrogen</td>\n",
       "      <td>Kjeldahl</td>\n",
       "      <td>1.03</td>\n",
       "      <td>mg/l</td>\n",
       "      <td>WCTMP</td>\n",
       "      <td>9/8/1998</td>\n",
       "      <td>0001-01-01</td>\n",
       "    </tr>\n",
       "    <tr>\n",
       "      <th>5</th>\n",
       "      <td>NaN</td>\n",
       "      <td>NaN</td>\n",
       "      <td>NaN</td>\n",
       "      <td>NaN</td>\n",
       "      <td>NaN</td>\n",
       "      <td>NaN</td>\n",
       "      <td>Total pH</td>\n",
       "      <td>7.72</td>\n",
       "      <td>NaN</td>\n",
       "      <td>WCTMP</td>\n",
       "      <td>9/8/1998</td>\n",
       "      <td>Actual</td>\n",
       "      <td>1998-09-08</td>\n",
       "    </tr>\n",
       "  </tbody>\n",
       "</table>\n",
       "</div>"
      ],
      "text/plain": [
       "  Description Type  Water Depth  Latitude  Longitude  USGS HUC Code  \\\n",
       "1         NaN  NaN          NaN       NaN        NaN            NaN   \n",
       "2         NaN  NaN          NaN       NaN        NaN            NaN   \n",
       "3         NaN  NaN          NaN       NaN        NaN            NaN   \n",
       "4         NaN  NaN          NaN       NaN        NaN            NaN   \n",
       "5         NaN  NaN          NaN       NaN        NaN            NaN   \n",
       "\n",
       "   Characteristic           Result Value  Units Project Name Sample Date  \\\n",
       "1    Total Copper                  3.518   ug/l        WCTMP    9/8/1998   \n",
       "2    Total Nickel                  5.887   ug/l        WCTMP    9/8/1998   \n",
       "3  Total Nitrogen   ammonia (NH3) as NH3  0.174         mg/l       WCTMP   \n",
       "4  Total Nitrogen               Kjeldahl   1.03         mg/l       WCTMP   \n",
       "5        Total pH                   7.72    NaN        WCTMP    9/8/1998   \n",
       "\n",
       "  Value Type        Date  \n",
       "1     Actual  1998-09-08  \n",
       "2     Actual  1998-09-08  \n",
       "3   9/8/1998  0001-01-01  \n",
       "4   9/8/1998  0001-01-01  \n",
       "5     Actual  1998-09-08  "
      ]
     },
     "execution_count": 60,
     "metadata": {},
     "output_type": "execute_result"
    }
   ],
   "source": [
    "clinton_river.head()"
   ]
  },
  {
   "cell_type": "code",
   "execution_count": null,
   "metadata": {},
   "outputs": [],
   "source": [
    "black_river = pd.read_csv('/Users/imarkelo/git/Great-Lakes-Data/measurements/MIDEQ/MIDEQ-740267.csv', encoding='windows-1251')\n",
    "black_river = black_river.dropna(subset=['Sample Date'])\n",
    "black_river['Date'] = pd.to_datetime(black_river['Sample Date']).apply(datetime.datetime.date)\n",
    "black_river['Characteristic'] = black_river['Characteristic'].apply(lambda x: x.strip())\n",
    "black_river[black_river['Characteristic']=='Total Total Phosphorus'][['Date','Units','Result Value']].to_csv('proc_data/TP_MIDEQ-740267.csv', index=False)\n",
    "print(black_river[black_river['Characteristic']=='Total Total Phosphorus'].shape)\n",
    "black_river[black_river['Characteristic']=='Total Nitrate + Nitrite'][['Date','Units','Result Value']].to_csv('proc_data/NO32_MIDEQ-740267.csv', index=False)\n",
    "print(black_river[black_river['Characteristic']=='Total Nitrate + Nitrite'].shape)\n",
    "black_river[black_river['Characteristic']=='Total Total Nitrate'][['Date','Units','Result Value']].to_csv('proc_data/NO3_MIDEQ-740267.csv', index=False)\n",
    "print(black_river[black_river['Characteristic']=='Total Total Nitrate'].shape)\n",
    "black_river[black_river['Characteristic']=='Total Chloride'][['Date','Units','Result Value']].to_csv('proc_data/Cl_MIDEQ-740267.csv', index=False)\n",
    "print(black_river[black_river['Characteristic']=='Total Chloride'].shape)\n",
    "black_river[black_river['Characteristic']=='Total Total Ortho Phosphate'][['Date','Units','Result Value']].to_csv('proc_data/PO4_MIDEQ-740267.csv', index=False)\n",
    "print(black_river[black_river['Characteristic']=='Total Total Ortho Phosphate'].shape)\n",
    "\n",
    "\n",
    "\n"
   ]
  },
  {
   "cell_type": "code",
   "execution_count": null,
   "metadata": {},
   "outputs": [],
   "source": []
  },
  {
   "cell_type": "code",
   "execution_count": null,
   "metadata": {},
   "outputs": [],
   "source": []
  },
  {
   "cell_type": "code",
   "execution_count": 10,
   "metadata": {},
   "outputs": [],
   "source": [
    "black_river['Date'] = pd.to_datetime(black_river['Sample Date']).apply(datetime.datetime.date)"
   ]
  },
  {
   "cell_type": "code",
   "execution_count": 62,
   "metadata": {},
   "outputs": [
    {
     "data": {
      "text/plain": [
       "(48, 16)"
      ]
     },
     "execution_count": 62,
     "metadata": {},
     "output_type": "execute_result"
    }
   ],
   "source": [
    "black_river[black_river['Characteristic']=='Total Total Ortho Phosphate'].shape"
   ]
  },
  {
   "cell_type": "code",
   "execution_count": 28,
   "metadata": {},
   "outputs": [
    {
     "data": {
      "text/plain": [
       "array(['Total pH (Field)', 'Total Total Magnesium', 'Total Total Nitrate',\n",
       "       'Total Total Ortho Phosphate', 'Total Total Suspended Solids',\n",
       "       'Total Chloride', 'Total Conductivity (Field)',\n",
       "       'Total Nitrate + Nitrite', 'Total pH (Lab)',\n",
       "       'Total Total Alkalinity', 'Total Total Calcium',\n",
       "       'Total Total Kjeldahl Nitrogen', 'Total Turbidity',\n",
       "       'Total Dissolved Oxygen (Field)', 'Total Hardness Ca2CO3',\n",
       "       'Total Total Dissolved Solids', 'Total Total Nitrite',\n",
       "       'Total Total Organic Carbon', 'Total Total Phosphorus',\n",
       "       'Total Total Potassium', 'Total Conductivity (Lab)',\n",
       "       'Total Temperature of Water', 'Total Total Ammonia',\n",
       "       'Total Total Sodium', 'Total Total Sulfate'], dtype=object)"
      ]
     },
     "execution_count": 28,
     "metadata": {},
     "output_type": "execute_result"
    }
   ],
   "source": [
    "black_river['Characteristic'].unique()"
   ]
  },
  {
   "cell_type": "code",
   "execution_count": 22,
   "metadata": {},
   "outputs": [
    {
     "data": {
      "text/plain": [
       "(1142, 16)"
      ]
     },
     "execution_count": 22,
     "metadata": {},
     "output_type": "execute_result"
    }
   ],
   "source": [
    "black_river.shape"
   ]
  },
  {
   "cell_type": "code",
   "execution_count": 11,
   "metadata": {},
   "outputs": [
    {
     "data": {
      "text/html": [
       "<div>\n",
       "<style scoped>\n",
       "    .dataframe tbody tr th:only-of-type {\n",
       "        vertical-align: middle;\n",
       "    }\n",
       "\n",
       "    .dataframe tbody tr th {\n",
       "        vertical-align: top;\n",
       "    }\n",
       "\n",
       "    .dataframe thead th {\n",
       "        text-align: right;\n",
       "    }\n",
       "</style>\n",
       "<table border=\"1\" class=\"dataframe\">\n",
       "  <thead>\n",
       "    <tr style=\"text-align: right;\">\n",
       "      <th></th>\n",
       "      <th>Description</th>\n",
       "      <th>Type</th>\n",
       "      <th>Water Depth</th>\n",
       "      <th>Latitude</th>\n",
       "      <th>Longitude</th>\n",
       "      <th>USGS HUC Code</th>\n",
       "      <th>Characteristic</th>\n",
       "      <th>Result Value</th>\n",
       "      <th>Units</th>\n",
       "      <th>Project Name</th>\n",
       "      <th>Sample Date</th>\n",
       "      <th>Value Type</th>\n",
       "      <th>Depth</th>\n",
       "      <th>Depth Units</th>\n",
       "      <th>Sample Time</th>\n",
       "      <th>Date</th>\n",
       "    </tr>\n",
       "  </thead>\n",
       "  <tbody>\n",
       "    <tr>\n",
       "      <th>1</th>\n",
       "      <td>NaN</td>\n",
       "      <td>NaN</td>\n",
       "      <td>NaN</td>\n",
       "      <td>NaN</td>\n",
       "      <td>NaN</td>\n",
       "      <td>NaN</td>\n",
       "      <td>Total pH (Field)</td>\n",
       "      <td>8.4</td>\n",
       "      <td>pH</td>\n",
       "      <td>WCMP</td>\n",
       "      <td>9/24/2012</td>\n",
       "      <td>Actual</td>\n",
       "      <td>NaN</td>\n",
       "      <td>NaN</td>\n",
       "      <td>NaN</td>\n",
       "      <td>2012-09-24</td>\n",
       "    </tr>\n",
       "    <tr>\n",
       "      <th>2</th>\n",
       "      <td>NaN</td>\n",
       "      <td>NaN</td>\n",
       "      <td>NaN</td>\n",
       "      <td>NaN</td>\n",
       "      <td>NaN</td>\n",
       "      <td>NaN</td>\n",
       "      <td>Total Total Magnesium</td>\n",
       "      <td>30</td>\n",
       "      <td>mg/L</td>\n",
       "      <td>WCMP</td>\n",
       "      <td>9/24/2012</td>\n",
       "      <td>Actual</td>\n",
       "      <td>NaN</td>\n",
       "      <td>NaN</td>\n",
       "      <td>NaN</td>\n",
       "      <td>2012-09-24</td>\n",
       "    </tr>\n",
       "    <tr>\n",
       "      <th>3</th>\n",
       "      <td>NaN</td>\n",
       "      <td>NaN</td>\n",
       "      <td>NaN</td>\n",
       "      <td>NaN</td>\n",
       "      <td>NaN</td>\n",
       "      <td>NaN</td>\n",
       "      <td>Total Total Nitrate</td>\n",
       "      <td>ND</td>\n",
       "      <td>mg N/L</td>\n",
       "      <td>WCMP</td>\n",
       "      <td>9/24/2012</td>\n",
       "      <td>Actual</td>\n",
       "      <td>NaN</td>\n",
       "      <td>NaN</td>\n",
       "      <td>NaN</td>\n",
       "      <td>2012-09-24</td>\n",
       "    </tr>\n",
       "    <tr>\n",
       "      <th>4</th>\n",
       "      <td>NaN</td>\n",
       "      <td>NaN</td>\n",
       "      <td>NaN</td>\n",
       "      <td>NaN</td>\n",
       "      <td>NaN</td>\n",
       "      <td>NaN</td>\n",
       "      <td>Total Total Ortho Phosphate</td>\n",
       "      <td>0.008</td>\n",
       "      <td>mg P/L</td>\n",
       "      <td>WCMP</td>\n",
       "      <td>9/24/2012</td>\n",
       "      <td>Actual</td>\n",
       "      <td>NaN</td>\n",
       "      <td>NaN</td>\n",
       "      <td>NaN</td>\n",
       "      <td>2012-09-24</td>\n",
       "    </tr>\n",
       "    <tr>\n",
       "      <th>5</th>\n",
       "      <td>NaN</td>\n",
       "      <td>NaN</td>\n",
       "      <td>NaN</td>\n",
       "      <td>NaN</td>\n",
       "      <td>NaN</td>\n",
       "      <td>NaN</td>\n",
       "      <td>Total Total Suspended Solids</td>\n",
       "      <td>16</td>\n",
       "      <td>mg/L</td>\n",
       "      <td>WCMP</td>\n",
       "      <td>9/24/2012</td>\n",
       "      <td>Actual</td>\n",
       "      <td>NaN</td>\n",
       "      <td>NaN</td>\n",
       "      <td>NaN</td>\n",
       "      <td>2012-09-24</td>\n",
       "    </tr>\n",
       "  </tbody>\n",
       "</table>\n",
       "</div>"
      ],
      "text/plain": [
       "  Description Type  Water Depth  Latitude  Longitude  USGS HUC Code  \\\n",
       "1         NaN  NaN          NaN       NaN        NaN            NaN   \n",
       "2         NaN  NaN          NaN       NaN        NaN            NaN   \n",
       "3         NaN  NaN          NaN       NaN        NaN            NaN   \n",
       "4         NaN  NaN          NaN       NaN        NaN            NaN   \n",
       "5         NaN  NaN          NaN       NaN        NaN            NaN   \n",
       "\n",
       "                 Characteristic Result Value           Units Project Name  \\\n",
       "1              Total pH (Field)          8.4  pH                     WCMP   \n",
       "2         Total Total Magnesium           30  mg/L                   WCMP   \n",
       "3           Total Total Nitrate           ND  mg N/L                 WCMP   \n",
       "4   Total Total Ortho Phosphate        0.008  mg P/L                 WCMP   \n",
       "5  Total Total Suspended Solids           16  mg/L                   WCMP   \n",
       "\n",
       "  Sample Date Value Type  Depth  Depth Units  Sample Time        Date  \n",
       "1   9/24/2012     Actual    NaN          NaN          NaN  2012-09-24  \n",
       "2   9/24/2012     Actual    NaN          NaN          NaN  2012-09-24  \n",
       "3   9/24/2012     Actual    NaN          NaN          NaN  2012-09-24  \n",
       "4   9/24/2012     Actual    NaN          NaN          NaN  2012-09-24  \n",
       "5   9/24/2012     Actual    NaN          NaN          NaN  2012-09-24  "
      ]
     },
     "execution_count": 11,
     "metadata": {},
     "output_type": "execute_result"
    }
   ],
   "source": [
    "black_river.head()"
   ]
  },
  {
   "cell_type": "code",
   "execution_count": null,
   "metadata": {},
   "outputs": [],
   "source": []
  },
  {
   "cell_type": "code",
   "execution_count": 52,
   "metadata": {},
   "outputs": [],
   "source": [
    "Detroit_river = pd.read_csv('/Users/imarkelo/git/Great-Lakes-Data/measurements/Excel Files/task 3/Western Basin/detroitriver_average.csv', encoding='windows-1251')\n",
    "Detroit_river['Year'] = pd.to_numeric(Detroit_river['Year'], errors='coerce')\n",
    "Detroit_river['Month'] = pd.to_numeric(Detroit_river['Month'], errors='coerce')\n",
    "Detroit_river['Day'] = pd.to_numeric(Detroit_river['Day'], errors='coerce')\n",
    "Detroit_river['Inflow volume [m3 d-1]'] = pd.to_numeric(Detroit_river['Inflow volume [m3 d-1]'], errors='coerce')\n",
    "Detroit_river[' *Phosphorus, water, unfiltered, as phosphorus [mg m-3]'] = pd.to_numeric(Detroit_river[' *Phosphorus, water, unfiltered, as phosphorus [mg m-3]'], errors='coerce')\n",
    "Detroit_river = Detroit_river.dropna(subset=['Year', 'Month', 'Day', 'Inflow volume [m3 d-1]'])\n",
    "Detroit_river['Date'] = Detroit_river.apply(lambda x:datetime.datetime.strptime(\"{0} {1} {2} 00:00:00\".format(int(x['Year']),int(x['Month']), int(x['Day'])), \"%Y %m %d %H:%M:%S\"),axis=1)\n",
    "Detroit_river = Detroit_river.groupby(['Date']).mean().reset_index()\n",
    "\n",
    "Detroit_river[['Date','Inflow volume [m3 d-1]']].to_csv('proc_data/Flow_Detroit_River_data.csv', index=False)\n",
    "\n",
    "\n",
    "\n",
    "Detroit_river = pd.read_csv('/Users/imarkelo/git/Great-Lakes-Data/measurements/Excel Files/task 3/Western Basin/detroitriver_average.csv', encoding='windows-1251')\n",
    "Detroit_river['Year'] = pd.to_numeric(Detroit_river['Year'], errors='coerce')\n",
    "Detroit_river['Month'] = pd.to_numeric(Detroit_river['Month'], errors='coerce')\n",
    "Detroit_river['Day'] = pd.to_numeric(Detroit_river['Day'], errors='coerce')\n",
    "Detroit_river = Detroit_river.dropna(subset=['Year', 'Month', 'Day', 'Inflow volume [m3 d-1]'])\n",
    "Detroit_river['Date'] = Detroit_river.apply(lambda x:datetime.datetime.strptime(\"{0} {1} {2} 00:00:00\".format(int(x['Year']),int(x['Month']), int(x['Day'])), \"%Y %m %d %H:%M:%S\"),axis=1)\n",
    "Detroit_river[' *Phosphorus, water, unfiltered, as phosphorus [mg m-3]'] = pd.to_numeric(Detroit_river[' *Phosphorus, water, unfiltered, as phosphorus [mg m-3]'], errors='coerce')\n",
    "Detroit_river = Detroit_river.dropna(subset=[' *Phosphorus, water, unfiltered, as phosphorus [mg m-3]'])\n",
    "Detroit_river[' *Phosphorus, water, unfiltered, as phosphorus [mg m-3]'] = Detroit_river[' *Phosphorus, water, unfiltered, as phosphorus [mg m-3]']/1000\n",
    "Detroit_river[['Date','Month',' *Phosphorus, water, unfiltered, as phosphorus [mg m-3]']].to_csv('proc_data/TP_Detroit_River_data.csv', index=False)\n",
    "\n",
    "\n",
    "\n"
   ]
  },
  {
   "cell_type": "code",
   "execution_count": null,
   "metadata": {},
   "outputs": [],
   "source": []
  }
 ],
 "metadata": {
  "kernelspec": {
   "display_name": "Python 3",
   "language": "python",
   "name": "python3"
  },
  "language_info": {
   "codemirror_mode": {
    "name": "ipython",
    "version": 3
   },
   "file_extension": ".py",
   "mimetype": "text/x-python",
   "name": "python",
   "nbconvert_exporter": "python",
   "pygments_lexer": "ipython3",
   "version": "3.6.3"
  }
 },
 "nbformat": 4,
 "nbformat_minor": 2
}
