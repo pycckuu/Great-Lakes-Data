{
 "cells": [
  {
   "cell_type": "code",
   "execution_count": 1,
   "metadata": {},
   "outputs": [],
   "source": [
    "import glob\n",
    "import pandas as pd\n",
    "import datetime"
   ]
  },
  {
   "cell_type": "code",
   "execution_count": 32,
   "metadata": {},
   "outputs": [],
   "source": [
    "Detroit_river = pd.read_csv('/Users/imarkelo/git/Great-Lakes-Data/measurements/Excel Files/task 3/Western Basin/detroitriver_average.csv', encoding='windows-1251')\n",
    "Detroit_river['Year'] = pd.to_numeric(Detroit_river['Year'], errors='coerce')\n",
    "Detroit_river['Month'] = pd.to_numeric(Detroit_river['Month'], errors='coerce')\n",
    "Detroit_river['Day'] = pd.to_numeric(Detroit_river['Day'], errors='coerce')\n",
    "Detroit_river['Inflow volume [m3 d-1]'] = pd.to_numeric(Detroit_river['Day'], errors='coerce')\n",
    "Detroit_river[' *Phosphorus, water, unfiltered, as phosphorus [mg m-3]'] = pd.to_numeric(Detroit_river[' *Phosphorus, water, unfiltered, as phosphorus [mg m-3]'], errors='coerce')\n",
    "Detroit_river = Detroit_river.dropna(subset=['Year', 'Month', 'Day', 'Inflow volume [m3 d-1]'])\n",
    "Detroit_river['Date'] = Detroit_river.apply(lambda x:datetime.datetime.strptime(\"{0} {1} {2} 00:00:00\".format(int(x['Year']),int(x['Month']), int(x['Day'])), \"%Y %m %d %H:%M:%S\"),axis=1)\n",
    "Detroit_river = Detroit_river.groupby(['Date']).mean().reset_index()\n",
    "\n",
    "Detroit_river[['Date','Inflow volume [m3 d-1]']].to_csv('proc_data/Flow_Detroit_River_data.csv', index=False)\n",
    "\n",
    "Detroit_river = Detroit_river.dropna(subset=[' *Phosphorus, water, unfiltered, as phosphorus [mg m-3]'])\n",
    "Detroit_river[' *Phosphorus, water, unfiltered, as phosphorus [mg m-3]'] = Detroit_river[' *Phosphorus, water, unfiltered, as phosphorus [mg m-3]']/1000\n",
    "Detroit_river[['Date','Month',' *Phosphorus, water, unfiltered, as phosphorus [mg m-3]']].to_csv('proc_data/TP_Detroit_River_data.csv', index=False)\n",
    "\n",
    "\n",
    "\n"
   ]
  },
  {
   "cell_type": "code",
   "execution_count": 36,
   "metadata": {},
   "outputs": [
    {
     "data": {
      "text/plain": [
       "Index(['Year', 'Month', 'Day', 'Inflow volume [m3 d-1]',\n",
       "       'Inflow temperature [°C]', '*Suspended sediment concentration [mg m-3]',\n",
       "       '*Orthophosphate, water, filtered, as phosphorus [mg m-3]',\n",
       "       '*Phosphorus, water, unfiltered,  as phosphorus [mg m-3]',\n",
       "       '*Phosphorus, water, filtered, as phosphorus [mg m-3]',\n",
       "       '*Orthophosphate, water, filtered, as PO4 [mg m-3]',\n",
       "       'Inflow concentration of chlorophyll-a (Chla-P) [mg m-3]',\n",
       "       'Inflow concentration of dissolved organic carbon (DOC) [mg m-3]',\n",
       "       'Inflow concentration of dissolved inorganic carbon (DIC) [mg m-3]',\n",
       "       'Inflow concentration of O2 [mg m-3]',\n",
       "       'Inflow concentration of NO3 [mg m-3]',\n",
       "       'Inflow concentration of NH4 [mg m-3]',\n",
       "       'Inflow concentration of SO4 [mg m-3]',\n",
       "       'Inflow concentration of aqueous iron (Fe2+) [mg m-3]',\n",
       "       'Inflow concentration of Ca2+ [mg m-3]', 'Inflow pH [-]',\n",
       "       'Inflow concentration of CH4 [mg m-3]',\n",
       "       'Inflow concentration of total solid iron (Fe3+) [mg m-3]',\n",
       "       'Inflow concentration of aluminum (Al3+) [mg m-3]',\n",
       "       'Inflow concentration of dissolved silica [mg m-3]',\n",
       "       '*Iron, suspended sediment, recoverable [mg m-3]',\n",
       "       '*Iron, water, unfiltered, recoverable [mg m-3]',\n",
       "       '*Iron, water, filtered [mg m-3]',\n",
       "       '*Suspended solids, water, unfiltered [mg m-3]'],\n",
       "      dtype='object')"
      ]
     },
     "execution_count": 36,
     "metadata": {},
     "output_type": "execute_result"
    }
   ],
   "source": [
    "Huron_river.columns"
   ]
  },
  {
   "cell_type": "code",
   "execution_count": 39,
   "metadata": {},
   "outputs": [],
   "source": [
    "Huron_river = pd.read_csv('/Users/imarkelo/git/Great-Lakes-Data/measurements/Excel Files/task 3/Western Basin/huronriver_average.csv', encoding='windows-1251')\n",
    "Huron_river['Year'] = pd.to_numeric(Huron_river['Year'], errors='coerce')\n",
    "Huron_river['Month'] = pd.to_numeric(Huron_river['Month'], errors='coerce')\n",
    "Huron_river['Day'] = pd.to_numeric(Huron_river['Day'], errors='coerce')\n",
    "Huron_river['Inflow volume [m3 d-1]'] = pd.to_numeric(Huron_river['Day'], errors='coerce')\n",
    "Huron_river['*Phosphorus, water, unfiltered,  as phosphorus [mg m-3]'] = pd.to_numeric(Huron_river['*Phosphorus, water, unfiltered,  as phosphorus [mg m-3]'], errors='coerce')\n",
    "Huron_river = Huron_river.dropna(subset=['Year', 'Month', 'Day', 'Inflow volume [m3 d-1]'])\n",
    "Huron_river['Date'] = Huron_river.apply(lambda x:datetime.datetime.strptime(\"{0} {1} {2} 00:00:00\".format(int(x['Year']),int(x['Month']), int(x['Day'])), \"%Y %m %d %H:%M:%S\"),axis=1)\n",
    "Huron_river = Huron_river.groupby(['Date']).mean().reset_index()\n",
    "\n",
    "Huron_river[['Date','Inflow volume [m3 d-1]']].to_csv('proc_data/Flow_Huron_River_USGS_data.csv', index=False)\n",
    "\n",
    "Huron_river = Huron_river.dropna(subset=['*Phosphorus, water, unfiltered,  as phosphorus [mg m-3]'])\n",
    "Huron_river['*Phosphorus, water, unfiltered,  as phosphorus [mg m-3]'] = Huron_river['*Phosphorus, water, unfiltered,  as phosphorus [mg m-3]']/1000\n",
    "Huron_river[['Date','Month','*Phosphorus, water, unfiltered,  as phosphorus [mg m-3]']].to_csv('proc_data/TP_Huron_River_USGS_data.csv', index=False)\n",
    "\n",
    "\n",
    "\n"
   ]
  },
  {
   "cell_type": "code",
   "execution_count": null,
   "metadata": {},
   "outputs": [],
   "source": []
  },
  {
   "cell_type": "code",
   "execution_count": null,
   "metadata": {},
   "outputs": [],
   "source": []
  },
  {
   "cell_type": "code",
   "execution_count": null,
   "metadata": {},
   "outputs": [],
   "source": []
  },
  {
   "cell_type": "code",
   "execution_count": null,
   "metadata": {},
   "outputs": [],
   "source": []
  },
  {
   "cell_type": "code",
   "execution_count": 4,
   "metadata": {},
   "outputs": [
    {
     "name": "stdout",
     "output_type": "stream",
     "text": [
      "../../measurements/ncwqr.org/Huron_River_data.xlsx\n",
      "../../measurements/ncwqr.org/Grand_River_US_data.xlsx\n"
     ]
    }
   ],
   "source": [
    "csvfiles = []\n",
    "for file in glob.glob(\"../../measurements/ncwqr.org/*.xlsx\"):\n",
    "    print(file)\n",
    "    df = pd.read_excel(file)\n",
    "    df['Date'] = pd.to_datetime(df['Datetime (date and time of sample collection)']).apply(datetime.datetime.date)\n",
    "    df['Flow, CFS'] = pd.to_numeric(df['Flow, CFS'], errors='coerce')\n",
    "    df = df[df['Flow, CFS'] >=0]\n",
    "    df = df.groupby(['Date']).mean().reset_index()\n",
    "    df[['Date','Flow, CFS']].to_csv('proc_data/Flow_'+file.split(\"/\")[-1].split('.')[0]+'.csv', index=False)\n",
    "\n",
    "    df = pd.read_excel(file)\n",
    "    df['Date'] = pd.to_datetime(df['Datetime (date and time of sample collection)']).apply(datetime.datetime.date)\n",
    "    df['TP, mg/L as P'] = pd.to_numeric(df['TP, mg/L as P'], errors='coerce')\n",
    "    df = df[df['TP, mg/L as P'] >=0]\n",
    "    df = df.dropna(subset=['TP, mg/L as P'])\n",
    "    df = df.groupby(['Date']).mean().reset_index()\n",
    "    df['code'] = 0\n",
    "    df[['Date','code','TP, mg/L as P']].to_csv('proc_data/TP_'+file.split(\"/\")[-1].split('.')[0]+'.csv', index=False)\n",
    "    \n",
    "    df = pd.read_excel(file)\n",
    "    df['Date'] = pd.to_datetime(df['Datetime (date and time of sample collection)']).apply(datetime.datetime.date)\n",
    "    df['SRP, mg/L, as P'] = pd.to_numeric(df['SRP, mg/L, as P'], errors='coerce')\n",
    "    df = df[df['SRP, mg/L, as P'] >=0]\n",
    "    df = df.dropna(subset=['SRP, mg/L, as P'])\n",
    "    df = df.groupby(['Date']).mean().reset_index()\n",
    "    df['code'] = 0\n",
    "    df[['Date','code','SRP, mg/L, as P']].to_csv('proc_data/SRP_'+file.split(\"/\")[-1].split('.')[0]+'.csv', index=False)\n",
    "    \n",
    "    df = pd.read_excel(file)\n",
    "    df['Date'] = pd.to_datetime(df['Datetime (date and time of sample collection)']).apply(datetime.datetime.date)\n",
    "    df['Chloride, mg/L'] = pd.to_numeric(df['Chloride, mg/L'], errors='coerce')\n",
    "    df = df[df['Chloride, mg/L'] >=0]\n",
    "    df = df.dropna(subset=['Chloride, mg/L'])\n",
    "    df = df.groupby(['Date']).mean().reset_index()\n",
    "    df['code'] = 0\n",
    "    df[['Date','code','Chloride, mg/L']].to_csv('proc_data/Cl_'+file.split(\"/\")[-1].split('.')[0]+'.csv', index=False)\n",
    "    \n",
    "    df = pd.read_excel(file)\n",
    "    df['Date'] = pd.to_datetime(df['Datetime (date and time of sample collection)']).apply(datetime.datetime.date)\n",
    "    df['NO23, mg/L as N'] = pd.to_numeric(df['NO23, mg/L as N'], errors='coerce')\n",
    "    df = df[df['NO23, mg/L as N'] >=0]\n",
    "    df = df.dropna(subset=['NO23, mg/L as N'])\n",
    "    df = df.groupby(['Date']).mean().reset_index()\n",
    "    df['code'] = 0\n",
    "    df[['Date','code','NO23, mg/L as N']].to_csv('proc_data/NO32_'+file.split(\"/\")[-1].split('.')[0]+'.csv', index=False)\n",
    "\n",
    "    df = pd.read_excel(file)\n",
    "    df['Date'] = pd.to_datetime(df['Datetime (date and time of sample collection)']).apply(datetime.datetime.date)\n",
    "    df['Silica, mg/L'] = pd.to_numeric(df['Silica, mg/L'], errors='coerce')\n",
    "    df = df[df['Silica, mg/L'] >=0]\n",
    "    df = df.dropna(subset=['Silica, mg/L'])\n",
    "    df = df.groupby(['Date']).mean().reset_index()\n",
    "    df['code'] = 0\n",
    "    df[['Date','code','Silica, mg/L']].to_csv('proc_data/Si_'+file.split(\"/\")[-1].split('.')[0]+'.csv', index=False)"
   ]
  },
  {
   "cell_type": "code",
   "execution_count": null,
   "metadata": {},
   "outputs": [],
   "source": []
  }
 ],
 "metadata": {
  "kernelspec": {
   "display_name": "Python [conda env:anaconda3]",
   "language": "python",
   "name": "conda-env-anaconda3-py"
  },
  "language_info": {
   "codemirror_mode": {
    "name": "ipython",
    "version": 3
   },
   "file_extension": ".py",
   "mimetype": "text/x-python",
   "name": "python",
   "nbconvert_exporter": "python",
   "pygments_lexer": "ipython3",
   "version": "3.6.3"
  }
 },
 "nbformat": 4,
 "nbformat_minor": 2
}
