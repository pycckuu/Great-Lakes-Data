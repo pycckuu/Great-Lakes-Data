{
 "cells": [
  {
   "cell_type": "code",
   "execution_count": 48,
   "metadata": {},
   "outputs": [],
   "source": [
    "import glob\n",
    "import pandas as pd\n",
    "import datetime"
   ]
  },
  {
   "cell_type": "code",
   "execution_count": 89,
   "metadata": {},
   "outputs": [
    {
     "name": "stdout",
     "output_type": "stream",
     "text": [
      "../../measurements/ncwqr.org/Cuyahoga_River_data.xlsx\n",
      "../../measurements/ncwqr.org/Raisin_River_data.xlsx\n",
      "../../measurements/ncwqr.org/Sandusky_River_data.xlsx\n",
      "../../measurements/ncwqr.org/Maumee_River_Data.xlsx\n",
      "../../measurements/ncwqr.org/Vermilion_River_data.xlsx\n",
      "../../measurements/ncwqr.org/Portage_River_data.xlsx\n"
     ]
    }
   ],
   "source": [
    "csvfiles = []\n",
    "for file in glob.glob(\"../../measurements/ncwqr.org/*.xlsx\"):\n",
    "    print(file)\n",
    "    df = pd.read_excel(file)\n",
    "    df['Date'] = pd.to_datetime(df['Datetime (date and time of sample collection)']).apply(datetime.datetime.date)\n",
    "    df['Flow, CFS'] = pd.to_numeric(df['Flow, CFS'], errors='coerce')\n",
    "    df = df[df['Flow, CFS'] >=0]\n",
    "    df = df.groupby(['Date']).mean().reset_index()\n",
    "    df[['Date','Flow, CFS']].to_csv('proc_data/Flow_'+file.split(\"/\")[-1].split('.')[0]+'.csv', index=False)\n",
    "\n",
    "    df = pd.read_excel(file)\n",
    "    df['Date'] = pd.to_datetime(df['Datetime (date and time of sample collection)']).apply(datetime.datetime.date)\n",
    "    df['TP, mg/L as P'] = pd.to_numeric(df['TP, mg/L as P'], errors='coerce')\n",
    "    df = df[df['TP, mg/L as P'] >=0]\n",
    "    df = df.dropna(subset=['TP, mg/L as P'])\n",
    "    df = df.groupby(['Date']).mean().reset_index()\n",
    "    df['code'] = 0\n",
    "    df[['Date','code','TP, mg/L as P']].to_csv('proc_data/TP_'+file.split(\"/\")[-1].split('.')[0]+'.csv', index=False)\n",
    "    \n",
    "    df = pd.read_excel(file)\n",
    "    df['Date'] = pd.to_datetime(df['Datetime (date and time of sample collection)']).apply(datetime.datetime.date)\n",
    "    df['SRP, mg/L, as P'] = pd.to_numeric(df['SRP, mg/L, as P'], errors='coerce')\n",
    "    df = df[df['SRP, mg/L, as P'] >=0]\n",
    "    df = df.dropna(subset=['SRP, mg/L, as P'])\n",
    "    df = df.groupby(['Date']).mean().reset_index()\n",
    "    df['code'] = 0\n",
    "    df[['Date','code','SRP, mg/L, as P']].to_csv('proc_data/SRP_'+file.split(\"/\")[-1].split('.')[0]+'.csv', index=False)\n",
    "    \n",
    "    df = pd.read_excel(file)\n",
    "    df['Date'] = pd.to_datetime(df['Datetime (date and time of sample collection)']).apply(datetime.datetime.date)\n",
    "    df['Chloride, mg/L'] = pd.to_numeric(df['Chloride, mg/L'], errors='coerce')\n",
    "    df = df[df['Chloride, mg/L'] >=0]\n",
    "    df = df.dropna(subset=['Chloride, mg/L'])\n",
    "    df = df.groupby(['Date']).mean().reset_index()\n",
    "    df['code'] = 0\n",
    "    df[['Date','code','Chloride, mg/L']].to_csv('proc_data/Cl_'+file.split(\"/\")[-1].split('.')[0]+'.csv', index=False)\n",
    "    \n",
    "    df = pd.read_excel(file)\n",
    "    df['Date'] = pd.to_datetime(df['Datetime (date and time of sample collection)']).apply(datetime.datetime.date)\n",
    "    df['NO23, mg/L as N'] = pd.to_numeric(df['NO23, mg/L as N'], errors='coerce')\n",
    "    df = df[df['NO23, mg/L as N'] >=0]\n",
    "    df = df.dropna(subset=['NO23, mg/L as N'])\n",
    "    df = df.groupby(['Date']).mean().reset_index()\n",
    "    df['code'] = 0\n",
    "    df[['Date','code','NO23, mg/L as N']].to_csv('proc_data/NO32_'+file.split(\"/\")[-1].split('.')[0]+'.csv', index=False)\n",
    "\n",
    "    df = pd.read_excel(file)\n",
    "    df['Date'] = pd.to_datetime(df['Datetime (date and time of sample collection)']).apply(datetime.datetime.date)\n",
    "    df['Silica, mg/L'] = pd.to_numeric(df['Silica, mg/L'], errors='coerce')\n",
    "    df = df[df['Silica, mg/L'] >=0]\n",
    "    df = df.dropna(subset=['Silica, mg/L'])\n",
    "    df = df.groupby(['Date']).mean().reset_index()\n",
    "    df['code'] = 0\n",
    "    df[['Date','code','Silica, mg/L']].to_csv('proc_data/Si_'+file.split(\"/\")[-1].split('.')[0]+'.csv', index=False)"
   ]
  },
  {
   "cell_type": "code",
   "execution_count": null,
   "metadata": {},
   "outputs": [],
   "source": []
  }
 ],
 "metadata": {
  "kernelspec": {
   "display_name": "Python 3",
   "language": "python",
   "name": "python3"
  },
  "language_info": {
   "codemirror_mode": {
    "name": "ipython",
    "version": 3
   },
   "file_extension": ".py",
   "mimetype": "text/x-python",
   "name": "python",
   "nbconvert_exporter": "python",
   "pygments_lexer": "ipython3",
   "version": "3.6.3"
  }
 },
 "nbformat": 4,
 "nbformat_minor": 2
}
