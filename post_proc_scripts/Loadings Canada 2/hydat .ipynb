{
 "cells": [
  {
   "cell_type": "code",
   "execution_count": 2,
   "metadata": {},
   "outputs": [
    {
     "data": {
      "text/plain": [
       "'2018-12-04 13:49:31.306956'"
      ]
     },
     "execution_count": 2,
     "metadata": {},
     "output_type": "execute_result"
    }
   ],
   "source": [
    "import pandas as pd\n",
    "import matplotlib.pyplot as plt\n",
    "import seaborn as sns\n",
    "%matplotlib inline\n",
    "sns.set_style(\"whitegrid\")\n",
    "from datetime import datetime\n",
    "str(datetime.now())\n"
   ]
  },
  {
   "cell_type": "code",
   "execution_count": 3,
   "metadata": {},
   "outputs": [],
   "source": [
    "import sys, subprocess # the subprocess module is new in python v 2.4"
   ]
  },
  {
   "cell_type": "code",
   "execution_count": 4,
   "metadata": {},
   "outputs": [],
   "source": [
    "DATABASE = '../../measurements/hydat/Hydat.mdb'"
   ]
  },
  {
   "cell_type": "code",
   "execution_count": 34,
   "metadata": {},
   "outputs": [
    {
     "name": "stdout",
     "output_type": "stream",
     "text": [
      "AGENCY_LIST\n",
      "DATUM_LIST\n",
      "REGIONAL_OFFICE_LIST\n",
      "CONCENTRATION_SYMBOLS\n",
      "DATA_SYMBOLS\n",
      "DATA_TYPES\n",
      "MEASUREMENT_CODES\n",
      "OPERATION_CODES\n",
      "PEAK_CODES\n",
      "PRECISION_CODES\n",
      "SAMPLE_REMARK_CODES\n",
      "SED_DATA_TYPES\n",
      "SED_VERTICAL_SYMBOLS\n",
      "SED_VERTICAL_LOCATION\n",
      "STN_STATUS_CODES\n",
      "STN_REMARK_CODES\n",
      "VERSION\n",
      "ANNUAL_INSTANT_PEAKS\n",
      "ANNUAL_STATISTICS\n",
      "DLY_FLOWS\n",
      "DLY_LEVELS\n"
     ]
    },
    {
     "name": "stderr",
     "output_type": "stream",
     "text": [
      "/Users/imarkelo/anaconda3/lib/python3.6/site-packages/IPython/core/interactiveshell.py:3183: DtypeWarning: Columns (73) have mixed types. Specify dtype option on import or set low_memory=False.\n",
      "  if (yield from self.run_code(code, result)):\n"
     ]
    },
    {
     "name": "stdout",
     "output_type": "stream",
     "text": [
      "SED_DLY_LOADS\n",
      "SED_DLY_SUSCON\n",
      "SED_SAMPLES\n",
      "SED_SAMPLES_PSD\n",
      "STATIONS\n",
      "STN_DATA_COLLECTION\n",
      "STN_DATA_RANGE\n",
      "STN_DATUM_CONVERSION\n",
      "STN_DATUM_UNRELATED\n",
      "STN_OPERATION_SCHEDULE\n",
      "STN_REGULATION\n",
      "STN_REMARKS\n"
     ]
    }
   ],
   "source": [
    "import pandas_access as mdb\n",
    "\n",
    "# Listing the tables.\n",
    "for tbl in mdb.list_tables(DATABASE):\n",
    "    print(tbl)\n",
    "    mdb.read_table(DATABASE, tbl).to_csv(tbl+'.csv')\n",
    "\n",
    "# Read a small table.\n",
    "# df = pandas_access.read_table(\"my.mdb\", \"MyTable\")"
   ]
  },
  {
   "cell_type": "code",
   "execution_count": null,
   "metadata": {},
   "outputs": [],
   "source": []
  }
 ],
 "metadata": {
  "kernelspec": {
   "display_name": "Python 3",
   "language": "python",
   "name": "python3"
  },
  "language_info": {
   "codemirror_mode": {
    "name": "ipython",
    "version": 3
   },
   "file_extension": ".py",
   "mimetype": "text/x-python",
   "name": "python",
   "nbconvert_exporter": "python",
   "pygments_lexer": "ipython3",
   "version": "3.6.3"
  }
 },
 "nbformat": 4,
 "nbformat_minor": 2
}
