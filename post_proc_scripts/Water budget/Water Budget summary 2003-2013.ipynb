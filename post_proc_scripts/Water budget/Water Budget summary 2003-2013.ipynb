{
 "cells": [
  {
   "cell_type": "code",
   "execution_count": 1,
   "metadata": {},
   "outputs": [],
   "source": [
    "import pandas as pd\n",
    "import matplotlib.pyplot as plt\n",
    "import seaborn as sns\n",
    "import numpy as np\n",
    "%matplotlib inline\n",
    "\n",
    "sns.set_style(\"whitegrid\")\n",
    "sns.set_style(\"ticks\")\n",
    "from datetime import datetime\n",
    "str(datetime.now())\n",
    "\n",
    "import scipy as sp"
   ]
  },
  {
   "cell_type": "code",
   "execution_count": 2,
   "metadata": {},
   "outputs": [],
   "source": [
    "table = pd.read_excel('/Users/imarkelo/Google Drive/GDocuments/Lake Erie/Draft/Water Budget/Water Budget_gauged.xlsx', sheet_name='Total Annual 0.75 ERA5')\n"
   ]
  },
  {
   "cell_type": "code",
   "execution_count": 9,
   "metadata": {},
   "outputs": [
    {
     "data": {
      "text/plain": [
       "cms\n",
       "St. Clair River    4917.591255\n",
       "US Rivers            33.412242\n",
       "CA Rivers           137.468619\n",
       "Precipitation        36.524537\n",
       "Evaporation          30.968979\n",
       "NBS                 176.436419\n",
       "Detroit River      5078.117104\n",
       "US Rivers           318.630497\n",
       "CA Rivers             2.817507\n",
       "Precipitation        96.998305\n",
       "Evaporation          89.423071\n",
       "NBS                 329.023238\n",
       "US Rivers           246.375242\n",
       "CA Rivers            17.253775\n",
       "Precipitation       623.273803\n",
       "Evaporation         498.118876\n",
       "NBS                 388.783943\n",
       "US Rivers            51.194787\n",
       "CA Rivers            97.735208\n",
       "Precipitation       288.490055\n",
       "Evaporation         199.735551\n",
       "NBS                 237.684498\n",
       "Niagara River      5593.758273\n",
       "Welland Canal       188.573847\n",
       "Consumptive         106.000000\n",
       "NaN                   2.123687\n",
       "NaN                 159.063547\n",
       "dtype: float64"
      ]
     },
     "execution_count": 9,
     "metadata": {},
     "output_type": "execute_result"
    }
   ],
   "source": [
    "table[table.columns[:-5]].set_index('cms').mean(axis=1)"
   ]
  },
  {
   "cell_type": "code",
   "execution_count": null,
   "metadata": {},
   "outputs": [],
   "source": []
  }
 ],
 "metadata": {
  "kernelspec": {
   "display_name": "Python 3",
   "language": "python",
   "name": "python3"
  },
  "language_info": {
   "codemirror_mode": {
    "name": "ipython",
    "version": 3
   },
   "file_extension": ".py",
   "mimetype": "text/x-python",
   "name": "python",
   "nbconvert_exporter": "python",
   "pygments_lexer": "ipython3",
   "version": "3.6.6"
  }
 },
 "nbformat": 4,
 "nbformat_minor": 2
}
