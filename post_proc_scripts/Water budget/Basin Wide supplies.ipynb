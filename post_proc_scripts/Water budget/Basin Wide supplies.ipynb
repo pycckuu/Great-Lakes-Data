{
 "cells": [
  {
   "cell_type": "code",
   "execution_count": 1,
   "metadata": {},
   "outputs": [
    {
     "name": "stderr",
     "output_type": "stream",
     "text": [
      "/Users/imarkelo/anaconda3/lib/python3.6/site-packages/cmocean/tools.py:76: MatplotlibDeprecationWarning: The is_string_like function was deprecated in version 2.1.\n",
      "  if not mpl.cbook.is_string_like(rgbin[0]):\n"
     ]
    },
    {
     "data": {
      "text/plain": [
       "'2019-01-29 10:36:56.444864'"
      ]
     },
     "execution_count": 1,
     "metadata": {},
     "output_type": "execute_result"
    }
   ],
   "source": [
    "import matplotlib.pyplot as plt\n",
    "import numpy as np\n",
    "\n",
    "from matplotlib import rc\n",
    "import matplotlib.ticker as tkr\n",
    "import matplotlib.dates as mdates\n",
    "from datetime import datetime, timedelta\n",
    "from matplotlib.colors import ListedColormap\n",
    "import seaborn as sns\n",
    "sns.set_style(\"whitegrid\")\n",
    "sns.set_style(\"ticks\")\n",
    "import scipy.io as sio\n",
    "import cmocean\n",
    "\n",
    "import sys\n",
    "sys.path.append('../')\n",
    "\n",
    "\n",
    "import warnings\n",
    "warnings.filterwarnings('ignore')\n",
    "\n",
    "%matplotlib inline\n",
    "\n",
    "\n",
    "sns.set_style(\"whitegrid\")\n",
    "sns.set_style(\"ticks\")\n",
    "\n",
    "rc('text', usetex=False)\n",
    "rc(\"savefig\", dpi=90)\n",
    "rc(\"figure\", dpi=90)\n",
    "\n",
    "plt.rcParams['figure.figsize'] = 6, 4\n",
    "\n",
    "import pandas as pd\n",
    "\n",
    "pd.options.display.max_columns = 999\n",
    "pd.options.display.max_rows = 400\n",
    "\n",
    "import h5py\n",
    "\n",
    "from datetime import datetime\n",
    "str(datetime.now())"
   ]
  },
  {
   "cell_type": "code",
   "execution_count": 2,
   "metadata": {},
   "outputs": [],
   "source": [
    "WB_annual = pd.read_excel('/Users/imarkelo/Google Drive/GDocuments/Lake Erie/Draft/Water Budget/Water Budget_gauged.xlsx', sheet_name='Total Annual').reset_index()\n",
    "\n",
    "st_clair_basin_inflow = WB_annual.iloc[1][2:-1].values + WB_annual.iloc[2][2:-1].values\n",
    "\n",
    "western_basin_inflow = WB_annual.iloc[7][2:-1].values + WB_annual.iloc[8][2:-1].values\n",
    "\n",
    "central_basin_inflow = WB_annual.iloc[12][2:-1].values + WB_annual.iloc[13][2:-1].values\n",
    "\n",
    "eastern_basin_inflow = WB_annual.iloc[17][2:-1].values + WB_annual.iloc[18][2:-1].values\n",
    "\n",
    "st_clair_river_inflow = WB_annual.iloc[0][2:-1].values\n",
    "\n",
    "niagara_outflow = WB_annual.iloc[22][2:-1].values\n",
    "\n",
    "total_inflows = western_basin_inflow+central_basin_inflow+eastern_basin_inflow+st_clair_basin_inflow + st_clair_river_inflow\n",
    "\n",
    "detroit_outflow = WB_annual.iloc[6][2:-1].values\n",
    "# WB_annual"
   ]
  },
  {
   "cell_type": "code",
   "execution_count": 3,
   "metadata": {},
   "outputs": [
    {
     "data": {
      "text/plain": [
       "array([89.84122907153728, 118.1606735159817, 120.86222095383056,\n",
       "       165.81529046169456, 92.25351978691019, 178.10917681380008,\n",
       "       160.76059107052257, 85.29401319127348, 214.43553399289704,\n",
       "       77.5037100456621, 163.1218290208016, 149.5113521055302,\n",
       "       91.3478564180619, 110.22903982749875, 149.80996321664128],\n",
       "      dtype=object)"
      ]
     },
     "execution_count": 3,
     "metadata": {},
     "output_type": "execute_result"
    }
   ],
   "source": [
    "st_clair_basin_inflow"
   ]
  },
  {
   "cell_type": "markdown",
   "metadata": {},
   "source": [
    "# Canada - red US - blue color"
   ]
  },
  {
   "cell_type": "code",
   "execution_count": null,
   "metadata": {},
   "outputs": [],
   "source": []
  }
 ],
 "metadata": {
  "kernelspec": {
   "display_name": "Python 3",
   "language": "python",
   "name": "python3"
  },
  "language_info": {
   "codemirror_mode": {
    "name": "ipython",
    "version": 3
   },
   "file_extension": ".py",
   "mimetype": "text/x-python",
   "name": "python",
   "nbconvert_exporter": "python",
   "pygments_lexer": "ipython3",
   "version": "3.6.6"
  }
 },
 "nbformat": 4,
 "nbformat_minor": 2
}
