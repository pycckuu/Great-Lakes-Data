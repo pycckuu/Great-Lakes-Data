{
 "cells": [
  {
   "cell_type": "code",
   "execution_count": 1,
   "metadata": {},
   "outputs": [],
   "source": [
    "import json"
   ]
  },
  {
   "cell_type": "code",
   "execution_count": 4,
   "metadata": {},
   "outputs": [],
   "source": [
    "with open('../../measurements/Oscillations/nino34_multimodel_forecast/ensoforecast_data.json', 'r') as f:\n",
    "    ensoforecast_data = json.load(f)"
   ]
  },
  {
   "cell_type": "markdown",
   "metadata": {},
   "source": [
    "# 2004 to 2018 ensoforecast_data"
   ]
  },
  {
   "cell_type": "code",
   "execution_count": 33,
   "metadata": {},
   "outputs": [
    {
     "data": {
      "text/plain": [
       "{'models': [{'data': [-0.87,\n",
       "    -0.8,\n",
       "    -0.59,\n",
       "    -0.34,\n",
       "    -0.14,\n",
       "    -0.02,\n",
       "    0.06,\n",
       "    -999,\n",
       "    -999],\n",
       "   'model': 'NASA GMAO',\n",
       "   'type': 'Dynamic'},\n",
       "  {'data': [-0.26, -0.1, -0.03, -0.04, 0.01, 0.13, 0.19, 0.19, -999],\n",
       "   'model': 'NCEP CFSv2',\n",
       "   'type': 'Dynamic'},\n",
       "  {'data': [-0.24, -0.05, 0.1, 0.19, 0.3, -999, -999, -999, -999],\n",
       "   'model': 'JMA',\n",
       "   'type': 'Dynamic'},\n",
       "  {'data': [-0.09, 0.22, 0.47, 0.66, 0.76, 0.85, 0.98, 1.17, 1.34],\n",
       "   'model': 'BCC_CSM11m',\n",
       "   'type': 'Dynamic'},\n",
       "  {'data': [-0.1, 0.05, 0.11, 0.13, 0.22, 0.38, 0.48, 0.37, 0.05],\n",
       "   'model': 'LDEO',\n",
       "   'type': 'Dynamic'},\n",
       "  {'data': [-0.47, -0.47, -0.4, -0.21, -0.01, 0.14, 0.25, -999, -999],\n",
       "   'model': 'AUS/POAMA',\n",
       "   'type': 'Dynamic'},\n",
       "  {'data': [-0.13, 0.2, 0.48, 0.69, 0.84, -999, -999, -999, -999],\n",
       "   'model': 'ECMWF',\n",
       "   'type': 'Dynamic'},\n",
       "  {'data': [-0.17, 0.08, 0.3, 0.48, -999, -999, -999, -999, -999],\n",
       "   'model': 'UKMO',\n",
       "   'type': 'Dynamic'},\n",
       "  {'data': [-0.46, -0.32, -0.17, 0.03, 0.22, 0.41, 0.52, 0.61, 0.66],\n",
       "   'model': 'KMA SNU',\n",
       "   'type': 'Dynamic'},\n",
       "  {'data': [-0.09, 0.11, 0.22, 0.21, 0.2, 0.3, 0.43, 0.51, 0.47],\n",
       "   'model': 'IOCAS ICM',\n",
       "   'type': 'Dynamic'},\n",
       "  {'data': [0.1, 0.29, 0.36, 0.4, 0.43, 0.43, 0.51, 0.61, 0.75],\n",
       "   'model': 'COLA CCSM4',\n",
       "   'type': 'Dynamic'},\n",
       "  {'data': [-0.56, -0.19, 0.03, 0.06, -0.02, -999, -999, -999, -999],\n",
       "   'model': 'MetFRANCE',\n",
       "   'type': 'Dynamic'},\n",
       "  {'data': [-0.17, 0.09, 0.28, 0.35, 0.32, 0.27, 0.29, 0.37, 0.44],\n",
       "   'model': 'SINTEX-F',\n",
       "   'type': 'Dynamic'},\n",
       "  {'data': [-0.12, -0.17, 0.03, 0.14, 0.31, 0.38, -999, -999, -999],\n",
       "   'model': 'CS-IRI-MM',\n",
       "   'type': 'Dynamic'},\n",
       "  {'data': [-0.12, 0.33, 0.69, 0.87, 0.86, 0.85, 0.87, 0.93, 1.06],\n",
       "   'model': 'GFDL CM2.1',\n",
       "   'type': 'Dynamic'},\n",
       "  {'data': [-0.1, 0.18, 0.45, 0.66, 0.77, 0.82, 0.87, 0.92, 0.97],\n",
       "   'model': 'CMC CANSIP',\n",
       "   'type': 'Dynamic'},\n",
       "  {'data': [-0.39, 0, 0.45, 0.8, 1.01, 1.15, 1.27, 1.37, 1.44],\n",
       "   'model': 'GFDL FLOR',\n",
       "   'type': 'Dynamic'},\n",
       "  {'data': [-0.02, 0.07, 0.16, 0.25, 0.43, 0.66, 0.81, 0.84, 0.75],\n",
       "   'model': 'CPC CA',\n",
       "   'type': 'Statistic'},\n",
       "  {'data': [-0.34, -0.21, -0.1, 0.03, 0.19, 0.36, 0.53, 0.71, 0.83],\n",
       "   'model': 'CPC MRKOV',\n",
       "   'type': 'Statistic'},\n",
       "  {'data': [0.21, 0.49, 0.78, 1.06, 1.24, 1.43, 1.61, 1.46, 1.32],\n",
       "   'model': 'CSU CLIPR',\n",
       "   'type': 'Statistic'},\n",
       "  {'data': [-0.09, 0.2, 0.47, 0.57, 0.7, 0.84, 1.04, 1.1, 1.01],\n",
       "   'model': 'FSU REGR',\n",
       "   'type': 'Statistic'},\n",
       "  {'data': [-0.47, -0.43, -0.19, -0.11, 0.14, -999, -999, -999, -999],\n",
       "   'model': 'NTU CODA',\n",
       "   'type': 'Statistic'},\n",
       "  {'data': [0.05, 0.35, 0.6, 0.8, 0.94, 1.03, 1.08, 1.12, 1.12],\n",
       "   'model': 'PSD-CU LIM',\n",
       "   'type': 'Statistic'},\n",
       "  {'data': [-0.31, -0.1, 0.09, 0.29, 0.48, 0.56, 0.63, 0.71, 0.66],\n",
       "   'model': 'UBC NNET',\n",
       "   'type': 'Statistic'},\n",
       "  {'data': [-0.26, -0.05, 0.1, 0.17, 0.17, 0.15, 0.13, 0.12, 0.13],\n",
       "   'model': 'UCLA-TCD',\n",
       "   'type': 'Statistic'},\n",
       "  {'data': [-0.08, 0.04, 0.07, 0.14, 0.21, 0.35, 0.46, 0.54, 0.47],\n",
       "   'model': 'CPC CONSOL',\n",
       "   'type': 'CPC'}],\n",
       " 'month': 3,\n",
       " 'observed': [{'data': -0.79, 'month': 'JFM'},\n",
       "  {'data': -0.73, 'month': 'Mar'}]}"
      ]
     },
     "execution_count": 33,
     "metadata": {},
     "output_type": "execute_result"
    }
   ],
   "source": [
    "ensoforecast_data['years'][-1]['months'][3]"
   ]
  },
  {
   "cell_type": "code",
   "execution_count": 11,
   "metadata": {},
   "outputs": [
    {
     "name": "stdout",
     "output_type": "stream",
     "text": [
      "Key:\n",
      "years\n"
     ]
    }
   ],
   "source": [
    "for key, value in ensoforecast_data.items():\n",
    "    print(\"Key:\")\n",
    "    print(key)"
   ]
  },
  {
   "cell_type": "code",
   "execution_count": null,
   "metadata": {},
   "outputs": [],
   "source": []
  }
 ],
 "metadata": {
  "kernelspec": {
   "display_name": "Python [conda env:phd]",
   "language": "python",
   "name": "conda-env-phd-py"
  },
  "language_info": {
   "codemirror_mode": {
    "name": "ipython",
    "version": 3
   },
   "file_extension": ".py",
   "mimetype": "text/x-python",
   "name": "python",
   "nbconvert_exporter": "python",
   "pygments_lexer": "ipython3",
   "version": "3.6.8"
  }
 },
 "nbformat": 4,
 "nbformat_minor": 2
}
