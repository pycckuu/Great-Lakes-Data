{
 "cells": [
  {
   "cell_type": "code",
   "execution_count": 2,
   "metadata": {},
   "outputs": [],
   "source": [
    "import pandas as pd"
   ]
  },
  {
   "cell_type": "code",
   "execution_count": 21,
   "metadata": {},
   "outputs": [],
   "source": [
    "table = pd.read_excel('/Users/imarkelo/Google Drive/GDocuments/Lake Erie/Draft/Water Budget/Water Budget_gauged.xlsx', \n",
    "                      sheet_name='Total Annual re-estem')\n",
    "\n",
    "\n"
   ]
  },
  {
   "cell_type": "code",
   "execution_count": 22,
   "metadata": {
    "scrolled": false
   },
   "outputs": [
    {
     "name": "stdout",
     "output_type": "stream",
     "text": [
      "\\begin{tabular}{llrrrrrrrrrrrrrrrr}\n",
      "\\toprule\n",
      "               RWB &             HC &    2003 &    2004 &    2005 &    2006 &    2007 &    2008 &    2009 &    2010 &    2011 &    2012 &    2013 &    2014 &    2015 &    2016 &    2017 &    Mean \\\\\n",
      "\\midrule\n",
      "   St. Clair River &     Outflow LH &  4845.0 &  4991.0 &  5059.0 &  4989.0 &  4825.0 &  4794.0 &  5125.0 &  5083.0 &  4751.0 &  4910.0 &  4739.0 &  4971.0 &  5436.0 &  5856.0 &  5847.0 &  5081.0 \\\\\n",
      "               NaN &      US Runoff &     4.0 &    10.0 &    10.0 &     9.0 &    11.0 &     9.0 &    16.0 &     6.0 &    12.0 &     7.0 &     9.0 &     7.0 &     7.0 &     9.0 &     9.0 &     9.0 \\\\\n",
      "               NaN &      CA Runoff &     1.0 &     2.0 &     2.0 &     2.0 &     2.0 &     1.0 &     3.0 &     1.0 &     2.0 &     1.0 &     2.0 &     1.0 &     1.0 &     2.0 &     1.0 &     2.0 \\\\\n",
      "               NaN &        Outflow &  4849.0 &  5003.0 &  5071.0 &  4999.0 &  4837.0 &  4804.0 &  5144.0 &  5091.0 &  4765.0 &  4918.0 &  4750.0 &  4979.0 &  5444.0 &  5867.0 &  5857.0 &  5092.0 \\\\\n",
      "    St Clair Basin &      US Runoff &    19.0 &    33.0 &    30.0 &    35.0 &    36.0 &    36.0 &    58.0 &    30.0 &    44.0 &    32.0 &    33.0 &    33.0 &    29.0 &    29.0 &    38.0 &    34.0 \\\\\n",
      "               NaN &      CA Runoff &    65.0 &   134.0 &   112.0 &   121.0 &   147.0 &   136.0 &   199.0 &    79.0 &   165.0 &   122.0 &   142.0 &   165.0 &   108.0 &   112.0 &   129.0 &   129.0 \\\\\n",
      "               NaN &  Precipitation &    21.0 &    32.0 &    27.0 &    38.0 &    27.0 &    39.0 &    53.0 &    24.0 &    49.0 &    21.0 &    32.0 &    35.0 &    25.0 &    28.0 &    35.0 &    32.0 \\\\\n",
      "               NaN &    Evaporation &    27.0 &    31.0 &    31.0 &    31.0 &    31.0 &    31.0 &    28.0 &    32.0 &    31.0 &    36.0 &    33.0 &    28.0 &    31.0 &    37.0 &    31.0 &    31.0 \\\\\n",
      "               NaN &        Outflow &  4928.0 &  5171.0 &  5209.0 &  5162.0 &  5017.0 &  4984.0 &  5426.0 &  5191.0 &  4992.0 &  5056.0 &  4923.0 &  5184.0 &  5575.0 &  5998.0 &  6029.0 &  5256.0 \\\\\n",
      "     Detroit River &      US Runoff &    11.0 &    16.0 &    15.0 &    18.0 &    19.0 &    17.0 &    16.0 &    10.0 &    15.0 &    11.0 &    14.0 &    15.0 &    15.0 &    14.0 &    17.0 &    15.0 \\\\\n",
      "               NaN &      CA Runoff &     3.0 &     6.0 &     6.0 &     5.0 &     7.0 &     7.0 &     7.0 &     4.0 &     9.0 &     7.0 &     4.0 &     5.0 &     4.0 &     6.0 &     6.0 &     6.0 \\\\\n",
      "               NaN &        Outflow &  4941.0 &  5193.0 &  5230.0 &  5184.0 &  5043.0 &  5009.0 &  5450.0 &  5205.0 &  5016.0 &  5074.0 &  4941.0 &  5204.0 &  5594.0 &  6018.0 &  6051.0 &  5277.0 \\\\\n",
      "     Western Basin &      US Runoff &   253.0 &   256.0 &   278.0 &   259.0 &   358.0 &   391.0 &   271.0 &   231.0 &   320.0 &   298.0 &   241.0 &   280.0 &   305.0 &   195.0 &   324.0 &   284.0 \\\\\n",
      "               NaN &      CA Runoff &     0.0 &     0.0 &     0.0 &     0.0 &     0.0 &     0.0 &     0.0 &     0.0 &     0.0 &     0.0 &     0.0 &     0.0 &     0.0 &     0.0 &     0.0 &     0.0 \\\\\n",
      "               NaN &  Precipitation &    66.0 &    80.0 &    70.0 &    85.0 &    82.0 &    91.0 &    93.0 &    80.0 &   113.0 &    89.0 &    97.0 &    93.0 &    80.0 &    81.0 &    97.0 &    86.0 \\\\\n",
      "               NaN &    Evaporation &    69.0 &    80.0 &    79.0 &    80.0 &    79.0 &    78.0 &    71.0 &    82.0 &    80.0 &    92.0 &    85.0 &    71.0 &    79.0 &    95.0 &    80.0 &    80.0 \\\\\n",
      "               NaN &        Outflow &  5191.0 &  5449.0 &  5499.0 &  5447.0 &  5404.0 &  5413.0 &  5743.0 &  5433.0 &  5368.0 &  5369.0 &  5194.0 &  5506.0 &  5900.0 &  6200.0 &  6392.0 &  5567.0 \\\\\n",
      "     Central Basin &      US Runoff &   206.0 &   271.0 &   268.0 &   204.0 &   276.0 &   295.0 &   215.0 &   146.0 &   304.0 &   237.0 &   243.0 &   251.0 &   191.0 &   156.0 &   223.0 &   233.0 \\\\\n",
      "               NaN &      CA Runoff &    19.0 &    40.0 &    34.0 &    34.0 &    41.0 &    38.0 &    53.0 &    24.0 &    49.0 &    38.0 &    41.0 &    46.0 &    30.0 &    28.0 &    34.0 &    37.0 \\\\\n",
      "               NaN &  Precipitation &   369.0 &   451.0 &   395.0 &   476.0 &   462.0 &   510.0 &   521.0 &   450.0 &   636.0 &   499.0 &   543.0 &   524.0 &   450.0 &   455.0 &   545.0 &   486.0 \\\\\n",
      "               NaN &    Evaporation &   388.0 &   449.0 &   447.0 &   450.0 &   445.0 &   438.0 &   397.0 &   461.0 &   452.0 &   518.0 &   479.0 &   398.0 &   444.0 &   533.0 &   450.0 &   450.0 \\\\\n",
      "               NaN &        Outflow &  5397.0 &  5762.0 &  5748.0 &  5711.0 &  5737.0 &  5817.0 &  6136.0 &  5592.0 &  5905.0 &  5625.0 &  5543.0 &  5929.0 &  6127.0 &  6307.0 &  6745.0 &  5872.0 \\\\\n",
      "     Eastern Basin &      US Runoff &   112.0 &   151.0 &   120.0 &   114.0 &   139.0 &   100.0 &   125.0 &    87.0 &   118.0 &    88.0 &   108.0 &   122.0 &   106.0 &    86.0 &   136.0 &   114.0 \\\\\n",
      "               NaN &      CA Runoff &    59.0 &   111.0 &    90.0 &    99.0 &   100.0 &   113.0 &   129.0 &    71.0 &   105.0 &    85.0 &   112.0 &   134.0 &    85.0 &    92.0 &   107.0 &    99.0 \\\\\n",
      "               NaN &  Precipitation &   159.0 &   195.0 &   171.0 &   206.0 &   199.0 &   220.0 &   225.0 &   194.0 &   275.0 &   216.0 &   235.0 &   226.0 &   195.0 &   197.0 &   236.0 &   210.0 \\\\\n",
      "               NaN &    Evaporation &   168.0 &   194.0 &   193.0 &   194.0 &   192.0 &   189.0 &   172.0 &   199.0 &   195.0 &   224.0 &   207.0 &   172.0 &   192.0 &   230.0 &   194.0 &   194.0 \\\\\n",
      "               NaN &        Outflow &  5560.0 &  6025.0 &  5935.0 &  5936.0 &  5983.0 &  6060.0 &  6442.0 &  5746.0 &  6207.0 &  5789.0 &  5790.0 &  6239.0 &  6321.0 &  6452.0 &  7029.0 &  6101.0 \\\\\n",
      "           Outflow &  Niagara River &  5255.0 &  5575.0 &  5788.0 &  5544.0 &  5747.0 &  5642.0 &  5836.0 &  5628.0 &  5700.0 &  5944.0 &  5439.0 &  5773.0 &  6114.0 &  6356.0 &  6660.0 &  5800.0 \\\\\n",
      "               NaN &  Welland Canal &   200.0 &   201.0 &   223.0 &   171.0 &   175.0 &   205.0 &   195.0 &   187.0 &   132.0 &   218.0 &   166.0 &   193.0 &   226.0 &   221.0 &   146.0 &   191.0 \\\\\n",
      "               NaN &    Consumptive &   106.0 &   106.0 &   106.0 &   106.0 &   106.0 &   106.0 &   106.0 &   106.0 &   106.0 &   106.0 &   106.0 &   106.0 &   106.0 &   106.0 &   106.0 &   106.0 \\\\\n",
      "               NaN &          Total &  5561.0 &  5882.0 &  6117.0 &  5822.0 &  6028.0 &  5953.0 &  6137.0 &  5921.0 &  5938.0 &  6267.0 &  5711.0 &  6071.0 &  6446.0 &  6683.0 &  6913.0 &  6097.0 \\\\\n",
      " Risidual (In-Out) &            NaN &    -2.0 &   143.0 &  -181.0 &   114.0 &   -45.0 &   108.0 &   305.0 &  -175.0 &   269.0 &  -478.0 &    79.0 &   167.0 &  -126.0 &  -231.0 &   116.0 &   169.0 \\\\\n",
      "  Change in WL, cm &            NaN &    -9.0 &    15.0 &     5.0 &    -3.0 &    -0.0 &     2.0 &     9.0 &   -19.0 &    18.0 &   -11.0 &    -7.0 &    15.0 &    11.0 &     9.0 &    17.0 &    10.0 \\\\\n",
      "\\bottomrule\n",
      "\\end{tabular}\n",
      "\n"
     ]
    }
   ],
   "source": [
    "print(table.round(0).to_latex(index=0))"
   ]
  },
  {
   "cell_type": "code",
   "execution_count": 7,
   "metadata": {},
   "outputs": [],
   "source": [
    "table = pd.read_excel(\n",
    "    '/Users/imarkelo/Google Drive/GDocuments/Lake Erie/Draft/Water Budget/Water Budget_gauged.xlsx', \n",
    "    sheet_name='Stations')\n",
    "\n"
   ]
  },
  {
   "cell_type": "code",
   "execution_count": 8,
   "metadata": {},
   "outputs": [
    {
     "name": "stdout",
     "output_type": "stream",
     "text": [
      "\\begin{tabular}{llllrrr}\n",
      "\\toprule\n",
      "    &     &                                               Name &         Number &   Latitude &  Longtitude &  Drainage Area \\\\\n",
      "\\midrule\n",
      "NaN & NaN &                  St. Clair River At Port Huron, ON &        02GG014 &  42.986939 &  -82.424721 &  576013.000000 \\\\\n",
      "St Clair Basin & US &  Clinton River At Moravian Drive At Mt. Clemens... &  USGS-04165500 &  42.595867 &  -82.908810 &    1901.052660 \\\\\n",
      "NaN & NaN &    North Branch Clinton River Near Mt. Clemens, MI &  USGS-04164500 &  42.629200 &  -82.888810 &     515.408010 \\\\\n",
      "    & NaN &                         Belle River At Memphis, MI &  USGS-04160600 &  42.900862 &  -82.769091 &     391.088490 \\\\\n",
      "    & NaN &                          Mill Creek Near Avoca, MI &  USGS-04159900 &  43.054471 &  -82.734649 &     437.708310 \\\\\n",
      "    & NaN &                         Black River Near Fargo, MI &  USGS-04159500 &  43.092250 &  -82.617980 &    1243.195200 \\\\\n",
      "    & Canada &                    Thames River At Thamesville, ON &        02GE003 &  42.544861 &  -81.967270 &    4370.000000 \\\\\n",
      "    & NaN &                           Thames River Near Dutton &        02GE006 &  42.730690 &  -81.577469 &    3820.000000 \\\\\n",
      "    & NaN &                    Mcgregor Creek Near Chatham, ON &        02GE007 &  42.383499 &  -82.095062 &     204.000000 \\\\\n",
      "    & NaN &                     Sydenham River At Florence, ON &        02GG003 &  42.650612 &  -82.008392 &    1150.000000 \\\\\n",
      "    & NaN &                      Sydenham River Near Alvinston &        02GG002 &  42.830810 &  -81.851723 &     701.000000 \\\\\n",
      "    & NaN &                        Sydenham River At Strathroy &        02GG005 &  42.958859 &  -81.627136 &     171.000000 \\\\\n",
      "    & NaN &                           Bear Creek Near Petrolia &        02GG006 &  42.905830 &  -82.119110 &     249.000000 \\\\\n",
      "    & NaN &                       Bear Creek Below Brigden, ON &        02GG009 &  42.812031 &  -82.298424 &     536.000000 \\\\\n",
      "    & NaN &                      Black Creek Near Bradshaw, ON &        02GG013 &  42.762440 &  -82.259216 &     213.000000 \\\\\n",
      "    & NaN &               Ruscom River Near Ruscom Station, ON &        02GH002 &  42.211498 &  -82.629143 &     125.000000 \\\\\n",
      "    & NaN &                        Little River At Windsor, ON &        02GH011 &  42.309860 &  -82.928497 &      55.299999 \\\\\n",
      "    & NaN &         Detroit River At Fort Wayne At Detroit, MI &  USGS-04165710 &  42.298094 &  -83.092700 &  592589.712000 \\\\\n",
      "Western Basin & US &                         River Rouge At Detroit, MI &  USGS-04166500 &  42.373092 &  -83.254651 &     484.328130 \\\\\n",
      "NaN & NaN &            Middle River Rouge Near Garden City, MI &  USGS-04167000 &  42.348093 &  -83.311597 &     258.740001 \\\\\n",
      "    & NaN &                   Lower River Rouge At Inkster, MI &  USGS-04168000 &  42.300593 &  -83.300208 &     215.487168 \\\\\n",
      "    & NaN &               Ecorse River At Dearborn Heights, MI &  USGS-04168580 &  42.269483 &  -83.289652 &      25.899900 \\\\\n",
      "    & NaN &                    Malletts Creek At Ann Arbor, MI &  USGS-04174518 &  42.264761 &  -83.688273 &      28.230891 \\\\\n",
      "    & NaN &                        Otter Creek At La Salle, MI &  USGS-04176605 &  41.866990 &  -83.453544 &     132.089490 \\\\\n",
      "    & NaN &    Ottawa River At University Of Toledo, Toledo OH &  USGS-04177000 &  41.659681 &  -83.612547 &     388.498500 \\\\\n",
      "    & NaN &                       River Raisin Near Monroe, MI &  USGS-04176500 &  41.960601 &  -83.531046 &    2698.769580 \\\\\n",
      "    & NaN &                      Maumee River At Waterville OH &  USGS-04193500 &  41.500053 &  -83.712715 &   16394.636700 \\\\\n",
      "    & NaN &                       Portage River Near Elmore OH &  USGS-04195820 &  41.491162 &  -83.224645 &    1279.455060 \\\\\n",
      "    & Canada &                   Canard River Near Lukerville, ON &        02GH003 &  42.158970 &  -83.018890 &     159.000000 \\\\\n",
      "    & NaN &                        Turkey Creek At Windsor, ON &        02GH004 &  42.260502 &  -83.039833 &      29.600000 \\\\\n",
      "    & NaN &                  Turkey Creek At South Windsor, ON &        02GH016 &  42.264080 &  -83.032417 &      14.600000 \\\\\n",
      "Central Basin & US &                     Sandusky River Near Fremont OH &  USGS-04198000 &  41.307831 &  -83.158809 &    3240.077490 \\\\\n",
      "NaN & NaN &                            Huron River At Milan OH &  USGS-04199000 &  41.300885 &  -82.608233 &     960.886290 \\\\\n",
      "    & NaN &                  Vermilion River Near Vermilion OH &  USGS-04199500 &  41.381990 &  -82.316827 &     678.577380 \\\\\n",
      "    & NaN &                           Black River At Elyria OH &  USGS-04200500 &  41.380324 &  -82.104593 &    1025.636040 \\\\\n",
      "    & NaN &                          Rocky River Near Berea OH &  USGS-04201500 &  41.407548 &  -81.882638 &     691.527330 \\\\\n",
      "    & NaN &            Cuyahoga River Near Newburgh Heights OH &  USGS-04208504 &  41.462552 &  -81.680963 &    2040.912120 \\\\\n",
      "    & NaN &                     Chagrin River At Willoughby OH &  USGS-04209000 &  41.630881 &  -81.403445 &     637.137540 \\\\\n",
      "    & NaN &                    Grand River Near Painesville OH &  USGS-04212100 &  41.718934 &  -81.227879 &    1774.143150 \\\\\n",
      "    & NaN &                      Conneaut Creek At Conneaut OH &  USGS-04213000 &  41.926999 &  -80.603966 &     453.248250 \\\\\n",
      "    & NaN &         Old Woman Creek At Berlin Rd Near Huron OH &  USGS-04199155 &  41.348383 &  -82.513782 &      57.238779 \\\\\n",
      "    & NaN &                  Ashtabula River Near Ashtabula OH &  USGS-04212500 &  41.855609 &  -80.762030 &     313.388790 \\\\\n",
      "    & Canada &                    Big Otter Creek Near Calton, ON &        02GC026 &  42.710670 &  -80.840813 &     665.000000 \\\\\n",
      "    & NaN &                  Dodd Creek Below Paynes Mills, ON &        02GC031 &  42.787392 &  -81.267502 &      99.599998 \\\\\n",
      "    & NaN &                    Big Otter Creek Near Calton, ON &        02GC026 &  42.710670 &  -80.840813 &     665.000000 \\\\\n",
      "    & NaN &                  Kettle Creek Above St. Thomas, ON &        02GC029 &  42.835190 &  -81.134720 &     134.000000 \\\\\n",
      "    & NaN &                     Kettle Creek At St. Thomas, ON &        02GC002 &  42.777691 &  -81.213997 &     331.000000 \\\\\n",
      "    & NaN &                      Catfish Creek Near Sparta, ON &        02GC018 &  42.746078 &  -81.056938 &     295.000000 \\\\\n",
      "    & NaN &                    Silver Creek Near Grovesend, ON &        02GC036 &  42.675831 &  -80.953331 &      40.299999 \\\\\n",
      "Eastern Basin & US &                    Cattaraugus Creek At Gowanda NY &  USGS-04213500 &  42.463333 &  -78.934167 &    1129.235640 \\\\\n",
      "NaN & NaN &                    Buffalo Creek At Gardenville NY &  USGS-04214500 &  42.854722 &  -78.755123 &     367.778580 \\\\\n",
      "    & NaN &                     Cazenovia Creek At Ebenezer NY &  USGS-04215500 &  42.829722 &  -78.775214 &     349.648650 \\\\\n",
      "    & Canada &                       Grand River At Brantford, ON &        02GB001 &  43.132721 &  -80.267311 &    5200.000000 \\\\\n",
      "    & NaN &                      Young Creek Near Vittoria, ON &        02GC014 &  42.765751 &  -80.294579 &      65.800003 \\\\\n",
      "    & NaN &                  Venison Creek Near Walsingham, ON &        02GC021 &  42.653359 &  -80.548439 &      68.400002 \\\\\n",
      "    & NaN &                   Nanticoke Creek At Nanticoke, ON &        02GC022 &  42.809921 &  -80.076172 &     177.000000 \\\\\n",
      "    & NaN &                           Lynn River At Simcoe, ON &        02GC008 &  42.823330 &  -80.289436 &     144.000000 \\\\\n",
      "    & NaN &                      Big Creek Near Walsingham, ON &        02GC007 &  42.685612 &  -80.538467 &     567.000000 \\\\\n",
      "    & NaN &                     Niagara River At Fort Erie, ON &        02HA013 &  42.930279 &  -78.914169 &            NaN \\\\\n",
      "    & NaN &                     Niagara River At Queenston, ON &        02HA003 &  43.156941 &  -79.047218 &  686000.000000 \\\\\n",
      "    & NaN &         Welland Canal Diversion From Lake Erie, ON &        02HA019 &  42.950001 &  -79.216667 &            NaN \\\\\n",
      "\\bottomrule\n",
      "\\end{tabular}\n",
      "\n"
     ]
    }
   ],
   "source": [
    "print(table.to_latex())"
   ]
  },
  {
   "cell_type": "code",
   "execution_count": 14,
   "metadata": {},
   "outputs": [
    {
     "name": "stdout",
     "output_type": "stream",
     "text": [
      "\\begin{tabular}{lr}\n",
      "\\toprule\n",
      "{} &  Drainage Area \\\\\n",
      "\\midrule\n",
      "0  &       576013.0 \\\\\n",
      "1  &         1901.0 \\\\\n",
      "2  &          515.0 \\\\\n",
      "3  &          391.0 \\\\\n",
      "4  &          438.0 \\\\\n",
      "5  &         1243.0 \\\\\n",
      "6  &         4370.0 \\\\\n",
      "7  &         3820.0 \\\\\n",
      "8  &          204.0 \\\\\n",
      "9  &         1150.0 \\\\\n",
      "10 &          701.0 \\\\\n",
      "11 &          171.0 \\\\\n",
      "12 &          249.0 \\\\\n",
      "13 &          536.0 \\\\\n",
      "14 &          213.0 \\\\\n",
      "15 &          125.0 \\\\\n",
      "16 &           55.0 \\\\\n",
      "17 &       592590.0 \\\\\n",
      "18 &          484.0 \\\\\n",
      "19 &          259.0 \\\\\n",
      "20 &          215.0 \\\\\n",
      "21 &           26.0 \\\\\n",
      "22 &           28.0 \\\\\n",
      "23 &          132.0 \\\\\n",
      "24 &          388.0 \\\\\n",
      "25 &         2699.0 \\\\\n",
      "26 &        16395.0 \\\\\n",
      "27 &         1279.0 \\\\\n",
      "28 &          159.0 \\\\\n",
      "29 &           30.0 \\\\\n",
      "30 &           15.0 \\\\\n",
      "31 &         3240.0 \\\\\n",
      "32 &          961.0 \\\\\n",
      "33 &          679.0 \\\\\n",
      "34 &         1026.0 \\\\\n",
      "35 &          692.0 \\\\\n",
      "36 &         2041.0 \\\\\n",
      "37 &          637.0 \\\\\n",
      "38 &         1774.0 \\\\\n",
      "39 &          453.0 \\\\\n",
      "40 &           57.0 \\\\\n",
      "41 &          313.0 \\\\\n",
      "42 &          665.0 \\\\\n",
      "43 &          100.0 \\\\\n",
      "44 &          665.0 \\\\\n",
      "45 &          134.0 \\\\\n",
      "46 &          331.0 \\\\\n",
      "47 &          295.0 \\\\\n",
      "48 &           40.0 \\\\\n",
      "49 &         1129.0 \\\\\n",
      "50 &          368.0 \\\\\n",
      "51 &          350.0 \\\\\n",
      "52 &         5200.0 \\\\\n",
      "53 &           66.0 \\\\\n",
      "54 &           68.0 \\\\\n",
      "55 &          177.0 \\\\\n",
      "56 &          144.0 \\\\\n",
      "57 &          567.0 \\\\\n",
      "58 &            NaN \\\\\n",
      "59 &       686000.0 \\\\\n",
      "60 &            NaN \\\\\n",
      "\\bottomrule\n",
      "\\end{tabular}\n",
      "\n"
     ]
    }
   ],
   "source": [
    "\n",
    "print(table.reset_index()['Drainage Area'].round(0).to_latex())"
   ]
  },
  {
   "cell_type": "code",
   "execution_count": 16,
   "metadata": {},
   "outputs": [],
   "source": [
    "table = pd.read_excel('/Users/imarkelo/Google Drive/GDocuments/Lake Erie/Draft/Water Budget/Water Budget_numbers.xlsx', \n",
    "                      sheet_name='Table 5. Characterization WS')\n"
   ]
  },
  {
   "cell_type": "code",
   "execution_count": 19,
   "metadata": {},
   "outputs": [
    {
     "name": "stdout",
     "output_type": "stream",
     "text": [
      "\\begin{tabular}{llllllllllll}\n",
      "\\toprule\n",
      "{} &                 \\# &              System & Total WA (TA) & Unnamed: 3 & Unnamed: 4 & Monitored WA (MA) & Unnamed: 6 & Unnamed: 7 & MA as \\% of TA & Unnamed: 9 & Unnamed: 10 \\\\\n",
      "\\midrule\n",
      "0  &               NaN &                 NaN &         [km2] &        NaN &        NaN &             [km2] &        NaN &        NaN &           [\\%] &        NaN &         NaN \\\\\n",
      "1  &               NaN &                 NaN &        Canada &        USA &      Total &            Canada &        USA &      Total &        Canada &        USA &       Total \\\\\n",
      "2  &               NaN &                 NaN &           NaN &        NaN &        NaN &               NaN &        NaN &        NaN &           NaN &        NaN &         NaN \\\\\n",
      "3  &                 1 &     HEC, including: &         10469 &       7242 &      17711 &              6854 &       4936 &      11790 &          65.5 &       68.2 &        66.6 \\\\\n",
      "4  &               1.1 &     St. Clair River &           502 &       2997 &       3499 &                 0 &       2031 &       2031 &             0 &       67.8 &          58 \\\\\n",
      "5  &               1.2 &      Lake St. Clair &          9499 &       2727 &      12226 &              6625 &       1901 &       8526 &          69.7 &       69.7 &        69.7 \\\\\n",
      "6  &               1.3 &       Detroit River &           468 &       1518 &       1986 &               229 &       1005 &       1234 &          48.9 &       66.2 &        62.1 \\\\\n",
      "7  &                 2 &      LE, including: &         12174 &      47327 &      59501 &              8724 &      36594 &      45318 &          70.4 &       77.3 &        75.9 \\\\\n",
      "8  &               2.1 &          West Basin &           431 &      26467 &      26898 &                 0 &      22742 &      22742 &             0 &       85.9 &        84.5 \\\\\n",
      "9  &               2.2 &       Central Basin &          2710 &      14764 &      17474 &              1331 &      11748 &      13079 &          49.1 &       79.6 &        74.8 \\\\\n",
      "10 &               2.3 &          East Basin &          9033 &       6096 &      15129 &              7239 &       2104 &       9497 &          80.1 &       34.5 &        61.8 \\\\\n",
      "11 &                 3 &       Niagara River &          1407 &       2070 &       3477 &               306 &       1115 &       1421 &          21.7 &       53.9 &        40.9 \\\\\n",
      "12 &  Total (HEC + LE) &                 NaN &         22643 &      54570 &      77213 &             15424 &      41531 &      56955 &          68.1 &       76.1 &        73.8 \\\\\n",
      "13 &       Grand Total &                 NaN &         24050 &      56639 &      80689 &             15730 &      42646 &      58376 &          65.4 &       75.3 &        72.3 \\\\\n",
      "\\bottomrule\n",
      "\\end{tabular}\n",
      "\n"
     ]
    }
   ],
   "source": [
    "print(table.to_latex())"
   ]
  },
  {
   "cell_type": "code",
   "execution_count": null,
   "metadata": {},
   "outputs": [],
   "source": []
  }
 ],
 "metadata": {
  "kernelspec": {
   "display_name": "Python 3",
   "language": "python",
   "name": "python3"
  },
  "language_info": {
   "codemirror_mode": {
    "name": "ipython",
    "version": 3
   },
   "file_extension": ".py",
   "mimetype": "text/x-python",
   "name": "python",
   "nbconvert_exporter": "python",
   "pygments_lexer": "ipython3",
   "version": "3.6.6"
  }
 },
 "nbformat": 4,
 "nbformat_minor": 2
}
