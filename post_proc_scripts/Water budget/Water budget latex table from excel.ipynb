{
 "cells": [
  {
   "cell_type": "code",
   "execution_count": 1,
   "metadata": {},
   "outputs": [],
   "source": [
    "import pandas as pd"
   ]
  },
  {
   "cell_type": "code",
   "execution_count": 4,
   "metadata": {},
   "outputs": [],
   "source": [
    "table = pd.read_excel('/Users/imarkelo/Google Drive/GDocuments/Lake Erie/Draft/Water Budget/Water Budget_gauged.xlsx', sheet_name='Total Annual 0.75 ERA5')"
   ]
  },
  {
   "cell_type": "code",
   "execution_count": 5,
   "metadata": {},
   "outputs": [
    {
     "name": "stdout",
     "output_type": "stream",
     "text": [
      "\\begin{tabular}{llrrrrrrrrrrrrrrrr}\n",
      "\\toprule\n",
      "{} &              cms &    2003 &    2004 &    2005 &    2006 &    2007 &    2008 &    2009 &    2010 &    2011 &    2012 &    2013 &    2014 &    2015 &    2016 &    2017 &    Mean \\\\\n",
      "\\midrule\n",
      "Inflow            &  St. Clair River &  4782.0 &  5060.0 &  5002.0 &  4968.0 &  4804.0 &  4860.0 &  5219.0 &  5010.0 &  4715.0 &  4869.0 &  4804.0 &  5169.0 &  5436.0 &  5877.0 &  5858.0 &  5096.0 \\\\\n",
      "St Clair Basin    &        US Rivers &    21.0 &    34.0 &    28.0 &    40.0 &    27.0 &    39.0 &    52.0 &    24.0 &    49.0 &    21.0 &    33.0 &    34.0 &    25.0 &    29.0 &    35.0 &    33.0 \\\\\n",
      "NaN               &        CA Rivers &    94.0 &   118.0 &   127.0 &   173.0 &    91.0 &   190.0 &   154.0 &    86.0 &   226.0 &    79.0 &   176.0 &   158.0 &    92.0 &   112.0 &   157.0 &   135.0 \\\\\n",
      "NaN               &    Precipitation &    37.0 &    36.0 &    32.0 &    40.0 &    34.0 &    41.0 &    39.0 &    29.0 &    46.0 &    30.0 &    39.0 &    33.0 &    33.0 &    35.0 &    39.0 &    36.0 \\\\\n",
      "NaN               &      Evaporation &    30.0 &    29.0 &    31.0 &    31.0 &    32.0 &    31.0 &    30.0 &    32.0 &    30.0 &    34.0 &    31.0 &    24.0 &    24.0 &    26.0 &    26.0 &    29.0 \\\\\n",
      "NaN               &              NBS &   122.0 &   158.0 &   155.0 &   222.0 &   120.0 &   238.0 &   215.0 &   107.0 &   291.0 &    95.0 &   218.0 &   201.0 &   126.0 &   150.0 &   205.0 &   175.0 \\\\\n",
      "Channel           &    Detroit River &  4861.0 &  5189.0 &  5123.0 &  5093.0 &  4909.0 &  5044.0 &  5487.0 &  5233.0 &  5024.0 &  4965.0 &  4931.0 &  5353.0 &  5698.0 &  6100.0 &  5989.0 &  5267.0 \\\\\n",
      "Western Basin     &        US Rivers &   334.0 &   270.0 &   297.0 &   345.0 &   369.0 &   376.0 &   294.0 &   232.0 &   523.0 &   169.0 &   296.0 &   285.0 &   339.0 &   218.0 &   372.0 &   315.0 \\\\\n",
      "NaN               &        CA Rivers &     2.0 &     3.0 &     2.0 &     3.0 &     2.0 &     4.0 &     3.0 &     2.0 &     7.0 &     1.0 &     2.0 &     2.0 &     2.0 &     2.0 &     3.0 &     3.0 \\\\\n",
      "NaN               &    Precipitation &   100.0 &    95.0 &    91.0 &   108.0 &    98.0 &   102.0 &    88.0 &    80.0 &   129.0 &    74.0 &   102.0 &    85.0 &    88.0 &    89.0 &   104.0 &    95.0 \\\\\n",
      "NaN               &      Evaporation &    84.0 &    86.0 &    90.0 &    90.0 &    92.0 &    89.0 &    87.0 &    92.0 &    87.0 &    98.0 &    90.0 &    68.0 &    68.0 &    75.0 &    76.0 &    85.0 \\\\\n",
      "NaN               &              NBS &   352.0 &   282.0 &   300.0 &   365.0 &   378.0 &   393.0 &   298.0 &   222.0 &   572.0 &   145.0 &   311.0 &   304.0 &   361.0 &   234.0 &   403.0 &   328.0 \\\\\n",
      "Central Basin     &        US Rivers &   251.0 &   254.0 &   264.0 &   258.0 &   258.0 &   290.0 &   152.0 &   156.0 &   396.0 &   185.0 &   246.0 &   215.0 &   193.0 &   156.0 &   235.0 &   234.0 \\\\\n",
      "NaN               &        CA Rivers &    14.0 &    16.0 &    16.0 &    22.0 &    12.0 &    23.0 &    19.0 &    10.0 &    26.0 &    11.0 &    22.0 &    19.0 &    12.0 &    13.0 &    16.0 &    17.0 \\\\\n",
      "NaN               &    Precipitation &   643.0 &   608.0 &   585.0 &   649.0 &   569.0 &   667.0 &   570.0 &   547.0 &   804.0 &   523.0 &   691.0 &   548.0 &   514.0 &   533.0 &   624.0 &   605.0 \\\\\n",
      "NaN               &      Evaporation &   464.0 &   473.0 &   506.0 &   486.0 &   524.0 &   503.0 &   470.0 &   521.0 &   460.0 &   568.0 &   505.0 &   344.0 &   327.0 &   403.0 &   373.0 &   462.0 \\\\\n",
      "NaN               &              NBS &   444.0 &   405.0 &   359.0 &   443.0 &   315.0 &   476.0 &   270.0 &   193.0 &   766.0 &   151.0 &   454.0 &   438.0 &   392.0 &   299.0 &   502.0 &   394.0 \\\\\n",
      "Eastern Basin     &        US Rivers &    56.0 &    64.0 &    53.0 &    61.0 &    49.0 &    50.0 &    50.0 &    38.0 &    55.0 &    35.0 &    54.0 &    49.0 &    46.0 &    38.0 &    66.0 &    51.0 \\\\\n",
      "NaN               &        CA Rivers &    81.0 &    95.0 &    89.0 &   120.0 &    65.0 &   139.0 &   103.0 &    69.0 &   119.0 &    67.0 &   129.0 &   126.0 &    71.0 &    85.0 &   114.0 &    98.0 \\\\\n",
      "NaN               &    Precipitation &   287.0 &   302.0 &   270.0 &   311.0 &   246.0 &   319.0 &   275.0 &   265.0 &   348.0 &   249.0 &   302.0 &   267.0 &   241.0 &   239.0 &   282.0 &   280.0 \\\\\n",
      "NaN               &      Evaporation &   181.0 &   189.0 &   204.0 &   194.0 &   206.0 &   204.0 &   190.0 &   210.0 &   186.0 &   230.0 &   204.0 &   149.0 &   143.0 &   175.0 &   163.0 &   188.0 \\\\\n",
      "NaN               &              NBS &   242.0 &   272.0 &   208.0 &   297.0 &   153.0 &   305.0 &   238.0 &   161.0 &   337.0 &   121.0 &   281.0 &   293.0 &   215.0 &   188.0 &   300.0 &   241.0 \\\\\n",
      "Outflow           &    Niagara River &  5233.0 &  5577.0 &  5654.0 &  5604.0 &  5535.0 &  5645.0 &  5812.0 &  5483.0 &  5855.0 &  5606.0 &  5527.0 &  5792.0 &  6069.0 &  6293.0 &  6735.0 &  5761.0 \\\\\n",
      "NaN               &    Welland Canal &   200.0 &   201.0 &   213.0 &   176.0 &   181.0 &   211.0 &   195.0 &   169.0 &   151.0 &   204.0 &   174.0 &   207.0 &   225.0 &   208.0 &   139.0 &   190.0 \\\\\n",
      "NaN               &      Consumptive &   106.0 &   106.0 &   106.0 &   106.0 &   106.0 &   106.0 &   106.0 &   106.0 &   106.0 &   106.0 &   106.0 &   106.0 &   106.0 &   106.0 &   106.0 &   106.0 \\\\\n",
      "Change in Storage &              NaN &   -74.0 &   126.0 &    45.0 &   -20.0 &    -2.0 &    19.0 &    75.0 &  -154.0 &   152.0 &   -90.0 &   -54.0 &   125.0 &    90.0 &    76.0 &   141.0 &    30.0 \\\\\n",
      "Risidual          &              NaN &   478.0 &   167.0 &     6.0 &   429.0 &   -49.0 &   291.0 &    52.0 &    89.0 &   417.0 &  -445.0 &   314.0 &   175.0 &    39.0 &    65.0 &   147.0 &   145.0 \\\\\n",
      "\\bottomrule\n",
      "\\end{tabular}\n",
      "\n"
     ]
    }
   ],
   "source": [
    "print(table.round(0).to_latex())"
   ]
  },
  {
   "cell_type": "code",
   "execution_count": 7,
   "metadata": {},
   "outputs": [],
   "source": [
    "table = pd.read_excel(\n",
    "    '/Users/imarkelo/Google Drive/GDocuments/Lake Erie/Draft/Water Budget/Water Budget_gauged.xlsx', \n",
    "    sheet_name='Stations')\n",
    "\n"
   ]
  },
  {
   "cell_type": "code",
   "execution_count": 8,
   "metadata": {},
   "outputs": [
    {
     "name": "stdout",
     "output_type": "stream",
     "text": [
      "\\begin{tabular}{llllrrr}\n",
      "\\toprule\n",
      "    &     &                                               Name &         Number &   Latitude &  Longtitude &  Drainage Area \\\\\n",
      "\\midrule\n",
      "NaN & NaN &                  St. Clair River At Port Huron, ON &        02GG014 &  42.986939 &  -82.424721 &  576013.000000 \\\\\n",
      "St Clair Basin & US &  Clinton River At Moravian Drive At Mt. Clemens... &  USGS-04165500 &  42.595867 &  -82.908810 &    1901.052660 \\\\\n",
      "NaN & NaN &    North Branch Clinton River Near Mt. Clemens, MI &  USGS-04164500 &  42.629200 &  -82.888810 &     515.408010 \\\\\n",
      "    & NaN &                         Belle River At Memphis, MI &  USGS-04160600 &  42.900862 &  -82.769091 &     391.088490 \\\\\n",
      "    & NaN &                          Mill Creek Near Avoca, MI &  USGS-04159900 &  43.054471 &  -82.734649 &     437.708310 \\\\\n",
      "    & NaN &                         Black River Near Fargo, MI &  USGS-04159500 &  43.092250 &  -82.617980 &    1243.195200 \\\\\n",
      "    & Canada &                    Thames River At Thamesville, ON &        02GE003 &  42.544861 &  -81.967270 &    4370.000000 \\\\\n",
      "    & NaN &                           Thames River Near Dutton &        02GE006 &  42.730690 &  -81.577469 &    3820.000000 \\\\\n",
      "    & NaN &                    Mcgregor Creek Near Chatham, ON &        02GE007 &  42.383499 &  -82.095062 &     204.000000 \\\\\n",
      "    & NaN &                     Sydenham River At Florence, ON &        02GG003 &  42.650612 &  -82.008392 &    1150.000000 \\\\\n",
      "    & NaN &                      Sydenham River Near Alvinston &        02GG002 &  42.830810 &  -81.851723 &     701.000000 \\\\\n",
      "    & NaN &                        Sydenham River At Strathroy &        02GG005 &  42.958859 &  -81.627136 &     171.000000 \\\\\n",
      "    & NaN &                           Bear Creek Near Petrolia &        02GG006 &  42.905830 &  -82.119110 &     249.000000 \\\\\n",
      "    & NaN &                       Bear Creek Below Brigden, ON &        02GG009 &  42.812031 &  -82.298424 &     536.000000 \\\\\n",
      "    & NaN &                      Black Creek Near Bradshaw, ON &        02GG013 &  42.762440 &  -82.259216 &     213.000000 \\\\\n",
      "    & NaN &               Ruscom River Near Ruscom Station, ON &        02GH002 &  42.211498 &  -82.629143 &     125.000000 \\\\\n",
      "    & NaN &                        Little River At Windsor, ON &        02GH011 &  42.309860 &  -82.928497 &      55.299999 \\\\\n",
      "    & NaN &         Detroit River At Fort Wayne At Detroit, MI &  USGS-04165710 &  42.298094 &  -83.092700 &  592589.712000 \\\\\n",
      "Western Basin & US &                         River Rouge At Detroit, MI &  USGS-04166500 &  42.373092 &  -83.254651 &     484.328130 \\\\\n",
      "NaN & NaN &            Middle River Rouge Near Garden City, MI &  USGS-04167000 &  42.348093 &  -83.311597 &     258.740001 \\\\\n",
      "    & NaN &                   Lower River Rouge At Inkster, MI &  USGS-04168000 &  42.300593 &  -83.300208 &     215.487168 \\\\\n",
      "    & NaN &               Ecorse River At Dearborn Heights, MI &  USGS-04168580 &  42.269483 &  -83.289652 &      25.899900 \\\\\n",
      "    & NaN &                    Malletts Creek At Ann Arbor, MI &  USGS-04174518 &  42.264761 &  -83.688273 &      28.230891 \\\\\n",
      "    & NaN &                        Otter Creek At La Salle, MI &  USGS-04176605 &  41.866990 &  -83.453544 &     132.089490 \\\\\n",
      "    & NaN &    Ottawa River At University Of Toledo, Toledo OH &  USGS-04177000 &  41.659681 &  -83.612547 &     388.498500 \\\\\n",
      "    & NaN &                       River Raisin Near Monroe, MI &  USGS-04176500 &  41.960601 &  -83.531046 &    2698.769580 \\\\\n",
      "    & NaN &                      Maumee River At Waterville OH &  USGS-04193500 &  41.500053 &  -83.712715 &   16394.636700 \\\\\n",
      "    & NaN &                       Portage River Near Elmore OH &  USGS-04195820 &  41.491162 &  -83.224645 &    1279.455060 \\\\\n",
      "    & Canada &                   Canard River Near Lukerville, ON &        02GH003 &  42.158970 &  -83.018890 &     159.000000 \\\\\n",
      "    & NaN &                        Turkey Creek At Windsor, ON &        02GH004 &  42.260502 &  -83.039833 &      29.600000 \\\\\n",
      "    & NaN &                  Turkey Creek At South Windsor, ON &        02GH016 &  42.264080 &  -83.032417 &      14.600000 \\\\\n",
      "Central Basin & US &                     Sandusky River Near Fremont OH &  USGS-04198000 &  41.307831 &  -83.158809 &    3240.077490 \\\\\n",
      "NaN & NaN &                            Huron River At Milan OH &  USGS-04199000 &  41.300885 &  -82.608233 &     960.886290 \\\\\n",
      "    & NaN &                  Vermilion River Near Vermilion OH &  USGS-04199500 &  41.381990 &  -82.316827 &     678.577380 \\\\\n",
      "    & NaN &                           Black River At Elyria OH &  USGS-04200500 &  41.380324 &  -82.104593 &    1025.636040 \\\\\n",
      "    & NaN &                          Rocky River Near Berea OH &  USGS-04201500 &  41.407548 &  -81.882638 &     691.527330 \\\\\n",
      "    & NaN &            Cuyahoga River Near Newburgh Heights OH &  USGS-04208504 &  41.462552 &  -81.680963 &    2040.912120 \\\\\n",
      "    & NaN &                     Chagrin River At Willoughby OH &  USGS-04209000 &  41.630881 &  -81.403445 &     637.137540 \\\\\n",
      "    & NaN &                    Grand River Near Painesville OH &  USGS-04212100 &  41.718934 &  -81.227879 &    1774.143150 \\\\\n",
      "    & NaN &                      Conneaut Creek At Conneaut OH &  USGS-04213000 &  41.926999 &  -80.603966 &     453.248250 \\\\\n",
      "    & NaN &         Old Woman Creek At Berlin Rd Near Huron OH &  USGS-04199155 &  41.348383 &  -82.513782 &      57.238779 \\\\\n",
      "    & NaN &                  Ashtabula River Near Ashtabula OH &  USGS-04212500 &  41.855609 &  -80.762030 &     313.388790 \\\\\n",
      "    & Canada &                    Big Otter Creek Near Calton, ON &        02GC026 &  42.710670 &  -80.840813 &     665.000000 \\\\\n",
      "    & NaN &                  Dodd Creek Below Paynes Mills, ON &        02GC031 &  42.787392 &  -81.267502 &      99.599998 \\\\\n",
      "    & NaN &                    Big Otter Creek Near Calton, ON &        02GC026 &  42.710670 &  -80.840813 &     665.000000 \\\\\n",
      "    & NaN &                  Kettle Creek Above St. Thomas, ON &        02GC029 &  42.835190 &  -81.134720 &     134.000000 \\\\\n",
      "    & NaN &                     Kettle Creek At St. Thomas, ON &        02GC002 &  42.777691 &  -81.213997 &     331.000000 \\\\\n",
      "    & NaN &                      Catfish Creek Near Sparta, ON &        02GC018 &  42.746078 &  -81.056938 &     295.000000 \\\\\n",
      "    & NaN &                    Silver Creek Near Grovesend, ON &        02GC036 &  42.675831 &  -80.953331 &      40.299999 \\\\\n",
      "Eastern Basin & US &                    Cattaraugus Creek At Gowanda NY &  USGS-04213500 &  42.463333 &  -78.934167 &    1129.235640 \\\\\n",
      "NaN & NaN &                    Buffalo Creek At Gardenville NY &  USGS-04214500 &  42.854722 &  -78.755123 &     367.778580 \\\\\n",
      "    & NaN &                     Cazenovia Creek At Ebenezer NY &  USGS-04215500 &  42.829722 &  -78.775214 &     349.648650 \\\\\n",
      "    & Canada &                       Grand River At Brantford, ON &        02GB001 &  43.132721 &  -80.267311 &    5200.000000 \\\\\n",
      "    & NaN &                      Young Creek Near Vittoria, ON &        02GC014 &  42.765751 &  -80.294579 &      65.800003 \\\\\n",
      "    & NaN &                  Venison Creek Near Walsingham, ON &        02GC021 &  42.653359 &  -80.548439 &      68.400002 \\\\\n",
      "    & NaN &                   Nanticoke Creek At Nanticoke, ON &        02GC022 &  42.809921 &  -80.076172 &     177.000000 \\\\\n",
      "    & NaN &                           Lynn River At Simcoe, ON &        02GC008 &  42.823330 &  -80.289436 &     144.000000 \\\\\n",
      "    & NaN &                      Big Creek Near Walsingham, ON &        02GC007 &  42.685612 &  -80.538467 &     567.000000 \\\\\n",
      "    & NaN &                     Niagara River At Fort Erie, ON &        02HA013 &  42.930279 &  -78.914169 &            NaN \\\\\n",
      "    & NaN &                     Niagara River At Queenston, ON &        02HA003 &  43.156941 &  -79.047218 &  686000.000000 \\\\\n",
      "    & NaN &         Welland Canal Diversion From Lake Erie, ON &        02HA019 &  42.950001 &  -79.216667 &            NaN \\\\\n",
      "\\bottomrule\n",
      "\\end{tabular}\n",
      "\n"
     ]
    }
   ],
   "source": [
    "print(table.to_latex())"
   ]
  },
  {
   "cell_type": "code",
   "execution_count": 14,
   "metadata": {},
   "outputs": [
    {
     "name": "stdout",
     "output_type": "stream",
     "text": [
      "\\begin{tabular}{lr}\n",
      "\\toprule\n",
      "{} &  Drainage Area \\\\\n",
      "\\midrule\n",
      "0  &       576013.0 \\\\\n",
      "1  &         1901.0 \\\\\n",
      "2  &          515.0 \\\\\n",
      "3  &          391.0 \\\\\n",
      "4  &          438.0 \\\\\n",
      "5  &         1243.0 \\\\\n",
      "6  &         4370.0 \\\\\n",
      "7  &         3820.0 \\\\\n",
      "8  &          204.0 \\\\\n",
      "9  &         1150.0 \\\\\n",
      "10 &          701.0 \\\\\n",
      "11 &          171.0 \\\\\n",
      "12 &          249.0 \\\\\n",
      "13 &          536.0 \\\\\n",
      "14 &          213.0 \\\\\n",
      "15 &          125.0 \\\\\n",
      "16 &           55.0 \\\\\n",
      "17 &       592590.0 \\\\\n",
      "18 &          484.0 \\\\\n",
      "19 &          259.0 \\\\\n",
      "20 &          215.0 \\\\\n",
      "21 &           26.0 \\\\\n",
      "22 &           28.0 \\\\\n",
      "23 &          132.0 \\\\\n",
      "24 &          388.0 \\\\\n",
      "25 &         2699.0 \\\\\n",
      "26 &        16395.0 \\\\\n",
      "27 &         1279.0 \\\\\n",
      "28 &          159.0 \\\\\n",
      "29 &           30.0 \\\\\n",
      "30 &           15.0 \\\\\n",
      "31 &         3240.0 \\\\\n",
      "32 &          961.0 \\\\\n",
      "33 &          679.0 \\\\\n",
      "34 &         1026.0 \\\\\n",
      "35 &          692.0 \\\\\n",
      "36 &         2041.0 \\\\\n",
      "37 &          637.0 \\\\\n",
      "38 &         1774.0 \\\\\n",
      "39 &          453.0 \\\\\n",
      "40 &           57.0 \\\\\n",
      "41 &          313.0 \\\\\n",
      "42 &          665.0 \\\\\n",
      "43 &          100.0 \\\\\n",
      "44 &          665.0 \\\\\n",
      "45 &          134.0 \\\\\n",
      "46 &          331.0 \\\\\n",
      "47 &          295.0 \\\\\n",
      "48 &           40.0 \\\\\n",
      "49 &         1129.0 \\\\\n",
      "50 &          368.0 \\\\\n",
      "51 &          350.0 \\\\\n",
      "52 &         5200.0 \\\\\n",
      "53 &           66.0 \\\\\n",
      "54 &           68.0 \\\\\n",
      "55 &          177.0 \\\\\n",
      "56 &          144.0 \\\\\n",
      "57 &          567.0 \\\\\n",
      "58 &            NaN \\\\\n",
      "59 &       686000.0 \\\\\n",
      "60 &            NaN \\\\\n",
      "\\bottomrule\n",
      "\\end{tabular}\n",
      "\n"
     ]
    }
   ],
   "source": [
    "\n",
    "print(table.reset_index()['Drainage Area'].round(0).to_latex())"
   ]
  },
  {
   "cell_type": "code",
   "execution_count": null,
   "metadata": {},
   "outputs": [],
   "source": []
  }
 ],
 "metadata": {
  "kernelspec": {
   "display_name": "Python 3",
   "language": "python",
   "name": "python3"
  },
  "language_info": {
   "codemirror_mode": {
    "name": "ipython",
    "version": 3
   },
   "file_extension": ".py",
   "mimetype": "text/x-python",
   "name": "python",
   "nbconvert_exporter": "python",
   "pygments_lexer": "ipython3",
   "version": "3.6.6"
  }
 },
 "nbformat": 4,
 "nbformat_minor": 2
}
