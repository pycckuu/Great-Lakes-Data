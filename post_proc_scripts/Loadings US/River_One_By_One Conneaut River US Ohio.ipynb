{
 "cells": [
  {
   "cell_type": "code",
   "execution_count": 1,
   "metadata": {},
   "outputs": [],
   "source": [
    "import hydrofunctions as hf\n",
    "import pandas as pd\n",
    "import numpy as np\n",
    "from zipfile import ZipFile\n",
    "import os\n",
    "import datetime\n",
    "import matplotlib.pyplot as plt\n",
    "import seaborn as sns\n",
    "%matplotlib inline\n",
    "sns.set_style(\"ticks\")"
   ]
  },
  {
   "cell_type": "code",
   "execution_count": 3,
   "metadata": {},
   "outputs": [
    {
     "name": "stderr",
     "output_type": "stream",
     "text": [
      "/Users/imarkelo/anaconda3/lib/python3.6/site-packages/IPython/core/interactiveshell.py:3018: DtypeWarning: Columns (5,7,8,9,10,11,13,14,16,18,19,20,22,23,24,25,30,32,33,35,36,37,39,40,41,42,43,44,47,48,49,50,51,52,53,54,55,56,57,58,59,60,61) have mixed types. Specify dtype option on import or set low_memory=False.\n",
      "  interactivity=interactivity, compiler=compiler, result=result)\n"
     ]
    }
   ],
   "source": [
    "ohio_samples = pd.read_csv(ZipFile('../../measurements/USGS stream data/OHIO samples-2.zip').open(name='result.csv'))\n"
   ]
  },
  {
   "cell_type": "code",
   "execution_count": 16,
   "metadata": {},
   "outputs": [
    {
     "name": "stderr",
     "output_type": "stream",
     "text": [
      "/Users/imarkelo/anaconda3/lib/python3.6/site-packages/IPython/core/interactiveshell.py:3018: DtypeWarning: Columns (5,7,8,9,10,11,13,14,16,18,19,20,22,23,24,25,26,30,32,33,35,36,37,39,40,41,42,43,44,47,48,49,50,51,52,53,54,55,56,57,58,59,60,61) have mixed types. Specify dtype option on import or set low_memory=False.\n",
      "  interactivity=interactivity, compiler=compiler, result=result)\n"
     ]
    }
   ],
   "source": [
    "PENNSYLVANIA_samples = pd.read_csv(ZipFile('../../measurements/USGS stream data/PENNSYLVANIA samples.zip').open(name='result.csv'))\n"
   ]
  },
  {
   "cell_type": "code",
   "execution_count": 24,
   "metadata": {},
   "outputs": [],
   "source": [
    "ohio_samples = pd.concat([PENNSYLVANIA_samples, ohio_samples])"
   ]
  },
  {
   "cell_type": "code",
   "execution_count": 15,
   "metadata": {
    "scrolled": true
   },
   "outputs": [
    {
     "name": "stderr",
     "output_type": "stream",
     "text": [
      "/Users/imarkelo/anaconda3/lib/python3.6/site-packages/IPython/core/interactiveshell.py:3018: DtypeWarning: Columns (5,10) have mixed types. Specify dtype option on import or set low_memory=False.\n",
      "  interactivity=interactivity, compiler=compiler, result=result)\n"
     ]
    }
   ],
   "source": [
    "stations = pd.read_csv(ZipFile('../../measurements/USGS stream data/PENNSYLVANIA stations.zip').open(name='station.csv'))"
   ]
  },
  {
   "cell_type": "code",
   "execution_count": 17,
   "metadata": {},
   "outputs": [],
   "source": [
    "ohio_stations = pd.read_csv('../../measurements/USGS stream data/OHIO station info.csv')"
   ]
  },
  {
   "cell_type": "code",
   "execution_count": 25,
   "metadata": {},
   "outputs": [],
   "source": [
    "stations = pd.concat([stations, ohio_stations])"
   ]
  },
  {
   "cell_type": "code",
   "execution_count": 26,
   "metadata": {},
   "outputs": [],
   "source": [
    "location = (41.928313, -80.593708)"
   ]
  },
  {
   "cell_type": "code",
   "execution_count": 27,
   "metadata": {},
   "outputs": [],
   "source": [
    "r_stations = stations[(stations.LatitudeMeasure>location[0]-0.5) & (stations.LatitudeMeasure<location[0]+0.5) &\n",
    "                     (stations.LongitudeMeasure>location[1]-0.5) & (stations.LongitudeMeasure<location[1]+0.5)]"
   ]
  },
  {
   "cell_type": "code",
   "execution_count": 28,
   "metadata": {},
   "outputs": [
    {
     "name": "stderr",
     "output_type": "stream",
     "text": [
      "/Users/imarkelo/anaconda3/lib/python3.6/site-packages/ipykernel_launcher.py:2: SettingWithCopyWarning: \n",
      "A value is trying to be set on a copy of a slice from a DataFrame.\n",
      "Try using .loc[row_indexer,col_indexer] = value instead\n",
      "\n",
      "See the caveats in the documentation: http://pandas.pydata.org/pandas-docs/stable/indexing.html#indexing-view-versus-copy\n",
      "  \n"
     ]
    },
    {
     "data": {
      "text/plain": [
       "(1847, 63)"
      ]
     },
     "execution_count": 28,
     "metadata": {},
     "output_type": "execute_result"
    }
   ],
   "source": [
    "csv_file_df = ohio_samples[ohio_samples.MonitoringLocationIdentifier.isin(r_stations.MonitoringLocationIdentifier.unique())]\n",
    "csv_file_df['ActivityStartDate'] = pd.to_datetime(csv_file_df['ActivityStartDate'], errors='coerce')\n",
    "# database = csv_file_df.ProviderName.unique()[0]\n",
    "# csv_file_df['']\n",
    "df = pd.DataFrame(columns=['Date', 'MonitoringLocationIdentifier'])\n",
    "df = csv_file_df\n",
    "df = csv_file_df[(csv_file_df['CharacteristicName']==\"Phosphorus\") & (csv_file_df['ResultSampleFractionText']==\"Total\") & (csv_file_df['ActivityStartDate'].dt.year>1995)]\n",
    "df.shape              "
   ]
  },
  {
   "cell_type": "code",
   "execution_count": 29,
   "metadata": {},
   "outputs": [],
   "source": [
    "Show_IDS = [[st, False] for st in df.MonitoringLocationIdentifier.unique()] "
   ]
  },
  {
   "cell_type": "code",
   "execution_count": 108,
   "metadata": {
    "scrolled": false
   },
   "outputs": [
    {
     "name": "stdout",
     "output_type": "stream",
     "text": [
      "USGS-04213000\n",
      "21OHIO_WQX-502870\n",
      "USGS-04212945\n"
     ]
    },
    {
     "data": {
      "text/html": [
       "<div style=\"width:100%;\"><div style=\"position:relative;width:100%;height:0;padding-bottom:60%;\"><iframe src=\"data:text/html;charset=utf-8;base64,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\" style=\"position:absolute;width:100%;height:100%;left:0;top:0;border:none !important;\" allowfullscreen webkitallowfullscreen mozallowfullscreen></iframe></div></div>"
      ],
      "text/plain": [
       "<folium.folium.Map at 0x1a6b14240>"
      ]
     },
     "execution_count": 108,
     "metadata": {},
     "output_type": "execute_result"
    }
   ],
   "source": [
    "import folium\n",
    "# import folium.plugins as plugins\n",
    "from folium.plugins import MiniMap\n",
    "from folium.plugins.beautify_icon import BeautifyIcon\n",
    "from folium.features import DivIcon\n",
    "\n",
    "\n",
    "\n",
    "# m = folium.Map(width=500,height=300, location=location, zoom_start=11.,tiles=\"OpenStreetMap\", attr='Global Water Futures')\n",
    "m = folium.Map(width=700,height=500, \n",
    "                location=location,\n",
    "               control_scale = True,\n",
    "                 zoom_start=11.5,\n",
    "               zoom_control=False,\n",
    "                 tiles='https://tile.thunderforest.com/outdoors/{z}/{x}/{y}.png?apikey=34dad269f6ab438c9534def56b86fa5f',\n",
    "                 API_key='34dad269f6ab438c9534def56b86fa5f',\n",
    "                attr='Global Water Futures')\n",
    "\n",
    "# show all\n",
    "# for index, st_dic in enumerate(Show_IDS):\n",
    "#     st = st_dic[0]\n",
    "#     N = df[df.MonitoringLocationIdentifier==st].shape[0]\n",
    "#     if N>10:\n",
    "#         st_df = stations[stations.MonitoringLocationIdentifier == st]\n",
    "#         folium.Marker(location=[st_df.LatitudeMeasure.values[0], \n",
    "#                                 st_df.LongitudeMeasure.values[0]], \n",
    "#                                   popup=folium.Popup(html=st_df.MonitoringLocationIdentifier.values[0] + '\\n' + 'N:{}'.format(N),\n",
    "#                                 show=False, max_width=10), icon=folium.Icon(icon='arrow-down', color='gray')\n",
    "#                      ).add_to(m)\n",
    "\n",
    "\n",
    "\n",
    "Show_IDS = [\n",
    "[\"USGS-04213000\", False],\n",
    "[\"21OHIO_WQX-502870\", True],\n",
    "[\"USGS-04212945\", True],\n",
    "]\n",
    "\n",
    "\n",
    "\n",
    "for index, st_dic in enumerate(Show_IDS):\n",
    "    st = st_dic[0]\n",
    "    print(st)\n",
    "    if st_dic[1]:\n",
    "        clr='#f44242'\n",
    "    else:\n",
    "        clr='#0b15c4'\n",
    "    st_df = stations[stations.MonitoringLocationIdentifier == st]\n",
    "    folium.CircleMarker(location=[st_df.LatitudeMeasure.values[0], \n",
    "                            st_df.LongitudeMeasure.values[0]], radius=23, \n",
    "                        fill=True, fill_color='white',\n",
    "                            color = clr,fill_opacity=1,\n",
    "                       weight=5).add_to(m)\n",
    "    if not index in [0]:\n",
    "        folium.map.Marker(\n",
    "#         location=[st_df.LatitudeMeasure.values[0]+0.0235,st_df.LongitudeMeasure.values[0]-0.1026], # 10 km\n",
    "#         location=[st_df.LatitudeMeasure.values[0]+0.0135,st_df.LongitudeMeasure.values[0]-0.0526], # 5km\n",
    "        location=[st_df.LatitudeMeasure.values[0]+0.0065,st_df.LongitudeMeasure.values[0]-0.026], # 2km\n",
    "        icon=DivIcon(\n",
    "            icon_size=(150,36),\n",
    "            icon_anchor=(0,0),\n",
    "            html='<div style=\"font-size: 24pt;text-align: center;vertical-align: middle\">{}</div>'.format(index+1),\n",
    "            )\n",
    "        ).add_to(m)\n",
    "\n",
    "\n",
    "m\n",
    "\n",
    "\n",
    "\n",
    "\n",
    "# 21OHIO_WQX-502870 \n",
    "# USGS-04212945 \n"
   ]
  },
  {
   "cell_type": "code",
   "execution_count": 59,
   "metadata": {},
   "outputs": [],
   "source": [
    "selected_stations = [s[0] for s in Show_IDS]\n",
    "# selected_stations = [\n",
    "# \"21OHIO_WQX-200572\",\n",
    "# \"21OHIO_WQX-502520\",\n",
    "# \"21OHIO_WQX-G02S14\",\n",
    "# \"USGS-04212100\",\n",
    "# \"USGS-04211820\",\n",
    "# \"21OHIO_WQX-G02K52\",\n",
    "# \"21OHIO_WQX-G02K54\",\n",
    "# \"21OHIO_WQX-300187\",\n",
    "# \"21OHIO_WQX-G01K08\",\n",
    "# \"21OHIO_WQX-G01K07\"]"
   ]
  },
  {
   "cell_type": "code",
   "execution_count": 60,
   "metadata": {},
   "outputs": [
    {
     "name": "stderr",
     "output_type": "stream",
     "text": [
      "/Users/imarkelo/anaconda3/lib/python3.6/site-packages/ipykernel_launcher.py:5: SettingWithCopyWarning: \n",
      "A value is trying to be set on a copy of a slice from a DataFrame.\n",
      "Try using .loc[row_indexer,col_indexer] = value instead\n",
      "\n",
      "See the caveats in the documentation: http://pandas.pydata.org/pandas-docs/stable/indexing.html#indexing-view-versus-copy\n",
      "  \"\"\"\n",
      "/Users/imarkelo/anaconda3/lib/python3.6/site-packages/ipykernel_launcher.py:10: SettingWithCopyWarning: \n",
      "A value is trying to be set on a copy of a slice from a DataFrame.\n",
      "Try using .loc[row_indexer,col_indexer] = value instead\n",
      "\n",
      "See the caveats in the documentation: http://pandas.pydata.org/pandas-docs/stable/indexing.html#indexing-view-versus-copy\n",
      "  # Remove the CWD from sys.path while we load stuff.\n"
     ]
    },
    {
     "data": {
      "text/plain": [
       "(114, 63)"
      ]
     },
     "execution_count": 60,
     "metadata": {},
     "output_type": "execute_result"
    }
   ],
   "source": [
    "WQP_name = \"Phosphorus\"\n",
    "\n",
    "\n",
    "csv_file_df = ohio_samples[ohio_samples.MonitoringLocationIdentifier.isin(selected_stations)]\n",
    "csv_file_df['ActivityStartDate'] = pd.to_datetime(csv_file_df['ActivityStartDate'], errors='coerce')\n",
    "# database = csv_file_df.ProviderName.unique()[0]\n",
    "df = pd.DataFrame(columns=['Date', 'MonitoringLocationIdentifier'])\n",
    "sp = csv_file_df[(csv_file_df['CharacteristicName']==WQP_name) & (csv_file_df['ResultSampleFractionText']==\"Total\") & (csv_file_df['ActivityStartDate'].dt.year>1995)]\n",
    "# sp = sp[sp.ResultMeasureValue<0.5]\n",
    "sp['ResultMeasureValue'] = pd.to_numeric(sp['ResultMeasureValue'])\n",
    "sp.shape\n",
    "\n"
   ]
  },
  {
   "cell_type": "code",
   "execution_count": 61,
   "metadata": {},
   "outputs": [],
   "source": [
    "# df_heideleberg = pd.read_csv('/Users/imarkelo/git/Great-Lakes-Data/post_proc_scripts/Heidelberg/proc_data/TP_Maumee_River_Data.csv')\n",
    "\n",
    "# df_heideleberg['Date'] =pd.to_datetime(df_heideleberg['Date'], errors='coerce')\n",
    "# df_heideleberg['MonitoringLocationIdentifier'] = 'HTLP (NCWQR)'\n",
    "# df_heideleberg['ActivityStartDate']=df_heideleberg['Date']\n",
    "# df_heideleberg['ResultMeasureValue']=df_heideleberg['TP, mg/L as P']\n",
    "# sp= sp.append(df_heideleberg)\n",
    "# sp=sp.sort_values('MonitoringLocationIdentifier', ascending=False)\n",
    "# sp['Station']=sp['MonitoringLocationIdentifier']\n",
    "# sp.shape\n"
   ]
  },
  {
   "cell_type": "code",
   "execution_count": null,
   "metadata": {},
   "outputs": [],
   "source": []
  },
  {
   "cell_type": "code",
   "execution_count": 62,
   "metadata": {},
   "outputs": [],
   "source": [
    "pt = sns.color_palette(\"colorblind\", len(selected_stations))"
   ]
  },
  {
   "cell_type": "code",
   "execution_count": 63,
   "metadata": {},
   "outputs": [
    {
     "data": {
      "text/plain": [
       "3"
      ]
     },
     "execution_count": 63,
     "metadata": {},
     "output_type": "execute_result"
    }
   ],
   "source": [
    "len(selected_stations)"
   ]
  },
  {
   "cell_type": "code",
   "execution_count": 64,
   "metadata": {},
   "outputs": [
    {
     "data": {
      "text/plain": [
       "array(['mg/l as P', 'mg/l', nan, 'mg/kg'], dtype=object)"
      ]
     },
     "execution_count": 64,
     "metadata": {},
     "output_type": "execute_result"
    }
   ],
   "source": [
    "sp['ResultMeasure/MeasureUnitCode'].unique()"
   ]
  },
  {
   "cell_type": "code",
   "execution_count": 2,
   "metadata": {},
   "outputs": [],
   "source": [
    "river='Conneaut_R'"
   ]
  },
  {
   "cell_type": "code",
   "execution_count": 86,
   "metadata": {},
   "outputs": [],
   "source": [
    "sp.loc[sp[\"ResultMeasureValue\"]>100, \"ResultMeasureValue\"] = sp[\"ResultMeasureValue\"]/1000"
   ]
  },
  {
   "cell_type": "code",
   "execution_count": 87,
   "metadata": {},
   "outputs": [
    {
     "data": {
      "image/png": "[encoded data removed]",
      "text/plain": [
       "<Figure size 432x288 with 1 Axes>"
      ]
     },
     "metadata": {},
     "output_type": "display_data"
    }
   ],
   "source": [
    "## fig,ax=plt.subplots(1,1,figsize=(6,4), dpi=100)\n",
    "colors = [\"windows blue\", \"greyish\", \"faded green\", \"dusty purple\", \"amber\"]\n",
    "ax = sns.scatterplot(x='ActivityStartDate', y='ResultMeasureValue', data=sp, hue_order=selected_stations, hue='MonitoringLocationIdentifier', palette=pt, markers=True)\n",
    "leg = [\"({}) - {}\".format(i+1,st) for i, st in enumerate(selected_stations)]\n",
    "\n",
    "leg_handles = ax.get_legend_handles_labels()[0]\n",
    "ax.legend(leg_handles[1:], leg, title='Stations', fontsize='x-small', loc=2)\n",
    "\n",
    "# ax.legend(['(1) - HTLP (NCWQR)'], title='Stations', fontsize='x-small', loc=2)\n",
    "\n",
    "plt.ylim(0,0.2)\n",
    "plt.xlim(datetime.datetime(1996,1,1), datetime.datetime(2018,1,1))\n",
    "plt.grid(alpha=0.5)\n",
    "plt.ylabel(\"Total Phosphorus as P, mg/L\")\n",
    "plt.xlabel(\"\")\n",
    "plt.tight_layout()\n",
    "plt.savefig('One_by_one/Western/US/'+river+'/'+river+'_TP.pdf')\n",
    "plt.savefig('/Users/imarkelo/Google Drive/GDocuments/Lake Erie/Draft/Rivers_tables/img/Western/US/'+river+'/'+river+'_TP.pdf')\n",
    "\n"
   ]
  },
  {
   "cell_type": "code",
   "execution_count": 88,
   "metadata": {},
   "outputs": [
    {
     "name": "stdout",
     "output_type": "stream",
     "text": [
      "\\begin{tabular}{lrrrrrrrr}\n",
      "\\toprule\n",
      "{} &  count &  mean &   std &   min &   25\\% &   50\\% &   75\\% &   max \\\\\n",
      "MonitoringLocationIdentifier &        &       &       &       &       &       &       &       \\\\\n",
      "\\midrule\n",
      "21OHIO\\_WQX-502870            &   16.0 &  0.07 &  0.13 &  0.01 &  0.01 &  0.02 &  0.04 &  0.51 \\\\\n",
      "USGS-04212945                &   87.0 &  0.05 &  0.04 &  0.02 &  0.03 &  0.03 &  0.05 &  0.25 \\\\\n",
      "USGS-04213000                &    NaN &   NaN &   NaN &   NaN &   NaN &   NaN &   NaN &   NaN \\\\\n",
      "\\bottomrule\n",
      "\\end{tabular}\n",
      "\n"
     ]
    }
   ],
   "source": [
    "print(sp.groupby('MonitoringLocationIdentifier')[\"ResultMeasureValue\"].describe().reindex(selected_stations).round(2).to_latex())\n"
   ]
  },
  {
   "cell_type": "code",
   "execution_count": 89,
   "metadata": {},
   "outputs": [
    {
     "data": {
      "text/plain": [
       "['21OHIO_WQX-502870', 'USGS-04212945', 'USGS-04213000']"
      ]
     },
     "execution_count": 89,
     "metadata": {},
     "output_type": "execute_result"
    }
   ],
   "source": [
    "selected_stations"
   ]
  },
  {
   "cell_type": "code",
   "execution_count": 90,
   "metadata": {},
   "outputs": [
    {
     "data": {
      "text/plain": [
       "(114, 63)"
      ]
     },
     "execution_count": 90,
     "metadata": {},
     "output_type": "execute_result"
    }
   ],
   "source": [
    "master_stations = [st[0] for st in Show_IDS if st[1]]\n",
    "master_stations = selected_stations\n",
    "master_st_df = sp[sp.MonitoringLocationIdentifier.isin(master_stations)]\n",
    "master_st_df['USGSPCode'] = 0\n",
    "master_st_df.shape"
   ]
  },
  {
   "cell_type": "code",
   "execution_count": 91,
   "metadata": {},
   "outputs": [
    {
     "data": {
      "text/plain": [
       "(106, 6)"
      ]
     },
     "execution_count": 91,
     "metadata": {},
     "output_type": "execute_result"
    }
   ],
   "source": [
    "master_st_df.groupby('ActivityStartDate').mean().shape"
   ]
  },
  {
   "cell_type": "code",
   "execution_count": 92,
   "metadata": {},
   "outputs": [],
   "source": [
    "master_st_df[master_st_df.MonitoringLocationIdentifier.isin(master_stations)][[\n",
    "    'ActivityStartDate','USGSPCode', 'ResultMeasureValue']].groupby('ActivityStartDate').mean().reset_index().sort_values('ActivityStartDate').to_csv(\n",
    "    'One_by_one/Western/US/'+river+'/TP_'+river+'iver_data.csv', index=False)"
   ]
  },
  {
   "cell_type": "markdown",
   "metadata": {},
   "source": [
    "### Discharge"
   ]
  },
  {
   "cell_type": "code",
   "execution_count": 74,
   "metadata": {},
   "outputs": [],
   "source": [
    "# Finde station here:\n",
    "# https://www.hydrocloud.org\n",
    "site = '04213000'\n",
    "start = '1996-01-01'\n",
    "end = '2018-11-01'\n",
    "response = hf.get_nwis(site, 'dv',start, end)\n",
    "# response.get_data()\n",
    "discharge = hf.extract_nwis_df(response.json())"
   ]
  },
  {
   "cell_type": "code",
   "execution_count": 75,
   "metadata": {},
   "outputs": [
    {
     "data": {
      "text/plain": [
       "Index(['USGS:04213000:00060:00003', 'USGS:04213000:00060:00003_qualifiers'], dtype='object')"
      ]
     },
     "execution_count": 75,
     "metadata": {},
     "output_type": "execute_result"
    }
   ],
   "source": [
    "discharge.columns"
   ]
  },
  {
   "cell_type": "code",
   "execution_count": 76,
   "metadata": {},
   "outputs": [],
   "source": [
    "discharge['Flow, CFS']=discharge['USGS:'+site+':00060:00003']"
   ]
  },
  {
   "cell_type": "code",
   "execution_count": 77,
   "metadata": {},
   "outputs": [],
   "source": [
    "discharge= discharge.reset_index()\n",
    "discharge['Date']  = discharge['datetime']\n",
    "discharge['Date'] =pd.to_datetime(discharge['Date'], errors='coerce')\n",
    "discharge = discharge[['Date', 'Flow, CFS']]\n",
    "discharge['Source'] = 'USGS-'+site"
   ]
  },
  {
   "cell_type": "code",
   "execution_count": 78,
   "metadata": {},
   "outputs": [],
   "source": [
    "discharge[discharge.Source=='USGS-'+site][['Date', 'Flow, CFS']].dropna().to_csv('One_by_one/Western/US/'+river+'/Flow_'+river+'_CFS.csv', index=False)\n"
   ]
  },
  {
   "cell_type": "code",
   "execution_count": 79,
   "metadata": {},
   "outputs": [],
   "source": [
    "# df_Q_heideleberg = pd.read_csv('/Users/imarkelo/git/Great-Lakes-Data/post_proc_scripts/Heidelberg/proc_data/Flow_Maumee_River_Data.csv')\n",
    "# df_Q_heideleberg['Date'] =pd.to_datetime(df_Q_heideleberg['Date'], errors='coerce')\n",
    "# df_Q_heideleberg['Source'] = 'HTLP (NCWQR)'\n",
    "# df_Q_heideleberg['Discharge, cms'] = 0.028*df_Q_heideleberg['Flow, CFS']\n"
   ]
  },
  {
   "cell_type": "code",
   "execution_count": 80,
   "metadata": {},
   "outputs": [],
   "source": [
    "# discharge = discharge.append(df_Q_heideleberg)"
   ]
  },
  {
   "cell_type": "code",
   "execution_count": 81,
   "metadata": {},
   "outputs": [],
   "source": [
    "discharge['Discharge, cms'] = 0.028*discharge['Flow, CFS']"
   ]
  },
  {
   "cell_type": "code",
   "execution_count": 82,
   "metadata": {},
   "outputs": [
    {
     "data": {
      "text/plain": [
       "'Conneaut_R'"
      ]
     },
     "execution_count": 82,
     "metadata": {},
     "output_type": "execute_result"
    }
   ],
   "source": [
    "river"
   ]
  },
  {
   "cell_type": "code",
   "execution_count": 84,
   "metadata": {},
   "outputs": [
    {
     "data": {
      "image/png": "[encoded data removed]",
      "text/plain": [
       "<Figure size 600x400 with 1 Axes>"
      ]
     },
     "metadata": {},
     "output_type": "display_data"
    }
   ],
   "source": [
    "fig,ax=plt.subplots(1,1,figsize=(6,4), dpi=100)\n",
    "ax=sns.lineplot(x='Date', y='Discharge, cms', data=discharge, hue='Source',ax=ax)\n",
    "\n",
    "from mpl_toolkits.axes_grid1.inset_locator import zoomed_inset_axes\n",
    "\n",
    "\n",
    "ax.legend(['(3) - USGS-'+site], loc=2, fontsize='small')\n",
    "ax.set_ylim(0,300)\n",
    "ax.set_xlim(datetime.datetime(1996,1,1), datetime.datetime(2018,1,1))\n",
    "ax.grid(alpha=0.5)\n",
    "ax.set_ylabel(\"Discharge, m$^3$/s\")\n",
    "ax.set_xlabel(\"Year\")\n",
    "\n",
    "# axins = zoomed_inset_axes(ax, 8, loc='upper center')\n",
    "# sns.lineplot(x='Date', y='Discharge, cms', data=discharge, hue='Source', ax=axins,zorder=10)\n",
    "# axins.set_xlim(datetime.datetime(2010,4,1), datetime.datetime(2010,6,1)) # apply the x-limits\n",
    "# axins.set_ylim(0, 10) # apply the y-limits\n",
    "# plt.yticks(visible=False)\n",
    "# plt.xticks(visible=False)\n",
    "# from mpl_toolkits.axes_grid1.inset_locator import mark_inset\n",
    "# mark_inset(ax, axins, loc1=2, loc2=4, fc=\"none\", ec=\"0.5\")\n",
    "\n",
    "plt.savefig('One_by_one/Western/US/'+river+'/'+river+'_Q.pdf')\n",
    "plt.savefig('/Users/imarkelo/Google Drive/GDocuments/Lake Erie/Draft/Rivers_tables/img/Western/US/'+river+'/'+river+'_Q.pdf')"
   ]
  },
  {
   "cell_type": "code",
   "execution_count": 85,
   "metadata": {},
   "outputs": [],
   "source": [
    "discharge[['Date', 'Flow, CFS']].to_csv('One_by_one/Western/US/'+river+'/Flow_'+river+'_CFS.csv', index=False)"
   ]
  },
  {
   "cell_type": "markdown",
   "metadata": {},
   "source": [
    "### EGRET Results"
   ]
  },
  {
   "cell_type": "code",
   "execution_count": 3,
   "metadata": {},
   "outputs": [
    {
     "data": {
      "text/plain": [
       "'Conneaut_R'"
      ]
     },
     "execution_count": 3,
     "metadata": {},
     "output_type": "execute_result"
    }
   ],
   "source": [
    "river"
   ]
  },
  {
   "cell_type": "code",
   "execution_count": 4,
   "metadata": {},
   "outputs": [],
   "source": [
    "\n",
    "EGRET_Daily = pd.read_csv('/Users/imarkelo/git/Great-Lakes-Data/post_proc_scripts/Loadings US/One_by_one/Western/US/'+river+'/EGRET Result/TP/'+river+'iver_TP_Daily.csv')\n",
    "EGRET_Sample = pd.read_csv('/Users/imarkelo/git/Great-Lakes-Data/post_proc_scripts/Loadings US/One_by_one/Western/US/'+river+'/EGRET Result/TP/'+river+'iver_TP_Sample.csv')\n"
   ]
  },
  {
   "cell_type": "code",
   "execution_count": 5,
   "metadata": {},
   "outputs": [],
   "source": [
    "EGRET_Sample['Fx_Hat'] = EGRET_Sample['Q']*60*60*24*1000 * EGRET_Sample['ConcHat']/1000/1000\n",
    "EGRET_Sample['Fx_C'] = EGRET_Sample['Q']*60*60*24*1000 * EGRET_Sample['ConcAve']/1000/1000\n"
   ]
  },
  {
   "cell_type": "code",
   "execution_count": 6,
   "metadata": {},
   "outputs": [
    {
     "name": "stderr",
     "output_type": "stream",
     "text": [
      "/Users/imarkelo/anaconda3/lib/python3.6/site-packages/matplotlib/axes/_base.py:3129: UserWarning: Attempted to set non-positive xlimits for log-scale axis; invalid limits will be ignored.\n",
      "  'Attempted to set non-positive xlimits for log-scale axis; '\n",
      "/Users/imarkelo/anaconda3/lib/python3.6/site-packages/matplotlib/axes/_base.py:3449: UserWarning: Attempted to set non-positive ylimits for log-scale axis; invalid limits will be ignored.\n",
      "  'Attempted to set non-positive ylimits for log-scale axis; '\n"
     ]
    },
    {
     "data": {
      "image/png": "[encoded data removed]",
      "text/plain": [
       "<Figure size 600x400 with 1 Axes>"
      ]
     },
     "metadata": {},
     "output_type": "display_data"
    }
   ],
   "source": [
    "fig,ax=plt.subplots(1,1,figsize=(6,4), dpi=100)\n",
    "sns.scatterplot(y='Fx_C', \n",
    "                x='Fx_Hat',\n",
    "                data=EGRET_Sample,\n",
    "                s=15,\n",
    "                linewidth=0.3, ax=ax,\n",
    "               color=sns.color_palette(\"Blues\")[4])\n",
    "# plt.legend(\"\")\n",
    "ax.set_xscale('log')\n",
    "ax.set_yscale('log')\n",
    "plt.plot([-100,1000000],[-100,1000000], 'k', lw=0.5)\n",
    "plt.xlim(0,1000)\n",
    "plt.ylim(0,1000)\n",
    "# plt.xlim(datetime.datetime(1996,1,1), datetime.datetime(2018,1,1))\n",
    "plt.grid(alpha=0.5)\n",
    "plt.xlabel(\"Estimated Phosphorus Loads, kg/day\")\n",
    "plt.ylabel(\"Observed Phosphorus Loads, kg/day\")\n",
    "# plt.xlabel(\"\")\n",
    "plt.tight_layout()\n",
    "plt.savefig('/Users/imarkelo/Google Drive/GDocuments/Lake Erie/Draft/Rivers_tables/img/Western/US/'+river+'/'+river+'_FvsF.pdf')\n"
   ]
  },
  {
   "cell_type": "code",
   "execution_count": 7,
   "metadata": {},
   "outputs": [],
   "source": [
    "EGRET_Daily['FluxYearMTA'] = EGRET_Daily['FluxDay']*365/1000\n",
    "EGRET_Daily['Fx_SE'] = (np.exp(EGRET_Daily['SE']+EGRET_Daily['yHat']) * EGRET_Daily['Q']*60*60*24*1000/1000/1000/1000-np.exp(EGRET_Daily['yHat']) * EGRET_Daily['Q']*60*60*24*1000/1000/1000/1000)*365\n",
    "EGRET_Daily_an = EGRET_Daily.groupby('waterYear').mean().reset_index()\n"
   ]
  },
  {
   "cell_type": "code",
   "execution_count": 9,
   "metadata": {},
   "outputs": [
    {
     "data": {
      "image/png": "[encoded data removed]",
      "text/plain": [
       "<Figure size 600x400 with 1 Axes>"
      ]
     },
     "metadata": {},
     "output_type": "display_data"
    }
   ],
   "source": [
    "fig,ax=plt.subplots(1,1,figsize=(6,4), dpi=100)\n",
    "\n",
    "# sns.boxplot(EGRET_Daily['waterYear'], EGRET_Daily['ConcDay'], color=sns.color_palette()[0])\n",
    "\n",
    "# plt.fill_between(EGRET_Daily_an['waterYear'][5:-1],\n",
    "#                  np.exp(EGRET_Daily_an['yHat'][5:-1]-EGRET_Daily_an['SE'][5:-1]),\n",
    "#                  np.exp(EGRET_Daily_an['yHat'][5:-1]+EGRET_Daily_an['SE'][5:-1]), \n",
    "#                  color=sns.color_palette()[0], alpha=0.15)\n",
    "# plt.plot(EGRET_Daily_an['waterYear'][5:-1], EGRET_Daily_an['FluxYearMTA'][5:-1])\n",
    "\n",
    "# sns.scatterplot(x=\"waterYear\", y=\"FluxYearMTA\",\n",
    "#                 sizes=(1, 8), linewidth=0.3,\n",
    "#                 data=EGRET_Daily_an, ax=ax)\n",
    "\n",
    "meanpointprops = dict(marker='.', markeredgecolor='black', markersize=6,markerfacecolor='black')\n",
    "ax = sns.boxplot(showmeans=True, linewidth=0.5, meanprops=meanpointprops, x=\"waterYear\", y=\"ConcDay\", data=EGRET_Daily, showfliers=False, color=sns.color_palette(\"Blues\")[2])\n",
    "# ax.set_yscale('log')\n",
    "# plt.legend(\"\")\n",
    "# plt.plot([-100,100],[-100,100], 'k', lw=0.5)\n",
    "# plt.xlim(2003,2018)\n",
    "plt.xlim(6.5, 21.5)\n",
    "plt.xticks([int(x) for x in np.linspace(7,21,8)], [int(x) for x in np.linspace(2003,2017, 8)])\n",
    "plt.ylim(0,0.2)\n",
    "\n",
    "plt.grid(alpha=0.5)\n",
    "plt.ylabel(\"Total Phosphorus Concentration, mg/l\")\n",
    "plt.xlabel(\"\")\n",
    "# plt.savefig('One_by_one/Western/US/Portage R/Portage Q.pdf')\n",
    "plt.savefig('/Users/imarkelo/Google Drive/GDocuments/Lake Erie/Draft/Rivers_tables/img/Western/US/'+river+'/'+river+'_PC.pdf')\n",
    "\n",
    "\n"
   ]
  },
  {
   "cell_type": "code",
   "execution_count": 10,
   "metadata": {},
   "outputs": [],
   "source": [
    "EGRET_Daily_an['Fx_AE'] = (abs(EGRET_Sample['Fx_Hat'] - EGRET_Sample['Fx_C'])/EGRET_Sample['Fx_C']).mean()*EGRET_Daily_an['FluxYearMTA']\n",
    "\n",
    "\n"
   ]
  },
  {
   "cell_type": "code",
   "execution_count": 11,
   "metadata": {},
   "outputs": [
    {
     "data": {
      "image/png": "[encoded data removed]",
      "text/plain": [
       "<Figure size 600x400 with 1 Axes>"
      ]
     },
     "metadata": {},
     "output_type": "display_data"
    }
   ],
   "source": [
    "fig,ax=plt.subplots(1,1,figsize=(6,4), dpi=100)\n",
    "\n",
    "plt.plot(EGRET_Daily_an['waterYear'], EGRET_Daily_an['FluxYearMTA'], c=sns.color_palette()[0])\n",
    "\n",
    "plt.fill_between(EGRET_Daily_an['waterYear'],\n",
    "                 EGRET_Daily_an['FluxYearMTA']-EGRET_Daily_an['Fx_SE'],\n",
    "                 EGRET_Daily_an['FluxYearMTA']+EGRET_Daily_an['Fx_SE'], \n",
    "                 color=sns.color_palette()[0], alpha=0.15)\n",
    "# plt.plot(EGRET_Daily_an['waterYear'][5:-1], EGRET_Daily_an['FluxYearMTA'][5:-1])\n",
    "\n",
    "# sns.scatterplot(x=\"waterYear\", y=\"FluxYearMTA\",\n",
    "#                 sizes=(1, 8), linewidth=0.3,\n",
    "#                 data=EGRET_Daily_an, ax=ax)\n",
    "\n",
    "# meanpointprops = dict(marker='D', markeredgecolor='black', markersize=1,markerfacecolor=sns.color_palette()[3])\n",
    "# ax = sns.boxplot(linewidth=0.5, meanprops=meanpointprops, x=\"waterYear\", y=\"FluxYearMTA\", data=EGRET_Daily, showfliers=False, color=sns.color_palette(\"Blues\")[2])\n",
    "# ax.set_yscale('log')\n",
    "# plt.legend(\"\")\n",
    "# plt.plot([-100,100],[-100,100], 'k', lw=0.5)\n",
    "plt.xlim(2003,2017)\n",
    "# plt.xticks([int(x) for x in np.linspace(5,19,8)], [int(x) for x in np.linspace(2003,2017, 8)])\n",
    "plt.ylim(0,100)\n",
    "# plt.xlim(datetime.datetime(1996,1,1), datetime.datetime(2018,1,1))\n",
    "plt.grid(alpha=0.5)\n",
    "plt.ylabel(\"Phosphorus Loads, MTA\")\n",
    "plt.xlabel(\"\")\n",
    "# plt.savefig('One_by_one/Western/US/Portage R/Portage Q.pdf')\n",
    "plt.savefig('/Users/imarkelo/Google Drive/GDocuments/Lake Erie/Draft/Rivers_tables/img/Western/US/'+river+'/'+river+'_PFlux.pdf')\n"
   ]
  },
  {
   "cell_type": "code",
   "execution_count": 107,
   "metadata": {},
   "outputs": [
    {
     "name": "stdout",
     "output_type": "stream",
     "text": [
      "\\begin{tabular}{rrrrrrrrrrrrrrrr}\n",
      "\\toprule\n",
      "     7  &      8  &      9  &      10 &      11 &      12 &      13 &      14 &      15 &      16 &      17 &      18 &      19 &      20 &      21 &      22 \\\\\n",
      "\\midrule\n",
      " 2003.0 &  2004.0 &  2005.0 &  2006.0 &  2007.0 &  2008.0 &  2009.0 &  2010.0 &  2011.0 &  2012.0 &  2013.0 &  2014.0 &  2015.0 &  2016.0 &  2017.0 &  2018.0 \\\\\n",
      "   34.2 &    56.3 &    29.5 &    26.8 &    28.1 &    24.0 &    15.3 &    13.0 &    23.2 &    17.1 &    25.3 &    27.1 &    16.0 &    11.5 &    25.1 &    24.2 \\\\\n",
      "   11.8 &    18.3 &    10.9 &    10.3 &    10.1 &     8.8 &     5.2 &     4.5 &     7.8 &     6.1 &     9.2 &     9.6 &     6.0 &     4.0 &     8.1 &     7.8 \\\\\n",
      "\\bottomrule\n",
      "\\end{tabular}\n",
      "\n"
     ]
    }
   ],
   "source": [
    "print(EGRET_Daily_an[(EGRET_Daily_an.waterYear<2019) & (EGRET_Daily_an.waterYear>2002)][['waterYear', 'FluxYearMTA','Fx_SE']].round(1).T.to_latex(index=False))"
   ]
  },
  {
   "cell_type": "code",
   "execution_count": 130,
   "metadata": {},
   "outputs": [
    {
     "data": {
      "text/html": [
       "<div>\n",
       "<style scoped>\n",
       "    .dataframe tbody tr th:only-of-type {\n",
       "        vertical-align: middle;\n",
       "    }\n",
       "\n",
       "    .dataframe tbody tr th {\n",
       "        vertical-align: top;\n",
       "    }\n",
       "\n",
       "    .dataframe thead th {\n",
       "        text-align: right;\n",
       "    }\n",
       "</style>\n",
       "<table border=\"1\" class=\"dataframe\">\n",
       "  <thead>\n",
       "    <tr style=\"text-align: right;\">\n",
       "      <th></th>\n",
       "      <th>count</th>\n",
       "      <th>mean</th>\n",
       "      <th>std</th>\n",
       "      <th>min</th>\n",
       "      <th>25%</th>\n",
       "      <th>50%</th>\n",
       "      <th>75%</th>\n",
       "      <th>max</th>\n",
       "    </tr>\n",
       "    <tr>\n",
       "      <th>waterYear</th>\n",
       "      <th></th>\n",
       "      <th></th>\n",
       "      <th></th>\n",
       "      <th></th>\n",
       "      <th></th>\n",
       "      <th></th>\n",
       "      <th></th>\n",
       "      <th></th>\n",
       "    </tr>\n",
       "  </thead>\n",
       "  <tbody>\n",
       "    <tr>\n",
       "      <th>1996</th>\n",
       "      <td>274.0</td>\n",
       "      <td>56.202180</td>\n",
       "      <td>156.309137</td>\n",
       "      <td>2.018048</td>\n",
       "      <td>4.745321</td>\n",
       "      <td>9.861126</td>\n",
       "      <td>19.916032</td>\n",
       "      <td>1375.774173</td>\n",
       "    </tr>\n",
       "    <tr>\n",
       "      <th>1997</th>\n",
       "      <td>365.0</td>\n",
       "      <td>66.652752</td>\n",
       "      <td>260.481901</td>\n",
       "      <td>3.065577</td>\n",
       "      <td>7.924119</td>\n",
       "      <td>12.403002</td>\n",
       "      <td>29.314971</td>\n",
       "      <td>3907.647054</td>\n",
       "    </tr>\n",
       "    <tr>\n",
       "      <th>1998</th>\n",
       "      <td>365.0</td>\n",
       "      <td>40.582941</td>\n",
       "      <td>143.640895</td>\n",
       "      <td>1.576893</td>\n",
       "      <td>5.776358</td>\n",
       "      <td>8.728661</td>\n",
       "      <td>14.282882</td>\n",
       "      <td>1407.439339</td>\n",
       "    </tr>\n",
       "    <tr>\n",
       "      <th>1999</th>\n",
       "      <td>365.0</td>\n",
       "      <td>16.375026</td>\n",
       "      <td>49.985761</td>\n",
       "      <td>1.535731</td>\n",
       "      <td>4.582200</td>\n",
       "      <td>6.133020</td>\n",
       "      <td>9.110220</td>\n",
       "      <td>646.139785</td>\n",
       "    </tr>\n",
       "    <tr>\n",
       "      <th>2000</th>\n",
       "      <td>366.0</td>\n",
       "      <td>40.302023</td>\n",
       "      <td>137.718176</td>\n",
       "      <td>2.567825</td>\n",
       "      <td>5.923894</td>\n",
       "      <td>9.117801</td>\n",
       "      <td>17.198031</td>\n",
       "      <td>1542.137484</td>\n",
       "    </tr>\n",
       "    <tr>\n",
       "      <th>2001</th>\n",
       "      <td>365.0</td>\n",
       "      <td>18.259942</td>\n",
       "      <td>58.037094</td>\n",
       "      <td>1.092381</td>\n",
       "      <td>4.811166</td>\n",
       "      <td>7.186089</td>\n",
       "      <td>12.064499</td>\n",
       "      <td>796.090200</td>\n",
       "    </tr>\n",
       "    <tr>\n",
       "      <th>2002</th>\n",
       "      <td>365.0</td>\n",
       "      <td>35.868351</td>\n",
       "      <td>119.488651</td>\n",
       "      <td>1.344890</td>\n",
       "      <td>4.380354</td>\n",
       "      <td>8.750346</td>\n",
       "      <td>16.915829</td>\n",
       "      <td>1453.099738</td>\n",
       "    </tr>\n",
       "    <tr>\n",
       "      <th>2003</th>\n",
       "      <td>365.0</td>\n",
       "      <td>58.363206</td>\n",
       "      <td>158.398587</td>\n",
       "      <td>1.367880</td>\n",
       "      <td>6.236612</td>\n",
       "      <td>11.116187</td>\n",
       "      <td>31.410211</td>\n",
       "      <td>1268.749134</td>\n",
       "    </tr>\n",
       "    <tr>\n",
       "      <th>2004</th>\n",
       "      <td>366.0</td>\n",
       "      <td>126.661544</td>\n",
       "      <td>463.323378</td>\n",
       "      <td>2.749877</td>\n",
       "      <td>9.069406</td>\n",
       "      <td>17.136500</td>\n",
       "      <td>63.448328</td>\n",
       "      <td>7228.561982</td>\n",
       "    </tr>\n",
       "    <tr>\n",
       "      <th>2005</th>\n",
       "      <td>365.0</td>\n",
       "      <td>105.049437</td>\n",
       "      <td>310.457769</td>\n",
       "      <td>2.332964</td>\n",
       "      <td>6.702279</td>\n",
       "      <td>13.892943</td>\n",
       "      <td>42.378559</td>\n",
       "      <td>2536.948816</td>\n",
       "    </tr>\n",
       "    <tr>\n",
       "      <th>2006</th>\n",
       "      <td>365.0</td>\n",
       "      <td>87.204159</td>\n",
       "      <td>429.238868</td>\n",
       "      <td>2.059648</td>\n",
       "      <td>6.882356</td>\n",
       "      <td>11.243473</td>\n",
       "      <td>28.976244</td>\n",
       "      <td>6513.636466</td>\n",
       "    </tr>\n",
       "    <tr>\n",
       "      <th>2007</th>\n",
       "      <td>365.0</td>\n",
       "      <td>128.677071</td>\n",
       "      <td>437.136329</td>\n",
       "      <td>1.485870</td>\n",
       "      <td>5.336758</td>\n",
       "      <td>11.827081</td>\n",
       "      <td>37.545116</td>\n",
       "      <td>3266.950671</td>\n",
       "    </tr>\n",
       "    <tr>\n",
       "      <th>2008</th>\n",
       "      <td>366.0</td>\n",
       "      <td>174.223833</td>\n",
       "      <td>521.923812</td>\n",
       "      <td>1.379400</td>\n",
       "      <td>4.937758</td>\n",
       "      <td>18.823423</td>\n",
       "      <td>82.185741</td>\n",
       "      <td>5397.617439</td>\n",
       "    </tr>\n",
       "    <tr>\n",
       "      <th>2009</th>\n",
       "      <td>365.0</td>\n",
       "      <td>88.638955</td>\n",
       "      <td>379.810271</td>\n",
       "      <td>1.105618</td>\n",
       "      <td>4.606984</td>\n",
       "      <td>11.215790</td>\n",
       "      <td>26.736893</td>\n",
       "      <td>5342.415881</td>\n",
       "    </tr>\n",
       "    <tr>\n",
       "      <th>2010</th>\n",
       "      <td>365.0</td>\n",
       "      <td>53.816716</td>\n",
       "      <td>174.426414</td>\n",
       "      <td>0.582166</td>\n",
       "      <td>5.038807</td>\n",
       "      <td>10.551348</td>\n",
       "      <td>34.375107</td>\n",
       "      <td>1970.030617</td>\n",
       "    </tr>\n",
       "    <tr>\n",
       "      <th>2011</th>\n",
       "      <td>365.0</td>\n",
       "      <td>216.606985</td>\n",
       "      <td>708.598746</td>\n",
       "      <td>0.894216</td>\n",
       "      <td>5.264887</td>\n",
       "      <td>12.315880</td>\n",
       "      <td>85.639357</td>\n",
       "      <td>8357.844970</td>\n",
       "    </tr>\n",
       "    <tr>\n",
       "      <th>2012</th>\n",
       "      <td>366.0</td>\n",
       "      <td>145.332492</td>\n",
       "      <td>414.656534</td>\n",
       "      <td>0.752104</td>\n",
       "      <td>3.479342</td>\n",
       "      <td>14.981912</td>\n",
       "      <td>59.916697</td>\n",
       "      <td>3509.119568</td>\n",
       "    </tr>\n",
       "    <tr>\n",
       "      <th>2013</th>\n",
       "      <td>365.0</td>\n",
       "      <td>181.564748</td>\n",
       "      <td>684.877632</td>\n",
       "      <td>1.390651</td>\n",
       "      <td>6.780521</td>\n",
       "      <td>19.913554</td>\n",
       "      <td>57.671306</td>\n",
       "      <td>7153.869201</td>\n",
       "    </tr>\n",
       "    <tr>\n",
       "      <th>2014</th>\n",
       "      <td>365.0</td>\n",
       "      <td>213.309055</td>\n",
       "      <td>766.385226</td>\n",
       "      <td>1.140594</td>\n",
       "      <td>7.439205</td>\n",
       "      <td>18.910072</td>\n",
       "      <td>57.137141</td>\n",
       "      <td>7728.108638</td>\n",
       "    </tr>\n",
       "    <tr>\n",
       "      <th>2015</th>\n",
       "      <td>365.0</td>\n",
       "      <td>127.251111</td>\n",
       "      <td>536.137303</td>\n",
       "      <td>0.534319</td>\n",
       "      <td>4.294518</td>\n",
       "      <td>10.049078</td>\n",
       "      <td>31.374345</td>\n",
       "      <td>6472.188157</td>\n",
       "    </tr>\n",
       "    <tr>\n",
       "      <th>2016</th>\n",
       "      <td>366.0</td>\n",
       "      <td>87.699474</td>\n",
       "      <td>291.547834</td>\n",
       "      <td>0.408936</td>\n",
       "      <td>1.526531</td>\n",
       "      <td>4.894481</td>\n",
       "      <td>26.021334</td>\n",
       "      <td>2962.775065</td>\n",
       "    </tr>\n",
       "    <tr>\n",
       "      <th>2017</th>\n",
       "      <td>365.0</td>\n",
       "      <td>121.139510</td>\n",
       "      <td>385.735443</td>\n",
       "      <td>0.326669</td>\n",
       "      <td>1.515116</td>\n",
       "      <td>9.240436</td>\n",
       "      <td>42.729916</td>\n",
       "      <td>3546.271420</td>\n",
       "    </tr>\n",
       "    <tr>\n",
       "      <th>2018</th>\n",
       "      <td>365.0</td>\n",
       "      <td>210.504540</td>\n",
       "      <td>671.078365</td>\n",
       "      <td>0.303933</td>\n",
       "      <td>4.750544</td>\n",
       "      <td>15.054598</td>\n",
       "      <td>49.531597</td>\n",
       "      <td>5530.412001</td>\n",
       "    </tr>\n",
       "    <tr>\n",
       "      <th>2019</th>\n",
       "      <td>32.0</td>\n",
       "      <td>161.748061</td>\n",
       "      <td>381.244605</td>\n",
       "      <td>2.141943</td>\n",
       "      <td>3.261576</td>\n",
       "      <td>6.927781</td>\n",
       "      <td>55.016368</td>\n",
       "      <td>1581.903990</td>\n",
       "    </tr>\n",
       "  </tbody>\n",
       "</table>\n",
       "</div>"
      ],
      "text/plain": [
       "           count        mean         std       min       25%        50%  \\\n",
       "waterYear                                                                 \n",
       "1996       274.0   56.202180  156.309137  2.018048  4.745321   9.861126   \n",
       "1997       365.0   66.652752  260.481901  3.065577  7.924119  12.403002   \n",
       "1998       365.0   40.582941  143.640895  1.576893  5.776358   8.728661   \n",
       "1999       365.0   16.375026   49.985761  1.535731  4.582200   6.133020   \n",
       "2000       366.0   40.302023  137.718176  2.567825  5.923894   9.117801   \n",
       "2001       365.0   18.259942   58.037094  1.092381  4.811166   7.186089   \n",
       "2002       365.0   35.868351  119.488651  1.344890  4.380354   8.750346   \n",
       "2003       365.0   58.363206  158.398587  1.367880  6.236612  11.116187   \n",
       "2004       366.0  126.661544  463.323378  2.749877  9.069406  17.136500   \n",
       "2005       365.0  105.049437  310.457769  2.332964  6.702279  13.892943   \n",
       "2006       365.0   87.204159  429.238868  2.059648  6.882356  11.243473   \n",
       "2007       365.0  128.677071  437.136329  1.485870  5.336758  11.827081   \n",
       "2008       366.0  174.223833  521.923812  1.379400  4.937758  18.823423   \n",
       "2009       365.0   88.638955  379.810271  1.105618  4.606984  11.215790   \n",
       "2010       365.0   53.816716  174.426414  0.582166  5.038807  10.551348   \n",
       "2011       365.0  216.606985  708.598746  0.894216  5.264887  12.315880   \n",
       "2012       366.0  145.332492  414.656534  0.752104  3.479342  14.981912   \n",
       "2013       365.0  181.564748  684.877632  1.390651  6.780521  19.913554   \n",
       "2014       365.0  213.309055  766.385226  1.140594  7.439205  18.910072   \n",
       "2015       365.0  127.251111  536.137303  0.534319  4.294518  10.049078   \n",
       "2016       366.0   87.699474  291.547834  0.408936  1.526531   4.894481   \n",
       "2017       365.0  121.139510  385.735443  0.326669  1.515116   9.240436   \n",
       "2018       365.0  210.504540  671.078365  0.303933  4.750544  15.054598   \n",
       "2019        32.0  161.748061  381.244605  2.141943  3.261576   6.927781   \n",
       "\n",
       "                 75%          max  \n",
       "waterYear                          \n",
       "1996       19.916032  1375.774173  \n",
       "1997       29.314971  3907.647054  \n",
       "1998       14.282882  1407.439339  \n",
       "1999        9.110220   646.139785  \n",
       "2000       17.198031  1542.137484  \n",
       "2001       12.064499   796.090200  \n",
       "2002       16.915829  1453.099738  \n",
       "2003       31.410211  1268.749134  \n",
       "2004       63.448328  7228.561982  \n",
       "2005       42.378559  2536.948816  \n",
       "2006       28.976244  6513.636466  \n",
       "2007       37.545116  3266.950671  \n",
       "2008       82.185741  5397.617439  \n",
       "2009       26.736893  5342.415881  \n",
       "2010       34.375107  1970.030617  \n",
       "2011       85.639357  8357.844970  \n",
       "2012       59.916697  3509.119568  \n",
       "2013       57.671306  7153.869201  \n",
       "2014       57.137141  7728.108638  \n",
       "2015       31.374345  6472.188157  \n",
       "2016       26.021334  2962.775065  \n",
       "2017       42.729916  3546.271420  \n",
       "2018       49.531597  5530.412001  \n",
       "2019       55.016368  1581.903990  "
      ]
     },
     "execution_count": 130,
     "metadata": {},
     "output_type": "execute_result"
    }
   ],
   "source": [
    "EGRET_Daily.groupby(['waterYear'])['FluxYearMTA'].describe()"
   ]
  },
  {
   "cell_type": "code",
   "execution_count": null,
   "metadata": {},
   "outputs": [],
   "source": []
  }
 ],
 "metadata": {
  "kernelspec": {
   "display_name": "Python 3",
   "language": "python",
   "name": "python3"
  },
  "language_info": {
   "codemirror_mode": {
    "name": "ipython",
    "version": 3
   },
   "file_extension": ".py",
   "mimetype": "text/x-python",
   "name": "python",
   "nbconvert_exporter": "python",
   "pygments_lexer": "ipython3",
   "version": "3.6.3"
  }
 },
 "nbformat": 4,
 "nbformat_minor": 2
}
