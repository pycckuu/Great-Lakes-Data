{
 "cells": [
  {
   "cell_type": "code",
   "execution_count": 7,
   "metadata": {},
   "outputs": [],
   "source": [
    "import hydrofunctions as hf\n",
    "import pandas as pd\n",
    "import numpy as np\n",
    "from zipfile import ZipFile\n",
    "import os\n",
    "import datetime\n",
    "import matplotlib.pyplot as plt\n",
    "import seaborn as sns\n",
    "%matplotlib inline\n",
    "sns.set_style(\"ticks\")"
   ]
  },
  {
   "cell_type": "code",
   "execution_count": 8,
   "metadata": {},
   "outputs": [
    {
     "name": "stderr",
     "output_type": "stream",
     "text": [
      "/Users/imarkelo/anaconda3/lib/python3.6/site-packages/IPython/core/interactiveshell.py:3018: DtypeWarning: Columns (5,7,8,9,10,11,13,14,16,18,19,20,22,23,24,25,26,30,32,33,35,36,37,39,40,41,42,43,44,47,48,49,50,51,52,53,54,55,56,57,58,59,60,61) have mixed types. Specify dtype option on import or set low_memory=False.\n",
      "  interactivity=interactivity, compiler=compiler, result=result)\n"
     ]
    }
   ],
   "source": [
    "ohio_samples = pd.read_csv(ZipFile('../../measurements/USGS stream data/NEW YORK samples.zip').open(name='result.csv'))\n"
   ]
  },
  {
   "cell_type": "code",
   "execution_count": 9,
   "metadata": {},
   "outputs": [],
   "source": [
    "# PENNSYLVANIA_samples = pd.read_csv(ZipFile('../../measurements/USGS stream data/PENNSYLVANIA samples.zip').open(name='result.csv'))\n"
   ]
  },
  {
   "cell_type": "code",
   "execution_count": 10,
   "metadata": {},
   "outputs": [],
   "source": [
    "# ohio_samples = pd.concat([PENNSYLVANIA_samples, ohio_samples])"
   ]
  },
  {
   "cell_type": "code",
   "execution_count": 11,
   "metadata": {
    "scrolled": true
   },
   "outputs": [
    {
     "name": "stderr",
     "output_type": "stream",
     "text": [
      "/Users/imarkelo/anaconda3/lib/python3.6/site-packages/IPython/core/interactiveshell.py:3018: DtypeWarning: Columns (5,8,10,14,18,27,28,29,32,34) have mixed types. Specify dtype option on import or set low_memory=False.\n",
      "  interactivity=interactivity, compiler=compiler, result=result)\n"
     ]
    }
   ],
   "source": [
    "stations = pd.read_csv(ZipFile('../../measurements/USGS stream data/NEW YORK stations.zip').open(name='station.csv'))"
   ]
  },
  {
   "cell_type": "code",
   "execution_count": 12,
   "metadata": {},
   "outputs": [],
   "source": [
    "# ohio_stations = pd.read_csv(ZipFile('../../measurements/USGS stream data/NEW YORK stations.zip').open(name='station.csv'))"
   ]
  },
  {
   "cell_type": "code",
   "execution_count": 13,
   "metadata": {},
   "outputs": [],
   "source": [
    "# stations = pd.concat([stations, ohio_stations])"
   ]
  },
  {
   "cell_type": "code",
   "execution_count": 14,
   "metadata": {},
   "outputs": [],
   "source": [
    "location = (42.867771, -78.794316)"
   ]
  },
  {
   "cell_type": "code",
   "execution_count": 15,
   "metadata": {},
   "outputs": [],
   "source": [
    "r_stations = stations[(stations.LatitudeMeasure>location[0]-2) & (stations.LatitudeMeasure<location[0]+2) &\n",
    "                     (stations.LongitudeMeasure>location[1]-2) & (stations.LongitudeMeasure<location[1]+2)]"
   ]
  },
  {
   "cell_type": "code",
   "execution_count": 16,
   "metadata": {},
   "outputs": [
    {
     "name": "stderr",
     "output_type": "stream",
     "text": [
      "/Users/imarkelo/anaconda3/lib/python3.6/site-packages/ipykernel_launcher.py:2: SettingWithCopyWarning: \n",
      "A value is trying to be set on a copy of a slice from a DataFrame.\n",
      "Try using .loc[row_indexer,col_indexer] = value instead\n",
      "\n",
      "See the caveats in the documentation: http://pandas.pydata.org/pandas-docs/stable/indexing.html#indexing-view-versus-copy\n",
      "  \n"
     ]
    },
    {
     "data": {
      "text/plain": [
       "(15582, 63)"
      ]
     },
     "execution_count": 16,
     "metadata": {},
     "output_type": "execute_result"
    }
   ],
   "source": [
    "csv_file_df = ohio_samples[ohio_samples.MonitoringLocationIdentifier.isin(r_stations.MonitoringLocationIdentifier.unique())]\n",
    "csv_file_df['ActivityStartDate'] = pd.to_datetime(csv_file_df['ActivityStartDate'], errors='coerce')\n",
    "# database = csv_file_df.ProviderName.unique()[0]\n",
    "# csv_file_df['']\n",
    "df = pd.DataFrame(columns=['Date', 'MonitoringLocationIdentifier'])\n",
    "df = csv_file_df\n",
    "df = csv_file_df[(csv_file_df['CharacteristicName']==\"Phosphorus\") & (csv_file_df['ResultSampleFractionText']==\"Total\") & (csv_file_df['ActivityStartDate'].dt.year>1995)]\n",
    "df.shape              "
   ]
  },
  {
   "cell_type": "code",
   "execution_count": 17,
   "metadata": {},
   "outputs": [],
   "source": [
    "Show_IDS = [[st, False] for st in df.MonitoringLocationIdentifier.unique()] "
   ]
  },
  {
   "cell_type": "code",
   "execution_count": 20,
   "metadata": {
    "scrolled": false
   },
   "outputs": [
    {
     "name": "stdout",
     "output_type": "stream",
     "text": [
      "USGS-04215800\n",
      "21NYDECA_WQX-01031002\n",
      "USGS-04215500\n",
      "USGS-04214500\n",
      "USGS-04215000\n",
      "21NYDECA_WQX-01033200\n"
     ]
    },
    {
     "data": {
      "text/html": [
       "<div style=\"width:100%;\"><div style=\"position:relative;width:100%;height:0;padding-bottom:60%;\"><iframe src=\"data:text/html;charset=utf-8;base64,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\" style=\"position:absolute;width:100%;height:100%;left:0;top:0;border:none !important;\" allowfullscreen webkitallowfullscreen mozallowfullscreen></iframe></div></div>"
      ],
      "text/plain": [
       "<folium.folium.Map at 0x1581e9748>"
      ]
     },
     "execution_count": 20,
     "metadata": {},
     "output_type": "execute_result"
    }
   ],
   "source": [
    "import folium\n",
    "# import folium.plugins as plugins\n",
    "from folium.plugins import MiniMap\n",
    "from folium.plugins.beautify_icon import BeautifyIcon\n",
    "from folium.features import DivIcon\n",
    "\n",
    "\n",
    "\n",
    "# m = folium.Map(width=500,height=300, location=location, zoom_start=11.,tiles=\"OpenStreetMap\", attr='Global Water Futures')\n",
    "m = folium.Map(width=700,height=500, \n",
    "                location=location,\n",
    "               control_scale = True,\n",
    "                 zoom_start=9.5,\n",
    "               zoom_control=False,\n",
    "                 tiles='https://tile.thunderforest.com/outdoors/{z}/{x}/{y}.png?apikey=34dad269f6ab438c9534def56b86fa5f',\n",
    "                 API_key='34dad269f6ab438c9534def56b86fa5f',\n",
    "                attr='Global Water Futures')\n",
    "\n",
    "# show all\n",
    "# for index, st_dic in enumerate(Show_IDS):\n",
    "#     st = st_dic[0]\n",
    "#     N = df[df.MonitoringLocationIdentifier==st].shape[0]\n",
    "#     if N>0:\n",
    "#         st_df = stations[stations.MonitoringLocationIdentifier == st]\n",
    "#         folium.Marker(location=[st_df.LatitudeMeasure.values[0], \n",
    "#                                 st_df.LongitudeMeasure.values[0]], \n",
    "#                                   popup=folium.Popup(html=st_df.MonitoringLocationIdentifier.values[0] + '\\n' + 'N:{}'.format(N),\n",
    "#                                 show=False, max_width=10), icon=folium.Icon(icon='arrow-down', color='gray')\n",
    "#                      ).add_to(m)\n",
    "\n",
    "\n",
    "\n",
    "Show_IDS = [\n",
    "[\"USGS-04215800\", False],\n",
    "[\"21NYDECA_WQX-01031002\", False],\n",
    "[\"USGS-04215500\", False],\n",
    "[\"USGS-04214500\", False],\n",
    "[\"USGS-04215000\", False],\n",
    "[\"21NYDECA_WQX-01033200\", False],\n",
    "]\n",
    "\n",
    "\n",
    "\n",
    "for index, st_dic in enumerate(Show_IDS):\n",
    "    st = st_dic[0]\n",
    "    print(st)\n",
    "    if st_dic[1]:\n",
    "        clr='#f44242'\n",
    "    else:\n",
    "        clr='#0b15c4'\n",
    "    st_df = stations[stations.MonitoringLocationIdentifier == st]\n",
    "    folium.CircleMarker(location=[st_df.LatitudeMeasure.values[0], \n",
    "                            st_df.LongitudeMeasure.values[0]], radius=23, \n",
    "                        fill=True, fill_color='white',\n",
    "                            color = clr,fill_opacity=1,\n",
    "                       weight=5).add_to(m)\n",
    "    if not index in []:\n",
    "        folium.map.Marker(\n",
    "        location=[st_df.LatitudeMeasure.values[0]+0.0235,st_df.LongitudeMeasure.values[0]-0.1026], # 10 km\n",
    "#         location=[st_df.LatitudeMeasure.values[0]+0.0135,st_df.LongitudeMeasure.values[0]-0.0526], # 5km\n",
    "#         location=[st_df.LatitudeMeasure.values[0]+0.0065,st_df.LongitudeMeasure.values[0]-0.026], # 2km\n",
    "        icon=DivIcon(\n",
    "            icon_size=(150,36),\n",
    "            icon_anchor=(0,0),\n",
    "            html='<div style=\"font-size: 24pt;text-align: center;vertical-align: middle\">{}</div>'.format(index+1),\n",
    "            )\n",
    "        ).add_to(m)\n",
    "\n",
    "\n",
    "m\n",
    "\n",
    "\n",
    "\n",
    "\n",
    "\n",
    "# USGS-04215800 \n",
    "# 21NYDECA_WQX-01031002 \n",
    "# USGS-04215500 \n",
    "# USGS-04214500 \n",
    "# USGS-04215000 \n",
    "# 21NYDECA_WQX-01033200 "
   ]
  },
  {
   "cell_type": "code",
   "execution_count": 21,
   "metadata": {},
   "outputs": [],
   "source": [
    "selected_stations = [s[0] for s in Show_IDS]\n",
    "# selected_stations = [\n",
    "# \"21OHIO_WQX-200572\",\n",
    "# \"21OHIO_WQX-502520\",\n",
    "# \"21OHIO_WQX-G02S14\",\n",
    "# \"USGS-04212100\",\n",
    "# \"USGS-04211820\",\n",
    "# \"21OHIO_WQX-G02K52\",\n",
    "# \"21OHIO_WQX-G02K54\",\n",
    "# \"21OHIO_WQX-300187\",\n",
    "# \"21OHIO_WQX-G01K08\",\n",
    "# \"21OHIO_WQX-G01K07\"]"
   ]
  },
  {
   "cell_type": "code",
   "execution_count": 22,
   "metadata": {},
   "outputs": [
    {
     "name": "stderr",
     "output_type": "stream",
     "text": [
      "/Users/imarkelo/anaconda3/lib/python3.6/site-packages/ipykernel_launcher.py:5: SettingWithCopyWarning: \n",
      "A value is trying to be set on a copy of a slice from a DataFrame.\n",
      "Try using .loc[row_indexer,col_indexer] = value instead\n",
      "\n",
      "See the caveats in the documentation: http://pandas.pydata.org/pandas-docs/stable/indexing.html#indexing-view-versus-copy\n",
      "  \"\"\"\n",
      "/Users/imarkelo/anaconda3/lib/python3.6/site-packages/ipykernel_launcher.py:10: SettingWithCopyWarning: \n",
      "A value is trying to be set on a copy of a slice from a DataFrame.\n",
      "Try using .loc[row_indexer,col_indexer] = value instead\n",
      "\n",
      "See the caveats in the documentation: http://pandas.pydata.org/pandas-docs/stable/indexing.html#indexing-view-versus-copy\n",
      "  # Remove the CWD from sys.path while we load stuff.\n"
     ]
    },
    {
     "data": {
      "text/plain": [
       "(86, 63)"
      ]
     },
     "execution_count": 22,
     "metadata": {},
     "output_type": "execute_result"
    }
   ],
   "source": [
    "WQP_name = \"Phosphorus\"\n",
    "\n",
    "\n",
    "csv_file_df = ohio_samples[ohio_samples.MonitoringLocationIdentifier.isin(selected_stations)]\n",
    "csv_file_df['ActivityStartDate'] = pd.to_datetime(csv_file_df['ActivityStartDate'], errors='coerce')\n",
    "# database = csv_file_df.ProviderName.unique()[0]\n",
    "df = pd.DataFrame(columns=['Date', 'MonitoringLocationIdentifier'])\n",
    "sp = csv_file_df[(csv_file_df['CharacteristicName']==WQP_name) & (csv_file_df['ResultSampleFractionText']==\"Total\") & (csv_file_df['ActivityStartDate'].dt.year>1995)]\n",
    "# sp = sp[sp.ResultMeasureValue<0.5]\n",
    "sp['ResultMeasureValue'] = pd.to_numeric(sp['ResultMeasureValue'])\n",
    "sp.shape\n",
    "\n"
   ]
  },
  {
   "cell_type": "code",
   "execution_count": 23,
   "metadata": {},
   "outputs": [],
   "source": [
    "# df_heideleberg = pd.read_csv('/Users/imarkelo/git/Great-Lakes-Data/post_proc_scripts/Heidelberg/proc_data/TP_Maumee_River_Data.csv')\n",
    "\n",
    "# df_heideleberg['Date'] =pd.to_datetime(df_heideleberg['Date'], errors='coerce')\n",
    "# df_heideleberg['MonitoringLocationIdentifier'] = 'HTLP (NCWQR)'\n",
    "# df_heideleberg['ActivityStartDate']=df_heideleberg['Date']\n",
    "# df_heideleberg['ResultMeasureValue']=df_heideleberg['TP, mg/L as P']\n",
    "# sp= sp.append(df_heideleberg)\n",
    "# sp=sp.sort_values('MonitoringLocationIdentifier', ascending=False)\n",
    "# sp['Station']=sp['MonitoringLocationIdentifier']\n",
    "# sp.shape\n"
   ]
  },
  {
   "cell_type": "code",
   "execution_count": null,
   "metadata": {},
   "outputs": [],
   "source": []
  },
  {
   "cell_type": "code",
   "execution_count": 24,
   "metadata": {},
   "outputs": [],
   "source": [
    "pt = sns.color_palette(\"colorblind\", len(selected_stations))"
   ]
  },
  {
   "cell_type": "code",
   "execution_count": 25,
   "metadata": {},
   "outputs": [
    {
     "data": {
      "text/plain": [
       "6"
      ]
     },
     "execution_count": 25,
     "metadata": {},
     "output_type": "execute_result"
    }
   ],
   "source": [
    "len(selected_stations)"
   ]
  },
  {
   "cell_type": "code",
   "execution_count": 26,
   "metadata": {},
   "outputs": [
    {
     "data": {
      "text/plain": [
       "array(['mg/l as P', 'mg/l', 'mg/kg'], dtype=object)"
      ]
     },
     "execution_count": 26,
     "metadata": {},
     "output_type": "execute_result"
    }
   ],
   "source": [
    "sp['ResultMeasure/MeasureUnitCode'].unique()"
   ]
  },
  {
   "cell_type": "code",
   "execution_count": 27,
   "metadata": {},
   "outputs": [],
   "source": [
    "river='Buffalo_R'"
   ]
  },
  {
   "cell_type": "code",
   "execution_count": 28,
   "metadata": {},
   "outputs": [
    {
     "name": "stderr",
     "output_type": "stream",
     "text": [
      "/Users/imarkelo/anaconda3/lib/python3.6/site-packages/pandas/core/indexing.py:543: SettingWithCopyWarning: \n",
      "A value is trying to be set on a copy of a slice from a DataFrame.\n",
      "Try using .loc[row_indexer,col_indexer] = value instead\n",
      "\n",
      "See the caveats in the documentation: http://pandas.pydata.org/pandas-docs/stable/indexing.html#indexing-view-versus-copy\n",
      "  self.obj[item] = s\n"
     ]
    }
   ],
   "source": [
    "sp.loc[sp[\"ResultMeasureValue\"]>100, \"ResultMeasureValue\"] = sp[\"ResultMeasureValue\"]/1000"
   ]
  },
  {
   "cell_type": "code",
   "execution_count": 31,
   "metadata": {},
   "outputs": [
    {
     "data": {
      "image/png": "[encoded data removed]",
      "text/plain": [
       "<Figure size 432x288 with 1 Axes>"
      ]
     },
     "metadata": {},
     "output_type": "display_data"
    }
   ],
   "source": [
    "## fig,ax=plt.subplots(1,1,figsize=(6,4), dpi=100)\n",
    "colors = [\"windows blue\", \"greyish\", \"faded green\", \"dusty purple\", \"amber\"]\n",
    "ax = sns.scatterplot(x='ActivityStartDate', y='ResultMeasureValue', data=sp, hue_order=selected_stations, hue='MonitoringLocationIdentifier', palette=pt, markers=True)\n",
    "leg = [\"({}) - {}\".format(i+1,st) for i, st in enumerate(selected_stations)]\n",
    "\n",
    "leg_handles = ax.get_legend_handles_labels()[0]\n",
    "ax.legend(leg_handles[1:], leg, title='Stations', fontsize='x-small', loc=2)\n",
    "\n",
    "# ax.legend(['(1) - HTLP (NCWQR)'], title='Stations', fontsize='x-small', loc=2)\n",
    "\n",
    "plt.ylim(0,None)\n",
    "plt.xlim(datetime.datetime(1996,1,1), datetime.datetime(2018,1,1))\n",
    "plt.grid(alpha=0.5)\n",
    "plt.ylabel(\"Total Phosphorus as P, mg/L\")\n",
    "plt.xlabel(\"\")\n",
    "plt.tight_layout()\n",
    "plt.savefig('One_by_one/Western/US/'+river+'/'+river+'_TP.pdf')\n",
    "plt.savefig('/Users/imarkelo/Google Drive/GDocuments/Lake Erie/Draft/Rivers_tables/img/Western/US/'+river+'/'+river+'_TP.pdf')\n",
    "\n"
   ]
  },
  {
   "cell_type": "code",
   "execution_count": 32,
   "metadata": {},
   "outputs": [
    {
     "name": "stdout",
     "output_type": "stream",
     "text": [
      "\\begin{tabular}{lrrrrrrrr}\n",
      "\\toprule\n",
      "{} &  count &  mean &   std &   min &   25\\% &   50\\% &   75\\% &   max \\\\\n",
      "MonitoringLocationIdentifier &        &       &       &       &       &       &       &       \\\\\n",
      "\\midrule\n",
      "USGS-04215800                &    2.0 &  0.84 &  1.10 &  0.06 &  0.45 &  0.84 &  1.23 &  1.62 \\\\\n",
      "21NYDECA\\_WQX-01031002        &   35.0 &  0.06 &  0.09 &  0.02 &  0.03 &  0.03 &  0.05 &  0.54 \\\\\n",
      "USGS-04215500                &   13.0 &  0.08 &  0.12 &  0.01 &  0.02 &  0.04 &  0.07 &  0.46 \\\\\n",
      "USGS-04214500                &   13.0 &  0.14 &  0.28 &  0.02 &  0.03 &  0.03 &  0.06 &  1.03 \\\\\n",
      "USGS-04215000                &   12.0 &  0.07 &  0.14 &  0.02 &  0.02 &  0.03 &  0.05 &  0.50 \\\\\n",
      "21NYDECA\\_WQX-01033200        &   11.0 &  0.05 &  0.06 &  0.01 &  0.01 &  0.02 &  0.06 &  0.17 \\\\\n",
      "\\bottomrule\n",
      "\\end{tabular}\n",
      "\n"
     ]
    }
   ],
   "source": [
    "print(sp.groupby('MonitoringLocationIdentifier')[\"ResultMeasureValue\"].describe().reindex(selected_stations).round(2).to_latex())\n"
   ]
  },
  {
   "cell_type": "code",
   "execution_count": 33,
   "metadata": {},
   "outputs": [
    {
     "data": {
      "text/plain": [
       "['USGS-04215800',\n",
       " '21NYDECA_WQX-01031002',\n",
       " 'USGS-04215500',\n",
       " 'USGS-04214500',\n",
       " 'USGS-04215000',\n",
       " '21NYDECA_WQX-01033200']"
      ]
     },
     "execution_count": 33,
     "metadata": {},
     "output_type": "execute_result"
    }
   ],
   "source": [
    "selected_stations"
   ]
  },
  {
   "cell_type": "code",
   "execution_count": 35,
   "metadata": {},
   "outputs": [
    {
     "data": {
      "text/plain": [
       "(86, 63)"
      ]
     },
     "execution_count": 35,
     "metadata": {},
     "output_type": "execute_result"
    }
   ],
   "source": [
    "master_stations = [st[0] for st in Show_IDS if st[1]]\n",
    "master_stations = selected_stations\n",
    "master_st_df = sp[sp.MonitoringLocationIdentifier.isin(master_stations)]\n",
    "master_st_df['USGSPCode'] = 0\n",
    "master_st_df.shape"
   ]
  },
  {
   "cell_type": "code",
   "execution_count": 36,
   "metadata": {},
   "outputs": [
    {
     "data": {
      "text/plain": [
       "(62, 6)"
      ]
     },
     "execution_count": 36,
     "metadata": {},
     "output_type": "execute_result"
    }
   ],
   "source": [
    "master_st_df.groupby('ActivityStartDate').mean().shape"
   ]
  },
  {
   "cell_type": "code",
   "execution_count": 37,
   "metadata": {},
   "outputs": [],
   "source": [
    "master_st_df[[\n",
    "    'ActivityStartDate','USGSPCode', 'ResultMeasureValue']].groupby('ActivityStartDate').mean().reset_index().sort_values('ActivityStartDate').to_csv(\n",
    "    'One_by_one/Western/US/'+river+'/TP_'+river+'iver_data.csv', index=False)"
   ]
  },
  {
   "cell_type": "markdown",
   "metadata": {},
   "source": [
    "### Discharge"
   ]
  },
  {
   "cell_type": "code",
   "execution_count": 38,
   "metadata": {},
   "outputs": [],
   "source": [
    "# Finde station here:\n",
    "# https://www.hydrocloud.org\n",
    "site = '04214500'\n",
    "start = '1996-01-01'\n",
    "end = '2018-11-01'\n",
    "response = hf.get_nwis(site, 'dv',start, end)\n",
    "# response.get_data()\n",
    "discharge = hf.extract_nwis_df(response.json())"
   ]
  },
  {
   "cell_type": "code",
   "execution_count": 39,
   "metadata": {},
   "outputs": [
    {
     "data": {
      "text/plain": [
       "Index(['USGS:04214500:00060:00003', 'USGS:04214500:00060:00003_qualifiers'], dtype='object')"
      ]
     },
     "execution_count": 39,
     "metadata": {},
     "output_type": "execute_result"
    }
   ],
   "source": [
    "discharge.columns"
   ]
  },
  {
   "cell_type": "code",
   "execution_count": 40,
   "metadata": {},
   "outputs": [],
   "source": [
    "discharge['Flow, CFS']=discharge['USGS:'+site+':00060:00003']"
   ]
  },
  {
   "cell_type": "code",
   "execution_count": 41,
   "metadata": {},
   "outputs": [],
   "source": [
    "discharge= discharge.reset_index()\n",
    "discharge['Date']  = discharge['datetime']\n",
    "discharge['Date'] =pd.to_datetime(discharge['Date'], errors='coerce')\n",
    "discharge = discharge[['Date', 'Flow, CFS']]\n",
    "discharge['Source'] = 'USGS-'+site"
   ]
  },
  {
   "cell_type": "code",
   "execution_count": 42,
   "metadata": {},
   "outputs": [],
   "source": [
    "discharge[discharge.Source=='USGS-'+site][['Date', 'Flow, CFS']].dropna().to_csv('One_by_one/Western/US/'+river+'/Flow_'+river+'_CFS.csv', index=False)\n"
   ]
  },
  {
   "cell_type": "code",
   "execution_count": 43,
   "metadata": {},
   "outputs": [],
   "source": [
    "# df_Q_heideleberg = pd.read_csv('/Users/imarkelo/git/Great-Lakes-Data/post_proc_scripts/Heidelberg/proc_data/Flow_Maumee_River_Data.csv')\n",
    "# df_Q_heideleberg['Date'] =pd.to_datetime(df_Q_heideleberg['Date'], errors='coerce')\n",
    "# df_Q_heideleberg['Source'] = 'HTLP (NCWQR)'\n",
    "# df_Q_heideleberg['Discharge, cms'] = 0.028*df_Q_heideleberg['Flow, CFS']\n"
   ]
  },
  {
   "cell_type": "code",
   "execution_count": 44,
   "metadata": {},
   "outputs": [],
   "source": [
    "# discharge = discharge.append(df_Q_heideleberg)"
   ]
  },
  {
   "cell_type": "code",
   "execution_count": 45,
   "metadata": {},
   "outputs": [],
   "source": [
    "discharge['Discharge, cms'] = 0.028*discharge['Flow, CFS']"
   ]
  },
  {
   "cell_type": "code",
   "execution_count": 46,
   "metadata": {},
   "outputs": [
    {
     "data": {
      "text/plain": [
       "'Buffalo_R'"
      ]
     },
     "execution_count": 46,
     "metadata": {},
     "output_type": "execute_result"
    }
   ],
   "source": [
    "river"
   ]
  },
  {
   "cell_type": "code",
   "execution_count": 49,
   "metadata": {},
   "outputs": [
    {
     "data": {
      "image/png": "[encoded data removed]",
      "text/plain": [
       "<Figure size 600x400 with 1 Axes>"
      ]
     },
     "metadata": {},
     "output_type": "display_data"
    }
   ],
   "source": [
    "fig,ax=plt.subplots(1,1,figsize=(6,4), dpi=100)\n",
    "ax=sns.lineplot(x='Date', y='Discharge, cms', data=discharge, hue='Source',ax=ax)\n",
    "\n",
    "from mpl_toolkits.axes_grid1.inset_locator import zoomed_inset_axes\n",
    "\n",
    "\n",
    "ax.legend(['(4) - USGS-'+site], loc=2, fontsize='small')\n",
    "ax.set_ylim(0,200)\n",
    "ax.set_xlim(datetime.datetime(1996,1,1), datetime.datetime(2018,1,1))\n",
    "ax.grid(alpha=0.5)\n",
    "ax.set_ylabel(\"Discharge, m$^3$/s\")\n",
    "ax.set_xlabel(\"Year\")\n",
    "\n",
    "# axins = zoomed_inset_axes(ax, 8, loc='upper center')\n",
    "# sns.lineplot(x='Date', y='Discharge, cms', data=discharge, hue='Source', ax=axins,zorder=10)\n",
    "# axins.set_xlim(datetime.datetime(2010,4,1), datetime.datetime(2010,6,1)) # apply the x-limits\n",
    "# axins.set_ylim(0, 10) # apply the y-limits\n",
    "# plt.yticks(visible=False)\n",
    "# plt.xticks(visible=False)\n",
    "# from mpl_toolkits.axes_grid1.inset_locator import mark_inset\n",
    "# mark_inset(ax, axins, loc1=2, loc2=4, fc=\"none\", ec=\"0.5\")\n",
    "\n",
    "plt.savefig('One_by_one/Western/US/'+river+'/'+river+'_Q.pdf')\n",
    "plt.savefig('/Users/imarkelo/Google Drive/GDocuments/Lake Erie/Draft/Rivers_tables/img/Western/US/'+river+'/'+river+'_Q.pdf')"
   ]
  },
  {
   "cell_type": "code",
   "execution_count": 56,
   "metadata": {},
   "outputs": [],
   "source": [
    "discharge[['Date', 'Flow, CFS']].to_csv('One_by_one/Western/US/'+river+'/Flow_'+river+'_CFS.csv', index=False)"
   ]
  },
  {
   "cell_type": "markdown",
   "metadata": {},
   "source": [
    "### EGRET Results"
   ]
  },
  {
   "cell_type": "code",
   "execution_count": 102,
   "metadata": {},
   "outputs": [
    {
     "data": {
      "text/plain": [
       "'Cattaraugus_R'"
      ]
     },
     "execution_count": 102,
     "metadata": {},
     "output_type": "execute_result"
    }
   ],
   "source": [
    "river"
   ]
  },
  {
   "cell_type": "code",
   "execution_count": 140,
   "metadata": {},
   "outputs": [],
   "source": [
    "\n",
    "EGRET_Daily = pd.read_csv('/Users/imarkelo/git/Great-Lakes-Data/post_proc_scripts/Loadings US/One_by_one/Western/US/'+river+'/EGRET Result/TP/'+river+'iver_TP_Daily.csv')\n",
    "EGRET_Sample = pd.read_csv('/Users/imarkelo/git/Great-Lakes-Data/post_proc_scripts/Loadings US/One_by_one/Western/US/'+river+'/EGRET Result/TP/'+river+'iver_TP_Sample.csv')\n"
   ]
  },
  {
   "cell_type": "code",
   "execution_count": 141,
   "metadata": {},
   "outputs": [],
   "source": [
    "EGRET_Sample['Fx_Hat'] = EGRET_Sample['Q']*60*60*24*1000 * EGRET_Sample['ConcHat']/1000/1000\n",
    "EGRET_Sample['Fx_C'] = EGRET_Sample['Q']*60*60*24*1000 * EGRET_Sample['ConcAve']/1000/1000\n"
   ]
  },
  {
   "cell_type": "code",
   "execution_count": 142,
   "metadata": {},
   "outputs": [
    {
     "data": {
      "image/png": "[encoded data removed]",
      "text/plain": [
       "<Figure size 600x400 with 1 Axes>"
      ]
     },
     "metadata": {},
     "output_type": "display_data"
    }
   ],
   "source": [
    "fig,ax=plt.subplots(1,1,figsize=(6,4), dpi=100)\n",
    "sns.scatterplot(y='Fx_C', \n",
    "                x='Fx_Hat',\n",
    "                data=EGRET_Sample,\n",
    "                s=15,\n",
    "                linewidth=0.3, ax=ax,\n",
    "               color=sns.color_palette(\"Blues\")[4])\n",
    "# plt.legend(\"\")\n",
    "ax.set_xscale('log')\n",
    "ax.set_yscale('log')\n",
    "plt.plot([-100,1000000],[-100,1000000], 'k', lw=0.5)\n",
    "plt.xlim(0,1000)\n",
    "plt.ylim(0,1000)\n",
    "# plt.xlim(datetime.datetime(1996,1,1), datetime.datetime(2018,1,1))\n",
    "plt.grid(alpha=0.5)\n",
    "plt.xlabel(\"Estimated Phosphorus Loads, kg/day\")\n",
    "plt.ylabel(\"Observed Phosphorus Loads, kg/day\")\n",
    "# plt.xlabel(\"\")\n",
    "plt.tight_layout()\n",
    "plt.savefig('/Users/imarkelo/Google Drive/GDocuments/Lake Erie/Draft/Rivers_tables/img/Western/US/'+river+'/'+river+'_FvsF.pdf')\n"
   ]
  },
  {
   "cell_type": "code",
   "execution_count": 143,
   "metadata": {},
   "outputs": [],
   "source": [
    "EGRET_Daily['FluxYearMTA'] = EGRET_Daily['FluxDay']*365/1000\n",
    "EGRET_Daily['Fx_SE'] = (np.exp(EGRET_Daily['SE']+EGRET_Daily['yHat']) * EGRET_Daily['Q']*60*60*24*1000/1000/1000/1000-np.exp(EGRET_Daily['yHat']) * EGRET_Daily['Q']*60*60*24*1000/1000/1000/1000)*365\n",
    "EGRET_Daily_an = EGRET_Daily.groupby('waterYear').mean().reset_index()\n"
   ]
  },
  {
   "cell_type": "code",
   "execution_count": 144,
   "metadata": {},
   "outputs": [
    {
     "data": {
      "image/png": "[encoded data removed]",
      "text/plain": [
       "<Figure size 600x400 with 1 Axes>"
      ]
     },
     "metadata": {},
     "output_type": "display_data"
    }
   ],
   "source": [
    "fig,ax=plt.subplots(1,1,figsize=(6,4), dpi=100)\n",
    "\n",
    "# sns.boxplot(EGRET_Daily['waterYear'], EGRET_Daily['ConcDay'], color=sns.color_palette()[0])\n",
    "\n",
    "# plt.fill_between(EGRET_Daily_an['waterYear'][5:-1],\n",
    "#                  np.exp(EGRET_Daily_an['yHat'][5:-1]-EGRET_Daily_an['SE'][5:-1]),\n",
    "#                  np.exp(EGRET_Daily_an['yHat'][5:-1]+EGRET_Daily_an['SE'][5:-1]), \n",
    "#                  color=sns.color_palette()[0], alpha=0.15)\n",
    "# plt.plot(EGRET_Daily_an['waterYear'][5:-1], EGRET_Daily_an['FluxYearMTA'][5:-1])\n",
    "\n",
    "# sns.scatterplot(x=\"waterYear\", y=\"FluxYearMTA\",\n",
    "#                 sizes=(1, 8), linewidth=0.3,\n",
    "#                 data=EGRET_Daily_an, ax=ax)\n",
    "\n",
    "meanpointprops = dict(marker='.', markeredgecolor='black', markersize=6,markerfacecolor='black')\n",
    "ax = sns.boxplot(showmeans=True, linewidth=0.5, meanprops=meanpointprops, x=\"waterYear\", y=\"ConcDay\", data=EGRET_Daily, showfliers=False, color=sns.color_palette(\"Blues\")[2])\n",
    "# ax.set_yscale('log')\n",
    "# plt.legend(\"\")\n",
    "# plt.plot([-100,100],[-100,100], 'k', lw=0.5)\n",
    "# plt.xlim(2003,2018)\n",
    "plt.xlim(5.5, 21.5)\n",
    "plt.xticks([int(x) for x in np.linspace(6,20,8)], [int(x) for x in np.linspace(2003,2017, 8)])\n",
    "plt.ylim(0,.6)\n",
    "\n",
    "plt.grid(alpha=0.5)\n",
    "plt.ylabel(\"Total Phosphorus Concentration, mg/l\")\n",
    "plt.xlabel(\"\")\n",
    "# plt.savefig('One_by_one/Western/US/Portage R/Portage Q.pdf')\n",
    "plt.savefig('/Users/imarkelo/Google Drive/GDocuments/Lake Erie/Draft/Rivers_tables/img/Western/US/'+river+'/'+river+'_PC.pdf')\n",
    "\n",
    "\n"
   ]
  },
  {
   "cell_type": "code",
   "execution_count": 145,
   "metadata": {},
   "outputs": [],
   "source": [
    "EGRET_Daily_an['Fx_AE'] = (abs(EGRET_Sample['Fx_Hat'] - EGRET_Sample['Fx_C'])/EGRET_Sample['Fx_C']).mean()*EGRET_Daily_an['FluxYearMTA']\n",
    "\n",
    "\n"
   ]
  },
  {
   "cell_type": "code",
   "execution_count": 148,
   "metadata": {},
   "outputs": [
    {
     "data": {
      "image/png": "[encoded data removed]",
      "text/plain": [
       "<Figure size 600x400 with 1 Axes>"
      ]
     },
     "metadata": {},
     "output_type": "display_data"
    }
   ],
   "source": [
    "fig,ax=plt.subplots(1,1,figsize=(6,4), dpi=100)\n",
    "\n",
    "plt.plot(EGRET_Daily_an['waterYear'], EGRET_Daily_an['FluxYearMTA'], c=sns.color_palette()[0])\n",
    "\n",
    "plt.fill_between(EGRET_Daily_an['waterYear'],\n",
    "                 EGRET_Daily_an['FluxYearMTA']-EGRET_Daily_an['Fx_SE'],\n",
    "                 EGRET_Daily_an['FluxYearMTA']+EGRET_Daily_an['Fx_SE'], \n",
    "                 color=sns.color_palette()[0], alpha=0.15)\n",
    "# plt.plot(EGRET_Daily_an['waterYear'][5:-1], EGRET_Daily_an['FluxYearMTA'][5:-1])\n",
    "\n",
    "# sns.scatterplot(x=\"waterYear\", y=\"FluxYearMTA\",\n",
    "#                 sizes=(1, 8), linewidth=0.3,\n",
    "#                 data=EGRET_Daily_an, ax=ax)\n",
    "\n",
    "# meanpointprops = dict(marker='D', markeredgecolor='black', markersize=1,markerfacecolor=sns.color_palette()[3])\n",
    "# ax = sns.boxplot(linewidth=0.5, meanprops=meanpointprops, x=\"waterYear\", y=\"FluxYearMTA\", data=EGRET_Daily, showfliers=False, color=sns.color_palette(\"Blues\")[2])\n",
    "# ax.set_yscale('log')\n",
    "# plt.legend(\"\")\n",
    "# plt.plot([-100,100],[-100,100], 'k', lw=0.5)\n",
    "plt.xlim(2003,2018)\n",
    "# plt.xticks([int(x) for x in np.linspace(5,19,8)], [int(x) for x in np.linspace(2003,2017, 8)])\n",
    "plt.ylim(0,1400)\n",
    "# plt.xlim(datetime.datetime(1996,1,1), datetime.datetime(2018,1,1))\n",
    "plt.grid(alpha=0.5)\n",
    "plt.ylabel(\"Phosphorus Loads, MTA\")\n",
    "plt.xlabel(\"\")\n",
    "# plt.savefig('One_by_one/Western/US/Portage R/Portage Q.pdf')\n",
    "plt.savefig('/Users/imarkelo/Google Drive/GDocuments/Lake Erie/Draft/Rivers_tables/img/Western/US/'+river+'/'+river+'_PFlux.pdf')\n"
   ]
  },
  {
   "cell_type": "code",
   "execution_count": 110,
   "metadata": {},
   "outputs": [
    {
     "name": "stdout",
     "output_type": "stream",
     "text": [
      "\\begin{tabular}{rrrrrrrrrrrrrrrr}\n",
      "\\toprule\n",
      "     6  &      7  &      8  &      9  &      10 &      11 &      12 &      13 &      14 &      15 &      16 &      17 &      18 &      19 &      20 &      21 \\\\\n",
      "\\midrule\n",
      " 2003.0 &  2004.0 &  2005.0 &  2006.0 &  2007.0 &  2008.0 &  2009.0 &  2010.0 &  2011.0 &  2012.0 &  2013.0 &  2014.0 &  2015.0 &  2016.0 &  2017.0 &  2018.0 \\\\\n",
      "   80.0 &   175.5 &    94.6 &   103.6 &   274.1 &   155.2 &   424.8 &   147.2 &   294.4 &   149.1 &   271.5 &   396.5 &   328.3 &   154.0 &   555.6 &   796.9 \\\\\n",
      "   78.4 &   166.5 &    89.7 &    99.5 &   235.2 &   143.8 &   357.0 &   139.0 &   274.5 &   141.1 &   251.1 &   299.6 &   330.3 &   149.5 &   520.2 &   601.0 \\\\\n",
      "\\bottomrule\n",
      "\\end{tabular}\n",
      "\n"
     ]
    }
   ],
   "source": [
    "print(EGRET_Daily_an[(EGRET_Daily_an.waterYear<2019) & (EGRET_Daily_an.waterYear>2002)][['waterYear', 'FluxYearMTA','Fx_SE']].round(1).T.to_latex(index=False))"
   ]
  },
  {
   "cell_type": "code",
   "execution_count": 111,
   "metadata": {},
   "outputs": [
    {
     "data": {
      "text/html": [
       "<div>\n",
       "<style scoped>\n",
       "    .dataframe tbody tr th:only-of-type {\n",
       "        vertical-align: middle;\n",
       "    }\n",
       "\n",
       "    .dataframe tbody tr th {\n",
       "        vertical-align: top;\n",
       "    }\n",
       "\n",
       "    .dataframe thead th {\n",
       "        text-align: right;\n",
       "    }\n",
       "</style>\n",
       "<table border=\"1\" class=\"dataframe\">\n",
       "  <thead>\n",
       "    <tr style=\"text-align: right;\">\n",
       "      <th></th>\n",
       "      <th>count</th>\n",
       "      <th>mean</th>\n",
       "      <th>std</th>\n",
       "      <th>min</th>\n",
       "      <th>25%</th>\n",
       "      <th>50%</th>\n",
       "      <th>75%</th>\n",
       "      <th>max</th>\n",
       "    </tr>\n",
       "    <tr>\n",
       "      <th>waterYear</th>\n",
       "      <th></th>\n",
       "      <th></th>\n",
       "      <th></th>\n",
       "      <th></th>\n",
       "      <th></th>\n",
       "      <th></th>\n",
       "      <th></th>\n",
       "      <th></th>\n",
       "    </tr>\n",
       "  </thead>\n",
       "  <tbody>\n",
       "    <tr>\n",
       "      <th>1996</th>\n",
       "      <td>274.0</td>\n",
       "      <td>183.119889</td>\n",
       "      <td>1703.488807</td>\n",
       "      <td>1.856715</td>\n",
       "      <td>9.732140</td>\n",
       "      <td>20.396036</td>\n",
       "      <td>33.961726</td>\n",
       "      <td>27587.121479</td>\n",
       "    </tr>\n",
       "    <tr>\n",
       "      <th>1997</th>\n",
       "      <td>365.0</td>\n",
       "      <td>67.416349</td>\n",
       "      <td>213.259299</td>\n",
       "      <td>2.068665</td>\n",
       "      <td>12.227918</td>\n",
       "      <td>19.826721</td>\n",
       "      <td>41.109110</td>\n",
       "      <td>2855.179612</td>\n",
       "    </tr>\n",
       "    <tr>\n",
       "      <th>1998</th>\n",
       "      <td>182.0</td>\n",
       "      <td>236.120570</td>\n",
       "      <td>1753.172342</td>\n",
       "      <td>2.963729</td>\n",
       "      <td>11.850770</td>\n",
       "      <td>22.618499</td>\n",
       "      <td>48.612108</td>\n",
       "      <td>22732.783768</td>\n",
       "    </tr>\n",
       "    <tr>\n",
       "      <th>2000</th>\n",
       "      <td>366.0</td>\n",
       "      <td>52.154335</td>\n",
       "      <td>128.289137</td>\n",
       "      <td>1.768501</td>\n",
       "      <td>6.212031</td>\n",
       "      <td>14.888469</td>\n",
       "      <td>36.503252</td>\n",
       "      <td>1306.755280</td>\n",
       "    </tr>\n",
       "    <tr>\n",
       "      <th>2001</th>\n",
       "      <td>365.0</td>\n",
       "      <td>48.671279</td>\n",
       "      <td>223.247919</td>\n",
       "      <td>1.132500</td>\n",
       "      <td>6.115166</td>\n",
       "      <td>10.060157</td>\n",
       "      <td>23.395584</td>\n",
       "      <td>3551.144539</td>\n",
       "    </tr>\n",
       "    <tr>\n",
       "      <th>2002</th>\n",
       "      <td>365.0</td>\n",
       "      <td>88.152662</td>\n",
       "      <td>604.693879</td>\n",
       "      <td>1.793841</td>\n",
       "      <td>7.844750</td>\n",
       "      <td>16.894908</td>\n",
       "      <td>35.900113</td>\n",
       "      <td>11048.066183</td>\n",
       "    </tr>\n",
       "    <tr>\n",
       "      <th>2003</th>\n",
       "      <td>365.0</td>\n",
       "      <td>79.972220</td>\n",
       "      <td>234.490224</td>\n",
       "      <td>2.252670</td>\n",
       "      <td>10.299107</td>\n",
       "      <td>18.208451</td>\n",
       "      <td>44.629473</td>\n",
       "      <td>2157.988825</td>\n",
       "    </tr>\n",
       "    <tr>\n",
       "      <th>2004</th>\n",
       "      <td>366.0</td>\n",
       "      <td>175.467355</td>\n",
       "      <td>732.923364</td>\n",
       "      <td>3.923977</td>\n",
       "      <td>17.412184</td>\n",
       "      <td>33.088456</td>\n",
       "      <td>89.758988</td>\n",
       "      <td>9615.665236</td>\n",
       "    </tr>\n",
       "    <tr>\n",
       "      <th>2005</th>\n",
       "      <td>365.0</td>\n",
       "      <td>94.572163</td>\n",
       "      <td>322.885919</td>\n",
       "      <td>0.920051</td>\n",
       "      <td>6.770788</td>\n",
       "      <td>14.437313</td>\n",
       "      <td>42.667955</td>\n",
       "      <td>3207.504359</td>\n",
       "    </tr>\n",
       "    <tr>\n",
       "      <th>2006</th>\n",
       "      <td>365.0</td>\n",
       "      <td>103.594872</td>\n",
       "      <td>286.285363</td>\n",
       "      <td>2.215275</td>\n",
       "      <td>8.332053</td>\n",
       "      <td>19.396549</td>\n",
       "      <td>68.005749</td>\n",
       "      <td>2315.470122</td>\n",
       "    </tr>\n",
       "    <tr>\n",
       "      <th>2007</th>\n",
       "      <td>365.0</td>\n",
       "      <td>274.071711</td>\n",
       "      <td>1175.587052</td>\n",
       "      <td>1.048816</td>\n",
       "      <td>4.730968</td>\n",
       "      <td>19.056678</td>\n",
       "      <td>94.829335</td>\n",
       "      <td>16117.567343</td>\n",
       "    </tr>\n",
       "    <tr>\n",
       "      <th>2008</th>\n",
       "      <td>366.0</td>\n",
       "      <td>155.230320</td>\n",
       "      <td>622.981053</td>\n",
       "      <td>0.866483</td>\n",
       "      <td>8.090088</td>\n",
       "      <td>19.184318</td>\n",
       "      <td>59.546936</td>\n",
       "      <td>7835.765141</td>\n",
       "    </tr>\n",
       "    <tr>\n",
       "      <th>2009</th>\n",
       "      <td>365.0</td>\n",
       "      <td>424.845355</td>\n",
       "      <td>2661.928614</td>\n",
       "      <td>2.188936</td>\n",
       "      <td>13.337077</td>\n",
       "      <td>31.845850</td>\n",
       "      <td>93.744256</td>\n",
       "      <td>45611.357164</td>\n",
       "    </tr>\n",
       "    <tr>\n",
       "      <th>2010</th>\n",
       "      <td>365.0</td>\n",
       "      <td>147.246019</td>\n",
       "      <td>772.759991</td>\n",
       "      <td>4.457882</td>\n",
       "      <td>9.731603</td>\n",
       "      <td>21.970905</td>\n",
       "      <td>50.190810</td>\n",
       "      <td>11839.463868</td>\n",
       "    </tr>\n",
       "    <tr>\n",
       "      <th>2011</th>\n",
       "      <td>365.0</td>\n",
       "      <td>294.420900</td>\n",
       "      <td>1138.704001</td>\n",
       "      <td>3.612738</td>\n",
       "      <td>10.172825</td>\n",
       "      <td>26.374905</td>\n",
       "      <td>116.508735</td>\n",
       "      <td>14162.977141</td>\n",
       "    </tr>\n",
       "    <tr>\n",
       "      <th>2012</th>\n",
       "      <td>366.0</td>\n",
       "      <td>149.085380</td>\n",
       "      <td>512.580473</td>\n",
       "      <td>0.942825</td>\n",
       "      <td>4.550360</td>\n",
       "      <td>18.948410</td>\n",
       "      <td>88.524736</td>\n",
       "      <td>5717.726254</td>\n",
       "    </tr>\n",
       "    <tr>\n",
       "      <th>2013</th>\n",
       "      <td>365.0</td>\n",
       "      <td>271.480817</td>\n",
       "      <td>1274.265488</td>\n",
       "      <td>1.481676</td>\n",
       "      <td>6.885242</td>\n",
       "      <td>16.460330</td>\n",
       "      <td>56.165153</td>\n",
       "      <td>12973.887705</td>\n",
       "    </tr>\n",
       "    <tr>\n",
       "      <th>2014</th>\n",
       "      <td>365.0</td>\n",
       "      <td>396.477342</td>\n",
       "      <td>2920.280450</td>\n",
       "      <td>1.910858</td>\n",
       "      <td>8.900574</td>\n",
       "      <td>25.095487</td>\n",
       "      <td>108.106824</td>\n",
       "      <td>46312.451802</td>\n",
       "    </tr>\n",
       "    <tr>\n",
       "      <th>2015</th>\n",
       "      <td>365.0</td>\n",
       "      <td>328.252921</td>\n",
       "      <td>1568.944476</td>\n",
       "      <td>1.766706</td>\n",
       "      <td>5.258547</td>\n",
       "      <td>14.869755</td>\n",
       "      <td>85.476455</td>\n",
       "      <td>21619.528724</td>\n",
       "    </tr>\n",
       "    <tr>\n",
       "      <th>2016</th>\n",
       "      <td>366.0</td>\n",
       "      <td>153.971430</td>\n",
       "      <td>616.396000</td>\n",
       "      <td>1.000953</td>\n",
       "      <td>3.300052</td>\n",
       "      <td>11.216733</td>\n",
       "      <td>56.105916</td>\n",
       "      <td>7460.453186</td>\n",
       "    </tr>\n",
       "    <tr>\n",
       "      <th>2017</th>\n",
       "      <td>365.0</td>\n",
       "      <td>555.561089</td>\n",
       "      <td>2159.710737</td>\n",
       "      <td>0.698364</td>\n",
       "      <td>10.505989</td>\n",
       "      <td>61.486711</td>\n",
       "      <td>269.081872</td>\n",
       "      <td>28803.107451</td>\n",
       "    </tr>\n",
       "    <tr>\n",
       "      <th>2018</th>\n",
       "      <td>365.0</td>\n",
       "      <td>796.897687</td>\n",
       "      <td>4933.391777</td>\n",
       "      <td>1.846535</td>\n",
       "      <td>10.314753</td>\n",
       "      <td>45.194152</td>\n",
       "      <td>198.052390</td>\n",
       "      <td>83684.802786</td>\n",
       "    </tr>\n",
       "    <tr>\n",
       "      <th>2019</th>\n",
       "      <td>32.0</td>\n",
       "      <td>1647.061402</td>\n",
       "      <td>4459.840140</td>\n",
       "      <td>9.589877</td>\n",
       "      <td>97.093126</td>\n",
       "      <td>284.595094</td>\n",
       "      <td>1796.431693</td>\n",
       "      <td>25356.842687</td>\n",
       "    </tr>\n",
       "  </tbody>\n",
       "</table>\n",
       "</div>"
      ],
      "text/plain": [
       "           count         mean          std       min        25%         50%  \\\n",
       "waterYear                                                                     \n",
       "1996       274.0   183.119889  1703.488807  1.856715   9.732140   20.396036   \n",
       "1997       365.0    67.416349   213.259299  2.068665  12.227918   19.826721   \n",
       "1998       182.0   236.120570  1753.172342  2.963729  11.850770   22.618499   \n",
       "2000       366.0    52.154335   128.289137  1.768501   6.212031   14.888469   \n",
       "2001       365.0    48.671279   223.247919  1.132500   6.115166   10.060157   \n",
       "2002       365.0    88.152662   604.693879  1.793841   7.844750   16.894908   \n",
       "2003       365.0    79.972220   234.490224  2.252670  10.299107   18.208451   \n",
       "2004       366.0   175.467355   732.923364  3.923977  17.412184   33.088456   \n",
       "2005       365.0    94.572163   322.885919  0.920051   6.770788   14.437313   \n",
       "2006       365.0   103.594872   286.285363  2.215275   8.332053   19.396549   \n",
       "2007       365.0   274.071711  1175.587052  1.048816   4.730968   19.056678   \n",
       "2008       366.0   155.230320   622.981053  0.866483   8.090088   19.184318   \n",
       "2009       365.0   424.845355  2661.928614  2.188936  13.337077   31.845850   \n",
       "2010       365.0   147.246019   772.759991  4.457882   9.731603   21.970905   \n",
       "2011       365.0   294.420900  1138.704001  3.612738  10.172825   26.374905   \n",
       "2012       366.0   149.085380   512.580473  0.942825   4.550360   18.948410   \n",
       "2013       365.0   271.480817  1274.265488  1.481676   6.885242   16.460330   \n",
       "2014       365.0   396.477342  2920.280450  1.910858   8.900574   25.095487   \n",
       "2015       365.0   328.252921  1568.944476  1.766706   5.258547   14.869755   \n",
       "2016       366.0   153.971430   616.396000  1.000953   3.300052   11.216733   \n",
       "2017       365.0   555.561089  2159.710737  0.698364  10.505989   61.486711   \n",
       "2018       365.0   796.897687  4933.391777  1.846535  10.314753   45.194152   \n",
       "2019        32.0  1647.061402  4459.840140  9.589877  97.093126  284.595094   \n",
       "\n",
       "                   75%           max  \n",
       "waterYear                             \n",
       "1996         33.961726  27587.121479  \n",
       "1997         41.109110   2855.179612  \n",
       "1998         48.612108  22732.783768  \n",
       "2000         36.503252   1306.755280  \n",
       "2001         23.395584   3551.144539  \n",
       "2002         35.900113  11048.066183  \n",
       "2003         44.629473   2157.988825  \n",
       "2004         89.758988   9615.665236  \n",
       "2005         42.667955   3207.504359  \n",
       "2006         68.005749   2315.470122  \n",
       "2007         94.829335  16117.567343  \n",
       "2008         59.546936   7835.765141  \n",
       "2009         93.744256  45611.357164  \n",
       "2010         50.190810  11839.463868  \n",
       "2011        116.508735  14162.977141  \n",
       "2012         88.524736   5717.726254  \n",
       "2013         56.165153  12973.887705  \n",
       "2014        108.106824  46312.451802  \n",
       "2015         85.476455  21619.528724  \n",
       "2016         56.105916   7460.453186  \n",
       "2017        269.081872  28803.107451  \n",
       "2018        198.052390  83684.802786  \n",
       "2019       1796.431693  25356.842687  "
      ]
     },
     "execution_count": 111,
     "metadata": {},
     "output_type": "execute_result"
    }
   ],
   "source": [
    "EGRET_Daily.groupby(['waterYear'])['FluxYearMTA'].describe()"
   ]
  },
  {
   "cell_type": "code",
   "execution_count": null,
   "metadata": {},
   "outputs": [],
   "source": []
  }
 ],
 "metadata": {
  "kernelspec": {
   "display_name": "Python 3",
   "language": "python",
   "name": "python3"
  },
  "language_info": {
   "codemirror_mode": {
    "name": "ipython",
    "version": 3
   },
   "file_extension": ".py",
   "mimetype": "text/x-python",
   "name": "python",
   "nbconvert_exporter": "python",
   "pygments_lexer": "ipython3",
   "version": "3.6.3"
  }
 },
 "nbformat": 4,
 "nbformat_minor": 2
}
