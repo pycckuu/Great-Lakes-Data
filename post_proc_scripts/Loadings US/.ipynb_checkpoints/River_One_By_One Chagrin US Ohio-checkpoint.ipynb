{
 "cells": [
  {
   "cell_type": "code",
   "execution_count": 1,
   "metadata": {},
   "outputs": [],
   "source": [
    "import hydrofunctions as hf\n",
    "import pandas as pd\n",
    "import numpy as np\n",
    "from zipfile import ZipFile\n",
    "import os\n",
    "import datetime\n",
    "import matplotlib.pyplot as plt\n",
    "import seaborn as sns\n",
    "%matplotlib inline\n",
    "sns.set_style(\"ticks\")"
   ]
  },
  {
   "cell_type": "code",
   "execution_count": 7,
   "metadata": {},
   "outputs": [],
   "source": [
    "river='Chagrin_R'"
   ]
  },
  {
   "cell_type": "code",
   "execution_count": 2,
   "metadata": {},
   "outputs": [
    {
     "name": "stderr",
     "output_type": "stream",
     "text": [
      "/Users/imarkelo/anaconda3/lib/python3.6/site-packages/IPython/core/interactiveshell.py:3018: DtypeWarning: Columns (5,7,8,9,10,11,13,14,16,18,19,20,22,23,24,25,30,32,33,35,36,37,39,40,41,42,43,44,47,48,49,50,51,52,53,54,55,56,57,58,59,60,61) have mixed types. Specify dtype option on import or set low_memory=False.\n",
      "  interactivity=interactivity, compiler=compiler, result=result)\n"
     ]
    }
   ],
   "source": [
    "ohio_samples = pd.read_csv(ZipFile('../../measurements/USGS stream data/OHIO samples-2.zip').open(name='result.csv'))\n"
   ]
  },
  {
   "cell_type": "code",
   "execution_count": 3,
   "metadata": {},
   "outputs": [
    {
     "name": "stderr",
     "output_type": "stream",
     "text": [
      "/Users/imarkelo/anaconda3/lib/python3.6/site-packages/IPython/core/interactiveshell.py:3018: DtypeWarning: Columns (14,27,28,29,32,34) have mixed types. Specify dtype option on import or set low_memory=False.\n",
      "  interactivity=interactivity, compiler=compiler, result=result)\n"
     ]
    }
   ],
   "source": [
    "stations = pd.read_csv('../../measurements/USGS stream data/OHIO station info.csv')"
   ]
  },
  {
   "cell_type": "code",
   "execution_count": 4,
   "metadata": {},
   "outputs": [],
   "source": [
    "location = (41.543895, -81.413478)"
   ]
  },
  {
   "cell_type": "code",
   "execution_count": 5,
   "metadata": {},
   "outputs": [],
   "source": [
    "r_stations = stations[(stations.LatitudeMeasure>location[0]-0.5) & (stations.LatitudeMeasure<location[0]+0.5) &\n",
    "                     (stations.LongitudeMeasure>location[1]-0.5) & (stations.LongitudeMeasure<location[1]+0.5)]"
   ]
  },
  {
   "cell_type": "code",
   "execution_count": 6,
   "metadata": {},
   "outputs": [
    {
     "name": "stderr",
     "output_type": "stream",
     "text": [
      "/Users/imarkelo/anaconda3/lib/python3.6/site-packages/ipykernel_launcher.py:2: SettingWithCopyWarning: \n",
      "A value is trying to be set on a copy of a slice from a DataFrame.\n",
      "Try using .loc[row_indexer,col_indexer] = value instead\n",
      "\n",
      "See the caveats in the documentation: http://pandas.pydata.org/pandas-docs/stable/indexing.html#indexing-view-versus-copy\n",
      "  \n"
     ]
    },
    {
     "data": {
      "text/plain": [
       "(3293, 63)"
      ]
     },
     "execution_count": 6,
     "metadata": {},
     "output_type": "execute_result"
    }
   ],
   "source": [
    "csv_file_df = ohio_samples[ohio_samples.MonitoringLocationIdentifier.isin(r_stations.MonitoringLocationIdentifier.unique())]\n",
    "csv_file_df['ActivityStartDate'] = pd.to_datetime(csv_file_df['ActivityStartDate'], errors='coerce')\n",
    "# database = csv_file_df.ProviderName.unique()[0]\n",
    "df = pd.DataFrame(columns=['Date', 'MonitoringLocationIdentifier'])\n",
    "df = csv_file_df\n",
    "df = csv_file_df[(csv_file_df['CharacteristicName']==\"Phosphorus\") & (csv_file_df['ResultSampleFractionText']==\"Total\") & (csv_file_df['ActivityStartDate'].dt.year>1995)]\n",
    "df.shape              "
   ]
  },
  {
   "cell_type": "code",
   "execution_count": 9,
   "metadata": {},
   "outputs": [],
   "source": [
    "Show_IDS = [[st, False] for st in df.MonitoringLocationIdentifier.unique()] "
   ]
  },
  {
   "cell_type": "code",
   "execution_count": 64,
   "metadata": {
    "scrolled": false
   },
   "outputs": [
    {
     "name": "stdout",
     "output_type": "stream",
     "text": [
      "USGS-04209000\n",
      "21OHIO_WQX-502400\n"
     ]
    },
    {
     "data": {
      "text/html": [
       "<div style=\"width:100%;\"><div style=\"position:relative;width:100%;height:0;padding-bottom:60%;\"><iframe src=\"data:text/html;charset=utf-8;base64,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\" style=\"position:absolute;width:100%;height:100%;left:0;top:0;border:none !important;\" allowfullscreen webkitallowfullscreen mozallowfullscreen></iframe></div></div>"
      ],
      "text/plain": [
       "<folium.folium.Map at 0x12a38ec88>"
      ]
     },
     "execution_count": 64,
     "metadata": {},
     "output_type": "execute_result"
    }
   ],
   "source": [
    "import folium\n",
    "# import folium.plugins as plugins\n",
    "from folium.plugins import MiniMap\n",
    "from folium.plugins.beautify_icon import BeautifyIcon\n",
    "from folium.features import DivIcon\n",
    "\n",
    "\n",
    "\n",
    "# m = folium.Map(width=500,height=300, location=location, zoom_start=11.,tiles=\"OpenStreetMap\", attr='Global Water Futures')\n",
    "m = folium.Map(width=700,height=500, \n",
    "                location=location,\n",
    "               control_scale = True,\n",
    "                 zoom_start=11.5,\n",
    "               zoom_control=False,\n",
    "                 tiles='https://tile.thunderforest.com/outdoors/{z}/{x}/{y}.png?apikey=34dad269f6ab438c9534def56b86fa5f',\n",
    "                 API_key='34dad269f6ab438c9534def56b86fa5f',\n",
    "                attr='Global Water Futures')\n",
    "\n",
    "# show all\n",
    "# for index, st_dic in enumerate(Show_IDS):\n",
    "#     st = st_dic[0]\n",
    "#     N = df[df.MonitoringLocationIdentifier==st].shape[0]\n",
    "#     if N>10:\n",
    "#         st_df = stations[stations.MonitoringLocationIdentifier == st]\n",
    "#         folium.Marker(location=[st_df.LatitudeMeasure.values[0], \n",
    "#                                 st_df.LongitudeMeasure.values[0]], \n",
    "#                                   popup=folium.Popup(html=st_df.MonitoringLocationIdentifier.values[0] + '\\n' + 'N:{}'.format(N),\n",
    "#                                 show=False, max_width=10), icon=folium.Icon(icon='arrow-down', color='gray')\n",
    "#                      ).add_to(m)\n",
    "\n",
    "\n",
    "\n",
    "Show_IDS = [\n",
    "[\"USGS-04209000\", True],\n",
    "[\"21OHIO_WQX-502400\", True],\n",
    "# [\"21OHIO_WQX-302580\", False],\n",
    "# [\"21OHIO_WQX-302581\", False],\n",
    "# [\"21OHIO_WQX-200013\", False],\n",
    "# [\"21OHIO_WQX-F01A21\", False],\n",
    "# [\"USGS-04208504\", False],\n",
    "# [\"21OHIO_WQX-502130\", False],\n",
    "# [\"USGS-04208000\", False],\n",
    "# [\"21OHIO_WQX-F01S11\", True],\n",
    "]\n",
    "\n",
    "\n",
    "\n",
    "for index, st_dic in enumerate(Show_IDS):\n",
    "    st = st_dic[0]\n",
    "    print(st)\n",
    "    if st_dic[1]:\n",
    "        clr='#f44242'\n",
    "    else:\n",
    "        clr='#0b15c4'\n",
    "    st_df = stations[stations.MonitoringLocationIdentifier == st]\n",
    "    folium.CircleMarker(location=[st_df.LatitudeMeasure.values[0], \n",
    "                            st_df.LongitudeMeasure.values[0]], radius=23, \n",
    "                        fill=True, fill_color='white',\n",
    "                            color = clr,fill_opacity=1,\n",
    "                       weight=5).add_to(m)\n",
    "    if not index in [0]:\n",
    "        folium.map.Marker(\n",
    "        location=[st_df.LatitudeMeasure.values[0]+0.0065,st_df.LongitudeMeasure.values[0]-0.026],\n",
    "        icon=DivIcon(\n",
    "            icon_size=(150,36),\n",
    "            icon_anchor=(0,0),\n",
    "            html='<div style=\"font-size: 24pt;text-align: center;vertical-align: middle\">{}</div>'.format(index+1),\n",
    "            )\n",
    "        ).add_to(m)\n",
    "\n",
    "\n",
    "m\n",
    "\n"
   ]
  },
  {
   "cell_type": "code",
   "execution_count": 83,
   "metadata": {},
   "outputs": [],
   "source": [
    "selected_stations = [s[0] for s in Show_IDS]\n",
    "selected_stations = selected_stations[1:]\n",
    "# selected_stations = selected_stations[:-1] + ['HTLP (NCWQR)']\n",
    "# selected_stations = selected_stations = ['21OHIO_WQX-301641',\n",
    "#  '21OHIO_WQX-201838',\n",
    "#  '21OHIO_WQX-301644',\n",
    "#   'HTLP (NCWQR)',\n",
    "#  '21OHIO_WQX-500080',\n",
    "#  'USGS-04193500',\n",
    "#  '21OHIO_WQX-303008',\n",
    "#  '21OHIO_WQX-500170',\n",
    "#  '21OHIO_WQX-301857',\n",
    "#  '21OHIO_WQX-201851',\n",
    "#  '21OHIO_WQX-201856',\n",
    "#  '21OHIO_WQX-201859',\n",
    "#  'USGS-04192500',\n",
    "#  '21OHIO_WQX-P09W19']"
   ]
  },
  {
   "cell_type": "code",
   "execution_count": 84,
   "metadata": {},
   "outputs": [],
   "source": [
    "# selected_stations = [\"USGS-04209000\"]"
   ]
  },
  {
   "cell_type": "code",
   "execution_count": 85,
   "metadata": {},
   "outputs": [
    {
     "name": "stderr",
     "output_type": "stream",
     "text": [
      "/Users/imarkelo/anaconda3/lib/python3.6/site-packages/ipykernel_launcher.py:5: SettingWithCopyWarning: \n",
      "A value is trying to be set on a copy of a slice from a DataFrame.\n",
      "Try using .loc[row_indexer,col_indexer] = value instead\n",
      "\n",
      "See the caveats in the documentation: http://pandas.pydata.org/pandas-docs/stable/indexing.html#indexing-view-versus-copy\n",
      "  \"\"\"\n",
      "/Users/imarkelo/anaconda3/lib/python3.6/site-packages/ipykernel_launcher.py:10: SettingWithCopyWarning: \n",
      "A value is trying to be set on a copy of a slice from a DataFrame.\n",
      "Try using .loc[row_indexer,col_indexer] = value instead\n",
      "\n",
      "See the caveats in the documentation: http://pandas.pydata.org/pandas-docs/stable/indexing.html#indexing-view-versus-copy\n",
      "  # Remove the CWD from sys.path while we load stuff.\n"
     ]
    },
    {
     "data": {
      "text/plain": [
       "(28, 63)"
      ]
     },
     "execution_count": 85,
     "metadata": {},
     "output_type": "execute_result"
    }
   ],
   "source": [
    "WQP_name = \"Phosphorus\"\n",
    "\n",
    "\n",
    "csv_file_df = ohio_samples[ohio_samples.MonitoringLocationIdentifier.isin(selected_stations)]\n",
    "csv_file_df['ActivityStartDate'] = pd.to_datetime(csv_file_df['ActivityStartDate'], errors='coerce')\n",
    "# database = csv_file_df.ProviderName.unique()[0]\n",
    "df = pd.DataFrame(columns=['Date', 'MonitoringLocationIdentifier'])\n",
    "sp = csv_file_df[(csv_file_df['CharacteristicName']==WQP_name) & (csv_file_df['ResultSampleFractionText']==\"Total\") & (csv_file_df['ActivityStartDate'].dt.year>1995)]\n",
    "# sp = sp[sp.ResultMeasureValue<0.5]\n",
    "sp['ResultMeasureValue'] = pd.to_numeric(sp['ResultMeasureValue'])\n",
    "sp.shape\n",
    "\n"
   ]
  },
  {
   "cell_type": "code",
   "execution_count": 86,
   "metadata": {},
   "outputs": [],
   "source": [
    "# df_heideleberg = pd.read_csv('/Users/imarkelo/git/Great-Lakes-Data/post_proc_scripts/Heidelberg/proc_data/TP_Cuyahoga_River_data.csv')\n",
    "\n",
    "# df_heideleberg['Date'] =pd.to_datetime(df_heideleberg['Date'], errors='coerce')\n",
    "# df_heideleberg['MonitoringLocationIdentifier'] = 'HTLP (NCWQR)'\n",
    "# df_heideleberg['ActivityStartDate']=df_heideleberg['Date']\n",
    "# df_heideleberg['ResultMeasureValue']=df_heideleberg['TP, mg/L as P']\n",
    "# sp= sp.append(df_heideleberg)\n",
    "# sp=sp.sort_values('MonitoringLocationIdentifier', ascending=False)\n",
    "# sp['Station']=sp['MonitoringLocationIdentifier']\n",
    "# sp.shape\n"
   ]
  },
  {
   "cell_type": "code",
   "execution_count": 87,
   "metadata": {},
   "outputs": [],
   "source": [
    "pt = sns.color_palette(\"colorblind\", len(selected_stations))"
   ]
  },
  {
   "cell_type": "code",
   "execution_count": 88,
   "metadata": {},
   "outputs": [
    {
     "data": {
      "text/plain": [
       "1"
      ]
     },
     "execution_count": 88,
     "metadata": {},
     "output_type": "execute_result"
    }
   ],
   "source": [
    "len(selected_stations)"
   ]
  },
  {
   "cell_type": "code",
   "execution_count": 89,
   "metadata": {},
   "outputs": [
    {
     "data": {
      "text/plain": [
       "array(['mg/l', nan], dtype=object)"
      ]
     },
     "execution_count": 89,
     "metadata": {},
     "output_type": "execute_result"
    }
   ],
   "source": [
    "sp['ResultMeasure/MeasureUnitCode'].unique()"
   ]
  },
  {
   "cell_type": "code",
   "execution_count": null,
   "metadata": {},
   "outputs": [],
   "source": []
  },
  {
   "cell_type": "code",
   "execution_count": 90,
   "metadata": {},
   "outputs": [
    {
     "data": {
      "text/plain": [
       "'Chagrin_R'"
      ]
     },
     "execution_count": 90,
     "metadata": {},
     "output_type": "execute_result"
    }
   ],
   "source": [
    "river"
   ]
  },
  {
   "cell_type": "code",
   "execution_count": 91,
   "metadata": {},
   "outputs": [
    {
     "data": {
      "image/png": "[encoded data removed]",
      "text/plain": [
       "<Figure size 600x400 with 1 Axes>"
      ]
     },
     "metadata": {},
     "output_type": "display_data"
    }
   ],
   "source": [
    "\n",
    "fig,ax=plt.subplots(1,1,figsize=(6,4), dpi=100)\n",
    "colors = [\"windows blue\", \"greyish\", \"faded green\", \"dusty purple\", \"amber\"]\n",
    "ax = sns.scatterplot(x='ActivityStartDate', y='ResultMeasureValue', data=sp, hue_order=selected_stations, hue='MonitoringLocationIdentifier', palette=pt)\n",
    "leg = [\"({}) - {}\".format(i+1,st) for i, st in enumerate(selected_stations)]\n",
    "\n",
    "leg_handles = ax.get_legend_handles_labels()[0]\n",
    "ax.legend(leg_handles[1:], leg, title='Stations', fontsize='x-small', loc=2)\n",
    "\n",
    "# ax.legend(['(1) - HTLP (NCWQR)'], title='Stations', fontsize='x-small', loc=2)\n",
    "\n",
    "plt.ylim(0,0.2)\n",
    "plt.xlim(datetime.datetime(1996,1,1), datetime.datetime(2018,1,1))\n",
    "plt.grid(alpha=0.5)\n",
    "plt.ylabel(\"Total Phosphorus as P, mg/L\")\n",
    "plt.xlabel(\"\")\n",
    "plt.tight_layout()\n",
    "plt.savefig('One_by_one/Western/US/'+river+'/'+river+'_TP.pdf')\n",
    "plt.savefig('/Users/imarkelo/Google Drive/GDocuments/Lake Erie/Draft/Rivers_tables/img/Western/US/'+river+'/'+river+'_TP.pdf')\n",
    "\n"
   ]
  },
  {
   "cell_type": "code",
   "execution_count": 92,
   "metadata": {},
   "outputs": [
    {
     "name": "stdout",
     "output_type": "stream",
     "text": [
      "\\begin{tabular}{lrrrrrrrr}\n",
      "\\toprule\n",
      "{} &  count &  mean &   std &   min &   25\\% &   50\\% &   75\\% &   max \\\\\n",
      "MonitoringLocationIdentifier &        &       &       &       &       &       &       &       \\\\\n",
      "\\midrule\n",
      "21OHIO\\_WQX-502400            &   25.0 &  0.04 &  0.04 &  0.01 &  0.02 &  0.03 &  0.05 &  0.14 \\\\\n",
      "\\bottomrule\n",
      "\\end{tabular}\n",
      "\n"
     ]
    }
   ],
   "source": [
    "print(sp.groupby('MonitoringLocationIdentifier')[\"ResultMeasureValue\"].describe().reindex(selected_stations).round(2).to_latex())\n"
   ]
  },
  {
   "cell_type": "code",
   "execution_count": 93,
   "metadata": {},
   "outputs": [
    {
     "data": {
      "text/plain": [
       "['21OHIO_WQX-502400']"
      ]
     },
     "execution_count": 93,
     "metadata": {},
     "output_type": "execute_result"
    }
   ],
   "source": [
    "selected_stations"
   ]
  },
  {
   "cell_type": "code",
   "execution_count": 94,
   "metadata": {},
   "outputs": [
    {
     "data": {
      "text/plain": [
       "(28, 63)"
      ]
     },
     "execution_count": 94,
     "metadata": {},
     "output_type": "execute_result"
    }
   ],
   "source": [
    "master_stations = [st[0] for st in Show_IDS if st[1]]\n",
    "# master_stations = ['HTLP (NCWQR)']\n",
    "master_st_df = sp[sp.MonitoringLocationIdentifier.isin(master_stations)]\n",
    "master_st_df['USGSPCode'] = 0\n",
    "master_st_df.shape"
   ]
  },
  {
   "cell_type": "code",
   "execution_count": 95,
   "metadata": {},
   "outputs": [
    {
     "data": {
      "text/plain": [
       "(28, 6)"
      ]
     },
     "execution_count": 95,
     "metadata": {},
     "output_type": "execute_result"
    }
   ],
   "source": [
    "master_st_df.groupby('ActivityStartDate').mean().shape"
   ]
  },
  {
   "cell_type": "code",
   "execution_count": 96,
   "metadata": {},
   "outputs": [],
   "source": [
    "master_st_df[master_st_df.MonitoringLocationIdentifier.isin(master_stations)][[\n",
    "    'ActivityStartDate','USGSPCode', 'ResultMeasureValue']].groupby('ActivityStartDate').mean().reset_index().sort_values('ActivityStartDate').to_csv(\n",
    "    'One_by_one/Western/US/'+river+'/TP_'+river+'iver_data.csv', index=False)"
   ]
  },
  {
   "cell_type": "markdown",
   "metadata": {},
   "source": [
    "### Discharge"
   ]
  },
  {
   "cell_type": "code",
   "execution_count": 31,
   "metadata": {},
   "outputs": [],
   "source": [
    "# Finde station here:\n",
    "# https://www.hydrocloud.org\n",
    "site = '04209000'\n",
    "start = '1996-01-01'\n",
    "end = '2018-11-01'\n",
    "response = hf.get_nwis(site, 'dv',start, end)\n",
    "# response.get_data()\n",
    "discharge = hf.extract_nwis_df(response.json())"
   ]
  },
  {
   "cell_type": "code",
   "execution_count": 32,
   "metadata": {},
   "outputs": [
    {
     "data": {
      "text/plain": [
       "Index(['USGS:04209000:00060:00003', 'USGS:04209000:00060:00003_qualifiers'], dtype='object')"
      ]
     },
     "execution_count": 32,
     "metadata": {},
     "output_type": "execute_result"
    }
   ],
   "source": [
    "discharge.columns"
   ]
  },
  {
   "cell_type": "code",
   "execution_count": 33,
   "metadata": {},
   "outputs": [],
   "source": [
    "discharge['Flow, CFS']=discharge['USGS:'+site+':00060:00003']"
   ]
  },
  {
   "cell_type": "code",
   "execution_count": 34,
   "metadata": {},
   "outputs": [],
   "source": [
    "discharge= discharge.reset_index()\n",
    "discharge['Date']  = discharge['datetime']\n",
    "discharge['Date'] =pd.to_datetime(discharge['Date'], errors='coerce')\n",
    "discharge = discharge[['Date', 'Flow, CFS']]\n",
    "discharge['Source'] = 'USGS-'+site"
   ]
  },
  {
   "cell_type": "code",
   "execution_count": 35,
   "metadata": {},
   "outputs": [],
   "source": [
    "discharge[discharge.Source=='USGS-'+site][['Date', 'Flow, CFS']].dropna().to_csv('One_by_one/Western/US/'+river+'/Flow_'+river+'_CFS.csv', index=False)\n"
   ]
  },
  {
   "cell_type": "code",
   "execution_count": 97,
   "metadata": {},
   "outputs": [],
   "source": [
    "# df_Q_heideleberg = pd.read_csv('/Users/imarkelo/git/Great-Lakes-Data/post_proc_scripts/Heidelberg/proc_data/Flow_Cuyahoga_River_data.csv')\n",
    "# df_Q_heideleberg['Date'] =pd.to_datetime(df_Q_heideleberg['Date'], errors='coerce')\n",
    "# df_Q_heideleberg['Source'] = 'HTLP (NCWQR)'\n",
    "# df_Q_heideleberg['Discharge, cms'] = 0.028*df_Q_heideleberg['Flow, CFS']\n"
   ]
  },
  {
   "cell_type": "code",
   "execution_count": 104,
   "metadata": {},
   "outputs": [],
   "source": [
    "# discharge = discharge.append(df_Q_heideleberg)"
   ]
  },
  {
   "cell_type": "code",
   "execution_count": 36,
   "metadata": {},
   "outputs": [],
   "source": [
    "discharge['Discharge, cms'] = 0.028*discharge['Flow, CFS']"
   ]
  },
  {
   "cell_type": "code",
   "execution_count": 37,
   "metadata": {},
   "outputs": [
    {
     "data": {
      "text/plain": [
       "'Chagrin_R'"
      ]
     },
     "execution_count": 37,
     "metadata": {},
     "output_type": "execute_result"
    }
   ],
   "source": [
    "river"
   ]
  },
  {
   "cell_type": "code",
   "execution_count": 97,
   "metadata": {},
   "outputs": [
    {
     "data": {
      "image/png": "[encoded data removed]",
      "text/plain": [
       "<Figure size 600x400 with 1 Axes>"
      ]
     },
     "metadata": {},
     "output_type": "display_data"
    }
   ],
   "source": [
    "fig,ax=plt.subplots(1,1,figsize=(6,4), dpi=100)\n",
    "ax=sns.lineplot(x='Date', y='Discharge, cms', data=discharge, hue='Source',ax=ax)\n",
    "\n",
    "from mpl_toolkits.axes_grid1.inset_locator import zoomed_inset_axes\n",
    "\n",
    "\n",
    "ax.legend(['(2) - USGS-'+site], loc=2, fontsize='small')\n",
    "ax.set_ylim(0,350)\n",
    "ax.set_xlim(datetime.datetime(1996,1,1), datetime.datetime(2018,1,1))\n",
    "ax.grid(alpha=0.5)\n",
    "ax.set_ylabel(\"Discharge, m$^3$/s\")\n",
    "ax.set_xlabel(\"Year\")\n",
    "\n",
    "# axins = zoomed_inset_axes(ax, 8, loc='upper center')\n",
    "# sns.lineplot(x='Date', y='Discharge, cms', data=discharge, hue='Source', ax=axins,zorder=10)\n",
    "# axins.set_xlim(datetime.datetime(2010,4,1), datetime.datetime(2010,6,1)) # apply the x-limits\n",
    "# axins.set_ylim(0, 10) # apply the y-limits\n",
    "# plt.yticks(visible=False)\n",
    "# plt.xticks(visible=False)\n",
    "# from mpl_toolkits.axes_grid1.inset_locator import mark_inset\n",
    "# mark_inset(ax, axins, loc1=2, loc2=4, fc=\"none\", ec=\"0.5\")\n",
    "\n",
    "plt.savefig('One_by_one/Western/US/'+river+'/'+river+'_Q.pdf')\n",
    "plt.savefig('/Users/imarkelo/Google Drive/GDocuments/Lake Erie/Draft/Rivers_tables/img/Western/US/'+river+'/'+river+'_Q.pdf')"
   ]
  },
  {
   "cell_type": "code",
   "execution_count": 98,
   "metadata": {},
   "outputs": [],
   "source": [
    "discharge[['Date', 'Flow, CFS']].to_csv('One_by_one/Western/US/'+river+'/Flow_'+river+'_CFS.csv', index=False)"
   ]
  },
  {
   "cell_type": "markdown",
   "metadata": {},
   "source": [
    "### EGRET Results"
   ]
  },
  {
   "cell_type": "code",
   "execution_count": 99,
   "metadata": {},
   "outputs": [
    {
     "data": {
      "text/plain": [
       "'Chagrin_R'"
      ]
     },
     "execution_count": 99,
     "metadata": {},
     "output_type": "execute_result"
    }
   ],
   "source": [
    "river"
   ]
  },
  {
   "cell_type": "code",
   "execution_count": 44,
   "metadata": {},
   "outputs": [],
   "source": [
    "\n",
    "EGRET_Daily = pd.read_csv('/Users/imarkelo/git/Great-Lakes-Data/post_proc_scripts/Loadings US/One_by_one/Western/US/'+river+'/EGRET Result/TP/'+river+'iver_TP_Daily.csv')\n",
    "EGRET_Sample = pd.read_csv('/Users/imarkelo/git/Great-Lakes-Data/post_proc_scripts/Loadings US/One_by_one/Western/US/'+river+'/EGRET Result/TP/'+river+'iver_TP_Sample.csv')\n"
   ]
  },
  {
   "cell_type": "code",
   "execution_count": 45,
   "metadata": {},
   "outputs": [],
   "source": [
    "EGRET_Sample['Fx_Hat'] = EGRET_Sample['Q']*60*60*24*1000 * EGRET_Sample['ConcHat']/1000/1000\n",
    "EGRET_Sample['Fx_C'] = EGRET_Sample['Q']*60*60*24*1000 * EGRET_Sample['ConcAve']/1000/1000\n"
   ]
  },
  {
   "cell_type": "code",
   "execution_count": 47,
   "metadata": {},
   "outputs": [
    {
     "data": {
      "image/png": "[encoded data removed]",
      "text/plain": [
       "<Figure size 600x400 with 1 Axes>"
      ]
     },
     "metadata": {},
     "output_type": "display_data"
    }
   ],
   "source": [
    "fig,ax=plt.subplots(1,1,figsize=(6,4), dpi=100)\n",
    "sns.scatterplot(y='Fx_C', \n",
    "                x='Fx_Hat',\n",
    "                data=EGRET_Sample,\n",
    "                s=15,\n",
    "                linewidth=0.3, ax=ax,\n",
    "               color=sns.color_palette(\"Blues\")[4])\n",
    "# plt.legend(\"\")\n",
    "ax.set_xscale('log')\n",
    "ax.set_yscale('log')\n",
    "plt.plot([-100,1000000],[-100,1000000], 'k', lw=0.5)\n",
    "lim=10**3\n",
    "plt.xlim(10,lim)\n",
    "plt.ylim(10,lim)\n",
    "# plt.xlim(datetime.datetime(1996,1,1), datetime.datetime(2018,1,1))\n",
    "plt.grid(alpha=0.5)\n",
    "plt.xlabel(\"Estimated Phosphorus Loads, kg/day\")\n",
    "plt.ylabel(\"Observed Phosphorus Loads, kg/day\")\n",
    "# plt.xlabel(\"\")\n",
    "plt.tight_layout()\n",
    "plt.savefig('/Users/imarkelo/Google Drive/GDocuments/Lake Erie/Draft/Rivers_tables/img/Western/US/'+river+'/'+river+'_FvsF.pdf')\n"
   ]
  },
  {
   "cell_type": "code",
   "execution_count": 48,
   "metadata": {},
   "outputs": [],
   "source": [
    "EGRET_Daily['FluxYearMTA'] = EGRET_Daily['FluxDay']*365/1000\n",
    "EGRET_Daily['Fx_SE'] = (np.exp(EGRET_Daily['SE']+EGRET_Daily['yHat']) * EGRET_Daily['Q']*60*60*24*1000/1000/1000/1000-np.exp(EGRET_Daily['yHat']) * EGRET_Daily['Q']*60*60*24*1000/1000/1000/1000)*365\n",
    "EGRET_Daily_an = EGRET_Daily.groupby('waterYear').mean().reset_index()\n"
   ]
  },
  {
   "cell_type": "code",
   "execution_count": 56,
   "metadata": {},
   "outputs": [
    {
     "data": {
      "image/png": "[encoded data removed]",
      "text/plain": [
       "<Figure size 600x400 with 1 Axes>"
      ]
     },
     "metadata": {},
     "output_type": "display_data"
    }
   ],
   "source": [
    "fig,ax=plt.subplots(1,1,figsize=(6,4), dpi=100)\n",
    "\n",
    "# sns.boxplot(EGRET_Daily['waterYear'], EGRET_Daily['ConcDay'], color=sns.color_palette()[0])\n",
    "\n",
    "# plt.fill_between(EGRET_Daily_an['waterYear'][5:-1],\n",
    "#                  np.exp(EGRET_Daily_an['yHat'][5:-1]-EGRET_Daily_an['SE'][5:-1]),\n",
    "#                  np.exp(EGRET_Daily_an['yHat'][5:-1]+EGRET_Daily_an['SE'][5:-1]), \n",
    "#                  color=sns.color_palette()[0], alpha=0.15)\n",
    "# plt.plot(EGRET_Daily_an['waterYear'][5:-1], EGRET_Daily_an['FluxYearMTA'][5:-1])\n",
    "\n",
    "# sns.scatterplot(x=\"waterYear\", y=\"FluxYearMTA\",\n",
    "#                 sizes=(1, 8), linewidth=0.3,\n",
    "#                 data=EGRET_Daily_an, ax=ax)\n",
    "\n",
    "meanpointprops = dict(marker='.', markeredgecolor='black', markersize=6,markerfacecolor='black')\n",
    "ax = sns.boxplot(showmeans=True, linewidth=0.5, meanprops=meanpointprops, x=\"waterYear\", y=\"ConcDay\", data=EGRET_Daily, showfliers=False, color=sns.color_palette(\"Blues\")[2])\n",
    "# ax.set_yscale('log')\n",
    "# plt.legend(\"\")\n",
    "# plt.plot([-100,100],[-100,100], 'k', lw=0.5)\n",
    "# plt.xlim(2003,2018)\n",
    "plt.xlim(4.5, 20.5)\n",
    "plt.xticks([int(x) for x in np.linspace(5,19,8)], [int(x) for x in np.linspace(2003,2017, 8)])\n",
    "plt.ylim(0,0.35)\n",
    "\n",
    "plt.grid(alpha=0.5)\n",
    "plt.ylabel(\"Total Phosphorus Concentration, mg/l\")\n",
    "plt.xlabel(\"\")\n",
    "# plt.savefig('One_by_one/Western/US/Portage R/Portage Q.pdf')\n",
    "plt.savefig('/Users/imarkelo/Google Drive/GDocuments/Lake Erie/Draft/Rivers_tables/img/Western/US/'+river+'/'+river+'_PC.pdf')\n",
    "\n",
    "\n"
   ]
  },
  {
   "cell_type": "code",
   "execution_count": 57,
   "metadata": {},
   "outputs": [],
   "source": [
    "EGRET_Daily_an['Fx_AE'] = (abs(EGRET_Sample['Fx_Hat'] - EGRET_Sample['Fx_C'])/EGRET_Sample['Fx_C']).mean()*EGRET_Daily_an['FluxYearMTA']\n",
    "\n",
    "\n"
   ]
  },
  {
   "cell_type": "code",
   "execution_count": 59,
   "metadata": {},
   "outputs": [
    {
     "data": {
      "image/png": "[encoded data removed]",
      "text/plain": [
       "<Figure size 600x400 with 1 Axes>"
      ]
     },
     "metadata": {},
     "output_type": "display_data"
    }
   ],
   "source": [
    "fig,ax=plt.subplots(1,1,figsize=(6,4), dpi=100)\n",
    "\n",
    "plt.plot(EGRET_Daily_an['waterYear'], EGRET_Daily_an['FluxYearMTA'], c=sns.color_palette()[0])\n",
    "\n",
    "plt.fill_between(EGRET_Daily_an['waterYear'],\n",
    "                 EGRET_Daily_an['FluxYearMTA']-EGRET_Daily_an['Fx_SE'],\n",
    "                 EGRET_Daily_an['FluxYearMTA']+EGRET_Daily_an['Fx_SE'], \n",
    "                 color=sns.color_palette()[0], alpha=0.15)\n",
    "# plt.plot(EGRET_Daily_an['waterYear'][5:-1], EGRET_Daily_an['FluxYearMTA'][5:-1])\n",
    "\n",
    "# sns.scatterplot(x=\"waterYear\", y=\"FluxYearMTA\",\n",
    "#                 sizes=(1, 8), linewidth=0.3,\n",
    "#                 data=EGRET_Daily_an, ax=ax)\n",
    "\n",
    "# meanpointprops = dict(marker='D', markeredgecolor='black', markersize=1,markerfacecolor=sns.color_palette()[3])\n",
    "# ax = sns.boxplot(linewidth=0.5, meanprops=meanpointprops, x=\"waterYear\", y=\"FluxYearMTA\", data=EGRET_Daily, showfliers=False, color=sns.color_palette(\"Blues\")[2])\n",
    "# ax.set_yscale('log')\n",
    "# plt.legend(\"\")\n",
    "# plt.plot([-100,100],[-100,100], 'k', lw=0.5)\n",
    "plt.xlim(2003,2018)\n",
    "# plt.xticks([int(x) for x in np.linspace(5,19,8)], [int(x) for x in np.linspace(2003,2017, 8)])\n",
    "plt.ylim(0,200)\n",
    "# plt.xlim(datetime.datetime(1996,1,1), datetime.datetime(2018,1,1))\n",
    "plt.grid(alpha=0.5)\n",
    "plt.ylabel(\"Phosphorus Loads, MTA\")\n",
    "plt.xlabel(\"\")\n",
    "# plt.savefig('One_by_one/Western/US/Portage R/Portage Q.pdf')\n",
    "plt.savefig('/Users/imarkelo/Google Drive/GDocuments/Lake Erie/Draft/Rivers_tables/img/Western/US/'+river+'/'+river+'_PFlux.pdf')\n"
   ]
  },
  {
   "cell_type": "code",
   "execution_count": 60,
   "metadata": {},
   "outputs": [
    {
     "name": "stdout",
     "output_type": "stream",
     "text": [
      "\\begin{tabular}{rrr}\n",
      "\\toprule\n",
      " waterYear &  FluxYearMTA &  Fx\\_SE \\\\\n",
      "\\midrule\n",
      "      1996 &        153.9 &   82.8 \\\\\n",
      "      1997 &        157.3 &   82.1 \\\\\n",
      "      1998 &         99.3 &   51.4 \\\\\n",
      "      1999 &         51.0 &   27.0 \\\\\n",
      "      2002 &         52.8 &   27.8 \\\\\n",
      "      2003 &         65.7 &   34.5 \\\\\n",
      "      2004 &         86.1 &   44.2 \\\\\n",
      "      2005 &         95.5 &   49.1 \\\\\n",
      "      2006 &         58.0 &   32.2 \\\\\n",
      "      2007 &         48.9 &   25.7 \\\\\n",
      "      2008 &         48.7 &   26.0 \\\\\n",
      "      2009 &         28.8 &   15.4 \\\\\n",
      "      2010 &         22.3 &   11.5 \\\\\n",
      "      2011 &         46.7 &   23.5 \\\\\n",
      "      2012 &         17.9 &    9.5 \\\\\n",
      "      2013 &         21.8 &   11.3 \\\\\n",
      "      2014 &         21.6 &   11.1 \\\\\n",
      "      2015 &         25.1 &   12.8 \\\\\n",
      "      2016 &          8.7 &    4.3 \\\\\n",
      "      2017 &         16.0 &    7.7 \\\\\n",
      "      2018 &         13.3 &    6.6 \\\\\n",
      "      2019 &          4.1 &    2.3 \\\\\n",
      "\\bottomrule\n",
      "\\end{tabular}\n",
      "\n"
     ]
    }
   ],
   "source": [
    "print(EGRET_Daily_an[['waterYear', 'FluxYearMTA','Fx_SE']].round(1).to_latex(index=False))"
   ]
  },
  {
   "cell_type": "code",
   "execution_count": 127,
   "metadata": {},
   "outputs": [
    {
     "data": {
      "text/html": [
       "<div>\n",
       "<style scoped>\n",
       "    .dataframe tbody tr th:only-of-type {\n",
       "        vertical-align: middle;\n",
       "    }\n",
       "\n",
       "    .dataframe tbody tr th {\n",
       "        vertical-align: top;\n",
       "    }\n",
       "\n",
       "    .dataframe thead th {\n",
       "        text-align: right;\n",
       "    }\n",
       "</style>\n",
       "<table border=\"1\" class=\"dataframe\">\n",
       "  <thead>\n",
       "    <tr style=\"text-align: right;\">\n",
       "      <th></th>\n",
       "      <th>count</th>\n",
       "      <th>mean</th>\n",
       "      <th>std</th>\n",
       "      <th>min</th>\n",
       "      <th>25%</th>\n",
       "      <th>50%</th>\n",
       "      <th>75%</th>\n",
       "      <th>max</th>\n",
       "    </tr>\n",
       "    <tr>\n",
       "      <th>waterYear</th>\n",
       "      <th></th>\n",
       "      <th></th>\n",
       "      <th></th>\n",
       "      <th></th>\n",
       "      <th></th>\n",
       "      <th></th>\n",
       "      <th></th>\n",
       "      <th></th>\n",
       "    </tr>\n",
       "  </thead>\n",
       "  <tbody>\n",
       "    <tr>\n",
       "      <th>1982</th>\n",
       "      <td>285.0</td>\n",
       "      <td>461.120906</td>\n",
       "      <td>493.811642</td>\n",
       "      <td>67.024914</td>\n",
       "      <td>146.094188</td>\n",
       "      <td>291.973136</td>\n",
       "      <td>548.257836</td>\n",
       "      <td>3259.952051</td>\n",
       "    </tr>\n",
       "    <tr>\n",
       "      <th>1983</th>\n",
       "      <td>345.0</td>\n",
       "      <td>435.042420</td>\n",
       "      <td>638.893104</td>\n",
       "      <td>79.234890</td>\n",
       "      <td>131.811197</td>\n",
       "      <td>250.702089</td>\n",
       "      <td>476.169298</td>\n",
       "      <td>7703.830958</td>\n",
       "    </tr>\n",
       "    <tr>\n",
       "      <th>1984</th>\n",
       "      <td>346.0</td>\n",
       "      <td>480.738207</td>\n",
       "      <td>713.687475</td>\n",
       "      <td>54.915851</td>\n",
       "      <td>126.484353</td>\n",
       "      <td>223.651173</td>\n",
       "      <td>551.097762</td>\n",
       "      <td>5707.548882</td>\n",
       "    </tr>\n",
       "    <tr>\n",
       "      <th>1985</th>\n",
       "      <td>353.0</td>\n",
       "      <td>361.186693</td>\n",
       "      <td>624.624070</td>\n",
       "      <td>54.542258</td>\n",
       "      <td>109.658390</td>\n",
       "      <td>168.960981</td>\n",
       "      <td>339.196575</td>\n",
       "      <td>5585.546118</td>\n",
       "    </tr>\n",
       "    <tr>\n",
       "      <th>1986</th>\n",
       "      <td>353.0</td>\n",
       "      <td>400.181318</td>\n",
       "      <td>608.906499</td>\n",
       "      <td>35.355199</td>\n",
       "      <td>94.955786</td>\n",
       "      <td>180.221050</td>\n",
       "      <td>466.685495</td>\n",
       "      <td>5186.141908</td>\n",
       "    </tr>\n",
       "    <tr>\n",
       "      <th>1987</th>\n",
       "      <td>341.0</td>\n",
       "      <td>313.482684</td>\n",
       "      <td>554.730371</td>\n",
       "      <td>61.388465</td>\n",
       "      <td>93.697576</td>\n",
       "      <td>144.972097</td>\n",
       "      <td>283.280035</td>\n",
       "      <td>4977.332821</td>\n",
       "    </tr>\n",
       "    <tr>\n",
       "      <th>1988</th>\n",
       "      <td>279.0</td>\n",
       "      <td>144.520872</td>\n",
       "      <td>204.798047</td>\n",
       "      <td>24.537320</td>\n",
       "      <td>51.328183</td>\n",
       "      <td>88.229796</td>\n",
       "      <td>145.558588</td>\n",
       "      <td>1823.809171</td>\n",
       "    </tr>\n",
       "    <tr>\n",
       "      <th>1989</th>\n",
       "      <td>303.0</td>\n",
       "      <td>290.700666</td>\n",
       "      <td>663.435857</td>\n",
       "      <td>24.207118</td>\n",
       "      <td>68.169536</td>\n",
       "      <td>104.250747</td>\n",
       "      <td>223.842450</td>\n",
       "      <td>7641.164020</td>\n",
       "    </tr>\n",
       "    <tr>\n",
       "      <th>1990</th>\n",
       "      <td>220.0</td>\n",
       "      <td>274.205416</td>\n",
       "      <td>488.340701</td>\n",
       "      <td>25.501454</td>\n",
       "      <td>84.701311</td>\n",
       "      <td>146.877283</td>\n",
       "      <td>259.460613</td>\n",
       "      <td>5175.050247</td>\n",
       "    </tr>\n",
       "    <tr>\n",
       "      <th>1991</th>\n",
       "      <td>322.0</td>\n",
       "      <td>314.758081</td>\n",
       "      <td>785.647939</td>\n",
       "      <td>18.272139</td>\n",
       "      <td>39.507437</td>\n",
       "      <td>125.434709</td>\n",
       "      <td>249.585817</td>\n",
       "      <td>8860.063487</td>\n",
       "    </tr>\n",
       "    <tr>\n",
       "      <th>1992</th>\n",
       "      <td>238.0</td>\n",
       "      <td>142.055937</td>\n",
       "      <td>462.138461</td>\n",
       "      <td>19.135245</td>\n",
       "      <td>32.925118</td>\n",
       "      <td>44.786894</td>\n",
       "      <td>74.232807</td>\n",
       "      <td>6215.136693</td>\n",
       "    </tr>\n",
       "    <tr>\n",
       "      <th>1993</th>\n",
       "      <td>335.0</td>\n",
       "      <td>255.855070</td>\n",
       "      <td>495.444548</td>\n",
       "      <td>26.974087</td>\n",
       "      <td>59.497371</td>\n",
       "      <td>114.015918</td>\n",
       "      <td>243.908499</td>\n",
       "      <td>5893.028053</td>\n",
       "    </tr>\n",
       "    <tr>\n",
       "      <th>1994</th>\n",
       "      <td>345.0</td>\n",
       "      <td>193.547978</td>\n",
       "      <td>473.928193</td>\n",
       "      <td>23.541021</td>\n",
       "      <td>55.541579</td>\n",
       "      <td>80.314853</td>\n",
       "      <td>152.280737</td>\n",
       "      <td>6949.904631</td>\n",
       "    </tr>\n",
       "    <tr>\n",
       "      <th>1995</th>\n",
       "      <td>329.0</td>\n",
       "      <td>137.461640</td>\n",
       "      <td>305.801220</td>\n",
       "      <td>17.455198</td>\n",
       "      <td>43.439473</td>\n",
       "      <td>65.251462</td>\n",
       "      <td>115.870570</td>\n",
       "      <td>4382.184314</td>\n",
       "    </tr>\n",
       "    <tr>\n",
       "      <th>1996</th>\n",
       "      <td>337.0</td>\n",
       "      <td>230.236622</td>\n",
       "      <td>354.151621</td>\n",
       "      <td>28.388057</td>\n",
       "      <td>61.874584</td>\n",
       "      <td>105.260686</td>\n",
       "      <td>240.812061</td>\n",
       "      <td>3536.124365</td>\n",
       "    </tr>\n",
       "    <tr>\n",
       "      <th>1997</th>\n",
       "      <td>318.0</td>\n",
       "      <td>314.154438</td>\n",
       "      <td>514.906678</td>\n",
       "      <td>46.783056</td>\n",
       "      <td>90.061319</td>\n",
       "      <td>152.526411</td>\n",
       "      <td>302.568595</td>\n",
       "      <td>4214.240703</td>\n",
       "    </tr>\n",
       "    <tr>\n",
       "      <th>1998</th>\n",
       "      <td>361.0</td>\n",
       "      <td>190.622719</td>\n",
       "      <td>346.758745</td>\n",
       "      <td>34.575681</td>\n",
       "      <td>58.326072</td>\n",
       "      <td>88.859298</td>\n",
       "      <td>169.165792</td>\n",
       "      <td>3093.296802</td>\n",
       "    </tr>\n",
       "    <tr>\n",
       "      <th>1999</th>\n",
       "      <td>363.0</td>\n",
       "      <td>124.505193</td>\n",
       "      <td>223.190045</td>\n",
       "      <td>23.976087</td>\n",
       "      <td>42.090394</td>\n",
       "      <td>53.467735</td>\n",
       "      <td>101.649534</td>\n",
       "      <td>1966.898215</td>\n",
       "    </tr>\n",
       "    <tr>\n",
       "      <th>2000</th>\n",
       "      <td>342.0</td>\n",
       "      <td>201.515170</td>\n",
       "      <td>413.300559</td>\n",
       "      <td>38.843744</td>\n",
       "      <td>61.049750</td>\n",
       "      <td>85.990579</td>\n",
       "      <td>161.217453</td>\n",
       "      <td>4032.121299</td>\n",
       "    </tr>\n",
       "    <tr>\n",
       "      <th>2001</th>\n",
       "      <td>354.0</td>\n",
       "      <td>125.708557</td>\n",
       "      <td>213.963515</td>\n",
       "      <td>42.233907</td>\n",
       "      <td>55.475069</td>\n",
       "      <td>70.467422</td>\n",
       "      <td>111.514485</td>\n",
       "      <td>3193.922167</td>\n",
       "    </tr>\n",
       "    <tr>\n",
       "      <th>2002</th>\n",
       "      <td>342.0</td>\n",
       "      <td>178.546885</td>\n",
       "      <td>296.647082</td>\n",
       "      <td>35.939334</td>\n",
       "      <td>51.501591</td>\n",
       "      <td>80.082854</td>\n",
       "      <td>170.828078</td>\n",
       "      <td>2904.175043</td>\n",
       "    </tr>\n",
       "    <tr>\n",
       "      <th>2003</th>\n",
       "      <td>340.0</td>\n",
       "      <td>492.620583</td>\n",
       "      <td>1379.208719</td>\n",
       "      <td>36.455170</td>\n",
       "      <td>61.581865</td>\n",
       "      <td>132.161260</td>\n",
       "      <td>363.241769</td>\n",
       "      <td>16172.342578</td>\n",
       "    </tr>\n",
       "    <tr>\n",
       "      <th>2004</th>\n",
       "      <td>330.0</td>\n",
       "      <td>403.951735</td>\n",
       "      <td>597.929980</td>\n",
       "      <td>57.520953</td>\n",
       "      <td>124.939427</td>\n",
       "      <td>219.185987</td>\n",
       "      <td>394.409140</td>\n",
       "      <td>5864.173607</td>\n",
       "    </tr>\n",
       "    <tr>\n",
       "      <th>2005</th>\n",
       "      <td>277.0</td>\n",
       "      <td>222.314922</td>\n",
       "      <td>494.693219</td>\n",
       "      <td>47.359472</td>\n",
       "      <td>60.631846</td>\n",
       "      <td>105.621030</td>\n",
       "      <td>211.569430</td>\n",
       "      <td>6608.779878</td>\n",
       "    </tr>\n",
       "    <tr>\n",
       "      <th>2006</th>\n",
       "      <td>334.0</td>\n",
       "      <td>229.589005</td>\n",
       "      <td>403.245836</td>\n",
       "      <td>36.737037</td>\n",
       "      <td>70.694763</td>\n",
       "      <td>119.524406</td>\n",
       "      <td>215.297834</td>\n",
       "      <td>4177.169453</td>\n",
       "    </tr>\n",
       "    <tr>\n",
       "      <th>2007</th>\n",
       "      <td>357.0</td>\n",
       "      <td>338.980342</td>\n",
       "      <td>652.906420</td>\n",
       "      <td>34.498900</td>\n",
       "      <td>68.826195</td>\n",
       "      <td>131.325713</td>\n",
       "      <td>291.612121</td>\n",
       "      <td>5429.423125</td>\n",
       "    </tr>\n",
       "    <tr>\n",
       "      <th>2008</th>\n",
       "      <td>351.0</td>\n",
       "      <td>282.168704</td>\n",
       "      <td>527.419889</td>\n",
       "      <td>30.099767</td>\n",
       "      <td>54.142712</td>\n",
       "      <td>111.871269</td>\n",
       "      <td>252.664073</td>\n",
       "      <td>5942.003717</td>\n",
       "    </tr>\n",
       "    <tr>\n",
       "      <th>2009</th>\n",
       "      <td>348.0</td>\n",
       "      <td>180.205104</td>\n",
       "      <td>347.528638</td>\n",
       "      <td>24.092127</td>\n",
       "      <td>47.922086</td>\n",
       "      <td>79.136030</td>\n",
       "      <td>153.041911</td>\n",
       "      <td>3537.887281</td>\n",
       "    </tr>\n",
       "    <tr>\n",
       "      <th>2010</th>\n",
       "      <td>339.0</td>\n",
       "      <td>120.108117</td>\n",
       "      <td>152.327908</td>\n",
       "      <td>25.907385</td>\n",
       "      <td>45.627256</td>\n",
       "      <td>64.729006</td>\n",
       "      <td>124.358104</td>\n",
       "      <td>1117.630507</td>\n",
       "    </tr>\n",
       "    <tr>\n",
       "      <th>2011</th>\n",
       "      <td>341.0</td>\n",
       "      <td>425.164679</td>\n",
       "      <td>830.804568</td>\n",
       "      <td>29.917554</td>\n",
       "      <td>61.329198</td>\n",
       "      <td>128.364957</td>\n",
       "      <td>389.964550</td>\n",
       "      <td>6865.333256</td>\n",
       "    </tr>\n",
       "    <tr>\n",
       "      <th>2012</th>\n",
       "      <td>351.0</td>\n",
       "      <td>273.055503</td>\n",
       "      <td>620.956922</td>\n",
       "      <td>20.387419</td>\n",
       "      <td>42.461802</td>\n",
       "      <td>101.616380</td>\n",
       "      <td>244.691827</td>\n",
       "      <td>7414.403946</td>\n",
       "    </tr>\n",
       "    <tr>\n",
       "      <th>2013</th>\n",
       "      <td>327.0</td>\n",
       "      <td>204.447348</td>\n",
       "      <td>610.546560</td>\n",
       "      <td>25.281472</td>\n",
       "      <td>51.459952</td>\n",
       "      <td>95.582565</td>\n",
       "      <td>179.865923</td>\n",
       "      <td>9584.266093</td>\n",
       "    </tr>\n",
       "    <tr>\n",
       "      <th>2014</th>\n",
       "      <td>343.0</td>\n",
       "      <td>198.307453</td>\n",
       "      <td>326.308970</td>\n",
       "      <td>24.038809</td>\n",
       "      <td>57.254055</td>\n",
       "      <td>94.050137</td>\n",
       "      <td>220.656119</td>\n",
       "      <td>3762.407345</td>\n",
       "    </tr>\n",
       "    <tr>\n",
       "      <th>2015</th>\n",
       "      <td>330.0</td>\n",
       "      <td>232.949390</td>\n",
       "      <td>440.691354</td>\n",
       "      <td>24.344687</td>\n",
       "      <td>51.936788</td>\n",
       "      <td>74.457504</td>\n",
       "      <td>178.579367</td>\n",
       "      <td>3996.489652</td>\n",
       "    </tr>\n",
       "    <tr>\n",
       "      <th>2016</th>\n",
       "      <td>356.0</td>\n",
       "      <td>107.927798</td>\n",
       "      <td>170.824687</td>\n",
       "      <td>20.177280</td>\n",
       "      <td>30.750971</td>\n",
       "      <td>51.467483</td>\n",
       "      <td>103.555445</td>\n",
       "      <td>1804.049843</td>\n",
       "    </tr>\n",
       "    <tr>\n",
       "      <th>2017</th>\n",
       "      <td>309.0</td>\n",
       "      <td>199.647342</td>\n",
       "      <td>398.719503</td>\n",
       "      <td>22.563992</td>\n",
       "      <td>42.038221</td>\n",
       "      <td>88.267401</td>\n",
       "      <td>183.915585</td>\n",
       "      <td>4986.876597</td>\n",
       "    </tr>\n",
       "    <tr>\n",
       "      <th>2018</th>\n",
       "      <td>253.0</td>\n",
       "      <td>231.641177</td>\n",
       "      <td>487.633296</td>\n",
       "      <td>0.137093</td>\n",
       "      <td>45.407964</td>\n",
       "      <td>85.739834</td>\n",
       "      <td>174.366644</td>\n",
       "      <td>5374.817729</td>\n",
       "    </tr>\n",
       "  </tbody>\n",
       "</table>\n",
       "</div>"
      ],
      "text/plain": [
       "           count        mean          std        min         25%         50%  \\\n",
       "waterYear                                                                      \n",
       "1982       285.0  461.120906   493.811642  67.024914  146.094188  291.973136   \n",
       "1983       345.0  435.042420   638.893104  79.234890  131.811197  250.702089   \n",
       "1984       346.0  480.738207   713.687475  54.915851  126.484353  223.651173   \n",
       "1985       353.0  361.186693   624.624070  54.542258  109.658390  168.960981   \n",
       "1986       353.0  400.181318   608.906499  35.355199   94.955786  180.221050   \n",
       "1987       341.0  313.482684   554.730371  61.388465   93.697576  144.972097   \n",
       "1988       279.0  144.520872   204.798047  24.537320   51.328183   88.229796   \n",
       "1989       303.0  290.700666   663.435857  24.207118   68.169536  104.250747   \n",
       "1990       220.0  274.205416   488.340701  25.501454   84.701311  146.877283   \n",
       "1991       322.0  314.758081   785.647939  18.272139   39.507437  125.434709   \n",
       "1992       238.0  142.055937   462.138461  19.135245   32.925118   44.786894   \n",
       "1993       335.0  255.855070   495.444548  26.974087   59.497371  114.015918   \n",
       "1994       345.0  193.547978   473.928193  23.541021   55.541579   80.314853   \n",
       "1995       329.0  137.461640   305.801220  17.455198   43.439473   65.251462   \n",
       "1996       337.0  230.236622   354.151621  28.388057   61.874584  105.260686   \n",
       "1997       318.0  314.154438   514.906678  46.783056   90.061319  152.526411   \n",
       "1998       361.0  190.622719   346.758745  34.575681   58.326072   88.859298   \n",
       "1999       363.0  124.505193   223.190045  23.976087   42.090394   53.467735   \n",
       "2000       342.0  201.515170   413.300559  38.843744   61.049750   85.990579   \n",
       "2001       354.0  125.708557   213.963515  42.233907   55.475069   70.467422   \n",
       "2002       342.0  178.546885   296.647082  35.939334   51.501591   80.082854   \n",
       "2003       340.0  492.620583  1379.208719  36.455170   61.581865  132.161260   \n",
       "2004       330.0  403.951735   597.929980  57.520953  124.939427  219.185987   \n",
       "2005       277.0  222.314922   494.693219  47.359472   60.631846  105.621030   \n",
       "2006       334.0  229.589005   403.245836  36.737037   70.694763  119.524406   \n",
       "2007       357.0  338.980342   652.906420  34.498900   68.826195  131.325713   \n",
       "2008       351.0  282.168704   527.419889  30.099767   54.142712  111.871269   \n",
       "2009       348.0  180.205104   347.528638  24.092127   47.922086   79.136030   \n",
       "2010       339.0  120.108117   152.327908  25.907385   45.627256   64.729006   \n",
       "2011       341.0  425.164679   830.804568  29.917554   61.329198  128.364957   \n",
       "2012       351.0  273.055503   620.956922  20.387419   42.461802  101.616380   \n",
       "2013       327.0  204.447348   610.546560  25.281472   51.459952   95.582565   \n",
       "2014       343.0  198.307453   326.308970  24.038809   57.254055   94.050137   \n",
       "2015       330.0  232.949390   440.691354  24.344687   51.936788   74.457504   \n",
       "2016       356.0  107.927798   170.824687  20.177280   30.750971   51.467483   \n",
       "2017       309.0  199.647342   398.719503  22.563992   42.038221   88.267401   \n",
       "2018       253.0  231.641177   487.633296   0.137093   45.407964   85.739834   \n",
       "\n",
       "                  75%           max  \n",
       "waterYear                            \n",
       "1982       548.257836   3259.952051  \n",
       "1983       476.169298   7703.830958  \n",
       "1984       551.097762   5707.548882  \n",
       "1985       339.196575   5585.546118  \n",
       "1986       466.685495   5186.141908  \n",
       "1987       283.280035   4977.332821  \n",
       "1988       145.558588   1823.809171  \n",
       "1989       223.842450   7641.164020  \n",
       "1990       259.460613   5175.050247  \n",
       "1991       249.585817   8860.063487  \n",
       "1992        74.232807   6215.136693  \n",
       "1993       243.908499   5893.028053  \n",
       "1994       152.280737   6949.904631  \n",
       "1995       115.870570   4382.184314  \n",
       "1996       240.812061   3536.124365  \n",
       "1997       302.568595   4214.240703  \n",
       "1998       169.165792   3093.296802  \n",
       "1999       101.649534   1966.898215  \n",
       "2000       161.217453   4032.121299  \n",
       "2001       111.514485   3193.922167  \n",
       "2002       170.828078   2904.175043  \n",
       "2003       363.241769  16172.342578  \n",
       "2004       394.409140   5864.173607  \n",
       "2005       211.569430   6608.779878  \n",
       "2006       215.297834   4177.169453  \n",
       "2007       291.612121   5429.423125  \n",
       "2008       252.664073   5942.003717  \n",
       "2009       153.041911   3537.887281  \n",
       "2010       124.358104   1117.630507  \n",
       "2011       389.964550   6865.333256  \n",
       "2012       244.691827   7414.403946  \n",
       "2013       179.865923   9584.266093  \n",
       "2014       220.656119   3762.407345  \n",
       "2015       178.579367   3996.489652  \n",
       "2016       103.555445   1804.049843  \n",
       "2017       183.915585   4986.876597  \n",
       "2018       174.366644   5374.817729  "
      ]
     },
     "execution_count": 127,
     "metadata": {},
     "output_type": "execute_result"
    }
   ],
   "source": [
    "EGRET_Daily.groupby(['waterYear'])['FluxYearMTA'].describe()"
   ]
  },
  {
   "cell_type": "code",
   "execution_count": null,
   "metadata": {},
   "outputs": [],
   "source": []
  }
 ],
 "metadata": {
  "kernelspec": {
   "display_name": "Python 3",
   "language": "python",
   "name": "python3"
  },
  "language_info": {
   "codemirror_mode": {
    "name": "ipython",
    "version": 3
   },
   "file_extension": ".py",
   "mimetype": "text/x-python",
   "name": "python",
   "nbconvert_exporter": "python",
   "pygments_lexer": "ipython3",
   "version": "3.6.3"
  }
 },
 "nbformat": 4,
 "nbformat_minor": 2
}
