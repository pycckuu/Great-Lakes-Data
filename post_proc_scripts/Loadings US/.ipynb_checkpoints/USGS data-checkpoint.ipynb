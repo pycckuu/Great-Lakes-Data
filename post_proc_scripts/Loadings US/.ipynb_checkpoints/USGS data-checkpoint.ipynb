{
 "cells": [
  {
   "cell_type": "code",
   "execution_count": 142,
   "metadata": {},
   "outputs": [],
   "source": [
    "import pandas as pd\n",
    "import numpy as np\n",
    "from zipfile import ZipFile\n",
    "import os"
   ]
  },
  {
   "cell_type": "code",
   "execution_count": 121,
   "metadata": {},
   "outputs": [
    {
     "name": "stderr",
     "output_type": "stream",
     "text": [
      "/Users/imarkelo/anaconda3/lib/python3.6/site-packages/IPython/core/interactiveshell.py:3018: DtypeWarning: Columns (5,7,8,9,10,11,19,20,24,25,30,32,33,37,39,40,41,42,44,49,50,51,52,53,54,55,56,57,58,60,61) have mixed types. Specify dtype option on import or set low_memory=False.\n",
      "  interactivity=interactivity, compiler=compiler, result=result)\n"
     ]
    }
   ],
   "source": [
    "maumee = pd.read_csv(ZipFile('../../measurements/USGS stream data/Western/Maumee/USGS-04193500.csv.zip').open(name='USGS-04193500.csv'))\n",
    "maumee['ActivityStartDate'] = pd.to_datetime(maumee['ActivityStartDate'], errors='coerce')"
   ]
  },
  {
   "cell_type": "code",
   "execution_count": 122,
   "metadata": {},
   "outputs": [],
   "source": [
    "species = {}\n",
    "\n",
    "species['00650'] = 'Phosphate, water, unfiltered'\n",
    "species['00653'] = 'Phosphate, water, filtered'\n",
    "species['00660'] = 'Orthophosphate, water, filtered'\n",
    "species['00662'] = 'Phosphorus, water, unfiltered, recoverable'\n",
    "species['00665'] = 'Phosphorus, water, unfiltered'\n",
    "species['00666'] = 'Phosphorus, water, filtered'\n",
    "species['00669'] = 'Hydrolyzable phosphorus, water, unfiltered'\n",
    "species['00670'] = 'Organic phosphorus, water, unfiltered'\n",
    "species['00671'] = 'Orthophosphate, water, filtered'\n",
    "species['00672'] = 'Hydrolyzable phosphorus, water, filtered'\n",
    "species['00673'] = 'Organic phosphorus, water, filtered'\n",
    "\n",
    "\n",
    "species['00600'] = 'Total nitrogen [nitrate + nitrite + ammonia + organic-N], water, unfiltered'\n",
    "species['00602'] = 'Total nitrogen [nitrate + nitrite + ammonia + organic-N], water, filtered'\n",
    "species['00605'] = 'Organic nitrogen, water, unfiltered'\n",
    "species['00607'] = 'Organic nitrogen, water, filtered'\n",
    "species['00608'] = 'Ammonia (NH3 + NH4+), water, filtered'\n",
    "species['00610'] = 'Ammonia (NH3 + NH4+), water, unfiltered'\n",
    "species['00613'] = 'Nitrite, water, filtered'\n",
    "species['00615'] = 'Nitrite, water, unfiltered'\n",
    "species['00618'] = 'Nitrate, water, filtered'\n",
    "species['00619'] = 'Ammonia (un-ionized), water, unfiltered, calculated'\n",
    "species['00620'] = 'Nitrate, water, unfiltered'\n",
    "species['00623'] = 'Ammonia plus organic nitrogen, water, filtered'\n",
    "species['00625'] = 'Ammonia plus organic nitrogen, water, unfiltered'\n",
    "species['00630'] = 'Nitrate plus nitrite, water, unfiltered'\n",
    "species['00631'] = 'Nitrate plus nitrite, water, filtered'\n",
    "species['00635'] = 'Ammonia plus organic nitrogen, water, unfiltered'\n",
    "species['00636'] = 'Ammonia plus organic nitrogen, water, filtered'\n",
    "species['00639'] = 'Albuminoid nitrogen, water, unfiltered'\n",
    "\n",
    "species['00954'] = 'Silica, water, unfiltered, recoverable'\n",
    "species['00955'] = 'Silica, water, filtered'\n",
    "species['00956'] = 'Silica, water, unfiltered'\n",
    "\n",
    "species['00940'] = 'Chloride, water, filtered'"
   ]
  },
  {
   "cell_type": "code",
   "execution_count": 157,
   "metadata": {},
   "outputs": [
    {
     "name": "stderr",
     "output_type": "stream",
     "text": [
      "/Users/imarkelo/anaconda3/lib/python3.6/site-packages/IPython/core/interactiveshell.py:3018: DtypeWarning: Columns (5,7,8,9,10,11,19,20,24,25,30,32,33,37,39,40,41,42,44,49,50,51,52,53,54,55,56,57,58,60,61) have mixed types. Specify dtype option on import or set low_memory=False.\n",
      "  interactivity=interactivity, compiler=compiler, result=result)\n",
      "/Users/imarkelo/anaconda3/lib/python3.6/site-packages/ipykernel_launcher.py:21: FutureWarning: '.reindex_axis' is deprecated and will be removed in a future version. Use '.reindex' instead.\n"
     ]
    }
   ],
   "source": [
    "basin = 'Western'\n",
    "river = 'Maumee R'\n",
    "file_name = 'Maumee-USGS-04193500.csv.zip'\n",
    "\n",
    "\n",
    "csv_file_df = pd.read_csv(ZipFile('../../measurements/USGS stream data/'+ (\"/\").join([basin, river, file_name])).open(name=file_name[:-4]))\n",
    "csv_file_df['ActivityStartDate'] = pd.to_datetime(csv_file_df['ActivityStartDate'], errors='coerce')\n",
    "database = csv_file_df.ProviderName.unique()[0]\n",
    "\n",
    "df = pd.DataFrame(columns=['Date', 'MonitoringLocationIdentifier'])\n",
    "\n",
    "for code in species.keys():\n",
    "    sp = csv_file_df[(csv_file_df['USGSPCode']==int(code)) & (csv_file_df['ActivityStartDate'].dt.year>1995)][['ActivityStartDate','MonitoringLocationIdentifier','ResultMeasureValue','ResultMeasure/MeasureUnitCode']]\n",
    "    if sp.size > 1:\n",
    "        units = sp['ResultMeasure/MeasureUnitCode'].dropna().unique()[0]\n",
    "        sp.drop(columns=['ResultMeasure/MeasureUnitCode'], inplace=True)\n",
    "        sp['ResultMeasureValue'] = pd.to_numeric(sp['ResultMeasureValue'])\n",
    "        sp = sp.groupby(['MonitoringLocationIdentifier','ActivityStartDate']).mean().reset_index()\n",
    "        sp.rename(columns={'ActivityStartDate':'Date', 'ResultMeasureValue': '{} - {}, {}'.format(code, species[code], units) }, index=str, inplace=True)\n",
    "        df = pd.merge(df, sp, on=['Date', 'MonitoringLocationIdentifier'], how='outer')\n",
    "df = df.reindex_axis(sorted(df.columns), axis=1)\n",
    "df = df.set_index('Date')\n",
    "\n",
    "if not os.path.exists((\"/\").join([basin, river, database])):\n",
    "    os.makedirs((\"/\").join([basin, river, database]))\n",
    "\n",
    "df.to_csv((\"/\").join([basin, river, database, file_name[:-4]]))"
   ]
  },
  {
   "cell_type": "code",
   "execution_count": 161,
   "metadata": {},
   "outputs": [
    {
     "name": "stderr",
     "output_type": "stream",
     "text": [
      "/Users/imarkelo/anaconda3/lib/python3.6/site-packages/ipykernel_launcher.py:21: FutureWarning: '.reindex_axis' is deprecated and will be removed in a future version. Use '.reindex' instead.\n"
     ]
    }
   ],
   "source": [
    "basin = 'Western'\n",
    "river = 'Sandusky R'\n",
    "file_name = 'Sandusky-USGS-410150083125701.csv.zip'\n",
    "\n",
    "\n",
    "csv_file_df = pd.read_csv(ZipFile('../../measurements/USGS stream data/'+ (\"/\").join([basin, river, file_name])).open(name=file_name[:-4]))\n",
    "csv_file_df['ActivityStartDate'] = pd.to_datetime(csv_file_df['ActivityStartDate'], errors='coerce')\n",
    "database = csv_file_df.ProviderName.unique()[0]\n",
    "\n",
    "df = pd.DataFrame(columns=['Date', 'MonitoringLocationIdentifier'])\n",
    "\n",
    "for code in species.keys():\n",
    "    sp = csv_file_df[(csv_file_df['USGSPCode']==int(code)) & (csv_file_df['ActivityStartDate'].dt.year>1995)][['ActivityStartDate','MonitoringLocationIdentifier','ResultMeasureValue','ResultMeasure/MeasureUnitCode']]\n",
    "    if sp.size > 1:\n",
    "        units = sp['ResultMeasure/MeasureUnitCode'].dropna().unique()[0]\n",
    "        sp.drop(columns=['ResultMeasure/MeasureUnitCode'], inplace=True)\n",
    "        sp['ResultMeasureValue'] = pd.to_numeric(sp['ResultMeasureValue'])\n",
    "        sp = sp.groupby(['MonitoringLocationIdentifier','ActivityStartDate']).mean().reset_index()\n",
    "        sp.rename(columns={'ActivityStartDate':'Date', 'ResultMeasureValue': '{} - {}, {}'.format(code, species[code], units) }, index=str, inplace=True)\n",
    "        df = pd.merge(df, sp, on=['Date', 'MonitoringLocationIdentifier'], how='outer')\n",
    "df = df.reindex_axis(sorted(df.columns), axis=1)\n",
    "df.sort_values(by='Date', inplace=True)\n",
    "df = df.set_index('Date')\n",
    "\n",
    "if not os.path.exists((\"/\").join([basin, river, database])):\n",
    "    os.makedirs((\"/\").join([basin, river, database]))\n",
    "\n",
    "df.to_csv((\"/\").join([basin, river, database, file_name[:-4]]))"
   ]
  },
  {
   "cell_type": "code",
   "execution_count": null,
   "metadata": {},
   "outputs": [],
   "source": []
  }
 ],
 "metadata": {
  "kernelspec": {
   "display_name": "Python 3",
   "language": "python",
   "name": "python3"
  },
  "language_info": {
   "codemirror_mode": {
    "name": "ipython",
    "version": 3
   },
   "file_extension": ".py",
   "mimetype": "text/x-python",
   "name": "python",
   "nbconvert_exporter": "python",
   "pygments_lexer": "ipython3",
   "version": "3.6.3"
  }
 },
 "nbformat": 4,
 "nbformat_minor": 2
}
