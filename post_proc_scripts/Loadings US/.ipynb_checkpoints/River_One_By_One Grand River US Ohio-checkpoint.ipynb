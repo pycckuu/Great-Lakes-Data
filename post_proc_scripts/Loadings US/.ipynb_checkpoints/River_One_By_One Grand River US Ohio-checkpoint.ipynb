{
 "cells": [
  {
   "cell_type": "code",
   "execution_count": 2,
   "metadata": {},
   "outputs": [],
   "source": [
    "import hydrofunctions as hf\n",
    "import pandas as pd\n",
    "import numpy as np\n",
    "from zipfile import ZipFile\n",
    "import os\n",
    "import datetime\n",
    "import matplotlib.pyplot as plt\n",
    "import seaborn as sns\n",
    "%matplotlib inline\n",
    "sns.set_style(\"ticks\")"
   ]
  },
  {
   "cell_type": "code",
   "execution_count": 2,
   "metadata": {},
   "outputs": [
    {
     "name": "stderr",
     "output_type": "stream",
     "text": [
      "/Users/imarkelo/anaconda3/lib/python3.6/site-packages/IPython/core/interactiveshell.py:3018: DtypeWarning: Columns (5,7,8,9,10,11,13,14,16,18,19,20,22,23,24,25,30,32,33,35,36,37,39,40,41,42,43,44,47,48,49,50,51,52,53,54,55,56,57,58,59,60,61) have mixed types. Specify dtype option on import or set low_memory=False.\n",
      "  interactivity=interactivity, compiler=compiler, result=result)\n"
     ]
    }
   ],
   "source": [
    "ohio_samples = pd.read_csv(ZipFile('../../measurements/USGS stream data/OHIO samples-2.zip').open(name='result.csv'))\n"
   ]
  },
  {
   "cell_type": "code",
   "execution_count": 3,
   "metadata": {},
   "outputs": [
    {
     "name": "stderr",
     "output_type": "stream",
     "text": [
      "/Users/imarkelo/anaconda3/lib/python3.6/site-packages/IPython/core/interactiveshell.py:3018: DtypeWarning: Columns (14,27,28,29,32,34) have mixed types. Specify dtype option on import or set low_memory=False.\n",
      "  interactivity=interactivity, compiler=compiler, result=result)\n"
     ]
    }
   ],
   "source": [
    "stations = pd.read_csv('../../measurements/USGS stream data/OHIO station info.csv')"
   ]
  },
  {
   "cell_type": "code",
   "execution_count": 71,
   "metadata": {},
   "outputs": [],
   "source": [
    "location = (41.706491, -81.197239)"
   ]
  },
  {
   "cell_type": "code",
   "execution_count": 72,
   "metadata": {},
   "outputs": [],
   "source": [
    "r_stations = stations[(stations.LatitudeMeasure>location[0]-0.5) & (stations.LatitudeMeasure<location[0]+0.5) &\n",
    "                     (stations.LongitudeMeasure>location[1]-0.5) & (stations.LongitudeMeasure<location[1]+0.5)]"
   ]
  },
  {
   "cell_type": "code",
   "execution_count": 73,
   "metadata": {},
   "outputs": [
    {
     "name": "stderr",
     "output_type": "stream",
     "text": [
      "/Users/imarkelo/anaconda3/lib/python3.6/site-packages/ipykernel_launcher.py:2: SettingWithCopyWarning: \n",
      "A value is trying to be set on a copy of a slice from a DataFrame.\n",
      "Try using .loc[row_indexer,col_indexer] = value instead\n",
      "\n",
      "See the caveats in the documentation: http://pandas.pydata.org/pandas-docs/stable/indexing.html#indexing-view-versus-copy\n",
      "  \n"
     ]
    },
    {
     "data": {
      "text/plain": [
       "(479594, 63)"
      ]
     },
     "execution_count": 73,
     "metadata": {},
     "output_type": "execute_result"
    }
   ],
   "source": [
    "csv_file_df = ohio_samples[ohio_samples.MonitoringLocationIdentifier.isin(r_stations.MonitoringLocationIdentifier.unique())]\n",
    "csv_file_df['ActivityStartDate'] = pd.to_datetime(csv_file_df['ActivityStartDate'], errors='coerce')\n",
    "# database = csv_file_df.ProviderName.unique()[0]\n",
    "df = pd.DataFrame(columns=['Date', 'MonitoringLocationIdentifier'])\n",
    "df = csv_file_df\n",
    "# df = csv_file_df[(csv_file_df['CharacteristicName']==\"Phosphorus\") & (csv_file_df['ResultSampleFractionText']==\"Total\") & (csv_file_df['ActivityStartDate'].dt.year>1995)]\n",
    "df.shape              "
   ]
  },
  {
   "cell_type": "code",
   "execution_count": 74,
   "metadata": {},
   "outputs": [],
   "source": [
    "Show_IDS = [[st, False] for st in df.MonitoringLocationIdentifier.unique()] "
   ]
  },
  {
   "cell_type": "code",
   "execution_count": 125,
   "metadata": {
    "scrolled": false
   },
   "outputs": [
    {
     "name": "stdout",
     "output_type": "stream",
     "text": [
      "21OHIO_WQX-200572\n",
      "21OHIO_WQX-502520\n",
      "21OHIO_WQX-G02S14\n",
      "USGS-04212100\n",
      "USGS-04211820\n",
      "21OHIO_WQX-G02K52\n",
      "21OHIO_WQX-G02K54\n",
      "21OHIO_WQX-300187\n",
      "21OHIO_WQX-G01K08\n",
      "21OHIO_WQX-G01K07\n"
     ]
    },
    {
     "data": {
      "text/html": [
       "<div style=\"width:100%;\"><div style=\"position:relative;width:100%;height:0;padding-bottom:60%;\"><iframe src=\"data:text/html;charset=utf-8;base64,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\" style=\"position:absolute;width:100%;height:100%;left:0;top:0;border:none !important;\" allowfullscreen webkitallowfullscreen mozallowfullscreen></iframe></div></div>"
      ],
      "text/plain": [
       "<folium.folium.Map at 0x14fd96f98>"
      ]
     },
     "execution_count": 125,
     "metadata": {},
     "output_type": "execute_result"
    }
   ],
   "source": [
    "import folium\n",
    "# import folium.plugins as plugins\n",
    "from folium.plugins import MiniMap\n",
    "from folium.plugins.beautify_icon import BeautifyIcon\n",
    "from folium.features import DivIcon\n",
    "\n",
    "\n",
    "\n",
    "# m = folium.Map(width=500,height=300, location=location, zoom_start=11.,tiles=\"OpenStreetMap\", attr='Global Water Futures')\n",
    "m = folium.Map(width=700,height=500, \n",
    "                location=location,\n",
    "               control_scale = True,\n",
    "                 zoom_start=9.5,\n",
    "               zoom_control=False,\n",
    "                 tiles='https://tile.thunderforest.com/outdoors/{z}/{x}/{y}.png?apikey=34dad269f6ab438c9534def56b86fa5f',\n",
    "                 API_key='34dad269f6ab438c9534def56b86fa5f',\n",
    "                attr='Global Water Futures')\n",
    "\n",
    "# show all\n",
    "# for index, st_dic in enumerate(Show_IDS):\n",
    "#     st = st_dic[0]\n",
    "#     N = df[df.MonitoringLocationIdentifier==st].shape[0]\n",
    "#     if N>10:\n",
    "#         st_df = stations[stations.MonitoringLocationIdentifier == st]\n",
    "#         folium.Marker(location=[st_df.LatitudeMeasure.values[0], \n",
    "#                                 st_df.LongitudeMeasure.values[0]], \n",
    "#                                   popup=folium.Popup(html=st_df.MonitoringLocationIdentifier.values[0] + '\\n' + 'N:{}'.format(N),\n",
    "#                                 show=False, max_width=10), icon=folium.Icon(icon='arrow-down', color='gray')\n",
    "#                      ).add_to(m)\n",
    "\n",
    "\n",
    "\n",
    "Show_IDS = [\n",
    "[\"21OHIO_WQX-200572\", True],\n",
    "[\"21OHIO_WQX-502520\", True],\n",
    "[\"21OHIO_WQX-G02S14\", True],\n",
    "[\"USGS-04212100\", True],\n",
    "[\"USGS-04211820\", True],\n",
    "[\"21OHIO_WQX-G02K52\", True],\n",
    "[\"21OHIO_WQX-G02K54\", True],\n",
    "[\"21OHIO_WQX-300187\", True],\n",
    "[\"21OHIO_WQX-G01K08\", True],\n",
    "[\"21OHIO_WQX-G01K07\", True],\n",
    "]\n",
    "\n",
    "\n",
    "\n",
    "for index, st_dic in enumerate(Show_IDS):\n",
    "    st = st_dic[0]\n",
    "    print(st)\n",
    "    if st_dic[1]:\n",
    "        clr='#f44242'\n",
    "    else:\n",
    "        clr='#0b15c4'\n",
    "    st_df = stations[stations.MonitoringLocationIdentifier == st]\n",
    "    folium.CircleMarker(location=[st_df.LatitudeMeasure.values[0], \n",
    "                            st_df.LongitudeMeasure.values[0]], radius=23, \n",
    "                        fill=True, fill_color='white',\n",
    "                            color = clr,fill_opacity=1,\n",
    "                       weight=5).add_to(m)\n",
    "    if not index in [0,1,5,7]:\n",
    "        folium.map.Marker(\n",
    "        location=[st_df.LatitudeMeasure.values[0]+0.0235,st_df.LongitudeMeasure.values[0]-0.1026],\n",
    "        icon=DivIcon(\n",
    "            icon_size=(150,36),\n",
    "            icon_anchor=(0,0),\n",
    "            html='<div style=\"font-size: 24pt;text-align: center;vertical-align: middle\">{}</div>'.format(index+1),\n",
    "            )\n",
    "        ).add_to(m)\n",
    "\n",
    "\n",
    "m\n",
    "\n",
    "\n",
    "\n",
    "\n",
    "# USGS-04212100 \n",
    "# USGS-04211820 \n"
   ]
  },
  {
   "cell_type": "code",
   "execution_count": 77,
   "metadata": {},
   "outputs": [],
   "source": [
    "selected_stations = [s[0] for s in Show_IDS]\n",
    "# selected_stations = [\n",
    "# \"21OHIO_WQX-200572\",\n",
    "# \"21OHIO_WQX-502520\",\n",
    "# \"21OHIO_WQX-G02S14\",\n",
    "# \"USGS-04212100\",\n",
    "# \"USGS-04211820\",\n",
    "# \"21OHIO_WQX-G02K52\",\n",
    "# \"21OHIO_WQX-G02K54\",\n",
    "# \"21OHIO_WQX-300187\",\n",
    "# \"21OHIO_WQX-G01K08\",\n",
    "# \"21OHIO_WQX-G01K07\"]"
   ]
  },
  {
   "cell_type": "code",
   "execution_count": 78,
   "metadata": {},
   "outputs": [
    {
     "name": "stderr",
     "output_type": "stream",
     "text": [
      "/Users/imarkelo/anaconda3/lib/python3.6/site-packages/ipykernel_launcher.py:5: SettingWithCopyWarning: \n",
      "A value is trying to be set on a copy of a slice from a DataFrame.\n",
      "Try using .loc[row_indexer,col_indexer] = value instead\n",
      "\n",
      "See the caveats in the documentation: http://pandas.pydata.org/pandas-docs/stable/indexing.html#indexing-view-versus-copy\n",
      "  \"\"\"\n",
      "/Users/imarkelo/anaconda3/lib/python3.6/site-packages/ipykernel_launcher.py:10: SettingWithCopyWarning: \n",
      "A value is trying to be set on a copy of a slice from a DataFrame.\n",
      "Try using .loc[row_indexer,col_indexer] = value instead\n",
      "\n",
      "See the caveats in the documentation: http://pandas.pydata.org/pandas-docs/stable/indexing.html#indexing-view-versus-copy\n",
      "  # Remove the CWD from sys.path while we load stuff.\n"
     ]
    },
    {
     "data": {
      "text/plain": [
       "(107, 63)"
      ]
     },
     "execution_count": 78,
     "metadata": {},
     "output_type": "execute_result"
    }
   ],
   "source": [
    "WQP_name = \"Phosphorus\"\n",
    "\n",
    "\n",
    "csv_file_df = ohio_samples[ohio_samples.MonitoringLocationIdentifier.isin(selected_stations)]\n",
    "csv_file_df['ActivityStartDate'] = pd.to_datetime(csv_file_df['ActivityStartDate'], errors='coerce')\n",
    "# database = csv_file_df.ProviderName.unique()[0]\n",
    "df = pd.DataFrame(columns=['Date', 'MonitoringLocationIdentifier'])\n",
    "sp = csv_file_df[(csv_file_df['CharacteristicName']==WQP_name) & (csv_file_df['ResultSampleFractionText']==\"Total\") & (csv_file_df['ActivityStartDate'].dt.year>1995)]\n",
    "# sp = sp[sp.ResultMeasureValue<0.5]\n",
    "sp['ResultMeasureValue'] = pd.to_numeric(sp['ResultMeasureValue'])\n",
    "sp.shape\n",
    "\n"
   ]
  },
  {
   "cell_type": "code",
   "execution_count": 79,
   "metadata": {},
   "outputs": [],
   "source": [
    "# df_heideleberg = pd.read_csv('/Users/imarkelo/git/Great-Lakes-Data/post_proc_scripts/Heidelberg/proc_data/TP_Maumee_River_Data.csv')\n",
    "\n",
    "# df_heideleberg['Date'] =pd.to_datetime(df_heideleberg['Date'], errors='coerce')\n",
    "# df_heideleberg['MonitoringLocationIdentifier'] = 'HTLP (NCWQR)'\n",
    "# df_heideleberg['ActivityStartDate']=df_heideleberg['Date']\n",
    "# df_heideleberg['ResultMeasureValue']=df_heideleberg['TP, mg/L as P']\n",
    "# sp= sp.append(df_heideleberg)\n",
    "# sp=sp.sort_values('MonitoringLocationIdentifier', ascending=False)\n",
    "# sp['Station']=sp['MonitoringLocationIdentifier']\n",
    "# sp.shape\n"
   ]
  },
  {
   "cell_type": "code",
   "execution_count": null,
   "metadata": {},
   "outputs": [],
   "source": []
  },
  {
   "cell_type": "code",
   "execution_count": 80,
   "metadata": {},
   "outputs": [],
   "source": [
    "pt = sns.color_palette(\"colorblind\", len(selected_stations))"
   ]
  },
  {
   "cell_type": "code",
   "execution_count": 81,
   "metadata": {},
   "outputs": [
    {
     "data": {
      "text/plain": [
       "11"
      ]
     },
     "execution_count": 81,
     "metadata": {},
     "output_type": "execute_result"
    }
   ],
   "source": [
    "len(selected_stations)"
   ]
  },
  {
   "cell_type": "code",
   "execution_count": 82,
   "metadata": {},
   "outputs": [
    {
     "data": {
      "text/plain": [
       "array(['mg/l as P', 'mg/l', 'mg/kg'], dtype=object)"
      ]
     },
     "execution_count": 82,
     "metadata": {},
     "output_type": "execute_result"
    }
   ],
   "source": [
    "sp['ResultMeasure/MeasureUnitCode'].unique()"
   ]
  },
  {
   "cell_type": "code",
   "execution_count": 8,
   "metadata": {},
   "outputs": [],
   "source": [
    "river='Grand_R'"
   ]
  },
  {
   "cell_type": "code",
   "execution_count": 90,
   "metadata": {},
   "outputs": [
    {
     "name": "stderr",
     "output_type": "stream",
     "text": [
      "/Users/imarkelo/anaconda3/lib/python3.6/site-packages/pandas/core/indexing.py:543: SettingWithCopyWarning: \n",
      "A value is trying to be set on a copy of a slice from a DataFrame.\n",
      "Try using .loc[row_indexer,col_indexer] = value instead\n",
      "\n",
      "See the caveats in the documentation: http://pandas.pydata.org/pandas-docs/stable/indexing.html#indexing-view-versus-copy\n",
      "  self.obj[item] = s\n"
     ]
    }
   ],
   "source": [
    "# sp.loc[sp[\"ResultMeasureValue\"]>100, \"ResultMeasureValue\"] = sp[\"ResultMeasureValue\"]/1000"
   ]
  },
  {
   "cell_type": "code",
   "execution_count": 91,
   "metadata": {},
   "outputs": [
    {
     "data": {
      "image/png": "[encoded data removed]",
      "text/plain": [
       "<Figure size 600x400 with 1 Axes>"
      ]
     },
     "metadata": {},
     "output_type": "display_data"
    }
   ],
   "source": [
    "\n",
    "fig,ax=plt.subplots(1,1,figsize=(6,4), dpi=100)\n",
    "colors = [\"windows blue\", \"greyish\", \"faded green\", \"dusty purple\", \"amber\"]\n",
    "ax = sns.scatterplot(x='ActivityStartDate', y='ResultMeasureValue', data=sp, hue_order=selected_stations, hue='MonitoringLocationIdentifier', palette=pt, markers=True)\n",
    "leg = [\"({}) - {}\".format(i+1,st) for i, st in enumerate(selected_stations)]\n",
    "\n",
    "leg_handles = ax.get_legend_handles_labels()[0]\n",
    "ax.legend(leg_handles[1:], leg, title='Stations', fontsize='x-small', loc=2)\n",
    "\n",
    "# ax.legend(['(1) - HTLP (NCWQR)'], title='Stations', fontsize='x-small', loc=2)\n",
    "\n",
    "plt.ylim(0,1.)\n",
    "plt.xlim(datetime.datetime(1996,1,1), datetime.datetime(2018,1,1))\n",
    "plt.grid(alpha=0.5)\n",
    "plt.ylabel(\"Total Phosphorus as P, mg/L\")\n",
    "plt.xlabel(\"\")\n",
    "plt.tight_layout()\n",
    "plt.savefig('One_by_one/Western/US/'+river+'/'+river+'_TP.pdf')\n",
    "plt.savefig('/Users/imarkelo/Google Drive/GDocuments/Lake Erie/Draft/Rivers_tables/img/Western/US/'+river+'/'+river+'_TP.pdf')\n",
    "\n"
   ]
  },
  {
   "cell_type": "code",
   "execution_count": 92,
   "metadata": {},
   "outputs": [
    {
     "name": "stdout",
     "output_type": "stream",
     "text": [
      "\\begin{tabular}{lrrrrrrrr}\n",
      "\\toprule\n",
      "{} &  count &  mean &   std &   min &   25\\% &   50\\% &   75\\% &   max \\\\\n",
      "MonitoringLocationIdentifier &        &       &       &       &       &       &       &       \\\\\n",
      "\\midrule\n",
      "21OHIO\\_WQX-200572            &    3.0 &  0.44 &  0.37 &  0.02 &  0.31 &  0.60 &  0.65 &  0.70 \\\\\n",
      "21OHIO\\_WQX-502520            &    4.0 &  0.18 &  0.27 &  0.03 &  0.04 &  0.05 &  0.19 &  0.58 \\\\\n",
      "21OHIO\\_WQX-G02S14            &    4.0 &  0.16 &  0.25 &  0.02 &  0.04 &  0.05 &  0.17 &  0.54 \\\\\n",
      "USGS-04212100                &   45.0 &  0.20 &  0.15 &  0.04 &  0.07 &  0.16 &  0.28 &  0.63 \\\\\n",
      "USGS-04212000                &    NaN &   NaN &   NaN &   NaN &   NaN &   NaN &   NaN &   NaN \\\\\n",
      "USGS-04211820                &   33.0 &  0.08 &  0.12 &  0.03 &  0.04 &  0.06 &  0.09 &  0.74 \\\\\n",
      "21OHIO\\_WQX-G02K52            &    5.0 &  0.09 &  0.11 &  0.04 &  0.05 &  0.05 &  0.05 &  0.29 \\\\\n",
      "21OHIO\\_WQX-G02K54            &    3.0 &  0.06 &  0.00 &  0.06 &  0.06 &  0.06 &  0.06 &  0.06 \\\\\n",
      "21OHIO\\_WQX-300187            &    2.0 &  0.07 &  0.00 &  0.07 &  0.07 &  0.07 &  0.07 &  0.07 \\\\\n",
      "21OHIO\\_WQX-G01K08            &    6.0 &  0.06 &  0.01 &  0.05 &  0.06 &  0.07 &  0.07 &  0.07 \\\\\n",
      "21OHIO\\_WQX-G01K07            &    2.0 &  0.07 &  0.00 &  0.07 &  0.07 &  0.07 &  0.07 &  0.07 \\\\\n",
      "\\bottomrule\n",
      "\\end{tabular}\n",
      "\n"
     ]
    }
   ],
   "source": [
    "print(sp.groupby('MonitoringLocationIdentifier')[\"ResultMeasureValue\"].describe().reindex(selected_stations).round(2).to_latex())\n"
   ]
  },
  {
   "cell_type": "code",
   "execution_count": 93,
   "metadata": {},
   "outputs": [
    {
     "data": {
      "text/plain": [
       "['21OHIO_WQX-200572',\n",
       " '21OHIO_WQX-502520',\n",
       " '21OHIO_WQX-G02S14',\n",
       " 'USGS-04212100',\n",
       " 'USGS-04212000',\n",
       " 'USGS-04211820',\n",
       " '21OHIO_WQX-G02K52',\n",
       " '21OHIO_WQX-G02K54',\n",
       " '21OHIO_WQX-300187',\n",
       " '21OHIO_WQX-G01K08',\n",
       " '21OHIO_WQX-G01K07']"
      ]
     },
     "execution_count": 93,
     "metadata": {},
     "output_type": "execute_result"
    }
   ],
   "source": [
    "selected_stations"
   ]
  },
  {
   "cell_type": "code",
   "execution_count": 95,
   "metadata": {},
   "outputs": [
    {
     "data": {
      "text/plain": [
       "(107, 63)"
      ]
     },
     "execution_count": 95,
     "metadata": {},
     "output_type": "execute_result"
    }
   ],
   "source": [
    "master_stations = [st[0] for st in Show_IDS if st[1]]\n",
    "master_stations = selected_stations\n",
    "master_st_df = sp[sp.MonitoringLocationIdentifier.isin(master_stations)]\n",
    "master_st_df['USGSPCode'] = 0\n",
    "master_st_df.shape"
   ]
  },
  {
   "cell_type": "code",
   "execution_count": 96,
   "metadata": {},
   "outputs": [
    {
     "data": {
      "text/plain": [
       "(80, 6)"
      ]
     },
     "execution_count": 96,
     "metadata": {},
     "output_type": "execute_result"
    }
   ],
   "source": [
    "master_st_df.groupby('ActivityStartDate').mean().shape"
   ]
  },
  {
   "cell_type": "code",
   "execution_count": 97,
   "metadata": {},
   "outputs": [],
   "source": [
    "master_st_df[master_st_df.MonitoringLocationIdentifier.isin(master_stations)][[\n",
    "    'ActivityStartDate','USGSPCode', 'ResultMeasureValue']].groupby('ActivityStartDate').mean().reset_index().sort_values('ActivityStartDate').to_csv(\n",
    "    'One_by_one/Western/US/'+river+'/TP_'+river+'iver_data.csv', index=False)"
   ]
  },
  {
   "cell_type": "markdown",
   "metadata": {},
   "source": [
    "### Discharge"
   ]
  },
  {
   "cell_type": "code",
   "execution_count": 3,
   "metadata": {},
   "outputs": [],
   "source": [
    "# Finde station here:\n",
    "# https://www.hydrocloud.org\n",
    "site = '04212100'\n",
    "start = '1996-01-01'\n",
    "end = '2018-11-01'\n",
    "response = hf.get_nwis(site, 'dv',start, end)\n",
    "# response.get_data()\n",
    "discharge = hf.extract_nwis_df(response.json())"
   ]
  },
  {
   "cell_type": "code",
   "execution_count": 4,
   "metadata": {},
   "outputs": [
    {
     "data": {
      "text/plain": [
       "Index(['USGS:04212100:00060:00003', 'USGS:04212100:00060:00003_qualifiers'], dtype='object')"
      ]
     },
     "execution_count": 4,
     "metadata": {},
     "output_type": "execute_result"
    }
   ],
   "source": [
    "discharge.columns"
   ]
  },
  {
   "cell_type": "code",
   "execution_count": 5,
   "metadata": {},
   "outputs": [],
   "source": [
    "discharge['Flow, CFS']=discharge['USGS:'+site+':00060:00003']"
   ]
  },
  {
   "cell_type": "code",
   "execution_count": 6,
   "metadata": {},
   "outputs": [],
   "source": [
    "discharge= discharge.reset_index()\n",
    "discharge['Date']  = discharge['datetime']\n",
    "discharge['Date'] =pd.to_datetime(discharge['Date'], errors='coerce')\n",
    "discharge = discharge[['Date', 'Flow, CFS']]\n",
    "discharge['Source'] = 'USGS-'+site"
   ]
  },
  {
   "cell_type": "code",
   "execution_count": 9,
   "metadata": {},
   "outputs": [],
   "source": [
    "discharge[discharge.Source=='USGS-'+site][['Date', 'Flow, CFS']].dropna().to_csv('One_by_one/Western/US/'+river+'/Flow_'+river+'_CFS.csv', index=False)\n"
   ]
  },
  {
   "cell_type": "code",
   "execution_count": 10,
   "metadata": {},
   "outputs": [],
   "source": [
    "# df_Q_heideleberg = pd.read_csv('/Users/imarkelo/git/Great-Lakes-Data/post_proc_scripts/Heidelberg/proc_data/Flow_Maumee_River_Data.csv')\n",
    "# df_Q_heideleberg['Date'] =pd.to_datetime(df_Q_heideleberg['Date'], errors='coerce')\n",
    "# df_Q_heideleberg['Source'] = 'HTLP (NCWQR)'\n",
    "# df_Q_heideleberg['Discharge, cms'] = 0.028*df_Q_heideleberg['Flow, CFS']\n"
   ]
  },
  {
   "cell_type": "code",
   "execution_count": 11,
   "metadata": {},
   "outputs": [],
   "source": [
    "# discharge = discharge.append(df_Q_heideleberg)"
   ]
  },
  {
   "cell_type": "code",
   "execution_count": 12,
   "metadata": {},
   "outputs": [],
   "source": [
    "discharge['Discharge, cms'] = 0.028*discharge['Flow, CFS']"
   ]
  },
  {
   "cell_type": "code",
   "execution_count": 13,
   "metadata": {},
   "outputs": [
    {
     "data": {
      "text/plain": [
       "'Grand_R'"
      ]
     },
     "execution_count": 13,
     "metadata": {},
     "output_type": "execute_result"
    }
   ],
   "source": [
    "river"
   ]
  },
  {
   "cell_type": "code",
   "execution_count": 14,
   "metadata": {},
   "outputs": [
    {
     "data": {
      "image/png": "[encoded data removed]",
      "text/plain": [
       "<Figure size 600x400 with 1 Axes>"
      ]
     },
     "metadata": {},
     "output_type": "display_data"
    }
   ],
   "source": [
    "fig,ax=plt.subplots(1,1,figsize=(6,4), dpi=100)\n",
    "ax=sns.lineplot(x='Date', y='Discharge, cms', data=discharge, hue='Source',ax=ax)\n",
    "\n",
    "from mpl_toolkits.axes_grid1.inset_locator import zoomed_inset_axes\n",
    "\n",
    "\n",
    "ax.legend(['(3) - USGS-'+site], loc=2, fontsize='small')\n",
    "ax.set_ylim(0,700)\n",
    "ax.set_xlim(datetime.datetime(1996,1,1), datetime.datetime(2018,1,1))\n",
    "ax.grid(alpha=0.5)\n",
    "ax.set_ylabel(\"Discharge, m$^3$/s\")\n",
    "ax.set_xlabel(\"Year\")\n",
    "\n",
    "# axins = zoomed_inset_axes(ax, 8, loc='upper center')\n",
    "# sns.lineplot(x='Date', y='Discharge, cms', data=discharge, hue='Source', ax=axins,zorder=10)\n",
    "# axins.set_xlim(datetime.datetime(2010,4,1), datetime.datetime(2010,6,1)) # apply the x-limits\n",
    "# axins.set_ylim(0, 10) # apply the y-limits\n",
    "# plt.yticks(visible=False)\n",
    "# plt.xticks(visible=False)\n",
    "# from mpl_toolkits.axes_grid1.inset_locator import mark_inset\n",
    "# mark_inset(ax, axins, loc1=2, loc2=4, fc=\"none\", ec=\"0.5\")\n",
    "\n",
    "plt.savefig('One_by_one/Western/US/'+river+'/'+river+'_Q.pdf')\n",
    "plt.savefig('/Users/imarkelo/Google Drive/GDocuments/Lake Erie/Draft/Rivers_tables/img/Western/US/'+river+'/'+river+'_Q.pdf')"
   ]
  },
  {
   "cell_type": "code",
   "execution_count": 15,
   "metadata": {},
   "outputs": [],
   "source": [
    "discharge[['Date', 'Flow, CFS']].to_csv('One_by_one/Western/US/'+river+'/Flow_'+river+'_CFS.csv', index=False)"
   ]
  },
  {
   "cell_type": "markdown",
   "metadata": {},
   "source": [
    "### EGRET Results"
   ]
  },
  {
   "cell_type": "code",
   "execution_count": 16,
   "metadata": {},
   "outputs": [
    {
     "data": {
      "text/plain": [
       "'Grand_R'"
      ]
     },
     "execution_count": 16,
     "metadata": {},
     "output_type": "execute_result"
    }
   ],
   "source": [
    "river"
   ]
  },
  {
   "cell_type": "code",
   "execution_count": 17,
   "metadata": {},
   "outputs": [],
   "source": [
    "\n",
    "EGRET_Daily = pd.read_csv('/Users/imarkelo/git/Great-Lakes-Data/post_proc_scripts/Loadings US/One_by_one/Western/US/'+river+'/EGRET Result/TP/'+river+'iver_TP_Daily.csv')\n",
    "EGRET_Sample = pd.read_csv('/Users/imarkelo/git/Great-Lakes-Data/post_proc_scripts/Loadings US/One_by_one/Western/US/'+river+'/EGRET Result/TP/'+river+'iver_TP_Sample.csv')\n"
   ]
  },
  {
   "cell_type": "code",
   "execution_count": 18,
   "metadata": {},
   "outputs": [],
   "source": [
    "EGRET_Sample['Fx_Hat'] = EGRET_Sample['Q']*60*60*24*1000 * EGRET_Sample['ConcHat']/1000/1000\n",
    "EGRET_Sample['Fx_C'] = EGRET_Sample['Q']*60*60*24*1000 * EGRET_Sample['ConcAve']/1000/1000\n"
   ]
  },
  {
   "cell_type": "code",
   "execution_count": 19,
   "metadata": {},
   "outputs": [
    {
     "name": "stderr",
     "output_type": "stream",
     "text": [
      "/Users/imarkelo/anaconda3/lib/python3.6/site-packages/matplotlib/axes/_base.py:3129: UserWarning: Attempted to set non-positive xlimits for log-scale axis; invalid limits will be ignored.\n",
      "  'Attempted to set non-positive xlimits for log-scale axis; '\n",
      "/Users/imarkelo/anaconda3/lib/python3.6/site-packages/matplotlib/axes/_base.py:3449: UserWarning: Attempted to set non-positive ylimits for log-scale axis; invalid limits will be ignored.\n",
      "  'Attempted to set non-positive ylimits for log-scale axis; '\n"
     ]
    },
    {
     "data": {
      "image/png": "[encoded data removed]",
      "text/plain": [
       "<Figure size 600x400 with 1 Axes>"
      ]
     },
     "metadata": {},
     "output_type": "display_data"
    }
   ],
   "source": [
    "fig,ax=plt.subplots(1,1,figsize=(6,4), dpi=100)\n",
    "sns.scatterplot(y='Fx_C', \n",
    "                x='Fx_Hat',\n",
    "                data=EGRET_Sample,\n",
    "                s=15,\n",
    "                linewidth=0.3, ax=ax,\n",
    "               color=sns.color_palette(\"Blues\")[4])\n",
    "# plt.legend(\"\")\n",
    "ax.set_xscale('log')\n",
    "ax.set_yscale('log')\n",
    "plt.plot([-100,1000000],[-100,1000000], 'k', lw=0.5)\n",
    "plt.xlim(0,10000)\n",
    "plt.ylim(0,10000)\n",
    "# plt.xlim(datetime.datetime(1996,1,1), datetime.datetime(2018,1,1))\n",
    "plt.grid(alpha=0.5)\n",
    "plt.xlabel(\"Estimated Phosphorus Loads, kg/day\")\n",
    "plt.ylabel(\"Observed Phosphorus Loads, kg/day\")\n",
    "# plt.xlabel(\"\")\n",
    "plt.tight_layout()\n",
    "plt.savefig('/Users/imarkelo/Google Drive/GDocuments/Lake Erie/Draft/Rivers_tables/img/Western/US/'+river+'/'+river+'_FvsF.pdf')\n"
   ]
  },
  {
   "cell_type": "code",
   "execution_count": 20,
   "metadata": {},
   "outputs": [],
   "source": [
    "EGRET_Daily['FluxYearMTA'] = EGRET_Daily['FluxDay']*365/1000\n",
    "EGRET_Daily['Fx_SE'] = (np.exp(EGRET_Daily['SE']+EGRET_Daily['yHat']) * EGRET_Daily['Q']*60*60*24*1000/1000/1000/1000-np.exp(EGRET_Daily['yHat']) * EGRET_Daily['Q']*60*60*24*1000/1000/1000/1000)*365\n",
    "EGRET_Daily_an = EGRET_Daily.groupby('waterYear').mean().reset_index()\n"
   ]
  },
  {
   "cell_type": "code",
   "execution_count": 26,
   "metadata": {},
   "outputs": [
    {
     "data": {
      "image/png": "[encoded data removed]",
      "text/plain": [
       "<Figure size 600x400 with 1 Axes>"
      ]
     },
     "metadata": {},
     "output_type": "display_data"
    }
   ],
   "source": [
    "fig,ax=plt.subplots(1,1,figsize=(6,4), dpi=100)\n",
    "\n",
    "# sns.boxplot(EGRET_Daily['waterYear'], EGRET_Daily['ConcDay'], color=sns.color_palette()[0])\n",
    "\n",
    "# plt.fill_between(EGRET_Daily_an['waterYear'][5:-1],\n",
    "#                  np.exp(EGRET_Daily_an['yHat'][5:-1]-EGRET_Daily_an['SE'][5:-1]),\n",
    "#                  np.exp(EGRET_Daily_an['yHat'][5:-1]+EGRET_Daily_an['SE'][5:-1]), \n",
    "#                  color=sns.color_palette()[0], alpha=0.15)\n",
    "# plt.plot(EGRET_Daily_an['waterYear'][5:-1], EGRET_Daily_an['FluxYearMTA'][5:-1])\n",
    "\n",
    "# sns.scatterplot(x=\"waterYear\", y=\"FluxYearMTA\",\n",
    "#                 sizes=(1, 8), linewidth=0.3,\n",
    "#                 data=EGRET_Daily_an, ax=ax)\n",
    "\n",
    "meanpointprops = dict(marker='.', markeredgecolor='black', markersize=6,markerfacecolor='black')\n",
    "ax = sns.boxplot(showmeans=True, linewidth=0.5, meanprops=meanpointprops, x=\"waterYear\", y=\"ConcDay\", data=EGRET_Daily, showfliers=False, color=sns.color_palette(\"Blues\")[2])\n",
    "# ax.set_yscale('log')\n",
    "# plt.legend(\"\")\n",
    "# plt.plot([-100,100],[-100,100], 'k', lw=0.5)\n",
    "# plt.xlim(2003,2018)\n",
    "plt.xlim(6.5, 21.5)\n",
    "plt.xticks([int(x) for x in np.linspace(7,21,8)], [int(x) for x in np.linspace(2003,2017, 8)])\n",
    "plt.ylim(0,0.9)\n",
    "\n",
    "plt.grid(alpha=0.5)\n",
    "plt.ylabel(\"Total Phosphorus Concentration, mg/l\")\n",
    "plt.xlabel(\"\")\n",
    "# plt.savefig('One_by_one/Western/US/Portage R/Portage Q.pdf')\n",
    "plt.savefig('/Users/imarkelo/Google Drive/GDocuments/Lake Erie/Draft/Rivers_tables/img/Western/US/'+river+'/'+river+'_PC.pdf')\n",
    "\n",
    "\n"
   ]
  },
  {
   "cell_type": "code",
   "execution_count": 22,
   "metadata": {},
   "outputs": [],
   "source": [
    "EGRET_Daily_an['Fx_AE'] = (abs(EGRET_Sample['Fx_Hat'] - EGRET_Sample['Fx_C'])/EGRET_Sample['Fx_C']).mean()*EGRET_Daily_an['FluxYearMTA']\n",
    "\n",
    "\n"
   ]
  },
  {
   "cell_type": "code",
   "execution_count": 27,
   "metadata": {},
   "outputs": [
    {
     "data": {
      "image/png": "[encoded data removed]",
      "text/plain": [
       "<Figure size 600x400 with 1 Axes>"
      ]
     },
     "metadata": {},
     "output_type": "display_data"
    }
   ],
   "source": [
    "fig,ax=plt.subplots(1,1,figsize=(6,4), dpi=100)\n",
    "\n",
    "plt.plot(EGRET_Daily_an['waterYear'], EGRET_Daily_an['FluxYearMTA'], c=sns.color_palette()[0])\n",
    "\n",
    "plt.fill_between(EGRET_Daily_an['waterYear'],\n",
    "                 EGRET_Daily_an['FluxYearMTA']-EGRET_Daily_an['Fx_SE'],\n",
    "                 EGRET_Daily_an['FluxYearMTA']+EGRET_Daily_an['Fx_SE'], \n",
    "                 color=sns.color_palette()[0], alpha=0.15)\n",
    "# plt.plot(EGRET_Daily_an['waterYear'][5:-1], EGRET_Daily_an['FluxYearMTA'][5:-1])\n",
    "\n",
    "# sns.scatterplot(x=\"waterYear\", y=\"FluxYearMTA\",\n",
    "#                 sizes=(1, 8), linewidth=0.3,\n",
    "#                 data=EGRET_Daily_an, ax=ax)\n",
    "\n",
    "# meanpointprops = dict(marker='D', markeredgecolor='black', markersize=1,markerfacecolor=sns.color_palette()[3])\n",
    "# ax = sns.boxplot(linewidth=0.5, meanprops=meanpointprops, x=\"waterYear\", y=\"FluxYearMTA\", data=EGRET_Daily, showfliers=False, color=sns.color_palette(\"Blues\")[2])\n",
    "# ax.set_yscale('log')\n",
    "# plt.legend(\"\")\n",
    "# plt.plot([-100,100],[-100,100], 'k', lw=0.5)\n",
    "plt.xlim(2003,2017)\n",
    "# plt.xticks([int(x) for x in np.linspace(5,19,8)], [int(x) for x in np.linspace(2003,2017, 8)])\n",
    "plt.ylim(0,600)\n",
    "# plt.xlim(datetime.datetime(1996,1,1), datetime.datetime(2018,1,1))\n",
    "plt.grid(alpha=0.5)\n",
    "plt.ylabel(\"Phosphorus Loads, MTA\")\n",
    "plt.xlabel(\"\")\n",
    "# plt.savefig('One_by_one/Western/US/Portage R/Portage Q.pdf')\n",
    "plt.savefig('/Users/imarkelo/Google Drive/GDocuments/Lake Erie/Draft/Rivers_tables/img/Western/US/'+river+'/'+river+'_PFlux.pdf')\n"
   ]
  },
  {
   "cell_type": "code",
   "execution_count": 24,
   "metadata": {},
   "outputs": [
    {
     "name": "stdout",
     "output_type": "stream",
     "text": [
      "\\begin{tabular}{rrr}\n",
      "\\toprule\n",
      " waterYear &  FluxYearMTA &  Fx\\_SE \\\\\n",
      "\\midrule\n",
      "      1996 &        166.7 &   86.5 \\\\\n",
      "      1997 &        152.8 &   77.3 \\\\\n",
      "      1998 &         84.5 &   42.8 \\\\\n",
      "      1999 &         57.1 &   27.5 \\\\\n",
      "      2000 &         90.9 &   43.8 \\\\\n",
      "      2001 &         70.7 &   33.7 \\\\\n",
      "      2002 &        102.8 &   46.8 \\\\\n",
      "      2003 &        140.2 &   47.9 \\\\\n",
      "      2004 &        167.9 &   47.7 \\\\\n",
      "      2005 &        263.5 &   89.7 \\\\\n",
      "      2006 &        207.7 &   44.4 \\\\\n",
      "      2007 &        293.6 &   72.4 \\\\\n",
      "      2008 &        320.9 &   64.9 \\\\\n",
      "      2009 &        203.2 &   38.8 \\\\\n",
      "      2010 &        181.6 &   31.9 \\\\\n",
      "      2011 &        395.9 &   84.9 \\\\\n",
      "      2012 &        309.0 &  105.8 \\\\\n",
      "      2013 &        271.7 &  115.3 \\\\\n",
      "      2014 &        244.0 &  120.5 \\\\\n",
      "      2015 &        198.8 &  100.8 \\\\\n",
      "      2016 &        107.4 &   54.7 \\\\\n",
      "      2017 &        209.9 &  103.1 \\\\\n",
      "      2018 &        204.0 &  102.4 \\\\\n",
      "      2019 &        229.0 &   98.4 \\\\\n",
      "\\bottomrule\n",
      "\\end{tabular}\n",
      "\n"
     ]
    }
   ],
   "source": [
    "print(EGRET_Daily_an[['waterYear', 'FluxYearMTA','Fx_SE']].round(1).to_latex(index=False))"
   ]
  },
  {
   "cell_type": "code",
   "execution_count": 25,
   "metadata": {},
   "outputs": [
    {
     "data": {
      "text/html": [
       "<div>\n",
       "<style scoped>\n",
       "    .dataframe tbody tr th:only-of-type {\n",
       "        vertical-align: middle;\n",
       "    }\n",
       "\n",
       "    .dataframe tbody tr th {\n",
       "        vertical-align: top;\n",
       "    }\n",
       "\n",
       "    .dataframe thead th {\n",
       "        text-align: right;\n",
       "    }\n",
       "</style>\n",
       "<table border=\"1\" class=\"dataframe\">\n",
       "  <thead>\n",
       "    <tr style=\"text-align: right;\">\n",
       "      <th></th>\n",
       "      <th>count</th>\n",
       "      <th>mean</th>\n",
       "      <th>std</th>\n",
       "      <th>min</th>\n",
       "      <th>25%</th>\n",
       "      <th>50%</th>\n",
       "      <th>75%</th>\n",
       "      <th>max</th>\n",
       "    </tr>\n",
       "    <tr>\n",
       "      <th>waterYear</th>\n",
       "      <th></th>\n",
       "      <th></th>\n",
       "      <th></th>\n",
       "      <th></th>\n",
       "      <th></th>\n",
       "      <th></th>\n",
       "      <th></th>\n",
       "      <th></th>\n",
       "    </tr>\n",
       "  </thead>\n",
       "  <tbody>\n",
       "    <tr>\n",
       "      <th>1996</th>\n",
       "      <td>274.0</td>\n",
       "      <td>166.696050</td>\n",
       "      <td>426.556331</td>\n",
       "      <td>0.827129</td>\n",
       "      <td>8.976761</td>\n",
       "      <td>34.983756</td>\n",
       "      <td>148.465650</td>\n",
       "      <td>4925.094264</td>\n",
       "    </tr>\n",
       "    <tr>\n",
       "      <th>1997</th>\n",
       "      <td>365.0</td>\n",
       "      <td>152.763645</td>\n",
       "      <td>322.562094</td>\n",
       "      <td>0.337094</td>\n",
       "      <td>6.450620</td>\n",
       "      <td>38.150849</td>\n",
       "      <td>133.696038</td>\n",
       "      <td>2689.762049</td>\n",
       "    </tr>\n",
       "    <tr>\n",
       "      <th>1998</th>\n",
       "      <td>365.0</td>\n",
       "      <td>84.482293</td>\n",
       "      <td>294.621074</td>\n",
       "      <td>0.216573</td>\n",
       "      <td>1.681094</td>\n",
       "      <td>9.398738</td>\n",
       "      <td>45.599891</td>\n",
       "      <td>3421.268581</td>\n",
       "    </tr>\n",
       "    <tr>\n",
       "      <th>1999</th>\n",
       "      <td>365.0</td>\n",
       "      <td>57.116717</td>\n",
       "      <td>210.720332</td>\n",
       "      <td>0.185563</td>\n",
       "      <td>1.210395</td>\n",
       "      <td>2.793950</td>\n",
       "      <td>25.386828</td>\n",
       "      <td>2759.159877</td>\n",
       "    </tr>\n",
       "    <tr>\n",
       "      <th>2000</th>\n",
       "      <td>366.0</td>\n",
       "      <td>90.881741</td>\n",
       "      <td>245.506328</td>\n",
       "      <td>0.472597</td>\n",
       "      <td>3.902420</td>\n",
       "      <td>12.626910</td>\n",
       "      <td>49.202021</td>\n",
       "      <td>1925.763430</td>\n",
       "    </tr>\n",
       "    <tr>\n",
       "      <th>2001</th>\n",
       "      <td>365.0</td>\n",
       "      <td>70.709987</td>\n",
       "      <td>251.370106</td>\n",
       "      <td>0.197872</td>\n",
       "      <td>2.316876</td>\n",
       "      <td>8.912510</td>\n",
       "      <td>33.782330</td>\n",
       "      <td>3306.191055</td>\n",
       "    </tr>\n",
       "    <tr>\n",
       "      <th>2002</th>\n",
       "      <td>365.0</td>\n",
       "      <td>102.804594</td>\n",
       "      <td>291.958133</td>\n",
       "      <td>0.099392</td>\n",
       "      <td>1.748883</td>\n",
       "      <td>11.687944</td>\n",
       "      <td>68.760222</td>\n",
       "      <td>2474.786120</td>\n",
       "    </tr>\n",
       "    <tr>\n",
       "      <th>2003</th>\n",
       "      <td>365.0</td>\n",
       "      <td>140.218428</td>\n",
       "      <td>327.909991</td>\n",
       "      <td>0.168126</td>\n",
       "      <td>6.470605</td>\n",
       "      <td>23.056655</td>\n",
       "      <td>99.841619</td>\n",
       "      <td>2274.296711</td>\n",
       "    </tr>\n",
       "    <tr>\n",
       "      <th>2004</th>\n",
       "      <td>366.0</td>\n",
       "      <td>167.938303</td>\n",
       "      <td>349.269237</td>\n",
       "      <td>1.787702</td>\n",
       "      <td>8.271143</td>\n",
       "      <td>42.336759</td>\n",
       "      <td>154.436873</td>\n",
       "      <td>2812.339784</td>\n",
       "    </tr>\n",
       "    <tr>\n",
       "      <th>2005</th>\n",
       "      <td>365.0</td>\n",
       "      <td>263.527300</td>\n",
       "      <td>709.613622</td>\n",
       "      <td>0.733018</td>\n",
       "      <td>6.373032</td>\n",
       "      <td>22.603567</td>\n",
       "      <td>144.770144</td>\n",
       "      <td>5057.927636</td>\n",
       "    </tr>\n",
       "    <tr>\n",
       "      <th>2006</th>\n",
       "      <td>365.0</td>\n",
       "      <td>207.731019</td>\n",
       "      <td>343.495001</td>\n",
       "      <td>1.796221</td>\n",
       "      <td>18.447526</td>\n",
       "      <td>63.324812</td>\n",
       "      <td>278.555076</td>\n",
       "      <td>3458.633534</td>\n",
       "    </tr>\n",
       "    <tr>\n",
       "      <th>2007</th>\n",
       "      <td>340.0</td>\n",
       "      <td>293.557954</td>\n",
       "      <td>505.369804</td>\n",
       "      <td>1.381114</td>\n",
       "      <td>6.095477</td>\n",
       "      <td>49.512851</td>\n",
       "      <td>388.260473</td>\n",
       "      <td>4730.296370</td>\n",
       "    </tr>\n",
       "    <tr>\n",
       "      <th>2008</th>\n",
       "      <td>328.0</td>\n",
       "      <td>320.858887</td>\n",
       "      <td>522.597430</td>\n",
       "      <td>2.384577</td>\n",
       "      <td>12.249071</td>\n",
       "      <td>50.274274</td>\n",
       "      <td>408.640955</td>\n",
       "      <td>3282.109999</td>\n",
       "    </tr>\n",
       "    <tr>\n",
       "      <th>2009</th>\n",
       "      <td>328.0</td>\n",
       "      <td>203.214247</td>\n",
       "      <td>449.711142</td>\n",
       "      <td>1.292150</td>\n",
       "      <td>6.016200</td>\n",
       "      <td>46.631460</td>\n",
       "      <td>175.441257</td>\n",
       "      <td>3622.604839</td>\n",
       "    </tr>\n",
       "    <tr>\n",
       "      <th>2010</th>\n",
       "      <td>361.0</td>\n",
       "      <td>181.551653</td>\n",
       "      <td>325.277694</td>\n",
       "      <td>0.999109</td>\n",
       "      <td>7.841984</td>\n",
       "      <td>67.430901</td>\n",
       "      <td>191.765033</td>\n",
       "      <td>2495.527888</td>\n",
       "    </tr>\n",
       "    <tr>\n",
       "      <th>2011</th>\n",
       "      <td>357.0</td>\n",
       "      <td>395.931365</td>\n",
       "      <td>635.472611</td>\n",
       "      <td>1.082974</td>\n",
       "      <td>23.423416</td>\n",
       "      <td>88.075774</td>\n",
       "      <td>491.984231</td>\n",
       "      <td>4186.219982</td>\n",
       "    </tr>\n",
       "    <tr>\n",
       "      <th>2012</th>\n",
       "      <td>366.0</td>\n",
       "      <td>308.965967</td>\n",
       "      <td>577.626987</td>\n",
       "      <td>0.582015</td>\n",
       "      <td>3.960455</td>\n",
       "      <td>35.187802</td>\n",
       "      <td>320.822810</td>\n",
       "      <td>3623.749412</td>\n",
       "    </tr>\n",
       "    <tr>\n",
       "      <th>2013</th>\n",
       "      <td>365.0</td>\n",
       "      <td>271.692663</td>\n",
       "      <td>875.697668</td>\n",
       "      <td>1.518611</td>\n",
       "      <td>17.376862</td>\n",
       "      <td>69.864726</td>\n",
       "      <td>288.955529</td>\n",
       "      <td>11284.881748</td>\n",
       "    </tr>\n",
       "    <tr>\n",
       "      <th>2014</th>\n",
       "      <td>365.0</td>\n",
       "      <td>244.006349</td>\n",
       "      <td>391.964539</td>\n",
       "      <td>2.277980</td>\n",
       "      <td>15.072483</td>\n",
       "      <td>95.589557</td>\n",
       "      <td>347.374865</td>\n",
       "      <td>3728.796538</td>\n",
       "    </tr>\n",
       "    <tr>\n",
       "      <th>2015</th>\n",
       "      <td>365.0</td>\n",
       "      <td>198.782138</td>\n",
       "      <td>427.226507</td>\n",
       "      <td>1.070571</td>\n",
       "      <td>8.695861</td>\n",
       "      <td>52.053515</td>\n",
       "      <td>186.772439</td>\n",
       "      <td>3971.718717</td>\n",
       "    </tr>\n",
       "    <tr>\n",
       "      <th>2016</th>\n",
       "      <td>366.0</td>\n",
       "      <td>107.397325</td>\n",
       "      <td>207.028385</td>\n",
       "      <td>0.644949</td>\n",
       "      <td>4.137696</td>\n",
       "      <td>17.242161</td>\n",
       "      <td>105.704194</td>\n",
       "      <td>1529.890750</td>\n",
       "    </tr>\n",
       "    <tr>\n",
       "      <th>2017</th>\n",
       "      <td>365.0</td>\n",
       "      <td>209.862059</td>\n",
       "      <td>380.634219</td>\n",
       "      <td>0.958036</td>\n",
       "      <td>8.026103</td>\n",
       "      <td>61.342121</td>\n",
       "      <td>232.419787</td>\n",
       "      <td>2620.977381</td>\n",
       "    </tr>\n",
       "    <tr>\n",
       "      <th>2018</th>\n",
       "      <td>365.0</td>\n",
       "      <td>204.002401</td>\n",
       "      <td>350.226205</td>\n",
       "      <td>0.964466</td>\n",
       "      <td>9.365599</td>\n",
       "      <td>58.869518</td>\n",
       "      <td>227.221391</td>\n",
       "      <td>2291.463230</td>\n",
       "    </tr>\n",
       "    <tr>\n",
       "      <th>2019</th>\n",
       "      <td>32.0</td>\n",
       "      <td>229.031278</td>\n",
       "      <td>422.778311</td>\n",
       "      <td>9.170539</td>\n",
       "      <td>30.290579</td>\n",
       "      <td>55.654949</td>\n",
       "      <td>121.207433</td>\n",
       "      <td>1782.062698</td>\n",
       "    </tr>\n",
       "  </tbody>\n",
       "</table>\n",
       "</div>"
      ],
      "text/plain": [
       "           count        mean         std       min        25%        50%  \\\n",
       "waterYear                                                                  \n",
       "1996       274.0  166.696050  426.556331  0.827129   8.976761  34.983756   \n",
       "1997       365.0  152.763645  322.562094  0.337094   6.450620  38.150849   \n",
       "1998       365.0   84.482293  294.621074  0.216573   1.681094   9.398738   \n",
       "1999       365.0   57.116717  210.720332  0.185563   1.210395   2.793950   \n",
       "2000       366.0   90.881741  245.506328  0.472597   3.902420  12.626910   \n",
       "2001       365.0   70.709987  251.370106  0.197872   2.316876   8.912510   \n",
       "2002       365.0  102.804594  291.958133  0.099392   1.748883  11.687944   \n",
       "2003       365.0  140.218428  327.909991  0.168126   6.470605  23.056655   \n",
       "2004       366.0  167.938303  349.269237  1.787702   8.271143  42.336759   \n",
       "2005       365.0  263.527300  709.613622  0.733018   6.373032  22.603567   \n",
       "2006       365.0  207.731019  343.495001  1.796221  18.447526  63.324812   \n",
       "2007       340.0  293.557954  505.369804  1.381114   6.095477  49.512851   \n",
       "2008       328.0  320.858887  522.597430  2.384577  12.249071  50.274274   \n",
       "2009       328.0  203.214247  449.711142  1.292150   6.016200  46.631460   \n",
       "2010       361.0  181.551653  325.277694  0.999109   7.841984  67.430901   \n",
       "2011       357.0  395.931365  635.472611  1.082974  23.423416  88.075774   \n",
       "2012       366.0  308.965967  577.626987  0.582015   3.960455  35.187802   \n",
       "2013       365.0  271.692663  875.697668  1.518611  17.376862  69.864726   \n",
       "2014       365.0  244.006349  391.964539  2.277980  15.072483  95.589557   \n",
       "2015       365.0  198.782138  427.226507  1.070571   8.695861  52.053515   \n",
       "2016       366.0  107.397325  207.028385  0.644949   4.137696  17.242161   \n",
       "2017       365.0  209.862059  380.634219  0.958036   8.026103  61.342121   \n",
       "2018       365.0  204.002401  350.226205  0.964466   9.365599  58.869518   \n",
       "2019        32.0  229.031278  422.778311  9.170539  30.290579  55.654949   \n",
       "\n",
       "                  75%           max  \n",
       "waterYear                            \n",
       "1996       148.465650   4925.094264  \n",
       "1997       133.696038   2689.762049  \n",
       "1998        45.599891   3421.268581  \n",
       "1999        25.386828   2759.159877  \n",
       "2000        49.202021   1925.763430  \n",
       "2001        33.782330   3306.191055  \n",
       "2002        68.760222   2474.786120  \n",
       "2003        99.841619   2274.296711  \n",
       "2004       154.436873   2812.339784  \n",
       "2005       144.770144   5057.927636  \n",
       "2006       278.555076   3458.633534  \n",
       "2007       388.260473   4730.296370  \n",
       "2008       408.640955   3282.109999  \n",
       "2009       175.441257   3622.604839  \n",
       "2010       191.765033   2495.527888  \n",
       "2011       491.984231   4186.219982  \n",
       "2012       320.822810   3623.749412  \n",
       "2013       288.955529  11284.881748  \n",
       "2014       347.374865   3728.796538  \n",
       "2015       186.772439   3971.718717  \n",
       "2016       105.704194   1529.890750  \n",
       "2017       232.419787   2620.977381  \n",
       "2018       227.221391   2291.463230  \n",
       "2019       121.207433   1782.062698  "
      ]
     },
     "execution_count": 25,
     "metadata": {},
     "output_type": "execute_result"
    }
   ],
   "source": [
    "EGRET_Daily.groupby(['waterYear'])['FluxYearMTA'].describe()"
   ]
  },
  {
   "cell_type": "code",
   "execution_count": null,
   "metadata": {},
   "outputs": [],
   "source": []
  }
 ],
 "metadata": {
  "kernelspec": {
   "display_name": "Python 3",
   "language": "python",
   "name": "python3"
  },
  "language_info": {
   "codemirror_mode": {
    "name": "ipython",
    "version": 3
   },
   "file_extension": ".py",
   "mimetype": "text/x-python",
   "name": "python",
   "nbconvert_exporter": "python",
   "pygments_lexer": "ipython3",
   "version": "3.6.3"
  }
 },
 "nbformat": 4,
 "nbformat_minor": 2
}
