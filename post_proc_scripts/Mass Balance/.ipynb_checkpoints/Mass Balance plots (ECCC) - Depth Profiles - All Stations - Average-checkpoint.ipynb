{
 "cells": [
  {
   "cell_type": "code",
   "execution_count": null,
   "metadata": {},
   "outputs": [],
   "source": [
    "import pandas as pd\n",
    "import matplotlib.pyplot as plt\n",
    "import seaborn as sns\n",
    "from netCDF4 import Dataset\n",
    "%matplotlib inline\n",
    "# %matplotlib qt\n",
    "# %matplotlib osx\n",
    "import numpy as np\n",
    "import cmocean\n",
    "import itertools\n",
    "from mpl_toolkits.basemap import Basemap\n",
    "import numpy as np\n",
    "from scipy import interpolate\n",
    "import statsmodels.api as sm\n",
    "from adjustText import adjust_text\n",
    "\n",
    "sns.set_style(\"whitegrid\")\n",
    "sns.set_style(\"ticks\")\n",
    "from datetime import datetime\n",
    "str(datetime.now())\n",
    "\n",
    "# sns.set_palette('colorblind')\n"
   ]
  },
  {
   "cell_type": "code",
   "execution_count": null,
   "metadata": {},
   "outputs": [],
   "source": [
    "from IPython.display import Image\n",
    "Image(filename='/Users/imarkelo/git/Great-Lakes-Data/measurements/ECCC/Lake_Erie_map_with_stations-1.png') "
   ]
  },
  {
   "cell_type": "code",
   "execution_count": null,
   "metadata": {},
   "outputs": [],
   "source": [
    "df = pd.read_excel('../../measurements/ECCC/LakeErie_Markelov_Dove26May2017.xlsx', sheetname='Data')\n",
    "ECCCmeas = df[df['DEPTH_TO']==0]\n",
    "ECCCmeas['YEAR']=pd.to_datetime(pd.DatetimeIndex(ECCCmeas['STN_DATE'])).year\n",
    "ECCCmeas['MONTH']=pd.to_datetime(pd.DatetimeIndex(ECCCmeas['STN_DATE'])).month\n",
    "ECCCmeas = ECCCmeas[ECCCmeas['YEAR']>1999]\n",
    "# Cl = Cl[Cl.QC_TYPE=='routine field sample']\n",
    "# Cl = Cl[~Cl.DEPTH_CODE.isin(['Integrated, Spring', 'Integrated, Summer'])]\n",
    "# Cl = Cl[Cl.YEAR>2002]\n",
    "# Cl.loc[:,'SAMPLE_DEPTH_M'] *= -1"
   ]
  },
  {
   "cell_type": "code",
   "execution_count": null,
   "metadata": {},
   "outputs": [],
   "source": [
    "eastern_basin_a = [448, 940, 879, 938, 450, 449, 451, 452, 447, 936,886,446, 445,934,935,444,441,443,442,440,439,438,931]\n",
    "central_basin_a = [965, 962, 961, 954, 953, 952, 949, 945, 946]\n",
    "western_basin_a = [971, 973, 974, 970, 966, 968, 969]"
   ]
  },
  {
   "cell_type": "code",
   "execution_count": null,
   "metadata": {},
   "outputs": [],
   "source": [
    "eastern_basin_b = [937,939,941,942,887,1237,1236,933,727,932, 486, 67]\n",
    "central_basin_b = [493,492,491,338,885,311,339,341,963,964,960,859,918,919,957,958,1326,880,920,956,955,899,915,889,888,916,951,950,896,897,898,1053,948,947,1223,1222,1221,1220,1219,1218,1217,1216,1215,1214,1213,1212,1211,1210,1209,1292,943,944,947,205,1048]\n",
    "western_basin_b = [882, 733, 881, 1156, 972, 343, 357, 358, 344, 337, 967, 494, 495, 496]\n"
   ]
  },
  {
   "cell_type": "code",
   "execution_count": null,
   "metadata": {},
   "outputs": [],
   "source": [
    "western_basin_f = list(filter(lambda x: x in  western_basin_a + western_basin_b, ECCCmeas.groupby(['PSN']).count().sort_values('CRUISE_PLAN', ascending=False).index))\n",
    "central_basin_f = list(filter(lambda x: x in  central_basin_a + central_basin_b, ECCCmeas.groupby(['PSN']).count().sort_values('CRUISE_PLAN', ascending=False).index))\n",
    "eastern_basin_f = list(filter(lambda x: x in  eastern_basin_a + eastern_basin_b, ECCCmeas.groupby(['PSN']).count().sort_values('CRUISE_PLAN', ascending=False).index))\n"
   ]
  },
  {
   "cell_type": "code",
   "execution_count": null,
   "metadata": {},
   "outputs": [],
   "source": [
    "western_basin_f[:6]"
   ]
  },
  {
   "cell_type": "code",
   "execution_count": null,
   "metadata": {},
   "outputs": [],
   "source": [
    "spring = range(80, 172)\n",
    "summer = range(172, 264)\n",
    "fall = range(264, 355)\n",
    "\n",
    "def season(x):\n",
    "    if x in spring:\n",
    "       return 'Spring'\n",
    "    if x in summer:\n",
    "       return 'Summer'\n",
    "    if x in fall:\n",
    "       return 'Fall'\n",
    "    else:\n",
    "       return 'Winter'"
   ]
  },
  {
   "cell_type": "code",
   "execution_count": null,
   "metadata": {},
   "outputs": [],
   "source": [
    "ECCCmeas['SEASON'] = pd.to_datetime(pd.DatetimeIndex(ECCCmeas['STN_DATE'])).dayofyear.map(season)"
   ]
  },
  {
   "cell_type": "code",
   "execution_count": null,
   "metadata": {},
   "outputs": [],
   "source": [
    "ECCCmeas.loc[:,'DEPTH_FROM'] *= -1"
   ]
  },
  {
   "cell_type": "code",
   "execution_count": null,
   "metadata": {},
   "outputs": [],
   "source": [
    "ECCCmeas = ECCCmeas[ECCCmeas['DEPTH_FROM']>-900]"
   ]
  },
  {
   "cell_type": "code",
   "execution_count": null,
   "metadata": {},
   "outputs": [],
   "source": [
    "ECCCmeas['VALUE'] = pd.to_numeric(ECCCmeas['VALUE'], errors='coerce')\n",
    "ECCCmeas['PSN'] = pd.to_numeric(ECCCmeas['PSN'], errors='coerce')\n",
    "ECCCmeas['LATITUDE_DD'] = pd.to_numeric(ECCCmeas['LATITUDE_DD'], errors='coerce')\n",
    "ECCCmeas['LONGITUDE_DD'] = pd.to_numeric(ECCCmeas['LONGITUDE_DD'], errors='coerce')"
   ]
  },
  {
   "cell_type": "code",
   "execution_count": null,
   "metadata": {},
   "outputs": [],
   "source": [
    "stations = eastern_basin_f + central_basin_f + western_basin_f\n",
    "years = range(2003,2018)\n",
    "seasons = ['Spring', 'Summer']"
   ]
  },
  {
   "cell_type": "code",
   "execution_count": null,
   "metadata": {},
   "outputs": [],
   "source": [
    "ECCCmeas.ABBREV.unique()"
   ]
  },
  {
   "cell_type": "code",
   "execution_count": null,
   "metadata": {},
   "outputs": [],
   "source": [
    "ECCCmeas.FULL_NAME.unique()"
   ]
  },
  {
   "cell_type": "code",
   "execution_count": null,
   "metadata": {},
   "outputs": [],
   "source": [
    "# ECCCmeas = ECCCmeas[ECCCmeas['PSN'].isin(eastern_basin + central_basin + western_basin)]\n",
    "ECCCmeas = ECCCmeas[ECCCmeas['SEASON'].isin(seasons)]\n",
    "# ECCCmeas['VALUE'] = pd.to_numeric(ECCCmeas['VALUE'], errors='coerce')"
   ]
  },
  {
   "cell_type": "code",
   "execution_count": null,
   "metadata": {
    "scrolled": false
   },
   "outputs": [],
   "source": [
    "ECCCmeas[~ECCCmeas['PSN'].isin(eastern_basin_f + central_basin_f + western_basin_f)].PSN.unique()"
   ]
  },
  {
   "cell_type": "code",
   "execution_count": null,
   "metadata": {
    "scrolled": true
   },
   "outputs": [],
   "source": [
    "PSNs_loc = ECCCmeas.groupby(['PSN']).mean()[['LATITUDE_DD', 'LONGITUDE_DD']].reset_index()\n"
   ]
  },
  {
   "cell_type": "code",
   "execution_count": null,
   "metadata": {},
   "outputs": [],
   "source": [
    "nc = Dataset('../../measurements/bathymetry/erie_lld.grd')\n",
    "topo = -nc.variables['z'][:] #[::10,::10]\n",
    "x = nc.variables['x'][:] #[::10]\n",
    "y = nc.variables['y'][:] #[::10]\n",
    "lon, lat = np.meshgrid(x, y)"
   ]
  },
  {
   "cell_type": "code",
   "execution_count": null,
   "metadata": {},
   "outputs": [],
   "source": [
    "levels1 = np.linspace(0,70,14*2+1)"
   ]
  },
  {
   "cell_type": "code",
   "execution_count": null,
   "metadata": {},
   "outputs": [],
   "source": [
    "Cl = pd.read_csv('../../measurements/GLNPO/Mass Balance/Cl.csv')"
   ]
  },
  {
   "cell_type": "code",
   "execution_count": null,
   "metadata": {},
   "outputs": [],
   "source": [
    "GLENDA_stations = Cl.groupby(['STATION_ID']).mean()[['LATITUDE', 'LONGITUDE']].reset_index()"
   ]
  },
  {
   "cell_type": "code",
   "execution_count": null,
   "metadata": {},
   "outputs": [],
   "source": [
    "GLENDA_stations['LATITUDE'] = pd.to_numeric(GLENDA_stations['LATITUDE'], errors='coerce')\n",
    "GLENDA_stations['LONGITUDE'] = pd.to_numeric(GLENDA_stations['LONGITUDE'], errors='coerce')"
   ]
  },
  {
   "cell_type": "code",
   "execution_count": null,
   "metadata": {},
   "outputs": [],
   "source": [
    "glenda_eastern_basin = ['ER15M', 'ER09', 'ER63', 'ER10']\n",
    "glenda_central_basin = ['ER78M', 'ER38', 'ER37', 'ER42', 'ER30', 'ER73', 'ER36', 'ER32'] #, 'ER43','ER31']\n",
    "glenda_western_basin = ['ER58', 'ER59', 'ER61', 'ER60', 'ER92', 'ER91M']"
   ]
  },
  {
   "cell_type": "code",
   "execution_count": null,
   "metadata": {},
   "outputs": [],
   "source": []
  },
  {
   "cell_type": "code",
   "execution_count": null,
   "metadata": {},
   "outputs": [],
   "source": [
    "# %matplotlib qt\n",
    "f=plt.figure(figsize=(12,6), dpi=200)\n",
    "\n",
    "m = Basemap(llcrnrlon=-83.5,llcrnrlat=41,urcrnrlon=-78.7,urcrnrlat=43.2, resolution='h',projection='cyl',lat_0=42.0+0.2,lon_0=-81.0-0.2)\n",
    "# m = Basemap(projection='cyl', lat_0=42.0+0.2,lon_0=-81.0-0.2)\n",
    "x, y = m(lon, lat)\n",
    "m.drawcoastlines()\n",
    "m.drawparallels(np.arange(41., 44, 1.),labels=[1,0,0,0], fontsize=10)\n",
    "m.drawmeridians(np.arange(-84., -78., 1.),labels=[0,0,1,0], fontsize=10)\n",
    "# plt.contour(x,y,topo, levels=levels1, colors='k')  # negative contours will be dashed by default\n",
    "cax = m.contourf(x,y,topo, levels=levels1,cmap=cmocean.cm.deep)\n",
    "cbar = m.colorbar(cax,location='bottom')\n",
    "texts = []\n",
    "for i,row in GLENDA_stations.iterrows():\n",
    "    if row['STATION_ID'] in glenda_eastern_basin+glenda_central_basin + glenda_western_basin:\n",
    "        plt.scatter(row['LONGITUDE'], row['LATITUDE'], color='m', s=10, marker='s')\n",
    "        texts.append(plt.text(row['LONGITUDE']-0.07, row['LATITUDE']-0.07, '{}'.format(row['STATION_ID']), fontsize=8, color='m', weight='bold'))\n",
    "    else:\n",
    "        a1=plt.scatter(row['LONGITUDE'], row['LATITUDE'], color='k', s=10, marker='s')\n",
    "#         plt.text(row['LONGITUDE']+0.01, row['LATITUDE']+0.01, '{}'.format(row['STATION_ID']), fontsize=8, color='k')\n",
    "for i,row in PSNs_loc.iterrows():\n",
    "    if row['PSN'] in western_basin_f[:8]+central_basin_f[:8] + eastern_basin_f[:8]:\n",
    "        plt.scatter(row['LONGITUDE_DD'], row['LATITUDE_DD'], color='r', s=10)\n",
    "        texts.append(plt.text(row['LONGITUDE_DD']+0.01, row['LATITUDE_DD']+0.01, '{0:.0f}'.format(row['PSN']), fontsize=8, color='r', weight='bold'))\n",
    "    else:\n",
    "        a2=plt.scatter(row['LONGITUDE_DD'], row['LATITUDE_DD'], color='k', s=10)\n",
    "\n",
    "        #         plt.text(row['LONGITUDE_DD']+0.01, row['LATITUDE_DD']+0.01, '{0:.0f}'.format(row['PSN']), fontsize=4, color='k')\n",
    "\n",
    "adjust_text(texts)\n",
    "plt.legend([a1,a2], ['EPA','ECCC'], title='Stations')\n",
    "plt.text(0.5,-0.18,'Depth, [m]', horizontalalignment='center', transform=f.axes[0].transAxes)\n",
    "# plt.tight_layout()\n",
    "plt.subplots_adjust(left=0.1, right=0.9, bottom=0.1, top=0.9)\n",
    "# f.savefig('Mass Balance/GLENDA/All Stations/map_stations.pdf') \n"
   ]
  },
  {
   "cell_type": "code",
   "execution_count": null,
   "metadata": {},
   "outputs": [],
   "source": [
    "ECCCmeas.ABBREV.unique()"
   ]
  },
  {
   "cell_type": "code",
   "execution_count": null,
   "metadata": {},
   "outputs": [],
   "source": [
    "combined_elements = [['PH'], ['CAU', 'CAC'], ['D.I.C'], ['D ORG C'], ['POC'], ['D 02 W', 'D OXY P'],['TP-P-UF', 'TP'], ['TP-P-F', 'TF P'], ['SRP-P-F', 'SR P'], \n",
    " ['N TP'], ['NH3'], ['NO3NO2 F'], ['SO4-F', 'S04 F'], ['CL-F', 'CL F'], ['CA-F', 'CA-F/ICP', 'CA FA'], \n",
    " ['MG-F', 'MG F', 'MG-F'], ['K FS', 'K-FAAS','K-FICP','K-F'], ['NA FS', 'NA-FAAS', 'NA-FICP', 'NA-F'],\n",
    " ['AL/T-OES', 'AL/T-MS'], ['FE/T-OES', 'FE/T-MS'], ['F-F'], ['SAT 02']]\n",
    "\n",
    " \n",
    " "
   ]
  },
  {
   "cell_type": "code",
   "execution_count": null,
   "metadata": {},
   "outputs": [],
   "source": [
    "for a in combined_elements:\n",
    "    elem_1 = ECCCmeas[ECCCmeas.ABBREV.isin(a)]\n",
    "    for b in combined_elements:\n",
    "        if a==b:\n",
    "            pass\n",
    "        else:\n",
    "            elem_2 = ECCCmeas[ECCCmeas.ABBREV.isin(b)]\n",
    "            Element = pd.merge(elem_1, elem_2, how='inner', on=['DEPTH_FROM', 'PSN', 'SEASON', 'YEAR'])\n",
    "            Element['VALUE'] = Element['VALUE_x']/Element['VALUE_y']\n",
    "            f, axes = plt.subplots(3,15, figsize=(2*15,5*3), dpi=100, sharex=False, sharey=True)\n",
    "            for j, y in enumerate(years):\n",
    "                for i, b in enumerate([western_basin_f[:8], central_basin_f[:8], eastern_basin_f[:8]]):\n",
    "\n",
    "                    sns_data = Element[(Element['PSN'].isin(b)) & (Element['YEAR']==y)]\n",
    "                    g = sns.scatterplot(x='VALUE', y='DEPTH_FROM', data=sns_data, ax=axes[i][j], hue='SEASON', hue_order=seasons, style_order=b, style='PSN', s=50)\n",
    "\n",
    "\n",
    "                    for k, s in enumerate(seasons):\n",
    "                        data = sns_data[sns_data['SEASON']==s]\n",
    "                        data = data.sort_values('DEPTH_FROM')\n",
    "                        xold = data.groupby('DEPTH_FROM').mean()['VALUE'].reset_index()['DEPTH_FROM'].values\n",
    "                        yold = data.groupby('DEPTH_FROM').mean()['VALUE'].reset_index()['VALUE'].values\n",
    "\n",
    "            #             tck,u  = interpolate.splprep([xold,yold], s=50000000000)\n",
    "            #             unew = np.arange(0, 1.00, 0.1)\n",
    "            #             out = interpolate.splev(unew, tck)\n",
    "                        try:\n",
    "                            # lowess will return our \"smoothed\" data with a y value for at every x-value\n",
    "                            lowess = sm.nonparametric.lowess(yold, xold, frac=1)\n",
    "\n",
    "                            # unpack the lowess smoothed points to their values\n",
    "                            lowess_x = list(zip(*lowess))[0]\n",
    "                            lowess_y = list(zip(*lowess))[1]\n",
    "\n",
    "\n",
    "                            tck = interpolate.interp1d(lowess_x, lowess_y, kind='linear')\n",
    "                            unew = np.arange(xold.min(), xold.max(), 1)\n",
    "                            out = tck(unew)\n",
    "\n",
    "                            if s=='Spring':\n",
    "                                clr=sns.color_palette().as_hex()[0]\n",
    "                            if s=='Summer' or s=='Fall':\n",
    "                                clr=sns.color_palette().as_hex()[1]\n",
    "                #             axes[i][j].scatter(data.VALUE_1, -data.SAMPLE_DEPTH_M, c=Elementr, edgecolor='w')\n",
    "                #             sns_data.loc[:,'SAMPLE_DEPTH_M'] *= -1\n",
    "\n",
    "                            axes[i][j].plot(out, unew, c=clr, lw=2,zorder=1)\n",
    "                        except:\n",
    "                            pass\n",
    "                        axes[i][j].set_title(\" \".join([str(y)]), fontsize='small')\n",
    "            #             axes[i][j].fill_betweenx(-data['z'], data['val']['mean']-data['val']['std'], data['val']['mean']+data['val']['std'], alpha=0.5, lw=0., color=Elementr)\n",
    "            #             axes[i][j].set_xlim(0,30)\n",
    "                        axes[i][j].set_ylim(-64,0)\n",
    "                        axes[i][j].grid(lw=0.2)\n",
    "                        axes[i][j].legend()\n",
    "                        axes[i][j].legend_.remove()\n",
    "                        if y==2012:\n",
    "                            asns = g.get_legend_handles_labels()[0][:12]\n",
    "                            axes[i][j].legend(handles=asns, loc=(7.,0))\n",
    "                        axes[i][j].set_xlabel('')\n",
    "                        axes[i][j].set_ylabel('')\n",
    "#                         axes[i][j].set_xlim(np.floor(axes[i][j].get_xlim()[0]), np.ceil(axes[i][j].get_xlim()[1]))\n",
    "            #             for c,st in zip(sns.color_palette().as_hex()[:len(b)],b):\n",
    "            #                 axes[i][j].plot(data[data['STATION_ID']==st].VALUE_1, data[data['STATION_ID']==st].SAMPLE_DEPTH_M,c=c, lw=0.3, label='')\n",
    "\n",
    "\n",
    "            # axes[0][0].text(130,10, 'Chloride concnetrations, [mg/L]', fontsize=24)\n",
    "\n",
    "            # axes[2][2].set_xlim(16,18)\n",
    "            # axes[2][0].set_xlim(16,17.5)\n",
    "\n",
    "            limits = []\n",
    "            for line in axes:\n",
    "                low = [a.get_xlim()[0] for a in line]\n",
    "                high = [a.get_xlim()[1] for a in line]\n",
    "                limits.append((min(low),max(high)))\n",
    "\n",
    "            #     for i,ax in enumerate(axes[0]):\n",
    "            #         axes[0][i].set_xlim(limits[0])\n",
    "            #         axes[1][i].set_xlim(limits[1])\n",
    "            #         axes[2][i].set_xlim(limits[2])\n",
    "\n",
    "\n",
    "\n",
    "            axes[0][0].set_ylabel('Depth, [m]')\n",
    "            axes[1][0].set_ylabel('Depth, [m]')\n",
    "            axes[2][0].set_ylabel('Depth, [m]')\n",
    "            try:\n",
    "                axes[2][0].text(8.5,-0.2, Element.FULL_NAME_x.values[0].title().strip()+' vs. '+Element.FULL_NAME_y.values[0].title().strip()+', ['+ Element.UNITS_x.values[0].strip()+' vs. '+ Element.UNITS_y.values[0].strip() +']', fontsize=24, horizontalalignment='center', transform=axes[2][0].transAxes)\n",
    "                f.savefig('Mass Balance/GLENDA/All Stations/ECCC Ratios/'+Element.FULL_NAME_y.values[0].strip()+'/'+Element.FULL_NAME_x.values[0].title().strip()+' vs. '+Element.FULL_NAME_y.values[0].title().strip()+'_no_scales.pdf')\n",
    "            except:\n",
    "                pass\n",
    "\n"
   ]
  },
  {
   "cell_type": "code",
   "execution_count": null,
   "metadata": {
    "scrolled": true
   },
   "outputs": [],
   "source": [
    "for elem in combined_elements:\n",
    "    Element = ECCCmeas[ECCCmeas.ABBREV.isin(elem)]\n",
    "    f, axes = plt.subplots(3,15, figsize=(2*15,5*3), dpi=100, sharex=False, sharey=True)\n",
    "    for j, y in enumerate(years):\n",
    "        for i, b in enumerate([western_basin_f[:8], central_basin_f[:8], eastern_basin_f[:8]]):\n",
    "\n",
    "            sns_data = Element[(Element['PSN'].isin(b)) & (Element['YEAR']==y)]\n",
    "            g=sns.scatterplot(x='VALUE', y='DEPTH_FROM', data=sns_data, ax=axes[i][j], hue='SEASON', hue_order=seasons, style_order=b, style='PSN', s=50)\n",
    "                \n",
    "\n",
    "            for k, s in enumerate(seasons):\n",
    "                data = sns_data[sns_data['SEASON']==s]\n",
    "                data = data.sort_values('DEPTH_FROM')\n",
    "                xold = data.groupby('DEPTH_FROM').mean()['VALUE'].reset_index()['DEPTH_FROM'].values\n",
    "                yold = data.groupby('DEPTH_FROM').mean()['VALUE'].reset_index()['VALUE'].values\n",
    "\n",
    "    #             tck,u  = interpolate.splprep([xold,yold], s=50000000000)\n",
    "    #             unew = np.arange(0, 1.00, 0.1)\n",
    "    #             out = interpolate.splev(unew, tck)\n",
    "                try:\n",
    "                    # lowess will return our \"smoothed\" data with a y value for at every x-value\n",
    "                    lowess = sm.nonparametric.lowess(yold, xold, frac=1)\n",
    "\n",
    "                    # unpack the lowess smoothed points to their values\n",
    "                    lowess_x = list(zip(*lowess))[0]\n",
    "                    lowess_y = list(zip(*lowess))[1]\n",
    "\n",
    "\n",
    "                    tck = interpolate.interp1d(lowess_x, lowess_y, kind='linear')\n",
    "                    unew = np.arange(xold.min(), xold.max(), 1)\n",
    "                    out = tck(unew)\n",
    "\n",
    "                    if s=='Spring':\n",
    "                        clr=sns.color_palette().as_hex()[0]\n",
    "                    if s=='Summer' or s=='Fall':\n",
    "                        clr=sns.color_palette().as_hex()[1]\n",
    "        #             axes[i][j].scatter(data.VALUE_1, -data.SAMPLE_DEPTH_M, c=Elementr, edgecolor='w')\n",
    "        #             sns_data.loc[:,'SAMPLE_DEPTH_M'] *= -1\n",
    "\n",
    "                    axes[i][j].plot(out, unew, c=clr, lw=2,zorder=1)\n",
    "                except:\n",
    "                    pass\n",
    "                axes[i][j].set_title(\" \".join([str(y)]), fontsize='small')\n",
    "    #             axes[i][j].fill_betweenx(-data['z'], data['val']['mean']-data['val']['std'], data['val']['mean']+data['val']['std'], alpha=0.5, lw=0., color=Elementr)\n",
    "    #             axes[i][j].set_xlim(0,30)\n",
    "                axes[i][j].set_ylim(-64,0)\n",
    "                axes[i][j].grid(lw=0.2)\n",
    "                axes[i][j].legend()\n",
    "                axes[i][j].legend_.remove()\n",
    "                if y==2012:\n",
    "                    asns = g.get_legend_handles_labels()[0][:12]\n",
    "                    axes[i][j].legend(handles=asns, loc=(7.,0))\n",
    "                axes[i][j].set_xlabel('')\n",
    "                axes[i][j].set_ylabel('')\n",
    "#                 axes[i][j].set_xlim(np.floor(axes[i][j].get_xlim()[0]), np.ceil(axes[i][j].get_xlim()[1]))\n",
    "    #             for c,st in zip(sns.color_palette().as_hex()[:len(b)],b):\n",
    "    #                 axes[i][j].plot(data[data['STATION_ID']==st].VALUE_1, data[data['STATION_ID']==st].SAMPLE_DEPTH_M,c=c, lw=0.3, label='')\n",
    "    \n",
    "#     asns = g.get_legend_handles_labels()[0][:12]\n",
    "    \n",
    "#     axes[0][12].legend(handles=asns, loc=(3.5,0))\n",
    "#     axes[1][12].legend(handles=asns, loc=(3.5,0))\n",
    "#     axes[2][12].legend(handles=asns, loc=(3.5,0))\n",
    "\n",
    "    # axes[0][0].text(130,10, 'Chloride concnetrations, [mg/L]', fontsize=24)\n",
    "\n",
    "    # axes[2][2].set_xlim(16,18)\n",
    "    # axes[2][0].set_xlim(16,17.5)\n",
    "\n",
    "    limits = []\n",
    "    for line in axes:\n",
    "        low = [a.get_xlim()[0] for a in line]\n",
    "        high = [a.get_xlim()[1] for a in line]\n",
    "        limits.append((min(low),max(high)))\n",
    "\n",
    "#     for i,ax in enumerate(axes[0]):\n",
    "#         axes[0][i].set_xlim(limits[0])\n",
    "#         axes[1][i].set_xlim(limits[1])\n",
    "#         axes[2][i].set_xlim(limits[2])\n",
    "\n",
    "\n",
    "\n",
    "    axes[0][0].set_ylabel('Depth, [m]')\n",
    "    axes[1][0].set_ylabel('Depth, [m]')\n",
    "    axes[2][0].set_ylabel('Depth, [m]')\n",
    "    axes[2][0].text(8.5,-0.2, Element.FULL_NAME.values[0].title().strip()+', ['+ Element.UNITS.values[0].strip() +']', fontsize=24, horizontalalignment='center', transform=axes[2][0].transAxes)\n",
    "    f.savefig('Mass Balance/GLENDA/All Stations/ECCC top 8 stations with Mean LOESS/ECCC_Depth_Profiles_With_Mean_'+Element.FULL_NAME.values[0].title().strip()+'_no_scales.pdf')\n",
    "\n"
   ]
  },
  {
   "cell_type": "code",
   "execution_count": null,
   "metadata": {},
   "outputs": [],
   "source": [
    "ECCCmeas.ABBREV.unique()"
   ]
  },
  {
   "cell_type": "code",
   "execution_count": null,
   "metadata": {},
   "outputs": [],
   "source": [
    "for a in combined_elements:#ECCCmeas.ABBREV.unique():\n",
    "    elem_1 = ECCCmeas[ECCCmeas.ABBREV.isin(a)]\n",
    "    for b in combined_elements:#ECCCmeas.ABBREV.unique():\n",
    "        if a==b:\n",
    "            pass\n",
    "        else:\n",
    "            elem_2 = ECCCmeas[ECCCmeas.ABBREV.isin(b)]\n",
    "            Element = pd.merge(elem_1, elem_2, how='inner', on=['DEPTH_FROM', 'PSN', 'SEASON', 'YEAR'])\n",
    "            Element['VALUE'] = Element['VALUE_x']/Element['VALUE_y']\n",
    "            f, axes = plt.subplots(3,15, figsize=(2*15,5*3), dpi=100, sharex=False, sharey=True)\n",
    "            for j, y in enumerate(years):\n",
    "                for i, b in enumerate([western_basin_f[:8], central_basin_f[:8], eastern_basin_f[:8]]):\n",
    "\n",
    "                    sns_data = Element[(Element['PSN'].isin(b)) & (Element['YEAR']==y)]\n",
    "                    if a==['PH'] and y==2013:\n",
    "                        g=sns.scatterplot(x='VALUE', y='DEPTH_FROM', data=sns_data, ax=axes[i][j], hue='SEASON', hue_order=seasons, style_order=b, style='PSN', s=50)\n",
    "                    sns.scatterplot(x='VALUE', y='DEPTH_FROM', data=sns_data, ax=axes[i][j], hue='SEASON', hue_order=seasons, style_order=b, style='PSN', s=50)\n",
    "\n",
    "\n",
    "                    for k, s in enumerate(seasons):\n",
    "                        data = sns_data[sns_data['SEASON']==s]\n",
    "                        data = data.sort_values('DEPTH_FROM')\n",
    "                        xold = data.groupby('DEPTH_FROM').mean()['VALUE'].reset_index()['DEPTH_FROM'].values\n",
    "                        yold = data.groupby('DEPTH_FROM').mean()['VALUE'].reset_index()['VALUE'].values\n",
    "\n",
    "            #             tck,u  = interpolate.splprep([xold,yold], s=50000000000)\n",
    "            #             unew = np.arange(0, 1.00, 0.1)\n",
    "            #             out = interpolate.splev(unew, tck)\n",
    "                        try:\n",
    "                            # lowess will return our \"smoothed\" data with a y value for at every x-value\n",
    "                            lowess = sm.nonparametric.lowess(yold, xold, frac=1)\n",
    "\n",
    "                            # unpack the lowess smoothed points to their values\n",
    "                            lowess_x = list(zip(*lowess))[0]\n",
    "                            lowess_y = list(zip(*lowess))[1]\n",
    "\n",
    "\n",
    "                            tck = interpolate.interp1d(lowess_x, lowess_y, kind='linear')\n",
    "                            unew = np.arange(xold.min(), xold.max(), 1)\n",
    "                            out = tck(unew)\n",
    "\n",
    "                            if s=='Spring':\n",
    "                                clr=sns.color_palette().as_hex()[0]\n",
    "                            if s=='Summer' or s=='Fall':\n",
    "                                clr=sns.color_palette().as_hex()[1]\n",
    "                #             axes[i][j].scatter(data.VALUE_1, -data.SAMPLE_DEPTH_M, c=Elementr, edgecolor='w')\n",
    "                #             sns_data.loc[:,'SAMPLE_DEPTH_M'] *= -1\n",
    "\n",
    "                            axes[i][j].plot(out, unew, c=clr, lw=2,zorder=1)\n",
    "                        except:\n",
    "                            pass\n",
    "                        axes[i][j].set_title(\" \".join([str(y)]), fontsize='small')\n",
    "            #             axes[i][j].fill_betweenx(-data['z'], data['val']['mean']-data['val']['std'], data['val']['mean']+data['val']['std'], alpha=0.5, lw=0., color=Elementr)\n",
    "            #             axes[i][j].set_xlim(0,30)\n",
    "                        axes[i][j].set_ylim(-64,0)\n",
    "                        axes[i][j].grid(lw=0.2)\n",
    "                        axes[i][j].legend()\n",
    "                        axes[i][j].legend_.remove()\n",
    "                        axes[i][j].set_xlabel('')\n",
    "                        axes[i][j].set_ylabel('')\n",
    "#                         axes[i][j].set_xlim(np.floor(axes[i][j].get_xlim()[0]), np.ceil(axes[i][j].get_xlim()[1]))\n",
    "            #             for c,st in zip(sns.color_palette().as_hex()[:len(b)],b):\n",
    "            #                 axes[i][j].plot(data[data['STATION_ID']==st].VALUE_1, data[data['STATION_ID']==st].SAMPLE_DEPTH_M,c=c, lw=0.3, label='')\n",
    "\n",
    "            asns = g.get_legend_handles_labels()[0][:12]\n",
    "\n",
    "            axes[0][12].legend(handles=asns, loc=(3.5,0))\n",
    "            axes[1][12].legend(handles=asns, loc=(3.5,0))\n",
    "            axes[2][12].legend(handles=asns, loc=(3.5,0))\n",
    "\n",
    "            # axes[0][0].text(130,10, 'Chloride concnetrations, [mg/L]', fontsize=24)\n",
    "\n",
    "            # axes[2][2].set_xlim(16,18)\n",
    "            # axes[2][0].set_xlim(16,17.5)\n",
    "\n",
    "            limits = []\n",
    "            for line in axes:\n",
    "                low = [a.get_xlim()[0] for a in line]\n",
    "                high = [a.get_xlim()[1] for a in line]\n",
    "                limits.append((min(low),max(high)))\n",
    "\n",
    "            #     for i,ax in enumerate(axes[0]):\n",
    "            #         axes[0][i].set_xlim(limits[0])\n",
    "            #         axes[1][i].set_xlim(limits[1])\n",
    "            #         axes[2][i].set_xlim(limits[2])\n",
    "\n",
    "\n",
    "\n",
    "            axes[0][0].set_ylabel('Depth, [m]')\n",
    "            axes[1][0].set_ylabel('Depth, [m]')\n",
    "            axes[2][0].set_ylabel('Depth, [m]')\n",
    "            try:\n",
    "                axes[2][0].text(8.5,-0.2, Element.FULL_NAME_x.values[0].title().strip()+' vs. '+Element.FULL_NAME_y.values[0].title().strip()+', ['+ Element.UNITS_x.values[0].strip()+' vs. '+ Element.UNITS_y.values[0].strip() +']', fontsize=24, horizontalalignment='center', transform=axes[2][0].transAxes)\n",
    "                f.savefig('Mass Balance/GLENDA/All Stations/ECCC Ratios/'+Element.FULL_NAME_y.values[0].strip()+'/'+Element.FULL_NAME_x.values[0].title().strip()+' vs. '+Element.FULL_NAME_y.values[0].title().strip()+'_no_scales.pdf')\n",
    "            except:\n",
    "                pass\n",
    "\n"
   ]
  },
  {
   "cell_type": "code",
   "execution_count": null,
   "metadata": {},
   "outputs": [],
   "source": [
    "elem_1 = ECCCmeas[ECCCmeas.ABBREV==a]"
   ]
  },
  {
   "cell_type": "code",
   "execution_count": null,
   "metadata": {},
   "outputs": [],
   "source": [
    "elem_2 = ECCCmeas[ECCCmeas.ABBREV==b]"
   ]
  },
  {
   "cell_type": "code",
   "execution_count": null,
   "metadata": {},
   "outputs": [],
   "source": [
    "Ratios = pd.merge(elem_1, elem_2, how='inner', on=['DEPTH_FROM', 'PSN', 'SEASON', 'YEAR'])\n",
    "Ratios['VALUE'] = Ratios['VALUE_x']/Ratios['VALUE_y']\n"
   ]
  },
  {
   "cell_type": "code",
   "execution_count": null,
   "metadata": {},
   "outputs": [],
   "source": [
    "Ratios['VALUE'] = Ratios['VALUE_x']/Ratios['VALUE_y']"
   ]
  },
  {
   "cell_type": "code",
   "execution_count": null,
   "metadata": {},
   "outputs": [],
   "source": [
    "Ratios.shape"
   ]
  },
  {
   "cell_type": "code",
   "execution_count": null,
   "metadata": {},
   "outputs": [],
   "source": [
    "elem_1.shape"
   ]
  },
  {
   "cell_type": "code",
   "execution_count": null,
   "metadata": {},
   "outputs": [],
   "source": []
  },
  {
   "cell_type": "code",
   "execution_count": null,
   "metadata": {},
   "outputs": [],
   "source": [
    "import os\n",
    "for directory in ECCCmeas.FULL_NAME.unique():\n",
    "    directory = directory.strip()\n",
    "    if not os.path.exists('/Users/imarkelo/git/Great-Lakes-Data/post_proc_scripts/Mass Balance/Mass Balance/GLENDA/All Stations/ECCC Ratios/'+directory):\n",
    "        os.makedirs('/Users/imarkelo/git/Great-Lakes-Data/post_proc_scripts/Mass Balance/Mass Balance/GLENDA/All Stations/ECCC Ratios/'+directory)"
   ]
  },
  {
   "cell_type": "code",
   "execution_count": null,
   "metadata": {},
   "outputs": [],
   "source": []
  }
 ],
 "metadata": {
  "kernelspec": {
   "display_name": "Python 3",
   "language": "python",
   "name": "python3"
  },
  "language_info": {
   "codemirror_mode": {
    "name": "ipython",
    "version": 3
   },
   "file_extension": ".py",
   "mimetype": "text/x-python",
   "name": "python",
   "nbconvert_exporter": "python",
   "pygments_lexer": "ipython3",
   "version": "3.6.3"
  }
 },
 "nbformat": 4,
 "nbformat_minor": 2
}
