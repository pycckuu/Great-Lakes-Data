{
 "cells": [
  {
   "cell_type": "code",
   "execution_count": 1,
   "metadata": {},
   "outputs": [],
   "source": [
    "import pandas as pd\n",
    "import seaborn as sns\n",
    "import matplotlib.pyplot as plt\n",
    "import matplotlib.dates as mdates\n",
    "# %matplotlib inline\n",
    "\n"
   ]
  },
  {
   "cell_type": "code",
   "execution_count": null,
   "metadata": {},
   "outputs": [],
   "source": []
  },
  {
   "cell_type": "code",
   "execution_count": 47,
   "metadata": {},
   "outputs": [],
   "source": [
    "import glob\n",
    "csvs = glob.glob('./*/*/*/PWQMN*.csv')"
   ]
  },
  {
   "cell_type": "code",
   "execution_count": 48,
   "metadata": {},
   "outputs": [],
   "source": [
    "csvs.sort()"
   ]
  },
  {
   "cell_type": "code",
   "execution_count": 49,
   "metadata": {},
   "outputs": [
    {
     "data": {
      "text/plain": [
       "['./central_basin/beaver_creek/PWQMN/PWQMN_beaver_creek_16008700602.csv',\n",
       " './central_basin/big_otter_creek/PWQMN/PWQMN_big_otter_creek_16010900102.csv',\n",
       " './central_basin/big_otter_creek/PWQMN/PWQMN_big_otter_creek_16010900802.csv',\n",
       " './central_basin/catfish_creek/PWQMN/PWQMN_catfish_creek_16009700802.csv',\n",
       " './central_basin/dutton_drain/PWQMN/PWQMN_dutton_drain_16007200102.csv',\n",
       " './central_basin/kettle_creek/PWQMN/PWQMN_kettle_creek_16008701002.csv',\n",
       " './central_basin/lebo_drain/PWQMN/PWQMN_lebo_drain_16003000302.csv',\n",
       " './central_basin/muddy_creek/PWQMN/PWQMN_muddy_creek_16003200102.csv',\n",
       " './central_basin/silver_creek/PWQMN/PWQMN_silver_creek_16009900102.csv',\n",
       " './central_basin/sixteen_mile_creek/PWQMN/PWQMN_sixteen_mile_creek_16006300202.csv',\n",
       " './detroit_river/canard_river/PWQMN/PWQMN_canard_river_10000200202.csv',\n",
       " './detroit_river/turkey_creek/PWQMN/PWQMN_turkey_creek_10000100302.csv',\n",
       " './eastern_basin/big_creek/PWQMN/PWQMN_big_creek_16012400302.csv',\n",
       " './eastern_basin/big_creek/PWQMN/PWQMN_big_creek_16012401002.csv',\n",
       " './eastern_basin/big_creek/PWQMN/PWQMN_big_creek_16012401102.csv',\n",
       " './eastern_basin/grand_river/PWQMN/PWQMN_grand_river_16018403502.csv',\n",
       " './eastern_basin/lynn_river/PWQMN/PWQMN_lynn_river_16015900302.csv',\n",
       " './eastern_basin/lynn_river/PWQMN/PWQMN_lynn_river_16015900902.csv',\n",
       " './eastern_basin/nanticoke_creek/PWQMN/PWQMN_nanticoke_creek_16016400102.csv',\n",
       " './eastern_basin/sandusk_creek/PWQMN/PWQMN_sandusk_creek_16017000102.csv',\n",
       " './eastern_basin/sandusk_creek/PWQMN/PWQMN_sandusk_creek_16017000282.csv',\n",
       " './eastern_basin/sandusk_creek/PWQMN/PWQMN_sandusk_creek_16017000602.csv',\n",
       " './eastern_basin/sandusk_creek/PWQMN/PWQMN_sandusk_creek_16017000702.csv',\n",
       " './lake_st_clair/big_creek/PWQMN/PWQMN_big_creek_4001303302.csv',\n",
       " './lake_st_clair/jeannettes_creek/PWQMN/PWQMN_jeannettes_creek_4001311002.csv',\n",
       " './lake_st_clair/ruscom_river/PWQMN/PWQMN_ruscom_river_4001000302.csv',\n",
       " './lake_st_clair/sydenham_river/PWQMN/PWQMN_sydenham_river_4002700183.csv',\n",
       " './lake_st_clair/sydenham_river/PWQMN/PWQMN_sydenham_river_4002701602.csv',\n",
       " './lake_st_clair/thames_river/PWQMN/PWQMN_thames_river_4001305802.csv',\n",
       " './st_clair_river/bear_creek/PWQMN/PWQMN_bear_creek_4002700802.csv',\n",
       " './st_clair_river/talfourd_creek/PWQMN/PWQMN_talfourd_creek_15000200202.csv',\n",
       " './western_basin/cedar_creek/PWQMN/PWQMN_cedar_creek_16001800202.csv',\n",
       " './western_basin/sturgeon_river/PWQMN/PWQMN_sturgeon_river_16002700102.csv']"
      ]
     },
     "execution_count": 49,
     "metadata": {},
     "output_type": "execute_result"
    }
   ],
   "source": [
    "csvs"
   ]
  },
  {
   "cell_type": "code",
   "execution_count": 50,
   "metadata": {},
   "outputs": [],
   "source": [
    "for csv_name in csvs:\n",
    "    sns.set_style(\"ticks\")\n",
    "    fig, ax = plt.subplots()\n",
    "    df = pd.read_csv(csv_name)\n",
    "    df.DATE = pd.to_datetime(df.DATE)\n",
    "    sns.scatterplot(x='DATE', y='PHOSPHORUS,UNFILTERED TOTAL', data=df)\n",
    "    ax.grid()\n",
    "    # sns.tsplot(df, time='Date', value='Value', unit='Unit', ax=ax)\n",
    "    ax.set_ylabel('TP, mg/l')\n",
    "    ax.set_xlabel('')\n",
    "    # assign locator and formatter for the xaxis ticks.\n",
    "    ax.xaxis.set_major_locator(mdates.AutoDateLocator())\n",
    "    ax.set_title(csv_name.split(\"/\")[-1][:-4].replace(\"_\", \" \").title())\n",
    "    ax.xaxis.set_major_formatter(mdates.DateFormatter('%Y'))\n",
    "    plt.savefig(csv_name[:-4]+'_TP.pdf')"
   ]
  },
  {
   "cell_type": "code",
   "execution_count": null,
   "metadata": {},
   "outputs": [],
   "source": []
  },
  {
   "cell_type": "code",
   "execution_count": null,
   "metadata": {},
   "outputs": [],
   "source": []
  },
  {
   "cell_type": "code",
   "execution_count": 51,
   "metadata": {},
   "outputs": [],
   "source": [
    "elem = 'NITROGEN; TOTAL'\n",
    "for csv_name in csvs:\n",
    "    df = pd.read_csv(csv_name)\n",
    "    df.DATE = pd.to_datetime(df.DATE)\n",
    "    if df[~df[elem].isnull()].size>1:\n",
    "        fig, ax = plt.subplots()\n",
    "        sns.scatterplot(x='DATE', y=elem, data=df)\n",
    "        ax.grid()\n",
    "        # sns.tsplot(df, time='Date', value='Value', unit='Unit', ax=ax)\n",
    "        ax.set_ylabel(elem+', mg/l')\n",
    "        ax.set_xlabel('')\n",
    "        # assign locator and formatter for the xaxis ticks.\n",
    "        ax.xaxis.set_major_locator(mdates.AutoDateLocator())\n",
    "        ax.set_title(csv_name.split(\"/\")[-1][:-4].replace(\"_\", \" \").title())\n",
    "        ax.xaxis.set_major_formatter(mdates.DateFormatter('%Y'))\n",
    "        plt.savefig(csv_name[:-4]+'_TN.pdf')"
   ]
  },
  {
   "cell_type": "code",
   "execution_count": 52,
   "metadata": {},
   "outputs": [],
   "source": [
    "elem = 'NITRITE,  UNFILTERED REACTIVE'\n",
    "for csv_name in csvs:\n",
    "    df = pd.read_csv(csv_name)\n",
    "    df.DATE = pd.to_datetime(df.DATE)\n",
    "    if df[~df[elem].isnull()].size>1:\n",
    "        fig, ax = plt.subplots()\n",
    "        sns.scatterplot(x='DATE', y=elem, data=df)\n",
    "        ax.grid()\n",
    "        # sns.tsplot(df, time='Date', value='Value', unit='Unit', ax=ax)\n",
    "        ax.set_ylabel(elem+', mg/l')\n",
    "        ax.set_xlabel('')\n",
    "        # assign locator and formatter for the xaxis ticks.\n",
    "        ax.xaxis.set_major_locator(mdates.AutoDateLocator())\n",
    "        ax.set_title(csv_name.split(\"/\")[-1][:-4].replace(\"_\", \" \").title())\n",
    "        ax.xaxis.set_major_formatter(mdates.DateFormatter('%Y'))\n",
    "        plt.savefig(csv_name[:-4]+'_NO2UR.pdf')"
   ]
  },
  {
   "cell_type": "code",
   "execution_count": 53,
   "metadata": {},
   "outputs": [],
   "source": [
    "elem = 'NITRATE,  UNFILTERED REACTIVE'\n",
    "for csv_name in csvs:\n",
    "    df = pd.read_csv(csv_name)\n",
    "    df.DATE = pd.to_datetime(df.DATE)\n",
    "    if df[~df[elem].isnull()].size>1:\n",
    "        fig, ax = plt.subplots()\n",
    "        sns.scatterplot(x='DATE', y=elem, data=df)\n",
    "        ax.grid()\n",
    "        # sns.tsplot(df, time='Date', value='Value', unit='Unit', ax=ax)\n",
    "        ax.set_ylabel(elem+', mg/l')\n",
    "        ax.set_xlabel('')\n",
    "        # assign locator and formatter for the xaxis ticks.\n",
    "        ax.xaxis.set_major_locator(mdates.AutoDateLocator())\n",
    "        ax.set_title(csv_name.split(\"/\")[-1][:-4].replace(\"_\", \" \").title())\n",
    "        ax.xaxis.set_major_formatter(mdates.DateFormatter('%Y'))\n",
    "        plt.savefig(csv_name[:-4]+'_NO3UR.pdf')"
   ]
  },
  {
   "cell_type": "code",
   "execution_count": 54,
   "metadata": {},
   "outputs": [],
   "source": [
    "elem = 'NITROGEN,TOT,KJELDAHL/UNF.REA'\n",
    "for csv_name in csvs:\n",
    "    df = pd.read_csv(csv_name)\n",
    "    df.DATE = pd.to_datetime(df.DATE)\n",
    "    if df[~df[elem].isnull()].size>1:\n",
    "        fig, ax = plt.subplots()\n",
    "        sns.scatterplot(x='DATE', y=elem, data=df)\n",
    "        ax.grid()\n",
    "        # sns.tsplot(df, time='Date', value='Value', unit='Unit', ax=ax)\n",
    "        ax.set_ylabel(elem+', mg/l')\n",
    "        ax.set_xlabel('')\n",
    "        # assign locator and formatter for the xaxis ticks.\n",
    "        ax.xaxis.set_major_locator(mdates.AutoDateLocator())\n",
    "        ax.set_title(csv_name.split(\"/\")[-1][:-4].replace(\"_\", \" \").title())\n",
    "        ax.xaxis.set_major_formatter(mdates.DateFormatter('%Y'))\n",
    "        plt.savefig(csv_name[:-4]+'_NTKUR.pdf')"
   ]
  },
  {
   "cell_type": "code",
   "execution_count": 55,
   "metadata": {},
   "outputs": [],
   "source": [
    "elem = 'NITRATES TOTAL,   UNFIL.REAC'\n",
    "for csv_name in csvs:\n",
    "    df = pd.read_csv(csv_name)\n",
    "    df.DATE = pd.to_datetime(df.DATE)\n",
    "    if df[~df[elem].isnull()].size>1:\n",
    "        fig, ax = plt.subplots()\n",
    "        sns.scatterplot(x='DATE', y=elem, data=df)\n",
    "        ax.grid()\n",
    "        # sns.tsplot(df, time='Date', value='Value', unit='Unit', ax=ax)\n",
    "        ax.set_ylabel(elem+', mg/l')\n",
    "        ax.set_xlabel('')\n",
    "        # assign locator and formatter for the xaxis ticks.\n",
    "        ax.xaxis.set_major_locator(mdates.AutoDateLocator())\n",
    "        ax.set_title(csv_name.split(\"/\")[-1][:-4].replace(\"_\", \" \").title())\n",
    "        ax.xaxis.set_major_formatter(mdates.DateFormatter('%Y'))\n",
    "        plt.savefig(csv_name[:-4]+'_NTUR.pdf')"
   ]
  },
  {
   "cell_type": "code",
   "execution_count": 56,
   "metadata": {},
   "outputs": [],
   "source": [
    "elem = 'SILICATES,UNFILTERED REACTIVE'\n",
    "for csv_name in csvs:\n",
    "    df = pd.read_csv(csv_name)\n",
    "    df.DATE = pd.to_datetime(df.DATE)\n",
    "    if df[~df[elem].isnull()].size>1:\n",
    "        fig, ax = plt.subplots()\n",
    "        sns.scatterplot(x='DATE', y=elem, data=df)\n",
    "        ax.grid()\n",
    "        # sns.tsplot(df, time='Date', value='Value', unit='Unit', ax=ax)\n",
    "        ax.set_ylabel(elem+', mg/l')\n",
    "        ax.set_xlabel('')\n",
    "        # assign locator and formatter for the xaxis ticks.\n",
    "        ax.xaxis.set_major_locator(mdates.AutoDateLocator())\n",
    "        ax.set_title(csv_name.split(\"/\")[-1][:-4].replace(\"_\", \" \").title())\n",
    "        ax.xaxis.set_major_formatter(mdates.DateFormatter('%Y'))\n",
    "        plt.savefig(csv_name[:-4]+'_SiR.pdf')"
   ]
  },
  {
   "cell_type": "code",
   "execution_count": 57,
   "metadata": {},
   "outputs": [],
   "source": [
    "elem = 'CHLORIDE,         UNFIL.REAC'\n",
    "for csv_name in csvs:\n",
    "    df = pd.read_csv(csv_name)\n",
    "    df.DATE = pd.to_datetime(df.DATE)\n",
    "    if df[~df[elem].isnull()].size>1:\n",
    "        fig, ax = plt.subplots()\n",
    "        sns.scatterplot(x='DATE', y=elem, data=df)\n",
    "        ax.grid()\n",
    "        # sns.tsplot(df, time='Date', value='Value', unit='Unit', ax=ax)\n",
    "        ax.set_ylabel(elem+', mg/l')\n",
    "        ax.set_xlabel('')\n",
    "        # assign locator and formatter for the xaxis ticks.\n",
    "        ax.xaxis.set_major_locator(mdates.AutoDateLocator())\n",
    "        ax.set_title(csv_name.split(\"/\")[-1][:-4].replace(\"_\", \" \").title())\n",
    "        ax.xaxis.set_major_formatter(mdates.DateFormatter('%Y'))\n",
    "        plt.savefig(csv_name[:-4]+'_ClUR.pdf')"
   ]
  },
  {
   "cell_type": "code",
   "execution_count": null,
   "metadata": {},
   "outputs": [],
   "source": []
  },
  {
   "cell_type": "code",
   "execution_count": 58,
   "metadata": {},
   "outputs": [],
   "source": [
    "csvs = glob.glob('./*/*/*/GLNI*.csv')"
   ]
  },
  {
   "cell_type": "code",
   "execution_count": 59,
   "metadata": {},
   "outputs": [],
   "source": [
    "csvs.sort()"
   ]
  },
  {
   "cell_type": "code",
   "execution_count": 60,
   "metadata": {},
   "outputs": [
    {
     "data": {
      "text/plain": [
       "['./central_basin/big_otter_creek/GLNI/GLNI_big_otter_creek_at_calton_ON02GC1300.csv',\n",
       " './central_basin/catfish_creek/GLNI/GLNI_catfish_creek_at_jaffa_ON02GC1400.csv',\n",
       " './central_basin/kettle_creek/GLNI/GLNI_kettle_creek_at_st._thomas_ON02GC1500.csv',\n",
       " './eastern_basin/big_creek/GLNI/GLNI_big_creek_near_walsingham_ON02GC1200.csv',\n",
       " './eastern_basin/grand_river/GLNI/GLNI_grand_river_at_york_ON02GC1600.csv',\n",
       " './eastern_basin/lynn_river/GLNI/GLNI_lynn_creek_at_simcoe_ON02GC1100.csv',\n",
       " './eastern_basin/nanticoke_creek/GLNI/GLNI_nanticoke_creek_at_nanticoke_ON02GC1000.csv',\n",
       " './lake_st_clair/sydenham_river/GLNI/GLNI_sydenham_river_at_florence_ON02GG1000.csv',\n",
       " './lake_st_clair/sydenham_river/GLNI/GLNI_sydenham_river_at_wallaceburg_ON02GC1800.csv',\n",
       " './lake_st_clair/thames_river/GLNI/GLNI_thames_river_at_thamesville_ON02GE1000.csv']"
      ]
     },
     "execution_count": 60,
     "metadata": {},
     "output_type": "execute_result"
    }
   ],
   "source": [
    "csvs"
   ]
  },
  {
   "cell_type": "code",
   "execution_count": 61,
   "metadata": {},
   "outputs": [
    {
     "data": {
      "text/plain": [
       "Index(['Unnamed: 0', 'DATE', 'PHOSPHORUS,UNFILTERED TOTAL',\n",
       "       'UNITS PHOSPHORUS,UNFILTERED TOTAL', 'PHOSPHATE,FILTERED REACTIVE',\n",
       "       'UNITS PHOSPHATE,FILTERED REACTIVE', 'NITROGEN; TOTAL',\n",
       "       'UNITS NITROGEN; TOTAL', 'NITRATE,  UNFILTERED REACTIVE',\n",
       "       'UNITS NITRATE,  UNFILTERED REACTIVE', 'NITRITE,  UNFILTERED REACTIVE',\n",
       "       'UNITS NITRITE,  UNFILTERED REACTIVE', 'NITROGEN,TOT,KJELDAHL/UNF.REA',\n",
       "       'UNITS NITROGEN,TOT,KJELDAHL/UNF.REA', 'NITRATES TOTAL,   UNFIL.REAC',\n",
       "       'UNITS NITRATES TOTAL,   UNFIL.REAC', 'SILICATES,UNFILTERED REACTIVE',\n",
       "       'UNITS SILICATES,UNFILTERED REACTIVE', 'CHLORIDE,         UNFIL.REAC',\n",
       "       'UNITS CHLORIDE,         UNFIL.REAC'],\n",
       "      dtype='object')"
      ]
     },
     "execution_count": 61,
     "metadata": {},
     "output_type": "execute_result"
    }
   ],
   "source": [
    "df.columns"
   ]
  },
  {
   "cell_type": "code",
   "execution_count": 62,
   "metadata": {},
   "outputs": [],
   "source": [
    "for csv_name in csvs:\n",
    "    df = pd.read_csv(csv_name)\n",
    "    df['SampleDateTime'] = pd.to_datetime(df.SampleDateTime)\n",
    "    df.drop(columns=['Unnamed: 0'], axis=1, inplace=True)\n",
    "    for elem in df.columns[1::2]:\n",
    "            fig, ax = plt.subplots()\n",
    "            df_1 = df[~df[elem].isnull()]\n",
    "            sns.scatterplot(x='SampleDateTime', y=elem, data=df_1)\n",
    "            ax.grid()\n",
    "            # sns.tsplot(df, time='Date', value='Value', unit='Unit', ax=ax)\n",
    "            ax.set_ylabel(elem+\", \"+df_1['Unit '+elem].unique()[0])\n",
    "            ax.set_xlabel('')\n",
    "            # assign locator and formatter for the xaxis ticks.\n",
    "            ax.xaxis.set_major_locator(mdates.AutoDateLocator())\n",
    "            ax.set_title(csv_name.split(\"/\")[-1][:-4].replace(\"_\", \" \").title())\n",
    "            ax.xaxis.set_major_formatter(mdates.DateFormatter('%Y'))\n",
    "            plt.savefig(csv_name[:-4]+\"_\"+ elem.lower().replace(\" \", \"_\") +'.pdf')\n",
    "    # if df[~df[elem].isnull()].size>1:\n",
    "    # df"
   ]
  },
  {
   "cell_type": "code",
   "execution_count": 63,
   "metadata": {},
   "outputs": [
    {
     "data": {
      "text/plain": [
       "'./central_basin/big_otter_creek/GLNI/GLNI_big_otter_creek_at_calton_ON02GC1300.csv'"
      ]
     },
     "execution_count": 63,
     "metadata": {},
     "output_type": "execute_result"
    }
   ],
   "source": [
    "csvs[0]"
   ]
  },
  {
   "cell_type": "code",
   "execution_count": 64,
   "metadata": {},
   "outputs": [
    {
     "data": {
      "text/plain": [
       "'./lake_st_clair/thames_river/GLNI/GLNI_thames_river_at_thamesville_ON02GE1000'"
      ]
     },
     "execution_count": 64,
     "metadata": {},
     "output_type": "execute_result"
    }
   ],
   "source": [
    "csv_name[:-4]"
   ]
  },
  {
   "cell_type": "code",
   "execution_count": null,
   "metadata": {},
   "outputs": [],
   "source": []
  },
  {
   "cell_type": "code",
   "execution_count": null,
   "metadata": {},
   "outputs": [],
   "source": []
  },
  {
   "cell_type": "code",
   "execution_count": null,
   "metadata": {},
   "outputs": [],
   "source": []
  },
  {
   "cell_type": "code",
   "execution_count": null,
   "metadata": {},
   "outputs": [],
   "source": []
  },
  {
   "cell_type": "code",
   "execution_count": null,
   "metadata": {},
   "outputs": [],
   "source": []
  },
  {
   "cell_type": "code",
   "execution_count": null,
   "metadata": {},
   "outputs": [],
   "source": []
  }
 ],
 "metadata": {
  "kernelspec": {
   "display_name": "Python 3",
   "language": "python",
   "name": "python3"
  },
  "language_info": {
   "codemirror_mode": {
    "name": "ipython",
    "version": 3
   },
   "file_extension": ".py",
   "mimetype": "text/x-python",
   "name": "python",
   "nbconvert_exporter": "python",
   "pygments_lexer": "ipython3",
   "version": "3.6.3"
  }
 },
 "nbformat": 4,
 "nbformat_minor": 2
}
