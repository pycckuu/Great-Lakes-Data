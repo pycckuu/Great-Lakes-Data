{
 "cells": [
  {
   "cell_type": "code",
   "execution_count": 7,
   "metadata": {},
   "outputs": [
    {
     "data": {
      "text/html": [
       "<style>.container { width:100% !important; }</style>"
      ],
      "text/plain": [
       "<IPython.core.display.HTML object>"
      ]
     },
     "metadata": {},
     "output_type": "display_data"
    }
   ],
   "source": [
    "from IPython.core.display import display, HTML\n",
    "display(HTML(\"<style>.container { width:100% !important; }</style>\"))"
   ]
  },
  {
   "cell_type": "code",
   "execution_count": 8,
   "metadata": {},
   "outputs": [
    {
     "data": {
      "text/plain": [
       "'2017-11-10 13:11:56.590032'"
      ]
     },
     "execution_count": 8,
     "metadata": {},
     "output_type": "execute_result"
    }
   ],
   "source": [
    "import pandas as pd\n",
    "import matplotlib.pyplot as plt\n",
    "import seaborn as sns\n",
    "\n",
    "%matplotlib notebook\n",
    "\n",
    "sns.set_style(\"whitegrid\")\n",
    "plt.rcParams.update({'font.size': 32})\n",
    "sns.set_context(\"poster\", rc={\"font.size\":34,\"axes.titlesize\":34,\"axes.labelsize\":34, \"lines.linewidth\": 2})  \n",
    "plt.rcParams['figure.figsize'] = 18, 12\n",
    "\n",
    "pd.options.display.max_columns = 999\n",
    "pd.options.display.max_rows = 100\n",
    "\n",
    "\n",
    "from datetime import datetime\n",
    "str(datetime.now())\n",
    "\n"
   ]
  },
  {
   "cell_type": "code",
   "execution_count": 9,
   "metadata": {
    "collapsed": true
   },
   "outputs": [],
   "source": [
    "df = pd.read_excel('../../measurements/ECCC/LakeErie_Markelov_Dove26May2017.xlsx', sheetname='Data')"
   ]
  },
  {
   "cell_type": "code",
   "execution_count": 10,
   "metadata": {},
   "outputs": [
    {
     "data": {
      "text/plain": [
       "Index(['CRUISE_PLAN', 'CRUISE_START_DATE', 'CRUISE_STOP_DATE',\n",
       "       'LAST_DATE_UPDATED', 'WATER_BODY', 'CSN', 'LATITUDE_DD', 'LONGITUDE_DD',\n",
       "       'PSN', 'SOUNDING', 'STN_DATE', 'CODE', 'DEPTH_FROM', 'DEPTH_TO',\n",
       "       'DETECTION', 'FLAG', 'SEQ_NO', 'VALUE', 'ABBREV', 'FULL_NAME', 'UNITS'],\n",
       "      dtype='object')"
      ]
     },
     "execution_count": 10,
     "metadata": {},
     "output_type": "execute_result"
    }
   ],
   "source": [
    "df.columns"
   ]
  },
  {
   "cell_type": "code",
   "execution_count": 46,
   "metadata": {},
   "outputs": [
    {
     "data": {
      "text/plain": [
       "FULL_NAME\n",
       "ALUMINUM                                    1\n",
       "ALUMINUM                                    1\n",
       "AMMONIA FIL. INTEGRATED                    23\n",
       "AMMONIA NITROGEN, SOLUBLE                   1\n",
       "AMMONIA NITROGEN,SOLUBLE                    1\n",
       "CALCIUM                                     1\n",
       "CALCIUM,FILTERED                            1\n",
       "CALCIUM,FILTERED ATOMIC ABS.                1\n",
       "CARBON,DISSOLVED ORGANIC                    1\n",
       "CARBON,PARTICULATE ORGANIC                  1\n",
       "CARBON,PARTICULATE ORGANIC,INTEGRATED      52\n",
       "CHLORIDE                                    1\n",
       "CHLORIDE,FILTERED                           1\n",
       "CHLOROPHYL A, UNCORRECTED                   1\n",
       "CHLOROPHYLL A CORRECTED INTEGRATED         50\n",
       "CHLOROPHYLL A UNCORRECTED INTEGRATED       52\n",
       "CHLOROPHYLL A, CORRECTED PHAEOPHYTIN        1\n",
       "DISSOLVED INORGANIC CARBON                  1\n",
       "DISSOLVED OXYGEN, PROFILER WQP              1\n",
       "FLUORIDE                                    1\n",
       "I-NO3+2F NITRITE + NITRITE FIL. INTEG.     23\n",
       "INTEGRATED PH MEASUREMENT TEMPERATURE      24\n",
       "IRON                                        1\n",
       "IRON                                        1\n",
       "MAGNESIUM                                   1\n",
       "MAGNESIUM,FILTERED                          1\n",
       "MAGNESIUM,FILTERED                          1\n",
       "NITRATE+NITRITE NITROGEN, FILTERED          1\n",
       "NITRATE+NITRITE NITROGEN,FILTERED           1\n",
       "NITROGEN,TOTAL PARTICULATE                  1\n",
       "NITROGEN,TOTAL PARTICULATE - INTEGRATED    52\n",
       "OXYGEN,% SAT. DISSOLVED                     1\n",
       "OXYGEN,CONCENTRATION DISSOLVED              1\n",
       "PH                                          1\n",
       "PH FROM INTEG. SAMPLE                      24\n",
       "PHOSPHOROUS SOL. REACT. F.-INTEGRATED      23\n",
       "PHOSPHOROUS,SOLUBLE REACTIVE,FILTERED       1\n",
       "PHOSPHOROUS,TOTAL                           1\n",
       "PHOSPHOROUS,TOTAL INTEGRATED SAMPLE        23\n",
       "PHOSPHORUS, TOTAL, PARTICULATE              1\n",
       "PHOSPHORUS,TOTAL FILTERED                   1\n",
       "PHOSPHORUS,TOTAL FILTERED-INTEGRATED       23\n",
       "POTASSIUM                                   1\n",
       "POTASSIUM,FILTERED                          1\n",
       "POTASSIUM,FILTERED PHOTOMETRIC              1\n",
       "POTASSIUM-F.,ATOMIC ABSORPTION              1\n",
       "SODIUM                                      1\n",
       "SODIUM,FILTERED PHOTOMETRIC                 1\n",
       "SODIUM,UNFILTERED                           1\n",
       "SODIUM-F.,ATOMIC ABSORPTION                 1\n",
       "SOLUBLE REACTIVE PHOSPHOROUS                1\n",
       "SULPHATE                                    1\n",
       "SULPHATE,FILTERED.                          1\n",
       "TOTAL PHOSPHOROUS                           1\n",
       "TOTAL PHOSPHOROUS FILTERED                  1\n",
       "Name: DEPTH_TO, dtype: int64"
      ]
     },
     "execution_count": 46,
     "metadata": {},
     "output_type": "execute_result"
    }
   ],
   "source": [
    "# df.pivot_table(aggfunc=lambda x: len(x.unique()))\n",
    "df.groupby(['FULL_NAME'])['DEPTH_TO'].nunique()"
   ]
  },
  {
   "cell_type": "code",
   "execution_count": 45,
   "metadata": {},
   "outputs": [
    {
     "data": {
      "text/plain": [
       "FULL_NAME\n",
       "ALUMINUM                                     145\n",
       "ALUMINUM                                      24\n",
       "AMMONIA FIL. INTEGRATED                       61\n",
       "AMMONIA NITROGEN, SOLUBLE                    419\n",
       "AMMONIA NITROGEN,SOLUBLE                    1208\n",
       "CALCIUM                                      879\n",
       "CALCIUM,FILTERED                             303\n",
       "CALCIUM,FILTERED ATOMIC ABS.                2536\n",
       "CARBON,DISSOLVED ORGANIC                     799\n",
       "CARBON,PARTICULATE ORGANIC                   659\n",
       "CARBON,PARTICULATE ORGANIC,INTEGRATED       1674\n",
       "CHLORIDE                                    2021\n",
       "CHLORIDE,FILTERED                           1712\n",
       "CHLOROPHYL A, UNCORRECTED                    567\n",
       "CHLOROPHYLL A CORRECTED INTEGRATED          1565\n",
       "CHLOROPHYLL A UNCORRECTED INTEGRATED        1664\n",
       "CHLOROPHYLL A, CORRECTED PHAEOPHYTIN         537\n",
       "DISSOLVED INORGANIC CARBON                   533\n",
       "DISSOLVED OXYGEN, PROFILER WQP             15648\n",
       "FLUORIDE                                    1493\n",
       "I-NO3+2F NITRITE + NITRITE FIL. INTEG.        61\n",
       "INTEGRATED PH MEASUREMENT TEMPERATURE         61\n",
       "IRON                                         145\n",
       "IRON                                          24\n",
       "MAGNESIUM                                    879\n",
       "MAGNESIUM,FILTERED                          2535\n",
       "MAGNESIUM,FILTERED                           303\n",
       "NITRATE+NITRITE NITROGEN, FILTERED           418\n",
       "NITRATE+NITRITE NITROGEN,FILTERED           1209\n",
       "NITROGEN,TOTAL PARTICULATE                   659\n",
       "NITROGEN,TOTAL PARTICULATE - INTEGRATED     1674\n",
       "OXYGEN,% SAT. DISSOLVED                     3115\n",
       "OXYGEN,CONCENTRATION DISSOLVED              3112\n",
       "PH                                          3260\n",
       "PH FROM INTEG. SAMPLE                         61\n",
       "PHOSPHOROUS SOL. REACT. F.-INTEGRATED         61\n",
       "PHOSPHOROUS,SOLUBLE REACTIVE,FILTERED       1209\n",
       "PHOSPHOROUS,TOTAL                           2845\n",
       "PHOSPHOROUS,TOTAL INTEGRATED SAMPLE           61\n",
       "PHOSPHORUS, TOTAL, PARTICULATE                61\n",
       "PHOSPHORUS,TOTAL FILTERED                   2849\n",
       "PHOSPHORUS,TOTAL FILTERED-INTEGRATED          61\n",
       "POTASSIUM                                    879\n",
       "POTASSIUM,FILTERED                           303\n",
       "POTASSIUM,FILTERED PHOTOMETRIC               833\n",
       "POTASSIUM-F.,ATOMIC ABSORPTION              1700\n",
       "SODIUM                                       879\n",
       "SODIUM,FILTERED PHOTOMETRIC                  833\n",
       "SODIUM,UNFILTERED                            303\n",
       "SODIUM-F.,ATOMIC ABSORPTION                 1700\n",
       "SOLUBLE REACTIVE PHOSPHOROUS                 801\n",
       "SULPHATE                                    2015\n",
       "SULPHATE,FILTERED.                          1696\n",
       "TOTAL PHOSPHOROUS                            879\n",
       "TOTAL PHOSPHOROUS FILTERED                   877\n",
       "Name: PSN, dtype: int64"
      ]
     },
     "execution_count": 45,
     "metadata": {},
     "output_type": "execute_result"
    }
   ],
   "source": [
    "# df.pivot_table(aggfunc=lambda x: len(x.unique()))\n",
    "df.groupby(['FULL_NAME'])['PSN'].count()"
   ]
  },
  {
   "cell_type": "code",
   "execution_count": 11,
   "metadata": {
    "collapsed": true
   },
   "outputs": [],
   "source": [
    "data = df[(df.PSN==970) & (df.CODE==245)]"
   ]
  },
  {
   "cell_type": "code",
   "execution_count": 12,
   "metadata": {},
   "outputs": [
    {
     "ename": "AttributeError",
     "evalue": "'DataFrame' object has no attribute 'sort'",
     "output_type": "error",
     "traceback": [
      "\u001b[0;31m---------------------------------------------------------------------------\u001b[0m",
      "\u001b[0;31mAttributeError\u001b[0m                            Traceback (most recent call last)",
      "\u001b[0;32m<ipython-input-12-a1c85665059f>\u001b[0m in \u001b[0;36m<module>\u001b[0;34m()\u001b[0m\n\u001b[1;32m      1\u001b[0m \u001b[0;32mfor\u001b[0m \u001b[0md\u001b[0m \u001b[0;32min\u001b[0m \u001b[0mdata\u001b[0m\u001b[0;34m.\u001b[0m\u001b[0mSTN_DATE\u001b[0m\u001b[0;34m.\u001b[0m\u001b[0munique\u001b[0m\u001b[0;34m(\u001b[0m\u001b[0;34m)\u001b[0m\u001b[0;34m[\u001b[0m\u001b[0;34m:\u001b[0m\u001b[0;36m6\u001b[0m\u001b[0;34m]\u001b[0m\u001b[0;34m:\u001b[0m\u001b[0;34m\u001b[0m\u001b[0m\n\u001b[1;32m      2\u001b[0m     \u001b[0mone_date\u001b[0m \u001b[0;34m=\u001b[0m \u001b[0mdata\u001b[0m\u001b[0;34m[\u001b[0m\u001b[0mdata\u001b[0m\u001b[0;34m.\u001b[0m\u001b[0mSTN_DATE\u001b[0m \u001b[0;34m==\u001b[0m\u001b[0md\u001b[0m\u001b[0;34m]\u001b[0m\u001b[0;34m\u001b[0m\u001b[0m\n\u001b[0;32m----> 3\u001b[0;31m     \u001b[0mone_date\u001b[0m\u001b[0;34m.\u001b[0m\u001b[0msort\u001b[0m\u001b[0;34m(\u001b[0m\u001b[0mcolumns\u001b[0m\u001b[0;34m=\u001b[0m\u001b[0;34m'STN_DATE'\u001b[0m\u001b[0;34m,\u001b[0m \u001b[0minplace\u001b[0m\u001b[0;34m=\u001b[0m\u001b[0;32mTrue\u001b[0m\u001b[0;34m)\u001b[0m\u001b[0;34m\u001b[0m\u001b[0m\n\u001b[0m\u001b[1;32m      4\u001b[0m     \u001b[0mplt\u001b[0m\u001b[0;34m.\u001b[0m\u001b[0mscatter\u001b[0m\u001b[0;34m(\u001b[0m\u001b[0mone_date\u001b[0m\u001b[0;34m[\u001b[0m\u001b[0;34m'VALUE'\u001b[0m\u001b[0;34m]\u001b[0m\u001b[0;34m,\u001b[0m \u001b[0;34m-\u001b[0m\u001b[0mone_date\u001b[0m\u001b[0;34m[\u001b[0m\u001b[0;34m'DEPTH_FROM'\u001b[0m\u001b[0;34m]\u001b[0m\u001b[0;34m,\u001b[0m \u001b[0mlabel\u001b[0m\u001b[0;34m=\u001b[0m\u001b[0mstr\u001b[0m\u001b[0;34m(\u001b[0m\u001b[0md\u001b[0m\u001b[0;34m)\u001b[0m\u001b[0;34m[\u001b[0m\u001b[0;34m:\u001b[0m\u001b[0;36m10\u001b[0m\u001b[0;34m]\u001b[0m\u001b[0;34m)\u001b[0m\u001b[0;34m\u001b[0m\u001b[0m\n\u001b[1;32m      5\u001b[0m     \u001b[0mplt\u001b[0m\u001b[0;34m.\u001b[0m\u001b[0mxlabel\u001b[0m\u001b[0;34m(\u001b[0m\u001b[0;34m'O2, [mg/L]'\u001b[0m\u001b[0;34m)\u001b[0m\u001b[0;34m\u001b[0m\u001b[0m\n",
      "\u001b[0;32m~/anaconda3/lib/python3.6/site-packages/pandas/core/generic.py\u001b[0m in \u001b[0;36m__getattr__\u001b[0;34m(self, name)\u001b[0m\n\u001b[1;32m   3079\u001b[0m             \u001b[0;32mif\u001b[0m \u001b[0mname\u001b[0m \u001b[0;32min\u001b[0m \u001b[0mself\u001b[0m\u001b[0;34m.\u001b[0m\u001b[0m_info_axis\u001b[0m\u001b[0;34m:\u001b[0m\u001b[0;34m\u001b[0m\u001b[0m\n\u001b[1;32m   3080\u001b[0m                 \u001b[0;32mreturn\u001b[0m \u001b[0mself\u001b[0m\u001b[0;34m[\u001b[0m\u001b[0mname\u001b[0m\u001b[0;34m]\u001b[0m\u001b[0;34m\u001b[0m\u001b[0m\n\u001b[0;32m-> 3081\u001b[0;31m             \u001b[0;32mreturn\u001b[0m \u001b[0mobject\u001b[0m\u001b[0;34m.\u001b[0m\u001b[0m__getattribute__\u001b[0m\u001b[0;34m(\u001b[0m\u001b[0mself\u001b[0m\u001b[0;34m,\u001b[0m \u001b[0mname\u001b[0m\u001b[0;34m)\u001b[0m\u001b[0;34m\u001b[0m\u001b[0m\n\u001b[0m\u001b[1;32m   3082\u001b[0m \u001b[0;34m\u001b[0m\u001b[0m\n\u001b[1;32m   3083\u001b[0m     \u001b[0;32mdef\u001b[0m \u001b[0m__setattr__\u001b[0m\u001b[0;34m(\u001b[0m\u001b[0mself\u001b[0m\u001b[0;34m,\u001b[0m \u001b[0mname\u001b[0m\u001b[0;34m,\u001b[0m \u001b[0mvalue\u001b[0m\u001b[0;34m)\u001b[0m\u001b[0;34m:\u001b[0m\u001b[0;34m\u001b[0m\u001b[0m\n",
      "\u001b[0;31mAttributeError\u001b[0m: 'DataFrame' object has no attribute 'sort'"
     ]
    }
   ],
   "source": [
    "for d in data.STN_DATE.unique()[:6]:\n",
    "    one_date = data[data.STN_DATE ==d]\n",
    "    one_date.sort(columns='STN_DATE', inplace=True)\n",
    "    plt.scatter(one_date['VALUE'], -one_date['DEPTH_FROM'], label=str(d)[:10])\n",
    "    plt.xlabel('O2, [mg/L]')\n",
    "    plt.ylabel('depth, m')\n",
    "    plt.xlim(0,15)\n",
    "plt.legend()"
   ]
  },
  {
   "cell_type": "code",
   "execution_count": null,
   "metadata": {
    "scrolled": false
   },
   "outputs": [],
   "source": [
    "for c,d in zip( sns.color_palette(), data.DEPTH_FROM.unique()):\n",
    "    one_date = data[data.DEPTH_FROM ==d]\n",
    "    one_date.sort(columns='STN_DATE', inplace=True)\n",
    "#     try:\n",
    "    plt.plot_date(one_date['STN_DATE'], one_date['VALUE'], color=c, label='_nolegend_')\n",
    "    plt.plot(one_date['STN_DATE'], one_date['VALUE'], color=c, label=str(d))\n",
    "#     except:\n",
    "#         pass\n",
    "    plt.ylabel('O2, [mg/L]')\n",
    "#     plt.ylabel('depth, m')\n",
    "#     plt.xlim(0,15)\n",
    "plt.legend()"
   ]
  },
  {
   "cell_type": "code",
   "execution_count": null,
   "metadata": {
    "collapsed": true
   },
   "outputs": [],
   "source": [
    "data_tp = df[(df.PSN==970) & (df.CODE==260)]"
   ]
  },
  {
   "cell_type": "code",
   "execution_count": null,
   "metadata": {},
   "outputs": [],
   "source": [
    "for c,d in zip( sns.color_palette(), data.DEPTH_FROM.unique()):\n",
    "    one_date = data_tp[data_tp.DEPTH_FROM ==d]\n",
    "    one_date.sort(columns='STN_DATE', inplace=True)\n",
    "#     try:\n",
    "    plt.plot_date(one_date['STN_DATE'], one_date['VALUE'], color=c, label='_nolegend_')\n",
    "    plt.plot(one_date['STN_DATE'], one_date['VALUE'], color=c, label=str(d))\n",
    "#     except:\n",
    "#         pass\n",
    "    plt.ylabel('TP, [mg-P/L]')\n",
    "#     plt.ylabel('depth, m')\n",
    "#     plt.xlim(0,15)\n",
    "plt.legend()"
   ]
  },
  {
   "cell_type": "code",
   "execution_count": null,
   "metadata": {
    "collapsed": true
   },
   "outputs": [],
   "source": []
  }
 ],
 "metadata": {
  "anaconda-cloud": {},
  "kernelspec": {
   "display_name": "Python 3",
   "language": "python",
   "name": "python3"
  },
  "language_info": {
   "codemirror_mode": {
    "name": "ipython",
    "version": 3
   },
   "file_extension": ".py",
   "mimetype": "text/x-python",
   "name": "python",
   "nbconvert_exporter": "python",
   "pygments_lexer": "ipython3",
   "version": "3.6.3"
  }
 },
 "nbformat": 4,
 "nbformat_minor": 1
}
