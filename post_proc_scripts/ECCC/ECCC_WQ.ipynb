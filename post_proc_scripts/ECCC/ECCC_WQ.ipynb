{
 "cells": [
  {
   "cell_type": "code",
   "execution_count": 1,
   "metadata": {
    "collapsed": true
   },
   "outputs": [],
   "source": [
    "from IPython.core.display import display, HTML\n",
    "# display(HTML(\"<style>.container { width:100% !important; }</style>\"))"
   ]
  },
  {
   "cell_type": "code",
   "execution_count": 59,
   "metadata": {},
   "outputs": [
    {
     "data": {
      "text/plain": [
       "'2018-06-02 08:56:50.467507'"
      ]
     },
     "execution_count": 59,
     "metadata": {},
     "output_type": "execute_result"
    }
   ],
   "source": [
    "import pandas as pd\n",
    "import matplotlib.pyplot as plt\n",
    "import seaborn as sns\n",
    "import re\n",
    "%matplotlib inline\n",
    "\n",
    "sns.set_style(\"whitegrid\")\n",
    "plt.rcParams.update({'font.size': 32})\n",
    "sns.set_context(\"poster\", rc={\"font.size\":34,\"axes.titlesize\":34,\"axes.labelsize\":34, \"lines.linewidth\": 2})  \n",
    "plt.rcParams['figure.figsize'] = 18, 12\n",
    "\n",
    "pd.options.display.max_columns = 999\n",
    "pd.options.display.max_rows = 100\n",
    "\n",
    "\n",
    "from datetime import datetime\n",
    "str(datetime.now())\n",
    "\n"
   ]
  },
  {
   "cell_type": "code",
   "execution_count": 2,
   "metadata": {
    "collapsed": true
   },
   "outputs": [],
   "source": [
    "df = pd.read_excel('../../measurements/ECCC/LakeErie_Markelov_Dove26May2017.xlsx', sheetname='Data')"
   ]
  },
  {
   "cell_type": "code",
   "execution_count": 3,
   "metadata": {},
   "outputs": [
    {
     "data": {
      "text/plain": [
       "Index(['CRUISE_PLAN', 'CRUISE_START_DATE', 'CRUISE_STOP_DATE',\n",
       "       'LAST_DATE_UPDATED', 'WATER_BODY', 'CSN', 'LATITUDE_DD', 'LONGITUDE_DD',\n",
       "       'PSN', 'SOUNDING', 'STN_DATE', 'CODE', 'DEPTH_FROM', 'DEPTH_TO',\n",
       "       'DETECTION', 'FLAG', 'SEQ_NO', 'VALUE', 'ABBREV', 'FULL_NAME', 'UNITS'],\n",
       "      dtype='object')"
      ]
     },
     "execution_count": 3,
     "metadata": {},
     "output_type": "execute_result"
    }
   ],
   "source": [
    "df.columns"
   ]
  },
  {
   "cell_type": "code",
   "execution_count": 4,
   "metadata": {},
   "outputs": [
    {
     "data": {
      "text/plain": [
       "FULL_NAME\n",
       "ALUMINUM                                    110\n",
       "ALUMINUM                                     19\n",
       "AMMONIA FIL. INTEGRATED                      61\n",
       "AMMONIA NITROGEN, SOLUBLE                   173\n",
       "AMMONIA NITROGEN,SOLUBLE                    681\n",
       "CALCIUM                                     357\n",
       "CALCIUM,FILTERED                            105\n",
       "CALCIUM,FILTERED ATOMIC ABS.               1024\n",
       "CARBON,DISSOLVED ORGANIC                    445\n",
       "CARBON,PARTICULATE ORGANIC                  468\n",
       "CARBON,PARTICULATE ORGANIC,INTEGRATED      1406\n",
       "CHLORIDE                                    881\n",
       "CHLORIDE,FILTERED                           613\n",
       "CHLOROPHYL A, UNCORRECTED                   254\n",
       "CHLOROPHYLL A CORRECTED INTEGRATED         1326\n",
       "CHLOROPHYLL A UNCORRECTED INTEGRATED       1402\n",
       "CHLOROPHYLL A, CORRECTED PHAEOPHYTIN        246\n",
       "DISSOLVED INORGANIC CARBON                  280\n",
       "DISSOLVED OXYGEN, PROFILER WQP              642\n",
       "FLUORIDE                                    625\n",
       "I-NO3+2F NITRITE + NITRITE FIL. INTEG.       61\n",
       "INTEGRATED PH MEASUREMENT TEMPERATURE        61\n",
       "IRON                                        110\n",
       "IRON                                         19\n",
       "MAGNESIUM                                   357\n",
       "MAGNESIUM,FILTERED                         1024\n",
       "MAGNESIUM,FILTERED                          105\n",
       "NITRATE+NITRITE NITROGEN, FILTERED          173\n",
       "NITRATE+NITRITE NITROGEN,FILTERED           681\n",
       "NITROGEN,TOTAL PARTICULATE                  468\n",
       "NITROGEN,TOTAL PARTICULATE - INTEGRATED    1406\n",
       "OXYGEN,% SAT. DISSOLVED                    1432\n",
       "OXYGEN,CONCENTRATION DISSOLVED             1429\n",
       "PH                                         1471\n",
       "PH FROM INTEG. SAMPLE                        61\n",
       "PHOSPHOROUS SOL. REACT. F.-INTEGRATED        61\n",
       "PHOSPHOROUS,SOLUBLE REACTIVE,FILTERED       681\n",
       "PHOSPHOROUS,TOTAL                          1137\n",
       "PHOSPHOROUS,TOTAL INTEGRATED SAMPLE          61\n",
       "PHOSPHORUS, TOTAL, PARTICULATE               24\n",
       "PHOSPHORUS,TOTAL FILTERED                  1136\n",
       "PHOSPHORUS,TOTAL FILTERED-INTEGRATED         61\n",
       "POTASSIUM                                   357\n",
       "POTASSIUM,FILTERED                          105\n",
       "POTASSIUM,FILTERED PHOTOMETRIC              302\n",
       "POTASSIUM-F.,ATOMIC ABSORPTION              722\n",
       "SODIUM                                      357\n",
       "SODIUM,FILTERED PHOTOMETRIC                 302\n",
       "SODIUM,UNFILTERED                           105\n",
       "SODIUM-F.,ATOMIC ABSORPTION                 722\n",
       "SOLUBLE REACTIVE PHOSPHOROUS                297\n",
       "SULPHATE                                    879\n",
       "SULPHATE,FILTERED.                          605\n",
       "TOTAL PHOSPHOROUS                           358\n",
       "TOTAL PHOSPHOROUS FILTERED                  358\n",
       "Name: STN_DATE, dtype: int64"
      ]
     },
     "execution_count": 4,
     "metadata": {},
     "output_type": "execute_result"
    }
   ],
   "source": [
    "df.groupby(['FULL_NAME'])['STN_DATE'].nunique()"
   ]
  },
  {
   "cell_type": "code",
   "execution_count": 5,
   "metadata": {
    "collapsed": true
   },
   "outputs": [],
   "source": [
    "df['year']=pd.to_datetime(pd.DatetimeIndex(df['CRUISE_STOP_DATE'])).year\n",
    "df['month']=pd.to_datetime(pd.DatetimeIndex(df['CRUISE_STOP_DATE'])).month"
   ]
  },
  {
   "cell_type": "code",
   "execution_count": 14,
   "metadata": {},
   "outputs": [
    {
     "data": {
      "text/plain": [
       "Index(['CRUISE_PLAN', 'CRUISE_START_DATE', 'CRUISE_STOP_DATE',\n",
       "       'LAST_DATE_UPDATED', 'WATER_BODY', 'CSN', 'LATITUDE_DD', 'LONGITUDE_DD',\n",
       "       'PSN', 'SOUNDING', 'STN_DATE', 'CODE', 'DEPTH_FROM', 'DEPTH_TO',\n",
       "       'DETECTION', 'FLAG', 'SEQ_NO', 'VALUE', 'ABBREV', 'FULL_NAME', 'UNITS',\n",
       "       'year', 'month'],\n",
       "      dtype='object')"
      ]
     },
     "execution_count": 14,
     "metadata": {},
     "output_type": "execute_result"
    }
   ],
   "source": [
    "df.columns"
   ]
  },
  {
   "cell_type": "code",
   "execution_count": 48,
   "metadata": {
    "collapsed": true
   },
   "outputs": [],
   "source": [
    "western_basin = ['971', '973', '974', '970', 'er61', 'er91', '966', '968', '969']\n",
    "western_basin = [971, 973, 974, 970, 966, 968, 969]"
   ]
  },
  {
   "cell_type": "markdown",
   "metadata": {},
   "source": [
    "### Western Basin"
   ]
  },
  {
   "cell_type": "code",
   "execution_count": 66,
   "metadata": {
    "scrolled": false
   },
   "outputs": [
    {
     "name": "stderr",
     "output_type": "stream",
     "text": [
      "/Users/imarkelo/anaconda3/lib/python3.6/site-packages/ipykernel/__main__.py:3: UserWarning: Boolean Series key will be reindexed to match DataFrame index.\n",
      "  app.launch_new_instance()\n"
     ]
    },
    {
     "data": {
      "text/html": [
       "<div>\n",
       "<style>\n",
       "    .dataframe thead tr:only-child th {\n",
       "        text-align: right;\n",
       "    }\n",
       "\n",
       "    .dataframe thead th {\n",
       "        text-align: left;\n",
       "    }\n",
       "\n",
       "    .dataframe tbody tr th {\n",
       "        vertical-align: top;\n",
       "    }\n",
       "</style>\n",
       "<table border=\"1\" class=\"dataframe\">\n",
       "  <thead>\n",
       "    <tr style=\"text-align: right;\">\n",
       "      <th></th>\n",
       "      <th></th>\n",
       "      <th>count</th>\n",
       "      <th>mean</th>\n",
       "      <th>std</th>\n",
       "      <th>min</th>\n",
       "      <th>25%</th>\n",
       "      <th>50%</th>\n",
       "      <th>75%</th>\n",
       "      <th>max</th>\n",
       "    </tr>\n",
       "    <tr>\n",
       "      <th>year</th>\n",
       "      <th>month</th>\n",
       "      <th></th>\n",
       "      <th></th>\n",
       "      <th></th>\n",
       "      <th></th>\n",
       "      <th></th>\n",
       "      <th></th>\n",
       "      <th></th>\n",
       "      <th></th>\n",
       "    </tr>\n",
       "  </thead>\n",
       "  <tbody>\n",
       "    <tr>\n",
       "      <th rowspan=\"3\" valign=\"top\">1994</th>\n",
       "      <th>4</th>\n",
       "      <td>10.0</td>\n",
       "      <td>0.010260</td>\n",
       "      <td>0.009619</td>\n",
       "      <td>0.0006</td>\n",
       "      <td>0.005900</td>\n",
       "      <td>0.00750</td>\n",
       "      <td>0.009300</td>\n",
       "      <td>0.0298</td>\n",
       "    </tr>\n",
       "    <tr>\n",
       "      <th>7</th>\n",
       "      <td>15.0</td>\n",
       "      <td>0.004687</td>\n",
       "      <td>0.001408</td>\n",
       "      <td>0.0003</td>\n",
       "      <td>0.004350</td>\n",
       "      <td>0.00500</td>\n",
       "      <td>0.005450</td>\n",
       "      <td>0.0061</td>\n",
       "    </tr>\n",
       "    <tr>\n",
       "      <th>10</th>\n",
       "      <td>9.0</td>\n",
       "      <td>0.007889</td>\n",
       "      <td>0.005951</td>\n",
       "      <td>0.0004</td>\n",
       "      <td>0.003000</td>\n",
       "      <td>0.00970</td>\n",
       "      <td>0.009900</td>\n",
       "      <td>0.0174</td>\n",
       "    </tr>\n",
       "    <tr>\n",
       "      <th rowspan=\"3\" valign=\"top\">1995</th>\n",
       "      <th>4</th>\n",
       "      <td>7.0</td>\n",
       "      <td>0.007800</td>\n",
       "      <td>0.005060</td>\n",
       "      <td>0.0027</td>\n",
       "      <td>0.003600</td>\n",
       "      <td>0.00580</td>\n",
       "      <td>0.011900</td>\n",
       "      <td>0.0151</td>\n",
       "    </tr>\n",
       "    <tr>\n",
       "      <th>8</th>\n",
       "      <td>18.0</td>\n",
       "      <td>0.004839</td>\n",
       "      <td>0.003144</td>\n",
       "      <td>0.0003</td>\n",
       "      <td>0.002850</td>\n",
       "      <td>0.00455</td>\n",
       "      <td>0.007450</td>\n",
       "      <td>0.0096</td>\n",
       "    </tr>\n",
       "    <tr>\n",
       "      <th>10</th>\n",
       "      <td>15.0</td>\n",
       "      <td>0.010973</td>\n",
       "      <td>0.007465</td>\n",
       "      <td>0.0007</td>\n",
       "      <td>0.006200</td>\n",
       "      <td>0.00980</td>\n",
       "      <td>0.012950</td>\n",
       "      <td>0.0233</td>\n",
       "    </tr>\n",
       "    <tr>\n",
       "      <th rowspan=\"2\" valign=\"top\">1998</th>\n",
       "      <th>4</th>\n",
       "      <td>7.0</td>\n",
       "      <td>0.023700</td>\n",
       "      <td>0.031488</td>\n",
       "      <td>0.0035</td>\n",
       "      <td>0.005950</td>\n",
       "      <td>0.01030</td>\n",
       "      <td>0.024750</td>\n",
       "      <td>0.0907</td>\n",
       "    </tr>\n",
       "    <tr>\n",
       "      <th>7</th>\n",
       "      <td>16.0</td>\n",
       "      <td>0.005906</td>\n",
       "      <td>0.002666</td>\n",
       "      <td>0.0002</td>\n",
       "      <td>0.004975</td>\n",
       "      <td>0.00605</td>\n",
       "      <td>0.006800</td>\n",
       "      <td>0.0099</td>\n",
       "    </tr>\n",
       "    <tr>\n",
       "      <th rowspan=\"2\" valign=\"top\">2000</th>\n",
       "      <th>4</th>\n",
       "      <td>5.0</td>\n",
       "      <td>0.004020</td>\n",
       "      <td>0.003389</td>\n",
       "      <td>0.0002</td>\n",
       "      <td>0.000500</td>\n",
       "      <td>0.00570</td>\n",
       "      <td>0.006600</td>\n",
       "      <td>0.0071</td>\n",
       "    </tr>\n",
       "    <tr>\n",
       "      <th>9</th>\n",
       "      <td>18.0</td>\n",
       "      <td>0.005561</td>\n",
       "      <td>0.003425</td>\n",
       "      <td>0.0003</td>\n",
       "      <td>0.004150</td>\n",
       "      <td>0.00540</td>\n",
       "      <td>0.007350</td>\n",
       "      <td>0.0119</td>\n",
       "    </tr>\n",
       "    <tr>\n",
       "      <th rowspan=\"2\" valign=\"top\">2002</th>\n",
       "      <th>4</th>\n",
       "      <td>7.0</td>\n",
       "      <td>0.020829</td>\n",
       "      <td>0.028983</td>\n",
       "      <td>0.0032</td>\n",
       "      <td>0.005100</td>\n",
       "      <td>0.00930</td>\n",
       "      <td>0.019900</td>\n",
       "      <td>0.0833</td>\n",
       "    </tr>\n",
       "    <tr>\n",
       "      <th>8</th>\n",
       "      <td>18.0</td>\n",
       "      <td>0.006122</td>\n",
       "      <td>0.003987</td>\n",
       "      <td>0.0002</td>\n",
       "      <td>0.004100</td>\n",
       "      <td>0.00645</td>\n",
       "      <td>0.008075</td>\n",
       "      <td>0.0162</td>\n",
       "    </tr>\n",
       "    <tr>\n",
       "      <th rowspan=\"2\" valign=\"top\">2004</th>\n",
       "      <th>4</th>\n",
       "      <td>5.0</td>\n",
       "      <td>0.006860</td>\n",
       "      <td>0.008228</td>\n",
       "      <td>0.0005</td>\n",
       "      <td>0.000500</td>\n",
       "      <td>0.00580</td>\n",
       "      <td>0.006900</td>\n",
       "      <td>0.0206</td>\n",
       "    </tr>\n",
       "    <tr>\n",
       "      <th>8</th>\n",
       "      <td>12.0</td>\n",
       "      <td>0.005308</td>\n",
       "      <td>0.002526</td>\n",
       "      <td>0.0025</td>\n",
       "      <td>0.003475</td>\n",
       "      <td>0.00445</td>\n",
       "      <td>0.006875</td>\n",
       "      <td>0.0103</td>\n",
       "    </tr>\n",
       "    <tr>\n",
       "      <th rowspan=\"2\" valign=\"top\">2006</th>\n",
       "      <th>4</th>\n",
       "      <td>7.0</td>\n",
       "      <td>0.005971</td>\n",
       "      <td>0.002798</td>\n",
       "      <td>0.0029</td>\n",
       "      <td>0.003900</td>\n",
       "      <td>0.00620</td>\n",
       "      <td>0.006850</td>\n",
       "      <td>0.0112</td>\n",
       "    </tr>\n",
       "    <tr>\n",
       "      <th>8</th>\n",
       "      <td>9.0</td>\n",
       "      <td>0.008833</td>\n",
       "      <td>0.011963</td>\n",
       "      <td>0.0037</td>\n",
       "      <td>0.004400</td>\n",
       "      <td>0.00470</td>\n",
       "      <td>0.005300</td>\n",
       "      <td>0.0406</td>\n",
       "    </tr>\n",
       "    <tr>\n",
       "      <th>2007</th>\n",
       "      <th>4</th>\n",
       "      <td>6.0</td>\n",
       "      <td>0.010767</td>\n",
       "      <td>0.003562</td>\n",
       "      <td>0.0053</td>\n",
       "      <td>0.008475</td>\n",
       "      <td>0.01215</td>\n",
       "      <td>0.013350</td>\n",
       "      <td>0.0140</td>\n",
       "    </tr>\n",
       "    <tr>\n",
       "      <th rowspan=\"2\" valign=\"top\">2009</th>\n",
       "      <th>4</th>\n",
       "      <td>13.0</td>\n",
       "      <td>0.011554</td>\n",
       "      <td>0.010388</td>\n",
       "      <td>0.0005</td>\n",
       "      <td>0.000600</td>\n",
       "      <td>0.00860</td>\n",
       "      <td>0.019200</td>\n",
       "      <td>0.0288</td>\n",
       "    </tr>\n",
       "    <tr>\n",
       "      <th>7</th>\n",
       "      <td>8.0</td>\n",
       "      <td>0.007162</td>\n",
       "      <td>0.004098</td>\n",
       "      <td>0.0026</td>\n",
       "      <td>0.004025</td>\n",
       "      <td>0.00735</td>\n",
       "      <td>0.008050</td>\n",
       "      <td>0.0153</td>\n",
       "    </tr>\n",
       "    <tr>\n",
       "      <th>2010</th>\n",
       "      <th>7</th>\n",
       "      <td>13.0</td>\n",
       "      <td>0.005131</td>\n",
       "      <td>0.002815</td>\n",
       "      <td>0.0005</td>\n",
       "      <td>0.003200</td>\n",
       "      <td>0.00520</td>\n",
       "      <td>0.007200</td>\n",
       "      <td>0.0089</td>\n",
       "    </tr>\n",
       "    <tr>\n",
       "      <th rowspan=\"2\" valign=\"top\">2012</th>\n",
       "      <th>5</th>\n",
       "      <td>25.0</td>\n",
       "      <td>0.004332</td>\n",
       "      <td>0.001682</td>\n",
       "      <td>0.0005</td>\n",
       "      <td>0.003400</td>\n",
       "      <td>0.00450</td>\n",
       "      <td>0.005000</td>\n",
       "      <td>0.0079</td>\n",
       "    </tr>\n",
       "    <tr>\n",
       "      <th>7</th>\n",
       "      <td>7.0</td>\n",
       "      <td>0.005829</td>\n",
       "      <td>0.002536</td>\n",
       "      <td>0.0036</td>\n",
       "      <td>0.003900</td>\n",
       "      <td>0.00440</td>\n",
       "      <td>0.007700</td>\n",
       "      <td>0.0096</td>\n",
       "    </tr>\n",
       "  </tbody>\n",
       "</table>\n",
       "</div>"
      ],
      "text/plain": [
       "            count      mean       std     min       25%      50%       75%  \\\n",
       "year month                                                                   \n",
       "1994 4       10.0  0.010260  0.009619  0.0006  0.005900  0.00750  0.009300   \n",
       "     7       15.0  0.004687  0.001408  0.0003  0.004350  0.00500  0.005450   \n",
       "     10       9.0  0.007889  0.005951  0.0004  0.003000  0.00970  0.009900   \n",
       "1995 4        7.0  0.007800  0.005060  0.0027  0.003600  0.00580  0.011900   \n",
       "     8       18.0  0.004839  0.003144  0.0003  0.002850  0.00455  0.007450   \n",
       "     10      15.0  0.010973  0.007465  0.0007  0.006200  0.00980  0.012950   \n",
       "1998 4        7.0  0.023700  0.031488  0.0035  0.005950  0.01030  0.024750   \n",
       "     7       16.0  0.005906  0.002666  0.0002  0.004975  0.00605  0.006800   \n",
       "2000 4        5.0  0.004020  0.003389  0.0002  0.000500  0.00570  0.006600   \n",
       "     9       18.0  0.005561  0.003425  0.0003  0.004150  0.00540  0.007350   \n",
       "2002 4        7.0  0.020829  0.028983  0.0032  0.005100  0.00930  0.019900   \n",
       "     8       18.0  0.006122  0.003987  0.0002  0.004100  0.00645  0.008075   \n",
       "2004 4        5.0  0.006860  0.008228  0.0005  0.000500  0.00580  0.006900   \n",
       "     8       12.0  0.005308  0.002526  0.0025  0.003475  0.00445  0.006875   \n",
       "2006 4        7.0  0.005971  0.002798  0.0029  0.003900  0.00620  0.006850   \n",
       "     8        9.0  0.008833  0.011963  0.0037  0.004400  0.00470  0.005300   \n",
       "2007 4        6.0  0.010767  0.003562  0.0053  0.008475  0.01215  0.013350   \n",
       "2009 4       13.0  0.011554  0.010388  0.0005  0.000600  0.00860  0.019200   \n",
       "     7        8.0  0.007162  0.004098  0.0026  0.004025  0.00735  0.008050   \n",
       "2010 7       13.0  0.005131  0.002815  0.0005  0.003200  0.00520  0.007200   \n",
       "2012 5       25.0  0.004332  0.001682  0.0005  0.003400  0.00450  0.005000   \n",
       "     7        7.0  0.005829  0.002536  0.0036  0.003900  0.00440  0.007700   \n",
       "\n",
       "               max  \n",
       "year month          \n",
       "1994 4      0.0298  \n",
       "     7      0.0061  \n",
       "     10     0.0174  \n",
       "1995 4      0.0151  \n",
       "     8      0.0096  \n",
       "     10     0.0233  \n",
       "1998 4      0.0907  \n",
       "     7      0.0099  \n",
       "2000 4      0.0071  \n",
       "     9      0.0119  \n",
       "2002 4      0.0833  \n",
       "     8      0.0162  \n",
       "2004 4      0.0206  \n",
       "     8      0.0103  \n",
       "2006 4      0.0112  \n",
       "     8      0.0406  \n",
       "2007 4      0.0140  \n",
       "2009 4      0.0288  \n",
       "     7      0.0153  \n",
       "2010 7      0.0089  \n",
       "2012 5      0.0079  \n",
       "     7      0.0096  "
      ]
     },
     "execution_count": 66,
     "metadata": {},
     "output_type": "execute_result"
    }
   ],
   "source": [
    "sp_name='PHOSPHORUS,TOTAL FILTERED'\n",
    "wb = (df['PSN'] == 969) |( df['PSN'] == 968) | (df['PSN'] == 966) | (df['PSN'] == 970) |(df['PSN'] == 974) |(df['PSN'] == 973) | (df['PSN'] == 973)\n",
    "df[df['PSN'].isin(western_basin)][df['FULL_NAME'] == sp_name].groupby(['year', 'month'])['VALUE'].describe()"
   ]
  },
  {
   "cell_type": "code",
   "execution_count": 67,
   "metadata": {},
   "outputs": [
    {
     "name": "stderr",
     "output_type": "stream",
     "text": [
      "/Users/imarkelo/anaconda3/lib/python3.6/site-packages/ipykernel/__main__.py:1: UserWarning: Boolean Series key will be reindexed to match DataFrame index.\n",
      "  if __name__ == '__main__':\n"
     ]
    }
   ],
   "source": [
    "units = df[df['PSN'].isin(western_basin)][df['FULL_NAME'] == sp_name].UNITS.unique()[0]\n",
    "fn='western_basin_'+sp_name+'_'+units\n",
    "fn = re.sub('[^0-9a-zA-Z]+', '_', fn)\n",
    "res.to_csv(fn+'.csv')"
   ]
  },
  {
   "cell_type": "code",
   "execution_count": 68,
   "metadata": {},
   "outputs": [
    {
     "name": "stderr",
     "output_type": "stream",
     "text": [
      "/Users/imarkelo/anaconda3/lib/python3.6/site-packages/ipykernel/__main__.py:2: UserWarning: Boolean Series key will be reindexed to match DataFrame index.\n",
      "  from ipykernel import kernelapp as app\n"
     ]
    },
    {
     "data": {
      "text/html": [
       "<div>\n",
       "<style>\n",
       "    .dataframe thead tr:only-child th {\n",
       "        text-align: right;\n",
       "    }\n",
       "\n",
       "    .dataframe thead th {\n",
       "        text-align: left;\n",
       "    }\n",
       "\n",
       "    .dataframe tbody tr th {\n",
       "        vertical-align: top;\n",
       "    }\n",
       "</style>\n",
       "<table border=\"1\" class=\"dataframe\">\n",
       "  <thead>\n",
       "    <tr style=\"text-align: right;\">\n",
       "      <th></th>\n",
       "      <th></th>\n",
       "      <th>count</th>\n",
       "      <th>mean</th>\n",
       "      <th>std</th>\n",
       "      <th>min</th>\n",
       "      <th>25%</th>\n",
       "      <th>50%</th>\n",
       "      <th>75%</th>\n",
       "      <th>max</th>\n",
       "    </tr>\n",
       "    <tr>\n",
       "      <th>year</th>\n",
       "      <th>month</th>\n",
       "      <th></th>\n",
       "      <th></th>\n",
       "      <th></th>\n",
       "      <th></th>\n",
       "      <th></th>\n",
       "      <th></th>\n",
       "      <th></th>\n",
       "      <th></th>\n",
       "    </tr>\n",
       "  </thead>\n",
       "  <tbody>\n",
       "    <tr>\n",
       "      <th>1994</th>\n",
       "      <th>4</th>\n",
       "      <td>10.0</td>\n",
       "      <td>0.006540</td>\n",
       "      <td>0.009538</td>\n",
       "      <td>0.0005</td>\n",
       "      <td>0.001250</td>\n",
       "      <td>0.00220</td>\n",
       "      <td>0.004750</td>\n",
       "      <td>0.0274</td>\n",
       "    </tr>\n",
       "    <tr>\n",
       "      <th>1995</th>\n",
       "      <th>4</th>\n",
       "      <td>7.0</td>\n",
       "      <td>0.005543</td>\n",
       "      <td>0.005099</td>\n",
       "      <td>0.0007</td>\n",
       "      <td>0.001350</td>\n",
       "      <td>0.00310</td>\n",
       "      <td>0.009600</td>\n",
       "      <td>0.0131</td>\n",
       "    </tr>\n",
       "    <tr>\n",
       "      <th>1998</th>\n",
       "      <th>4</th>\n",
       "      <td>7.0</td>\n",
       "      <td>0.021414</td>\n",
       "      <td>0.033064</td>\n",
       "      <td>0.0010</td>\n",
       "      <td>0.001900</td>\n",
       "      <td>0.00630</td>\n",
       "      <td>0.023900</td>\n",
       "      <td>0.0910</td>\n",
       "    </tr>\n",
       "    <tr>\n",
       "      <th>2000</th>\n",
       "      <th>4</th>\n",
       "      <td>5.0</td>\n",
       "      <td>0.002120</td>\n",
       "      <td>0.001807</td>\n",
       "      <td>0.0002</td>\n",
       "      <td>0.000200</td>\n",
       "      <td>0.00270</td>\n",
       "      <td>0.003600</td>\n",
       "      <td>0.0039</td>\n",
       "    </tr>\n",
       "    <tr>\n",
       "      <th>2002</th>\n",
       "      <th>4</th>\n",
       "      <td>7.0</td>\n",
       "      <td>0.016786</td>\n",
       "      <td>0.027580</td>\n",
       "      <td>0.0002</td>\n",
       "      <td>0.001750</td>\n",
       "      <td>0.00460</td>\n",
       "      <td>0.016650</td>\n",
       "      <td>0.0759</td>\n",
       "    </tr>\n",
       "    <tr>\n",
       "      <th>2004</th>\n",
       "      <th>4</th>\n",
       "      <td>5.0</td>\n",
       "      <td>0.005040</td>\n",
       "      <td>0.007273</td>\n",
       "      <td>0.0002</td>\n",
       "      <td>0.000200</td>\n",
       "      <td>0.00340</td>\n",
       "      <td>0.003700</td>\n",
       "      <td>0.0177</td>\n",
       "    </tr>\n",
       "    <tr>\n",
       "      <th>2006</th>\n",
       "      <th>4</th>\n",
       "      <td>7.0</td>\n",
       "      <td>0.002329</td>\n",
       "      <td>0.002383</td>\n",
       "      <td>0.0006</td>\n",
       "      <td>0.000800</td>\n",
       "      <td>0.00100</td>\n",
       "      <td>0.002950</td>\n",
       "      <td>0.0072</td>\n",
       "    </tr>\n",
       "    <tr>\n",
       "      <th>2007</th>\n",
       "      <th>4</th>\n",
       "      <td>6.0</td>\n",
       "      <td>0.007583</td>\n",
       "      <td>0.004211</td>\n",
       "      <td>0.0015</td>\n",
       "      <td>0.004575</td>\n",
       "      <td>0.00895</td>\n",
       "      <td>0.010475</td>\n",
       "      <td>0.0120</td>\n",
       "    </tr>\n",
       "    <tr>\n",
       "      <th>2009</th>\n",
       "      <th>4</th>\n",
       "      <td>13.0</td>\n",
       "      <td>0.009708</td>\n",
       "      <td>0.009560</td>\n",
       "      <td>0.0002</td>\n",
       "      <td>0.000700</td>\n",
       "      <td>0.00550</td>\n",
       "      <td>0.016800</td>\n",
       "      <td>0.0251</td>\n",
       "    </tr>\n",
       "    <tr>\n",
       "      <th>2012</th>\n",
       "      <th>5</th>\n",
       "      <td>12.0</td>\n",
       "      <td>0.001967</td>\n",
       "      <td>0.001370</td>\n",
       "      <td>0.0003</td>\n",
       "      <td>0.001150</td>\n",
       "      <td>0.00180</td>\n",
       "      <td>0.002550</td>\n",
       "      <td>0.0051</td>\n",
       "    </tr>\n",
       "    <tr>\n",
       "      <th>2013</th>\n",
       "      <th>4</th>\n",
       "      <td>13.0</td>\n",
       "      <td>0.032438</td>\n",
       "      <td>0.046068</td>\n",
       "      <td>0.0002</td>\n",
       "      <td>0.005900</td>\n",
       "      <td>0.00890</td>\n",
       "      <td>0.050200</td>\n",
       "      <td>0.1298</td>\n",
       "    </tr>\n",
       "    <tr>\n",
       "      <th>2014</th>\n",
       "      <th>5</th>\n",
       "      <td>13.0</td>\n",
       "      <td>0.007308</td>\n",
       "      <td>0.010131</td>\n",
       "      <td>0.0002</td>\n",
       "      <td>0.000900</td>\n",
       "      <td>0.00190</td>\n",
       "      <td>0.016800</td>\n",
       "      <td>0.0322</td>\n",
       "    </tr>\n",
       "    <tr>\n",
       "      <th>2015</th>\n",
       "      <th>5</th>\n",
       "      <td>11.0</td>\n",
       "      <td>0.005373</td>\n",
       "      <td>0.009285</td>\n",
       "      <td>0.0002</td>\n",
       "      <td>0.000400</td>\n",
       "      <td>0.00070</td>\n",
       "      <td>0.003050</td>\n",
       "      <td>0.0247</td>\n",
       "    </tr>\n",
       "  </tbody>\n",
       "</table>\n",
       "</div>"
      ],
      "text/plain": [
       "            count      mean       std     min       25%      50%       75%  \\\n",
       "year month                                                                   \n",
       "1994 4       10.0  0.006540  0.009538  0.0005  0.001250  0.00220  0.004750   \n",
       "1995 4        7.0  0.005543  0.005099  0.0007  0.001350  0.00310  0.009600   \n",
       "1998 4        7.0  0.021414  0.033064  0.0010  0.001900  0.00630  0.023900   \n",
       "2000 4        5.0  0.002120  0.001807  0.0002  0.000200  0.00270  0.003600   \n",
       "2002 4        7.0  0.016786  0.027580  0.0002  0.001750  0.00460  0.016650   \n",
       "2004 4        5.0  0.005040  0.007273  0.0002  0.000200  0.00340  0.003700   \n",
       "2006 4        7.0  0.002329  0.002383  0.0006  0.000800  0.00100  0.002950   \n",
       "2007 4        6.0  0.007583  0.004211  0.0015  0.004575  0.00895  0.010475   \n",
       "2009 4       13.0  0.009708  0.009560  0.0002  0.000700  0.00550  0.016800   \n",
       "2012 5       12.0  0.001967  0.001370  0.0003  0.001150  0.00180  0.002550   \n",
       "2013 4       13.0  0.032438  0.046068  0.0002  0.005900  0.00890  0.050200   \n",
       "2014 5       13.0  0.007308  0.010131  0.0002  0.000900  0.00190  0.016800   \n",
       "2015 5       11.0  0.005373  0.009285  0.0002  0.000400  0.00070  0.003050   \n",
       "\n",
       "               max  \n",
       "year month          \n",
       "1994 4      0.0274  \n",
       "1995 4      0.0131  \n",
       "1998 4      0.0910  \n",
       "2000 4      0.0039  \n",
       "2002 4      0.0759  \n",
       "2004 4      0.0177  \n",
       "2006 4      0.0072  \n",
       "2007 4      0.0120  \n",
       "2009 4      0.0251  \n",
       "2012 5      0.0051  \n",
       "2013 4      0.1298  \n",
       "2014 5      0.0322  \n",
       "2015 5      0.0247  "
      ]
     },
     "execution_count": 68,
     "metadata": {},
     "output_type": "execute_result"
    }
   ],
   "source": [
    "sp_name='PHOSPHOROUS,SOLUBLE REACTIVE,FILTERED'\n",
    "res = df[df['PSN'].isin(western_basin)][df['FULL_NAME'] == sp_name].groupby(['year', 'month'])['VALUE'].describe()\n",
    "res"
   ]
  },
  {
   "cell_type": "code",
   "execution_count": 69,
   "metadata": {},
   "outputs": [
    {
     "name": "stderr",
     "output_type": "stream",
     "text": [
      "/Users/imarkelo/anaconda3/lib/python3.6/site-packages/ipykernel/__main__.py:1: UserWarning: Boolean Series key will be reindexed to match DataFrame index.\n",
      "  if __name__ == '__main__':\n"
     ]
    }
   ],
   "source": [
    "units = df[df['PSN'].isin(western_basin)][df['FULL_NAME'] == sp_name].UNITS.unique()[0]\n",
    "fn='western_basin_'+sp_name+'_'+units\n",
    "fn = re.sub('[^0-9a-zA-Z]+', '_', fn)\n",
    "res.to_csv(fn+'.csv')"
   ]
  },
  {
   "cell_type": "code",
   "execution_count": 70,
   "metadata": {},
   "outputs": [
    {
     "name": "stderr",
     "output_type": "stream",
     "text": [
      "/Users/imarkelo/anaconda3/lib/python3.6/site-packages/ipykernel/__main__.py:2: UserWarning: Boolean Series key will be reindexed to match DataFrame index.\n",
      "  from ipykernel import kernelapp as app\n"
     ]
    },
    {
     "data": {
      "text/html": [
       "<div>\n",
       "<style>\n",
       "    .dataframe thead tr:only-child th {\n",
       "        text-align: right;\n",
       "    }\n",
       "\n",
       "    .dataframe thead th {\n",
       "        text-align: left;\n",
       "    }\n",
       "\n",
       "    .dataframe tbody tr th {\n",
       "        vertical-align: top;\n",
       "    }\n",
       "</style>\n",
       "<table border=\"1\" class=\"dataframe\">\n",
       "  <thead>\n",
       "    <tr style=\"text-align: right;\">\n",
       "      <th></th>\n",
       "      <th></th>\n",
       "      <th>count</th>\n",
       "      <th>mean</th>\n",
       "      <th>std</th>\n",
       "      <th>min</th>\n",
       "      <th>25%</th>\n",
       "      <th>50%</th>\n",
       "      <th>75%</th>\n",
       "      <th>max</th>\n",
       "    </tr>\n",
       "    <tr>\n",
       "      <th>year</th>\n",
       "      <th>month</th>\n",
       "      <th></th>\n",
       "      <th></th>\n",
       "      <th></th>\n",
       "      <th></th>\n",
       "      <th></th>\n",
       "      <th></th>\n",
       "      <th></th>\n",
       "      <th></th>\n",
       "    </tr>\n",
       "  </thead>\n",
       "  <tbody>\n",
       "    <tr>\n",
       "      <th rowspan=\"3\" valign=\"top\">1994</th>\n",
       "      <th>4</th>\n",
       "      <td>10.0</td>\n",
       "      <td>0.041860</td>\n",
       "      <td>0.060196</td>\n",
       "      <td>0.0002</td>\n",
       "      <td>0.012050</td>\n",
       "      <td>0.02515</td>\n",
       "      <td>0.043275</td>\n",
       "      <td>0.2050</td>\n",
       "    </tr>\n",
       "    <tr>\n",
       "      <th>7</th>\n",
       "      <td>15.0</td>\n",
       "      <td>0.011927</td>\n",
       "      <td>0.004491</td>\n",
       "      <td>0.0002</td>\n",
       "      <td>0.010600</td>\n",
       "      <td>0.01150</td>\n",
       "      <td>0.014800</td>\n",
       "      <td>0.0176</td>\n",
       "    </tr>\n",
       "    <tr>\n",
       "      <th>10</th>\n",
       "      <td>9.0</td>\n",
       "      <td>0.019956</td>\n",
       "      <td>0.015907</td>\n",
       "      <td>0.0002</td>\n",
       "      <td>0.009400</td>\n",
       "      <td>0.01730</td>\n",
       "      <td>0.031000</td>\n",
       "      <td>0.0449</td>\n",
       "    </tr>\n",
       "    <tr>\n",
       "      <th rowspan=\"3\" valign=\"top\">1995</th>\n",
       "      <th>4</th>\n",
       "      <td>7.0</td>\n",
       "      <td>0.017800</td>\n",
       "      <td>0.009378</td>\n",
       "      <td>0.0081</td>\n",
       "      <td>0.009550</td>\n",
       "      <td>0.01570</td>\n",
       "      <td>0.025650</td>\n",
       "      <td>0.0304</td>\n",
       "    </tr>\n",
       "    <tr>\n",
       "      <th>8</th>\n",
       "      <td>18.0</td>\n",
       "      <td>0.010278</td>\n",
       "      <td>0.006228</td>\n",
       "      <td>0.0002</td>\n",
       "      <td>0.009150</td>\n",
       "      <td>0.01115</td>\n",
       "      <td>0.014300</td>\n",
       "      <td>0.0191</td>\n",
       "    </tr>\n",
       "    <tr>\n",
       "      <th>10</th>\n",
       "      <td>15.0</td>\n",
       "      <td>0.022193</td>\n",
       "      <td>0.011133</td>\n",
       "      <td>0.0002</td>\n",
       "      <td>0.016150</td>\n",
       "      <td>0.02730</td>\n",
       "      <td>0.030700</td>\n",
       "      <td>0.0342</td>\n",
       "    </tr>\n",
       "    <tr>\n",
       "      <th rowspan=\"2\" valign=\"top\">1998</th>\n",
       "      <th>4</th>\n",
       "      <td>7.0</td>\n",
       "      <td>0.042171</td>\n",
       "      <td>0.044866</td>\n",
       "      <td>0.0103</td>\n",
       "      <td>0.014700</td>\n",
       "      <td>0.02450</td>\n",
       "      <td>0.047950</td>\n",
       "      <td>0.1351</td>\n",
       "    </tr>\n",
       "    <tr>\n",
       "      <th>7</th>\n",
       "      <td>17.0</td>\n",
       "      <td>0.015647</td>\n",
       "      <td>0.007903</td>\n",
       "      <td>0.0002</td>\n",
       "      <td>0.012800</td>\n",
       "      <td>0.01800</td>\n",
       "      <td>0.021300</td>\n",
       "      <td>0.0231</td>\n",
       "    </tr>\n",
       "    <tr>\n",
       "      <th rowspan=\"2\" valign=\"top\">2000</th>\n",
       "      <th>4</th>\n",
       "      <td>4.0</td>\n",
       "      <td>0.007000</td>\n",
       "      <td>0.009387</td>\n",
       "      <td>0.0002</td>\n",
       "      <td>0.000200</td>\n",
       "      <td>0.00385</td>\n",
       "      <td>0.010650</td>\n",
       "      <td>0.0201</td>\n",
       "    </tr>\n",
       "    <tr>\n",
       "      <th>9</th>\n",
       "      <td>18.0</td>\n",
       "      <td>0.014622</td>\n",
       "      <td>0.010168</td>\n",
       "      <td>0.0002</td>\n",
       "      <td>0.012250</td>\n",
       "      <td>0.01510</td>\n",
       "      <td>0.018600</td>\n",
       "      <td>0.0376</td>\n",
       "    </tr>\n",
       "    <tr>\n",
       "      <th rowspan=\"2\" valign=\"top\">2002</th>\n",
       "      <th>4</th>\n",
       "      <td>7.0</td>\n",
       "      <td>0.033843</td>\n",
       "      <td>0.044049</td>\n",
       "      <td>0.0109</td>\n",
       "      <td>0.011350</td>\n",
       "      <td>0.01720</td>\n",
       "      <td>0.027050</td>\n",
       "      <td>0.1320</td>\n",
       "    </tr>\n",
       "    <tr>\n",
       "      <th>8</th>\n",
       "      <td>18.0</td>\n",
       "      <td>0.013461</td>\n",
       "      <td>0.008576</td>\n",
       "      <td>0.0004</td>\n",
       "      <td>0.009200</td>\n",
       "      <td>0.01415</td>\n",
       "      <td>0.019625</td>\n",
       "      <td>0.0261</td>\n",
       "    </tr>\n",
       "    <tr>\n",
       "      <th rowspan=\"2\" valign=\"top\">2004</th>\n",
       "      <th>4</th>\n",
       "      <td>5.0</td>\n",
       "      <td>0.015100</td>\n",
       "      <td>0.018338</td>\n",
       "      <td>0.0005</td>\n",
       "      <td>0.000500</td>\n",
       "      <td>0.01430</td>\n",
       "      <td>0.014800</td>\n",
       "      <td>0.0454</td>\n",
       "    </tr>\n",
       "    <tr>\n",
       "      <th>8</th>\n",
       "      <td>12.0</td>\n",
       "      <td>0.021683</td>\n",
       "      <td>0.014350</td>\n",
       "      <td>0.0099</td>\n",
       "      <td>0.011725</td>\n",
       "      <td>0.01790</td>\n",
       "      <td>0.025525</td>\n",
       "      <td>0.0605</td>\n",
       "    </tr>\n",
       "    <tr>\n",
       "      <th rowspan=\"2\" valign=\"top\">2006</th>\n",
       "      <th>4</th>\n",
       "      <td>7.0</td>\n",
       "      <td>0.020614</td>\n",
       "      <td>0.012180</td>\n",
       "      <td>0.0090</td>\n",
       "      <td>0.010150</td>\n",
       "      <td>0.01460</td>\n",
       "      <td>0.032700</td>\n",
       "      <td>0.0350</td>\n",
       "    </tr>\n",
       "    <tr>\n",
       "      <th>8</th>\n",
       "      <td>9.0</td>\n",
       "      <td>0.016400</td>\n",
       "      <td>0.013520</td>\n",
       "      <td>0.0097</td>\n",
       "      <td>0.010200</td>\n",
       "      <td>0.01150</td>\n",
       "      <td>0.013900</td>\n",
       "      <td>0.0518</td>\n",
       "    </tr>\n",
       "    <tr>\n",
       "      <th>2007</th>\n",
       "      <th>4</th>\n",
       "      <td>6.0</td>\n",
       "      <td>0.025200</td>\n",
       "      <td>0.011181</td>\n",
       "      <td>0.0125</td>\n",
       "      <td>0.017625</td>\n",
       "      <td>0.02315</td>\n",
       "      <td>0.031825</td>\n",
       "      <td>0.0419</td>\n",
       "    </tr>\n",
       "    <tr>\n",
       "      <th rowspan=\"2\" valign=\"top\">2009</th>\n",
       "      <th>4</th>\n",
       "      <td>13.0</td>\n",
       "      <td>0.049000</td>\n",
       "      <td>0.057587</td>\n",
       "      <td>0.0005</td>\n",
       "      <td>0.000500</td>\n",
       "      <td>0.01620</td>\n",
       "      <td>0.064200</td>\n",
       "      <td>0.1620</td>\n",
       "    </tr>\n",
       "    <tr>\n",
       "      <th>7</th>\n",
       "      <td>8.0</td>\n",
       "      <td>0.017288</td>\n",
       "      <td>0.006919</td>\n",
       "      <td>0.0082</td>\n",
       "      <td>0.012575</td>\n",
       "      <td>0.01810</td>\n",
       "      <td>0.021175</td>\n",
       "      <td>0.0261</td>\n",
       "    </tr>\n",
       "    <tr>\n",
       "      <th>2010</th>\n",
       "      <th>7</th>\n",
       "      <td>13.0</td>\n",
       "      <td>0.017608</td>\n",
       "      <td>0.010404</td>\n",
       "      <td>0.0006</td>\n",
       "      <td>0.011500</td>\n",
       "      <td>0.01680</td>\n",
       "      <td>0.027400</td>\n",
       "      <td>0.0312</td>\n",
       "    </tr>\n",
       "    <tr>\n",
       "      <th rowspan=\"2\" valign=\"top\">2012</th>\n",
       "      <th>5</th>\n",
       "      <td>25.0</td>\n",
       "      <td>0.015248</td>\n",
       "      <td>0.010138</td>\n",
       "      <td>0.0005</td>\n",
       "      <td>0.010000</td>\n",
       "      <td>0.01260</td>\n",
       "      <td>0.018300</td>\n",
       "      <td>0.0436</td>\n",
       "    </tr>\n",
       "    <tr>\n",
       "      <th>7</th>\n",
       "      <td>7.0</td>\n",
       "      <td>0.008657</td>\n",
       "      <td>0.001233</td>\n",
       "      <td>0.0069</td>\n",
       "      <td>0.007700</td>\n",
       "      <td>0.00890</td>\n",
       "      <td>0.009700</td>\n",
       "      <td>0.0100</td>\n",
       "    </tr>\n",
       "  </tbody>\n",
       "</table>\n",
       "</div>"
      ],
      "text/plain": [
       "            count      mean       std     min       25%      50%       75%  \\\n",
       "year month                                                                   \n",
       "1994 4       10.0  0.041860  0.060196  0.0002  0.012050  0.02515  0.043275   \n",
       "     7       15.0  0.011927  0.004491  0.0002  0.010600  0.01150  0.014800   \n",
       "     10       9.0  0.019956  0.015907  0.0002  0.009400  0.01730  0.031000   \n",
       "1995 4        7.0  0.017800  0.009378  0.0081  0.009550  0.01570  0.025650   \n",
       "     8       18.0  0.010278  0.006228  0.0002  0.009150  0.01115  0.014300   \n",
       "     10      15.0  0.022193  0.011133  0.0002  0.016150  0.02730  0.030700   \n",
       "1998 4        7.0  0.042171  0.044866  0.0103  0.014700  0.02450  0.047950   \n",
       "     7       17.0  0.015647  0.007903  0.0002  0.012800  0.01800  0.021300   \n",
       "2000 4        4.0  0.007000  0.009387  0.0002  0.000200  0.00385  0.010650   \n",
       "     9       18.0  0.014622  0.010168  0.0002  0.012250  0.01510  0.018600   \n",
       "2002 4        7.0  0.033843  0.044049  0.0109  0.011350  0.01720  0.027050   \n",
       "     8       18.0  0.013461  0.008576  0.0004  0.009200  0.01415  0.019625   \n",
       "2004 4        5.0  0.015100  0.018338  0.0005  0.000500  0.01430  0.014800   \n",
       "     8       12.0  0.021683  0.014350  0.0099  0.011725  0.01790  0.025525   \n",
       "2006 4        7.0  0.020614  0.012180  0.0090  0.010150  0.01460  0.032700   \n",
       "     8        9.0  0.016400  0.013520  0.0097  0.010200  0.01150  0.013900   \n",
       "2007 4        6.0  0.025200  0.011181  0.0125  0.017625  0.02315  0.031825   \n",
       "2009 4       13.0  0.049000  0.057587  0.0005  0.000500  0.01620  0.064200   \n",
       "     7        8.0  0.017288  0.006919  0.0082  0.012575  0.01810  0.021175   \n",
       "2010 7       13.0  0.017608  0.010404  0.0006  0.011500  0.01680  0.027400   \n",
       "2012 5       25.0  0.015248  0.010138  0.0005  0.010000  0.01260  0.018300   \n",
       "     7        7.0  0.008657  0.001233  0.0069  0.007700  0.00890  0.009700   \n",
       "\n",
       "               max  \n",
       "year month          \n",
       "1994 4      0.2050  \n",
       "     7      0.0176  \n",
       "     10     0.0449  \n",
       "1995 4      0.0304  \n",
       "     8      0.0191  \n",
       "     10     0.0342  \n",
       "1998 4      0.1351  \n",
       "     7      0.0231  \n",
       "2000 4      0.0201  \n",
       "     9      0.0376  \n",
       "2002 4      0.1320  \n",
       "     8      0.0261  \n",
       "2004 4      0.0454  \n",
       "     8      0.0605  \n",
       "2006 4      0.0350  \n",
       "     8      0.0518  \n",
       "2007 4      0.0419  \n",
       "2009 4      0.1620  \n",
       "     7      0.0261  \n",
       "2010 7      0.0312  \n",
       "2012 5      0.0436  \n",
       "     7      0.0100  "
      ]
     },
     "execution_count": 70,
     "metadata": {},
     "output_type": "execute_result"
    }
   ],
   "source": [
    "sp_name='PHOSPHOROUS,TOTAL'\n",
    "res = df[df['PSN'].isin(western_basin)][df['FULL_NAME'] == sp_name].groupby(['year', 'month'])['VALUE'].describe()\n",
    "res"
   ]
  },
  {
   "cell_type": "code",
   "execution_count": 71,
   "metadata": {},
   "outputs": [
    {
     "name": "stderr",
     "output_type": "stream",
     "text": [
      "/Users/imarkelo/anaconda3/lib/python3.6/site-packages/ipykernel/__main__.py:1: UserWarning: Boolean Series key will be reindexed to match DataFrame index.\n",
      "  if __name__ == '__main__':\n"
     ]
    }
   ],
   "source": [
    "units = df[df['PSN'].isin(western_basin)][df['FULL_NAME'] == sp_name].UNITS.unique()[0]\n",
    "fn='western_basin_'+sp_name+'_'+units\n",
    "fn = re.sub('[^0-9a-zA-Z]+', '_', fn)\n",
    "res.to_csv(fn+'.csv')"
   ]
  },
  {
   "cell_type": "code",
   "execution_count": 72,
   "metadata": {},
   "outputs": [
    {
     "name": "stderr",
     "output_type": "stream",
     "text": [
      "/Users/imarkelo/anaconda3/lib/python3.6/site-packages/ipykernel/__main__.py:2: UserWarning: Boolean Series key will be reindexed to match DataFrame index.\n",
      "  from ipykernel import kernelapp as app\n",
      "/Users/imarkelo/anaconda3/lib/python3.6/site-packages/ipykernel/__main__.py:3: UserWarning: Boolean Series key will be reindexed to match DataFrame index.\n",
      "  app.launch_new_instance()\n"
     ]
    }
   ],
   "source": [
    "sp_name='CHLORIDE'\n",
    "res = df[df['PSN'].isin(western_basin)][df['FULL_NAME'] == sp_name].groupby(['year', 'month'])['VALUE'].describe()\n",
    "units = df[df['PSN'].isin(western_basin)][df['FULL_NAME'] == sp_name].UNITS.unique()[0]\n",
    "fn='western_basin_'+sp_name+'_'+units\n",
    "fn = re.sub('[^0-9a-zA-Z]+', '_', fn)\n",
    "res.to_csv(fn+'.csv')"
   ]
  },
  {
   "cell_type": "code",
   "execution_count": 75,
   "metadata": {},
   "outputs": [
    {
     "name": "stderr",
     "output_type": "stream",
     "text": [
      "/Users/imarkelo/anaconda3/lib/python3.6/site-packages/ipykernel/__main__.py:2: UserWarning: Boolean Series key will be reindexed to match DataFrame index.\n",
      "  from ipykernel import kernelapp as app\n",
      "/Users/imarkelo/anaconda3/lib/python3.6/site-packages/ipykernel/__main__.py:3: UserWarning: Boolean Series key will be reindexed to match DataFrame index.\n",
      "  app.launch_new_instance()\n"
     ]
    }
   ],
   "source": [
    "sp_name='CHLOROPHYLL A UNCORRECTED INTEGRATED'\n",
    "res = df[df['PSN'].isin(western_basin)][df['FULL_NAME'] == sp_name].groupby(['year', 'month'])['VALUE'].describe()\n",
    "units = df[df['PSN'].isin(western_basin)][df['FULL_NAME'] == sp_name].UNITS.unique()[0]\n",
    "fn='western_basin_'+sp_name+'_'+units\n",
    "fn = re.sub('[^0-9a-zA-Z]+', '_', fn)\n",
    "res.to_csv(fn+'.csv')"
   ]
  },
  {
   "cell_type": "code",
   "execution_count": null,
   "metadata": {
    "collapsed": true
   },
   "outputs": [],
   "source": []
  },
  {
   "cell_type": "markdown",
   "metadata": {},
   "source": [
    "### Central Basin"
   ]
  },
  {
   "cell_type": "code",
   "execution_count": 76,
   "metadata": {
    "collapsed": true
   },
   "outputs": [],
   "source": [
    "central_basin = [965, 962, 961, 954, 953, 952, 949, 945, 946]"
   ]
  },
  {
   "cell_type": "code",
   "execution_count": 78,
   "metadata": {
    "collapsed": true
   },
   "outputs": [],
   "source": [
    "sp_names = ['PHOSPHORUS,TOTAL FILTERED', 'PHOSPHOROUS,SOLUBLE REACTIVE,FILTERED', 'PHOSPHOROUS,TOTAL', 'CHLOROPHYLL A UNCORRECTED INTEGRATED', 'CHLORIDE', ]"
   ]
  },
  {
   "cell_type": "code",
   "execution_count": 80,
   "metadata": {},
   "outputs": [
    {
     "name": "stderr",
     "output_type": "stream",
     "text": [
      "/Users/imarkelo/anaconda3/lib/python3.6/site-packages/ipykernel/__main__.py:2: UserWarning: Boolean Series key will be reindexed to match DataFrame index.\n",
      "  from ipykernel import kernelapp as app\n",
      "/Users/imarkelo/anaconda3/lib/python3.6/site-packages/ipykernel/__main__.py:3: UserWarning: Boolean Series key will be reindexed to match DataFrame index.\n",
      "  app.launch_new_instance()\n"
     ]
    }
   ],
   "source": [
    "for sp_name in sp_names:\n",
    "    res = df[df['PSN'].isin(central_basin)][df['FULL_NAME'] == sp_name].groupby(['year', 'month'])['VALUE'].describe()\n",
    "    units = df[df['PSN'].isin(central_basin)][df['FULL_NAME'] == sp_name].UNITS.unique()[0]\n",
    "    fn='central_basin_'+sp_name+'_'+units\n",
    "    fn = re.sub('[^0-9a-zA-Z]+', '_', fn)\n",
    "    res.to_csv(fn+'.csv')"
   ]
  },
  {
   "cell_type": "code",
   "execution_count": null,
   "metadata": {
    "collapsed": true
   },
   "outputs": [],
   "source": []
  },
  {
   "cell_type": "markdown",
   "metadata": {
    "collapsed": true
   },
   "source": [
    "### Eastern Basin"
   ]
  },
  {
   "cell_type": "code",
   "execution_count": 82,
   "metadata": {
    "collapsed": true
   },
   "outputs": [],
   "source": [
    "eastern_basin = [448, 940, 879, 938, 450, 449, 451, 452, 447, 936,886,446, 445,934,935,444,441,443,442,440,439,438,931]"
   ]
  },
  {
   "cell_type": "code",
   "execution_count": 83,
   "metadata": {},
   "outputs": [
    {
     "name": "stderr",
     "output_type": "stream",
     "text": [
      "/Users/imarkelo/anaconda3/lib/python3.6/site-packages/ipykernel/__main__.py:2: UserWarning: Boolean Series key will be reindexed to match DataFrame index.\n",
      "  from ipykernel import kernelapp as app\n",
      "/Users/imarkelo/anaconda3/lib/python3.6/site-packages/ipykernel/__main__.py:3: UserWarning: Boolean Series key will be reindexed to match DataFrame index.\n",
      "  app.launch_new_instance()\n"
     ]
    }
   ],
   "source": [
    "for sp_name in sp_names:\n",
    "    res = df[df['PSN'].isin(eastern_basin)][df['FULL_NAME'] == sp_name].groupby(['year', 'month'])['VALUE'].describe()\n",
    "    units = df[df['PSN'].isin(eastern_basin)][df['FULL_NAME'] == sp_name].UNITS.unique()[0]\n",
    "    fn='eastern_basin_'+sp_name+'_'+units\n",
    "    fn = re.sub('[^0-9a-zA-Z]+', '_', fn)\n",
    "    res.to_csv(fn+'.csv')"
   ]
  },
  {
   "cell_type": "code",
   "execution_count": null,
   "metadata": {
    "collapsed": true
   },
   "outputs": [],
   "source": []
  },
  {
   "cell_type": "code",
   "execution_count": 89,
   "metadata": {},
   "outputs": [
    {
     "data": {
      "text/plain": [
       "array([ 228,  226,  227,  225,   23,  224,  223,  221,  222,  220,   84,\n",
       "        298,  271,  216,  218,  291,  268,  281,  357,  215,  214,  213,\n",
       "        212,  211,  933,  934,  935,  936,  886,  937,  938,  939,  879,\n",
       "        497,  940,  941,  942,  948,  947,  946,  945,  944,  943,  949,\n",
       "        950,  951,  952,  888,  953,  889,  954,  880,  955,  956,  958,\n",
       "        957,  959,  960,  961,  962,  969,  974,  970,  358,  966,  967,\n",
       "        968,  885,  965,  973,  882,  972,  881,  971,  932,  931,  963,\n",
       "        964,  887, 1090,  303, 1088, 1134, 1135, 1137, 1136,  342,  341,\n",
       "        338,  339,  340,  344,  337,  343,  442,  448,  727,  445,  449,\n",
       "        205,  898,  897,  896,  916,  980,  915,  899,  919,  920,  918,\n",
       "        491,  492,  493,  311, 1163,  496,  495,  494, 1209, 1210, 1211,\n",
       "       1212, 1213, 1218, 1217, 1216, 1215, 1214, 1219, 1220, 1221, 1222,\n",
       "       1223, 1238, 1239, 1240, 1236, 1237, 1053,  452, 1257,   67, 1292,\n",
       "       1207, 1262, 1326,  733, 1156,  486, 1048])"
      ]
     },
     "execution_count": 89,
     "metadata": {},
     "output_type": "execute_result"
    }
   ],
   "source": [
    "df.PSN.unique()"
   ]
  },
  {
   "cell_type": "code",
   "execution_count": null,
   "metadata": {
    "collapsed": true
   },
   "outputs": [],
   "source": []
  },
  {
   "cell_type": "code",
   "execution_count": null,
   "metadata": {
    "collapsed": true
   },
   "outputs": [],
   "source": []
  },
  {
   "cell_type": "code",
   "execution_count": null,
   "metadata": {
    "collapsed": true
   },
   "outputs": [],
   "source": []
  },
  {
   "cell_type": "code",
   "execution_count": 9,
   "metadata": {
    "scrolled": false
   },
   "outputs": [
    {
     "data": {
      "text/plain": [
       "Text(0,0.5,'TOTP, mg-P/L')"
      ]
     },
     "execution_count": 9,
     "metadata": {},
     "output_type": "execute_result"
    },
    {
     "data": {
      "image/png": "[encoded data removed]",
      "text/plain": [
       "<Figure size 1440x864 with 1 Axes>"
      ]
     },
     "metadata": {},
     "output_type": "display_data"
    }
   ],
   "source": [
    "plt.figure(figsize=(20,12))\n",
    "sns.boxplot(x='year', y='VALUE', hue='month',data=pd.DataFrame(df[df['FULL_NAME'] == 'PHOSPHOROUS,TOTAL'].groupby(['PSN','year', 'month']).mean()[['VALUE']]).reset_index())\n",
    "plt.ylim(0, 0.05)\n",
    "plt.ylabel('TOTP, mg-P/L')"
   ]
  },
  {
   "cell_type": "code",
   "execution_count": 10,
   "metadata": {},
   "outputs": [
    {
     "data": {
      "text/plain": [
       "Text(0,0.5,'Cl, mg-Cl/L')"
      ]
     },
     "execution_count": 10,
     "metadata": {},
     "output_type": "execute_result"
    },
    {
     "data": {
      "image/png": "[encoded data removed]",
      "text/plain": [
       "<Figure size 1440x864 with 1 Axes>"
      ]
     },
     "metadata": {},
     "output_type": "display_data"
    }
   ],
   "source": [
    "plt.figure(figsize=(20,12))\n",
    "sns.boxplot(x='year', y='VALUE', hue='month',data=pd.DataFrame(df[df['FULL_NAME'] == 'CHLORIDE'].groupby(['PSN','year', 'month']).mean()[['VALUE']]).reset_index())\n",
    "# plt.ylim(0, 0.05)\n",
    "plt.ylabel('Cl, mg-Cl/L')"
   ]
  },
  {
   "cell_type": "code",
   "execution_count": 11,
   "metadata": {},
   "outputs": [
    {
     "data": {
      "text/plain": [
       "Text(0,0.5,'CHLOROPHYLL A UNCORRECTED INTEGRATED, ug/L')"
      ]
     },
     "execution_count": 11,
     "metadata": {},
     "output_type": "execute_result"
    },
    {
     "data": {
      "image/png": "[encoded data removed]",
      "text/plain": [
       "<Figure size 1440x864 with 1 Axes>"
      ]
     },
     "metadata": {},
     "output_type": "display_data"
    }
   ],
   "source": [
    "plt.figure(figsize=(20,12))\n",
    "sns.boxplot(x='year', y='VALUE', hue='month',data=pd.DataFrame(df[df['FULL_NAME'] == 'CHLOROPHYLL A UNCORRECTED INTEGRATED'].groupby(['PSN','year', 'month']).mean()[['VALUE']]).reset_index())\n",
    "plt.ylim(0, 10)\n",
    "plt.ylabel('CHLOROPHYLL A UNCORRECTED INTEGRATED, ug/L')"
   ]
  },
  {
   "cell_type": "code",
   "execution_count": 12,
   "metadata": {},
   "outputs": [
    {
     "data": {
      "text/plain": [
       "FULL_NAME\n",
       "ALUMINUM                                     145\n",
       "ALUMINUM                                      24\n",
       "AMMONIA FIL. INTEGRATED                       61\n",
       "AMMONIA NITROGEN, SOLUBLE                    419\n",
       "AMMONIA NITROGEN,SOLUBLE                    1208\n",
       "CALCIUM                                      879\n",
       "CALCIUM,FILTERED                             303\n",
       "CALCIUM,FILTERED ATOMIC ABS.                2536\n",
       "CARBON,DISSOLVED ORGANIC                     799\n",
       "CARBON,PARTICULATE ORGANIC                   659\n",
       "CARBON,PARTICULATE ORGANIC,INTEGRATED       1674\n",
       "CHLORIDE                                    2021\n",
       "CHLORIDE,FILTERED                           1712\n",
       "CHLOROPHYL A, UNCORRECTED                    567\n",
       "CHLOROPHYLL A CORRECTED INTEGRATED          1565\n",
       "CHLOROPHYLL A UNCORRECTED INTEGRATED        1664\n",
       "CHLOROPHYLL A, CORRECTED PHAEOPHYTIN         537\n",
       "DISSOLVED INORGANIC CARBON                   533\n",
       "DISSOLVED OXYGEN, PROFILER WQP             15648\n",
       "FLUORIDE                                    1493\n",
       "I-NO3+2F NITRITE + NITRITE FIL. INTEG.        61\n",
       "INTEGRATED PH MEASUREMENT TEMPERATURE         61\n",
       "IRON                                         145\n",
       "IRON                                          24\n",
       "MAGNESIUM                                    879\n",
       "MAGNESIUM,FILTERED                          2535\n",
       "MAGNESIUM,FILTERED                           303\n",
       "NITRATE+NITRITE NITROGEN, FILTERED           418\n",
       "NITRATE+NITRITE NITROGEN,FILTERED           1209\n",
       "NITROGEN,TOTAL PARTICULATE                   659\n",
       "NITROGEN,TOTAL PARTICULATE - INTEGRATED     1674\n",
       "OXYGEN,% SAT. DISSOLVED                     3115\n",
       "OXYGEN,CONCENTRATION DISSOLVED              3112\n",
       "PH                                          3260\n",
       "PH FROM INTEG. SAMPLE                         61\n",
       "PHOSPHOROUS SOL. REACT. F.-INTEGRATED         61\n",
       "PHOSPHOROUS,SOLUBLE REACTIVE,FILTERED       1209\n",
       "PHOSPHOROUS,TOTAL                           2845\n",
       "PHOSPHOROUS,TOTAL INTEGRATED SAMPLE           61\n",
       "PHOSPHORUS, TOTAL, PARTICULATE                61\n",
       "PHOSPHORUS,TOTAL FILTERED                   2849\n",
       "PHOSPHORUS,TOTAL FILTERED-INTEGRATED          61\n",
       "POTASSIUM                                    879\n",
       "POTASSIUM,FILTERED                           303\n",
       "POTASSIUM,FILTERED PHOTOMETRIC               833\n",
       "POTASSIUM-F.,ATOMIC ABSORPTION              1700\n",
       "SODIUM                                       879\n",
       "SODIUM,FILTERED PHOTOMETRIC                  833\n",
       "SODIUM,UNFILTERED                            303\n",
       "SODIUM-F.,ATOMIC ABSORPTION                 1700\n",
       "SOLUBLE REACTIVE PHOSPHOROUS                 801\n",
       "SULPHATE                                    2015\n",
       "SULPHATE,FILTERED.                          1696\n",
       "TOTAL PHOSPHOROUS                            879\n",
       "TOTAL PHOSPHOROUS FILTERED                   877\n",
       "Name: PSN, dtype: int64"
      ]
     },
     "execution_count": 12,
     "metadata": {},
     "output_type": "execute_result"
    }
   ],
   "source": [
    "# df.pivot_table(aggfunc=lambda x: len(x.unique()))\n",
    "df.groupby(['FULL_NAME'])['PSN'].count()"
   ]
  },
  {
   "cell_type": "code",
   "execution_count": 13,
   "metadata": {
    "collapsed": true
   },
   "outputs": [],
   "source": [
    "data = df[(df.PSN==970) & (df.CODE==245)]"
   ]
  },
  {
   "cell_type": "code",
   "execution_count": 14,
   "metadata": {
    "scrolled": false
   },
   "outputs": [
    {
     "data": {
      "text/plain": [
       "<matplotlib.legend.Legend at 0x1a0cb0e668>"
      ]
     },
     "execution_count": 14,
     "metadata": {},
     "output_type": "execute_result"
    },
    {
     "data": {
      "image/png": "[encoded data removed]",
      "text/plain": [
       "<Figure size 1296x864 with 1 Axes>"
      ]
     },
     "metadata": {},
     "output_type": "display_data"
    }
   ],
   "source": [
    "for d in data.STN_DATE.unique()[:6]:\n",
    "    one_date = data[data.STN_DATE ==d]\n",
    "#     one_date.sort_values('STN_DATE', inplace=True)\n",
    "    plt.scatter(one_date['VALUE'], -one_date['DEPTH_FROM'], label=str(d)[:10])\n",
    "    plt.xlabel('O2, [mg/L]')\n",
    "    plt.ylabel('depth, m')\n",
    "    plt.xlim(0,15)\n",
    "plt.legend()"
   ]
  },
  {
   "cell_type": "code",
   "execution_count": 15,
   "metadata": {
    "scrolled": false
   },
   "outputs": [
    {
     "ename": "AttributeError",
     "evalue": "'DataFrame' object has no attribute 'sort'",
     "output_type": "error",
     "traceback": [
      "\u001b[0;31m---------------------------------------------------------------------------\u001b[0m",
      "\u001b[0;31mAttributeError\u001b[0m                            Traceback (most recent call last)",
      "\u001b[0;32m<ipython-input-15-4ebfa42efe74>\u001b[0m in \u001b[0;36m<module>\u001b[0;34m()\u001b[0m\n\u001b[1;32m      1\u001b[0m \u001b[0;32mfor\u001b[0m \u001b[0mc\u001b[0m\u001b[0;34m,\u001b[0m\u001b[0md\u001b[0m \u001b[0;32min\u001b[0m \u001b[0mzip\u001b[0m\u001b[0;34m(\u001b[0m \u001b[0msns\u001b[0m\u001b[0;34m.\u001b[0m\u001b[0mcolor_palette\u001b[0m\u001b[0;34m(\u001b[0m\u001b[0;34m)\u001b[0m\u001b[0;34m,\u001b[0m \u001b[0mdata\u001b[0m\u001b[0;34m.\u001b[0m\u001b[0mDEPTH_FROM\u001b[0m\u001b[0;34m.\u001b[0m\u001b[0munique\u001b[0m\u001b[0;34m(\u001b[0m\u001b[0;34m)\u001b[0m\u001b[0;34m)\u001b[0m\u001b[0;34m:\u001b[0m\u001b[0;34m\u001b[0m\u001b[0m\n\u001b[1;32m      2\u001b[0m     \u001b[0mone_date\u001b[0m \u001b[0;34m=\u001b[0m \u001b[0mdata\u001b[0m\u001b[0;34m[\u001b[0m\u001b[0mdata\u001b[0m\u001b[0;34m.\u001b[0m\u001b[0mDEPTH_FROM\u001b[0m \u001b[0;34m==\u001b[0m\u001b[0md\u001b[0m\u001b[0;34m]\u001b[0m\u001b[0;34m\u001b[0m\u001b[0m\n\u001b[0;32m----> 3\u001b[0;31m     \u001b[0mone_date\u001b[0m\u001b[0;34m.\u001b[0m\u001b[0msort\u001b[0m\u001b[0;34m(\u001b[0m\u001b[0mcolumns\u001b[0m\u001b[0;34m=\u001b[0m\u001b[0;34m'STN_DATE'\u001b[0m\u001b[0;34m,\u001b[0m \u001b[0minplace\u001b[0m\u001b[0;34m=\u001b[0m\u001b[0;32mTrue\u001b[0m\u001b[0;34m)\u001b[0m\u001b[0;34m\u001b[0m\u001b[0m\n\u001b[0m\u001b[1;32m      4\u001b[0m \u001b[0;31m#     try:\u001b[0m\u001b[0;34m\u001b[0m\u001b[0;34m\u001b[0m\u001b[0m\n\u001b[1;32m      5\u001b[0m     \u001b[0mplt\u001b[0m\u001b[0;34m.\u001b[0m\u001b[0mplot_date\u001b[0m\u001b[0;34m(\u001b[0m\u001b[0mone_date\u001b[0m\u001b[0;34m[\u001b[0m\u001b[0;34m'STN_DATE'\u001b[0m\u001b[0;34m]\u001b[0m\u001b[0;34m,\u001b[0m \u001b[0mone_date\u001b[0m\u001b[0;34m[\u001b[0m\u001b[0;34m'VALUE'\u001b[0m\u001b[0;34m]\u001b[0m\u001b[0;34m,\u001b[0m \u001b[0mcolor\u001b[0m\u001b[0;34m=\u001b[0m\u001b[0mc\u001b[0m\u001b[0;34m,\u001b[0m \u001b[0mlabel\u001b[0m\u001b[0;34m=\u001b[0m\u001b[0;34m'_nolegend_'\u001b[0m\u001b[0;34m)\u001b[0m\u001b[0;34m\u001b[0m\u001b[0m\n",
      "\u001b[0;32m~/anaconda3/lib/python3.6/site-packages/pandas/core/generic.py\u001b[0m in \u001b[0;36m__getattr__\u001b[0;34m(self, name)\u001b[0m\n\u001b[1;32m   3079\u001b[0m             \u001b[0;32mif\u001b[0m \u001b[0mname\u001b[0m \u001b[0;32min\u001b[0m \u001b[0mself\u001b[0m\u001b[0;34m.\u001b[0m\u001b[0m_info_axis\u001b[0m\u001b[0;34m:\u001b[0m\u001b[0;34m\u001b[0m\u001b[0m\n\u001b[1;32m   3080\u001b[0m                 \u001b[0;32mreturn\u001b[0m \u001b[0mself\u001b[0m\u001b[0;34m[\u001b[0m\u001b[0mname\u001b[0m\u001b[0;34m]\u001b[0m\u001b[0;34m\u001b[0m\u001b[0m\n\u001b[0;32m-> 3081\u001b[0;31m             \u001b[0;32mreturn\u001b[0m \u001b[0mobject\u001b[0m\u001b[0;34m.\u001b[0m\u001b[0m__getattribute__\u001b[0m\u001b[0;34m(\u001b[0m\u001b[0mself\u001b[0m\u001b[0;34m,\u001b[0m \u001b[0mname\u001b[0m\u001b[0;34m)\u001b[0m\u001b[0;34m\u001b[0m\u001b[0m\n\u001b[0m\u001b[1;32m   3082\u001b[0m \u001b[0;34m\u001b[0m\u001b[0m\n\u001b[1;32m   3083\u001b[0m     \u001b[0;32mdef\u001b[0m \u001b[0m__setattr__\u001b[0m\u001b[0;34m(\u001b[0m\u001b[0mself\u001b[0m\u001b[0;34m,\u001b[0m \u001b[0mname\u001b[0m\u001b[0;34m,\u001b[0m \u001b[0mvalue\u001b[0m\u001b[0;34m)\u001b[0m\u001b[0;34m:\u001b[0m\u001b[0;34m\u001b[0m\u001b[0m\n",
      "\u001b[0;31mAttributeError\u001b[0m: 'DataFrame' object has no attribute 'sort'"
     ]
    }
   ],
   "source": [
    "for c,d in zip( sns.color_palette(), data.DEPTH_FROM.unique()):\n",
    "    one_date = data[data.DEPTH_FROM ==d]\n",
    "    one_date.sort(columns='STN_DATE', inplace=True)\n",
    "#     try:\n",
    "    plt.plot_date(one_date['STN_DATE'], one_date['VALUE'], color=c, label='_nolegend_')\n",
    "    plt.plot(one_date['STN_DATE'], one_date['VALUE'], color=c, label=str(d))\n",
    "#     except:\n",
    "#         pass\n",
    "    plt.ylabel('O2, [mg/L]')\n",
    "#     plt.ylabel('depth, m')\n",
    "#     plt.xlim(0,15)\n",
    "plt.legend()"
   ]
  },
  {
   "cell_type": "code",
   "execution_count": null,
   "metadata": {
    "collapsed": true
   },
   "outputs": [],
   "source": [
    "data_tp = df[(df.PSN==970) & (df.CODE==260)]"
   ]
  },
  {
   "cell_type": "code",
   "execution_count": null,
   "metadata": {
    "collapsed": true
   },
   "outputs": [],
   "source": [
    "for c,d in zip( sns.color_palette(), data.DEPTH_FROM.unique()):\n",
    "    one_date = data_tp[data_tp.DEPTH_FROM ==d]\n",
    "    one_date.sort(columns='STN_DATE', inplace=True)\n",
    "#     try:\n",
    "    plt.plot_date(one_date['STN_DATE'], one_date['VALUE'], color=c, label='_nolegend_')\n",
    "    plt.plot(one_date['STN_DATE'], one_date['VALUE'], color=c, label=str(d))\n",
    "#     except:\n",
    "#         pass\n",
    "    plt.ylabel('TP, [mg-P/L]')\n",
    "#     plt.ylabel('depth, m')\n",
    "#     plt.xlim(0,15)\n",
    "plt.legend()"
   ]
  },
  {
   "cell_type": "code",
   "execution_count": null,
   "metadata": {
    "collapsed": true
   },
   "outputs": [],
   "source": []
  }
 ],
 "metadata": {
  "anaconda-cloud": {},
  "kernelspec": {
   "display_name": "Python 3",
   "language": "python",
   "name": "python3"
  },
  "language_info": {
   "codemirror_mode": {
    "name": "ipython",
    "version": 3
   },
   "file_extension": ".py",
   "mimetype": "text/x-python",
   "name": "python",
   "nbconvert_exporter": "python",
   "pygments_lexer": "ipython3",
   "version": "3.6.3"
  }
 },
 "nbformat": 4,
 "nbformat_minor": 1
}
