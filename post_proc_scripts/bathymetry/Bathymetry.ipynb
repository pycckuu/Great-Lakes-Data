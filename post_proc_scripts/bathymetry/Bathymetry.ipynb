{
 "cells": [
  {
   "cell_type": "code",
   "execution_count": 2,
   "metadata": {},
   "outputs": [],
   "source": [
    "from netCDF4 import Dataset\n",
    "import numpy as np"
   ]
  },
  {
   "cell_type": "code",
   "execution_count": 3,
   "metadata": {},
   "outputs": [],
   "source": [
    "import matplotlib.pyplot as plt\n",
    "from mpl_toolkits.basemap import Basemap\n",
    "\n",
    "%matplotlib inline"
   ]
  },
  {
   "cell_type": "code",
   "execution_count": 9,
   "metadata": {},
   "outputs": [],
   "source": [
    "nc = Dataset('../../measurements/bathymetry/erie_lld.grd')"
   ]
  },
  {
   "cell_type": "code",
   "execution_count": null,
   "metadata": {},
   "outputs": [],
   "source": [
    "# topo = -nc.variables['z'][:] #[::10,::10]\n",
    "# x = nc.variables['x'][:] #[::10]\n",
    "# y = nc.variables['y'][:] #[::10]\n",
    "# lon_0 = x.mean()\n",
    "# lat_0 = y.mean()\n",
    "# lon, lat = np.meshgrid(x, y)\n",
    "m = Basemap(width=5000000*2*0.8,height=300000*0.8, resolution='h',projection='stere',lat_0=lat_0+0.2,lon_0=lat_0-0.2)\n",
    "# x, y = m(lon, lat)"
   ]
  },
  {
   "cell_type": "code",
   "execution_count": 14,
   "metadata": {},
   "outputs": [],
   "source": [
    "import cmocean"
   ]
  },
  {
   "cell_type": "code",
   "execution_count": 15,
   "metadata": {},
   "outputs": [
    {
     "data": {
      "image/png": "[encoded data removed]",
      "text/plain": [
       "<Figure size 240x120 with 2 Axes>"
      ]
     },
     "metadata": {
      "needs_background": "light"
     },
     "output_type": "display_data"
    }
   ],
   "source": [
    "# \n",
    "\n",
    "\n",
    "levels1 = np.linspace(0,70,14*2+1)\n",
    "levels2 = np.linspace(0,70,14+1)\n",
    "# levels2 = np.linspace(-10,0,14*2+1)\n",
    "plt.figure(figsize=(12,6), dpi=20)\n",
    "\n",
    "# m.shadedrelief()\n",
    "# m.drawstates()\n",
    "# m.drawrivers()\n",
    "m.drawcoastlines()\n",
    "m.drawparallels(np.arange(41., 44, 1.),labels=[1,0,0,0], fontsize=10)\n",
    "m.drawmeridians(np.arange(-84., -78., 1.),labels=[0,0,1,0], fontsize=10)\n",
    "# cs = m.pcolor(x,y,np.squeeze(topo), cmap=cmocean.cm.deep)\n",
    "# ax.set_ylim(*[41,43])\n",
    "cax = m.contourf(x,y,topo, levels=levels1,cmap=cmocean.cm.deep)\n",
    "plt.contour(x,y,topo, levels=levels1, colors='k')  # negative contours will be dashed by default\n",
    "                 \n",
    "# c = m.contourf(x,y,topo, levels=levels2,cmap=cmocean.cm.solar)\n",
    "cbar = m.colorbar(cax,location='bottom')\n",
    "\n",
    "# cbar = m.colorbar(cs, location='bottom')\n",
    "cbar.set_label('Depth, m')\n",
    "plt.show()\n",
    "# plt.savefig('Bathymetry.png')\n"
   ]
  },
  {
   "cell_type": "code",
   "execution_count": 7,
   "metadata": {},
   "outputs": [
    {
     "data": {
      "text/plain": [
       "42.0"
      ]
     },
     "execution_count": 7,
     "metadata": {},
     "output_type": "execute_result"
    }
   ],
   "source": [
    "lat_0"
   ]
  },
  {
   "cell_type": "code",
   "execution_count": 8,
   "metadata": {},
   "outputs": [
    {
     "data": {
      "text/plain": [
       "-81.0"
      ]
     },
     "execution_count": 8,
     "metadata": {},
     "output_type": "execute_result"
    }
   ],
   "source": [
    "lon_0"
   ]
  },
  {
   "cell_type": "code",
   "execution_count": 12,
   "metadata": {
    "collapsed": true
   },
   "outputs": [],
   "source": [
    "import matplotlib.pyplot as plt\n",
    "\n",
    "%matplotlib inline"
   ]
  },
  {
   "cell_type": "code",
   "execution_count": 13,
   "metadata": {
    "collapsed": true
   },
   "outputs": [],
   "source": [
    "import gdal"
   ]
  },
  {
   "cell_type": "code",
   "execution_count": 14,
   "metadata": {},
   "outputs": [
    {
     "ename": "AttributeError",
     "evalue": "'NoneType' object has no attribute 'GetRasterBand'",
     "output_type": "error",
     "traceback": [
      "\u001b[0;31m---------------------------------------------------------------------------\u001b[0m",
      "\u001b[0;31mAttributeError\u001b[0m                            Traceback (most recent call last)",
      "\u001b[0;32m<ipython-input-14-95a0c0a14654>\u001b[0m in \u001b[0;36m<module>\u001b[0;34m()\u001b[0m\n\u001b[1;32m      2\u001b[0m \u001b[0;34m\u001b[0m\u001b[0m\n\u001b[1;32m      3\u001b[0m \u001b[0mraster\u001b[0m \u001b[0;34m=\u001b[0m \u001b[0mgdal\u001b[0m\u001b[0;34m.\u001b[0m\u001b[0mOpen\u001b[0m\u001b[0;34m(\u001b[0m\u001b[0;34m'ice/grid2011/g20110202.ct'\u001b[0m\u001b[0;34m)\u001b[0m\u001b[0;34m\u001b[0m\u001b[0m\n\u001b[0;32m----> 4\u001b[0;31m \u001b[0mband\u001b[0m \u001b[0;34m=\u001b[0m \u001b[0mraster\u001b[0m\u001b[0;34m.\u001b[0m\u001b[0mGetRasterBand\u001b[0m\u001b[0;34m(\u001b[0m\u001b[0;36m1\u001b[0m\u001b[0;34m)\u001b[0m\u001b[0;34m\u001b[0m\u001b[0m\n\u001b[0m\u001b[1;32m      5\u001b[0m \u001b[0marray\u001b[0m \u001b[0;34m=\u001b[0m \u001b[0mband\u001b[0m\u001b[0;34m.\u001b[0m\u001b[0mReadAsArray\u001b[0m\u001b[0;34m(\u001b[0m\u001b[0;34m)\u001b[0m\u001b[0;34m\u001b[0m\u001b[0m\n\u001b[1;32m      6\u001b[0m \u001b[0mplt\u001b[0m\u001b[0;34m.\u001b[0m\u001b[0mimshow\u001b[0m\u001b[0;34m(\u001b[0m\u001b[0marray\u001b[0m\u001b[0;34m)\u001b[0m\u001b[0;34m\u001b[0m\u001b[0m\n",
      "\u001b[0;31mAttributeError\u001b[0m: 'NoneType' object has no attribute 'GetRasterBand'"
     ]
    }
   ],
   "source": [
    "\n",
    "\n",
    "# raster = gdal.Open('ice/grid2011/g20110202.ct')\n",
    "# band = raster.GetRasterBand(1)\n",
    "# array = band.ReadAsArray()\n",
    "# plt.imshow(array)"
   ]
  },
  {
   "cell_type": "code",
   "execution_count": null,
   "metadata": {
    "collapsed": true
   },
   "outputs": [],
   "source": []
  },
  {
   "cell_type": "code",
   "execution_count": 6,
   "metadata": {
    "scrolled": true
   },
   "outputs": [
    {
     "name": "stderr",
     "output_type": "stream",
     "text": [
      "/Users/imarkelo/anaconda3/lib/python3.6/site-packages/ipykernel_launcher.py:7: DeprecationWarning: object of type <class 'float'> cannot be safely interpreted as an integer.\n",
      "  import sys\n"
     ]
    },
    {
     "data": {
      "text/plain": [
       "{0.0: 54046852.0,\n",
       " 0.5: 54038312.0,\n",
       " 1.0: 54029692.0,\n",
       " 1.5: 54016760.0,\n",
       " 2.0: 54001968.0,\n",
       " 2.5: 53979336.0,\n",
       " 3.0: 53952776.0,\n",
       " 3.5: 53915124.0,\n",
       " 4.0: 53873812.0,\n",
       " 4.5: 53815436.0,\n",
       " 5.0: 53749456.0,\n",
       " 5.5: 53670244.0,\n",
       " 6.0: 53588456.0,\n",
       " 6.5: 53488316.0,\n",
       " 7.0: 53372964.0,\n",
       " 7.5: 53217464.0,\n",
       " 8.0: 53030104.0,\n",
       " 8.5: 52806396.0,\n",
       " 9.0: 52616732.0,\n",
       " 9.5: 52409288.0,\n",
       " 10.0: 52214444.0,\n",
       " 10.5: 52006172.0,\n",
       " 11.0: 51801484.0,\n",
       " 11.5: 51551316.0,\n",
       " 12.0: 51292504.0,\n",
       " 12.5: 50985256.0,\n",
       " 13.0: 50701060.0,\n",
       " 13.5: 50216284.0,\n",
       " 14.0: 49799576.0,\n",
       " 14.5: 49267284.0,\n",
       " 15.0: 48852624.0,\n",
       " 15.5: 48276568.0,\n",
       " 16.0: 47724716.0,\n",
       " 16.5: 46904020.0,\n",
       " 17.0: 46154136.0,\n",
       " 17.5: 45074808.0,\n",
       " 18.0: 44249712.0,\n",
       " 18.5: 43136368.0,\n",
       " 19.0: 42363168.0,\n",
       " 19.5: 41450152.0,\n",
       " 20.0: 40638768.0,\n",
       " 20.5: 39807192.0,\n",
       " 21.0: 39040428.0,\n",
       " 21.5: 38237076.0,\n",
       " 22.0: 37647024.0,\n",
       " 22.5: 36817040.0,\n",
       " 23.0: 36039336.0,\n",
       " 23.5: 35462412.0,\n",
       " 24.0: 35046584.0,\n",
       " 24.5: 34561960.0,\n",
       " 25.0: 34107236.0,\n",
       " 25.5: 33346426.0,\n",
       " 26.0: 32829700.0,\n",
       " 26.5: 32293342.0,\n",
       " 27.0: 31712474.0,\n",
       " 27.5: 31153398.0,\n",
       " 28.0: 30612604.0,\n",
       " 28.5: 30066746.0,\n",
       " 29.0: 29493836.0,\n",
       " 29.5: 28942252.0,\n",
       " 30.0: 28483736.0,\n",
       " 30.5: 28017106.0,\n",
       " 31.0: 27516040.0,\n",
       " 31.5: 27012510.0,\n",
       " 32.0: 26459310.0,\n",
       " 32.5: 25910928.0,\n",
       " 33.0: 25360904.0,\n",
       " 33.5: 24827458.0,\n",
       " 34.0: 24242430.0,\n",
       " 34.5: 23668522.0,\n",
       " 35.0: 23059574.0,\n",
       " 35.5: 22481132.0,\n",
       " 36.0: 21909684.0,\n",
       " 36.5: 21336448.0,\n",
       " 37.0: 20681780.0,\n",
       " 37.5: 20046628.0,\n",
       " 38.0: 19489854.0,\n",
       " 38.5: 18880138.0,\n",
       " 39.0: 18341702.0,\n",
       " 39.5: 17822342.0,\n",
       " 40.0: 17236520.0,\n",
       " 40.5: 16574223.0,\n",
       " 41.0: 15970028.0,\n",
       " 41.5: 15336654.0,\n",
       " 42.0: 14725807.0,\n",
       " 42.5: 14137670.0,\n",
       " 43.0: 13509089.0,\n",
       " 43.5: 12839583.0,\n",
       " 44.0: 12033726.0,\n",
       " 44.5: 11442426.0,\n",
       " 45.0: 10934712.0,\n",
       " 45.5: 10423629.0,\n",
       " 46.0: 9897682.0,\n",
       " 46.5: 9371621.0,\n",
       " 47.0: 8909849.0,\n",
       " 47.5: 8403770.0,\n",
       " 48.0: 8081359.0,\n",
       " 48.5: 7774086.0,\n",
       " 49.0: 7463119.0,\n",
       " 49.5: 7142005.5,\n",
       " 50.0: 6860781.0,\n",
       " 50.5: 6625062.5,\n",
       " 51.0: 6379319.0,\n",
       " 51.5: 6133903.5,\n",
       " 52.0: 5926105.0,\n",
       " 52.5: 5718333.5,\n",
       " 53.0: 5496355.0,\n",
       " 53.5: 5267341.5,\n",
       " 54.0: 5002792.0,\n",
       " 54.5: 4681467.0,\n",
       " 55.0: 4312969.0,\n",
       " 55.5: 3941176.0,\n",
       " 56.0: 3594731.5,\n",
       " 56.5: 3303968.0,\n",
       " 57.0: 2980382.75,\n",
       " 57.5: 2602080.5,\n",
       " 58.0: 2295528.0,\n",
       " 58.5: 1971471.0,\n",
       " 59.0: 1726221.25,\n",
       " 59.5: 1478688.875,\n",
       " 60.0: 1231074.625,\n",
       " 60.5: 974715.6875,\n",
       " 61.0: 729623.1875,\n",
       " 61.5: 486763.0625,\n",
       " 62.0: 250777.71875,\n",
       " 62.5: 375.46136474609375,\n",
       " 63.0: -0.0,\n",
       " 63.5: -0.0,\n",
       " 64.0: -0.0,\n",
       " 64.5: -0.0}"
      ]
     },
     "execution_count": 6,
     "metadata": {},
     "output_type": "execute_result"
    }
   ],
   "source": [
    "c={}\n",
    "import numpy as np\n",
    "from osgeo import gdal\n",
    "ds = gdal.Open(\"../../measurements/bathymetry/eastern.tif\")\n",
    "x = np.array(ds.GetRasterBand(1).ReadAsArray())\n",
    "pos = x[x>0]\n",
    "for d in np.linspace(0,64.5,65/0.5):\n",
    "    neg = x[x<-d]\n",
    "    c[d] = -neg.sum(axis=0)/0.5\n",
    "c"
   ]
  },
  {
   "cell_type": "code",
   "execution_count": 17,
   "metadata": {},
   "outputs": [
    {
     "ename": "NameError",
     "evalue": "name 'depths' is not defined",
     "output_type": "error",
     "traceback": [
      "\u001b[0;31m---------------------------------------------------------------------------\u001b[0m",
      "\u001b[0;31mNameError\u001b[0m                                 Traceback (most recent call last)",
      "\u001b[0;32m<ipython-input-17-8b5b40a44bd5>\u001b[0m in \u001b[0;36m<module>\u001b[0;34m()\u001b[0m\n\u001b[0;32m----> 1\u001b[0;31m \u001b[0mdepths\u001b[0m\u001b[0;34m[\u001b[0m\u001b[0;34m:\u001b[0m\u001b[0;34m:\u001b[0m\u001b[0;34m-\u001b[0m\u001b[0;36m1\u001b[0m\u001b[0;34m]\u001b[0m\u001b[0;34m\u001b[0m\u001b[0m\n\u001b[0m",
      "\u001b[0;31mNameError\u001b[0m: name 'depths' is not defined"
     ]
    }
   ],
   "source": [
    "depths[::-1]"
   ]
  },
  {
   "cell_type": "code",
   "execution_count": 31,
   "metadata": {},
   "outputs": [
    {
     "name": "stderr",
     "output_type": "stream",
     "text": [
      "/Users/imarkelo/anaconda3/lib/python3.6/site-packages/ipykernel_launcher.py:9: DeprecationWarning: object of type <class 'float'> cannot be safely interpreted as an integer.\n",
      "  if __name__ == '__main__':\n"
     ]
    }
   ],
   "source": [
    "e_vol=np.array([])\n",
    "import numpy as np\n",
    "import gdal\n",
    "ds = gdal.Open(\"../../measurements/bathymetry/western.tif\")\n",
    "x = np.array(ds.GetRasterBand(1).ReadAsArray())\n",
    "pos = x[x>0]\n",
    "neg = x[x<0]\n",
    "e = neg.sum(axis=0)\n",
    "depths = np.linspace(0,63,63.5/0.5)\n",
    "prev_volume_below_d = 0\n",
    "for d in depths:\n",
    "    neg = x[x<=-d]+d\n",
    "    e_vol = np.append(e_vol,  -neg.sum()*(111.32*0.865*0.0008333333*1000)**2 )\n",
    "# e_vol = np.array(e_vol)[1:]-np.array(e_vol)[:-1]\n",
    "# e_vol"
   ]
  },
  {
   "cell_type": "markdown",
   "metadata": {},
   "source": [
    "# This how you estimate area"
   ]
  },
  {
   "cell_type": "code",
   "execution_count": 32,
   "metadata": {},
   "outputs": [
    {
     "data": {
      "text/plain": [
       "2.842919073191399"
      ]
     },
     "execution_count": 32,
     "metadata": {},
     "output_type": "execute_result"
    }
   ],
   "source": [
    "(e_vol[0] - e_vol[1])/0.5*1e-9"
   ]
  },
  {
   "cell_type": "code",
   "execution_count": 9,
   "metadata": {},
   "outputs": [
    {
     "data": {
      "text/plain": [
       "10846.492564799159"
      ]
     },
     "execution_count": 9,
     "metadata": {},
     "output_type": "execute_result"
    }
   ],
   "source": [
    "e_vol.sum()*1e-9"
   ]
  },
  {
   "cell_type": "code",
   "execution_count": 10,
   "metadata": {},
   "outputs": [
    {
     "data": {
      "text/plain": [
       "[<matplotlib.lines.Line2D at 0x11ff9e080>]"
      ]
     },
     "execution_count": 10,
     "metadata": {},
     "output_type": "execute_result"
    },
    {
     "data": {
      "image/png": "[encoded data removed]",
      "text/plain": [
       "<Figure size 432x288 with 1 Axes>"
      ]
     },
     "metadata": {
      "needs_background": "light"
     },
     "output_type": "display_data"
    }
   ],
   "source": [
    "plt.semilogy(depths, e_vol) "
   ]
  },
  {
   "cell_type": "code",
   "execution_count": 11,
   "metadata": {},
   "outputs": [
    {
     "data": {
      "text/plain": [
       "[<matplotlib.lines.Line2D at 0x1222a4cc0>]"
      ]
     },
     "execution_count": 11,
     "metadata": {},
     "output_type": "execute_result"
    },
    {
     "data": {
      "image/png": "[encoded data removed]",
      "text/plain": [
       "<Figure size 432x288 with 1 Axes>"
      ]
     },
     "metadata": {
      "needs_background": "light"
     },
     "output_type": "display_data"
    }
   ],
   "source": [
    "plt.plot(depths[:-1], -np.diff(e_vol)/0.5)"
   ]
  },
  {
   "cell_type": "markdown",
   "metadata": {},
   "source": [
    "### This is the volume of layers of lake Erie (eastern basin) with 0.5 step in depth np.linspace(0,63,63.5/0.5)"
   ]
  },
  {
   "cell_type": "code",
   "execution_count": 4,
   "metadata": {},
   "outputs": [],
   "source": [
    "e_vol=np.array([])\n",
    "import numpy as np\n",
    "import gdal\n",
    "ds = gdal.Open(\"../../measurements/bathymetry/eastern.tif\")\n",
    "x = np.array(ds.GetRasterBand(1).ReadAsArray())\n",
    "pos = x[x>0]\n",
    "neg = x[x<0]\n",
    "e = neg.sum(axis=0)\n",
    "depths = np.linspace(0,63.0,127)\n",
    "prev_volume_below_d = 0\n",
    "for d in depths:\n",
    "    neg = x[x<=-d]+d\n",
    "    e_vol = np.append(e_vol,  -neg.sum()*(111.32*0.85*0.0008333333*1000)**2 )\n",
    "# e_vol = np.array(e_vol)[1:]-np.array(e_vol)[:-1]\n",
    "# e_vol"
   ]
  },
  {
   "cell_type": "code",
   "execution_count": 5,
   "metadata": {},
   "outputs": [
    {
     "data": {
      "text/plain": [
       "array([ 1.68020444e+11,  1.64565071e+11,  1.61146481e+11,  1.57742030e+11,\n",
       "        1.54353434e+11,  1.50977434e+11,  1.47618024e+11,  1.44273149e+11,\n",
       "        1.40947276e+11,  1.37638390e+11,  1.34352943e+11,  1.31087393e+11,\n",
       "        1.27846887e+11,  1.24627285e+11,  1.21435538e+11,  1.18268685e+11,\n",
       "        1.15141974e+11,  1.12050317e+11,  1.09001226e+11,  1.05982962e+11,\n",
       "        1.03000597e+11,  1.00046965e+11,  9.71264907e+10,  9.42341697e+10,\n",
       "        9.13795708e+10,  8.85574588e+10,  8.57756678e+10,  8.30294228e+10,\n",
       "        8.03454841e+10,  7.77060448e+10,  7.51244973e+10,  7.25868460e+10,\n",
       "        7.01123032e+10,  6.76925746e+10,  6.53586985e+10,  6.30903929e+10,\n",
       "        6.09247833e+10,  5.88258945e+10,  5.68231296e+10,  5.48777530e+10,\n",
       "        5.30133853e+10,  5.12034277e+10,  4.94625133e+10,  4.77733665e+10,\n",
       "        4.61397427e+10,  4.45470368e+10,  4.30227306e+10,  4.15381610e+10,\n",
       "        4.00891187e+10,  3.86663176e+10,  3.72757828e+10,  3.59147783e+10,\n",
       "        3.46008379e+10,  3.33165584e+10,  3.20667803e+10,  3.08487461e+10,\n",
       "        2.96628351e+10,  2.85057830e+10,  2.73801297e+10,  2.62845943e+10,\n",
       "        2.52159267e+10,  2.41708315e+10,  2.31506331e+10,  2.21553827e+10,\n",
       "        2.11862804e+10,  2.02438547e+10,  1.93277993e+10,  1.84371427e+10,\n",
       "        1.75725175e+10,  1.67341198e+10,  1.59225975e+10,  1.51374175e+10,\n",
       "        1.43774950e+10,  1.36419516e+10,  1.29326519e+10,  1.22505136e+10,\n",
       "        1.15933188e+10,  1.09588259e+10,  1.03488086e+10,  9.75950199e+09,\n",
       "        9.19195385e+09,  8.64749627e+09,  8.12826731e+09,  7.63199446e+09,\n",
       "        7.15995853e+09,  6.70964839e+09,  6.28218282e+09,  5.87650096e+09,\n",
       "        5.49934965e+09,  5.14590676e+09,  4.81207336e+09,  4.49538612e+09,\n",
       "        4.19703764e+09,  3.91555514e+09,  3.65155299e+09,  3.40248004e+09,\n",
       "        3.16822962e+09,  2.94382396e+09,  2.72954792e+09,  2.52478556e+09,\n",
       "        2.33029251e+09,  2.14349450e+09,  1.96420616e+09,  1.79233968e+09,\n",
       "        1.62749257e+09,  1.46868243e+09,  1.31628457e+09,  1.17039370e+09,\n",
       "        1.03180888e+09,  9.00766094e+08,  7.80646339e+08,  6.70168017e+08,\n",
       "        5.70610882e+08,  4.79395075e+08,  3.96826860e+08,  3.23114477e+08,\n",
       "        2.59659118e+08,  2.03389526e+08,  1.55903584e+08,  1.14297376e+08,\n",
       "        7.98170553e+07,  5.09707890e+07,  2.94004510e+07,  1.35451209e+07,\n",
       "        4.39498090e+06,  1.43433466e+03, -0.00000000e+00])"
      ]
     },
     "execution_count": 5,
     "metadata": {},
     "output_type": "execute_result"
    }
   ],
   "source": [
    "e_vol"
   ]
  },
  {
   "cell_type": "code",
   "execution_count": 110,
   "metadata": {},
   "outputs": [
    {
     "data": {
      "text/plain": [
       "0.10958974247024221"
      ]
     },
     "execution_count": 110,
     "metadata": {},
     "output_type": "execute_result"
    }
   ],
   "source": [
    "(20/5787+290/6357+170/6237)/60/60/24/365*1e+9"
   ]
  },
  {
   "cell_type": "code",
   "execution_count": 93,
   "metadata": {},
   "outputs": [
    {
     "data": {
      "text/plain": [
       "2745.1756228150402"
      ]
     },
     "execution_count": 93,
     "metadata": {},
     "output_type": "execute_result"
    }
   ],
   "source": [
    "(e_vol[0]-e_vol[1])/0.5*1e-6"
   ]
  },
  {
   "cell_type": "code",
   "execution_count": 100,
   "metadata": {},
   "outputs": [
    {
     "data": {
      "text/plain": [
       "15846.994535519125"
      ]
     },
     "execution_count": 100,
     "metadata": {},
     "output_type": "execute_result"
    }
   ],
   "source": [
    "290/0.0183"
   ]
  },
  {
   "cell_type": "code",
   "execution_count": 99,
   "metadata": {},
   "outputs": [
    {
     "data": {
      "text/plain": [
       "2702.7027027027025"
      ]
     },
     "execution_count": 99,
     "metadata": {},
     "output_type": "execute_result"
    }
   ],
   "source": [
    "20/0.0074"
   ]
  },
  {
   "cell_type": "code",
   "execution_count": 98,
   "metadata": {},
   "outputs": [
    {
     "data": {
      "text/plain": [
       "7083.333333333333"
      ]
     },
     "execution_count": 98,
     "metadata": {},
     "output_type": "execute_result"
    }
   ],
   "source": [
    "170/0.024"
   ]
  },
  {
   "cell_type": "code",
   "execution_count": 107,
   "metadata": {},
   "outputs": [
    {
     "data": {
      "text/plain": [
       "18380"
      ]
     },
     "execution_count": 107,
     "metadata": {},
     "output_type": "execute_result"
    }
   ],
   "source": [
    "5780 + 6360 + 6240"
   ]
  },
  {
   "cell_type": "code",
   "execution_count": 124,
   "metadata": {},
   "outputs": [
    {
     "data": {
      "text/plain": [
       "1.1937172774869111"
      ]
     },
     "execution_count": 124,
     "metadata": {},
     "output_type": "execute_result"
    }
   ],
   "source": [
    "tau = 2.4\n",
    "z_av = 19\n",
    "sigma = 8/z_av\n",
    "tau/(1 + tau*sigma)"
   ]
  },
  {
   "cell_type": "code",
   "execution_count": null,
   "metadata": {
    "collapsed": true
   },
   "outputs": [],
   "source": [
    "tau = 2.4\n",
    "z_av = 19\n",
    "sigma = 8/z_av\n",
    "TP = "
   ]
  },
  {
   "cell_type": "code",
   "execution_count": 116,
   "metadata": {},
   "outputs": [
    {
     "data": {
      "text/plain": [
       "0.0902439024390244"
      ]
     },
     "execution_count": 116,
     "metadata": {},
     "output_type": "execute_result"
    }
   ],
   "source": []
  },
  {
   "cell_type": "code",
   "execution_count": 51,
   "metadata": {},
   "outputs": [
    {
     "data": {
      "text/plain": [
       "[<matplotlib.lines.Line2D at 0x118143198>]"
      ]
     },
     "execution_count": 51,
     "metadata": {},
     "output_type": "execute_result"
    },
    {
     "data": {
      "image/png": "[encoded data removed]",
      "text/plain": [
       "<Figure size 432x288 with 1 Axes>"
      ]
     },
     "metadata": {},
     "output_type": "display_data"
    }
   ],
   "source": [
    "plt.plot(depths, e_vol)"
   ]
  },
  {
   "cell_type": "code",
   "execution_count": 52,
   "metadata": {
    "scrolled": false
   },
   "outputs": [
    {
     "data": {
      "text/plain": [
       "[<matplotlib.lines.Line2D at 0x118166fd0>]"
      ]
     },
     "execution_count": 52,
     "metadata": {},
     "output_type": "execute_result"
    },
    {
     "data": {
      "image/png": "[encoded data removed]",
      "text/plain": [
       "<Figure size 432x288 with 1 Axes>"
      ]
     },
     "metadata": {},
     "output_type": "display_data"
    }
   ],
   "source": [
    "plt.semilogy(depths[1:], -np.diff(e_vol)/0.5 )"
   ]
  },
  {
   "cell_type": "code",
   "execution_count": 53,
   "metadata": {},
   "outputs": [
    {
     "data": {
      "text/plain": [
       "284.7521297217806"
      ]
     },
     "execution_count": 53,
     "metadata": {},
     "output_type": "execute_result"
    }
   ],
   "source": [
    "(-np.diff(e_vol)).sum()*1e-9"
   ]
  },
  {
   "cell_type": "code",
   "execution_count": 42,
   "metadata": {
    "collapsed": true
   },
   "outputs": [],
   "source": [
    "e_vol=np.array([])\n",
    "import numpy as np\n",
    "import gdal\n",
    "ds = gdal.Open(\"../../measurements/bathymetry/western.tif\")\n",
    "x = np.array(ds.GetRasterBand(1).ReadAsArray())\n",
    "pos = x[x>0]\n",
    "neg = x[x<0]\n",
    "e = neg.sum(axis=0)\n",
    "depths = np.linspace(0,63.0,127)\n",
    "prev_volume_below_d = 0\n",
    "for d in depths:\n",
    "    neg = x[x<-d]\n",
    "    e_vol = np.append(e_vol,  -neg.sum(axis=0)*0.75*(111.32*0.0008333333*1000)**2 )\n",
    "# e_vol = np.array(e_vol)[1:]-np.array(e_vol)[:-1]\n",
    "# e_vol"
   ]
  },
  {
   "cell_type": "code",
   "execution_count": 43,
   "metadata": {},
   "outputs": [
    {
     "data": {
      "text/plain": [
       "[<matplotlib.lines.Line2D at 0x116e74fd0>]"
      ]
     },
     "execution_count": 43,
     "metadata": {},
     "output_type": "execute_result"
    },
    {
     "data": {
      "image/png": "[encoded data removed]",
      "text/plain": [
       "<Figure size 432x288 with 1 Axes>"
      ]
     },
     "metadata": {},
     "output_type": "display_data"
    }
   ],
   "source": [
    "plt.semilogy(depths, e_vol)"
   ]
  },
  {
   "cell_type": "code",
   "execution_count": 44,
   "metadata": {},
   "outputs": [
    {
     "data": {
      "text/plain": [
       "[<matplotlib.lines.Line2D at 0x117ff9208>]"
      ]
     },
     "execution_count": 44,
     "metadata": {},
     "output_type": "execute_result"
    },
    {
     "data": {
      "image/png": "[encoded data removed]",
      "text/plain": [
       "<Figure size 432x288 with 1 Axes>"
      ]
     },
     "metadata": {},
     "output_type": "display_data"
    }
   ],
   "source": [
    "plt.plot(depths[1:], -np.diff(e_vol) )"
   ]
  },
  {
   "cell_type": "code",
   "execution_count": null,
   "metadata": {
    "collapsed": true
   },
   "outputs": [],
   "source": [
    "dataset = ds"
   ]
  },
  {
   "cell_type": "code",
   "execution_count": null,
   "metadata": {},
   "outputs": [],
   "source": [
    "c+e+w"
   ]
  },
  {
   "cell_type": "code",
   "execution_count": null,
   "metadata": {},
   "outputs": [],
   "source": [
    "import numpy as np\n",
    "from osgeo import gdal\n",
    "ds = gdal.Open(\"../../measurements/bathymetry/erie_lld.tif\")\n",
    "x = np.array(ds.GetRasterBand(1).ReadAsArray())\n",
    "pos = x[x>0]\n",
    "neg = x[x<0]\n",
    "pos.sum(axis=0)\n",
    "neg.sum(axis=0)"
   ]
  },
  {
   "cell_type": "code",
   "execution_count": null,
   "metadata": {},
   "outputs": [],
   "source": [
    "(x<=0).sum()"
   ]
  },
  {
   "cell_type": "code",
   "execution_count": null,
   "metadata": {
    "collapsed": true
   },
   "outputs": [],
   "source": [
    "dataset=ds"
   ]
  },
  {
   "cell_type": "code",
   "execution_count": null,
   "metadata": {
    "collapsed": true
   },
   "outputs": [],
   "source": []
  },
  {
   "cell_type": "code",
   "execution_count": null,
   "metadata": {},
   "outputs": [],
   "source": [
    "band = dataset.GetRasterBand(1)\n",
    "print(\"Band Type={}\".format(gdal.GetDataTypeName(band.DataType)))\n",
    "      \n",
    "min = band.GetMinimum()\n",
    "max = band.GetMaximum()\n",
    "if not min or not max:\n",
    "    (min,max) = band.ComputeRasterMinMax(True)\n",
    "print(\"Min={:.3f}, Max={:.3f}\".format(min,max))\n",
    "      \n",
    "if band.GetOverviewCount() > 0:\n",
    "    print(\"Band has {} overviews\".format(band.GetOverviewCount()))\n",
    "      \n",
    "if band.GetRasterColorTable():\n",
    "    print(\"Band has a color table with {} entries\".format(band.GetRasterColorTable().GetCount()))"
   ]
  },
  {
   "cell_type": "code",
   "execution_count": null,
   "metadata": {},
   "outputs": [],
   "source": [
    "print(\"Driver: {}/{}\".format(dataset.GetDriver().ShortName,\n",
    "                             dataset.GetDriver().LongName))\n",
    "print(\"Size is {} x {} x {}\".format(dataset.RasterXSize,\n",
    "                                    dataset.RasterYSize,\n",
    "                                    dataset.RasterCount))\n",
    "print(\"Projection is {}\".format(dataset.GetProjection()))\n",
    "geotransform = dataset.GetGeoTransform()\n",
    "if geotransform:\n",
    "    print(\"Origin = ({}, {})\".format(geotransform[0], geotransform[3]))\n",
    "    print(\"Pixel Size = ({}, {})\".format(geotransform[1], geotransform[5]))"
   ]
  },
  {
   "cell_type": "code",
   "execution_count": null,
   "metadata": {},
   "outputs": [],
   "source": [
    "e*1e-9*0.75*(111.32*0.0008333333*1000)**2"
   ]
  },
  {
   "cell_type": "code",
   "execution_count": null,
   "metadata": {
    "collapsed": true
   },
   "outputs": [],
   "source": [
    "scanline = band.ReadRaster(xoff=0, yoff=0,\n",
    "                           xsize=band.XSize, ysize=1,\n",
    "                           buf_xsize=band.XSize, buf_ysize=1,\n",
    "                           buf_type=gdal.GDT_Float32)"
   ]
  },
  {
   "cell_type": "code",
   "execution_count": null,
   "metadata": {
    "collapsed": true
   },
   "outputs": [],
   "source": [
    "import struct\n",
    "tuple_of_floats = struct.unpack('f' * band.XSize, scanline)"
   ]
  },
  {
   "cell_type": "code",
   "execution_count": null,
   "metadata": {
    "scrolled": true
   },
   "outputs": [],
   "source": [
    "print('{:.8f}'.format((np.array(tuple_of_floats) - tuple_of_floats[0])[4]))"
   ]
  },
  {
   "cell_type": "markdown",
   "metadata": {},
   "source": [
    "### Lake Ontario"
   ]
  },
  {
   "cell_type": "code",
   "execution_count": null,
   "metadata": {},
   "outputs": [],
   "source": [
    "import numpy as np\n",
    "from osgeo import gdal\n",
    "ds = gdal.Open(\"../../measurements/bathymetry/ontario_lld.tif\")\n",
    "x = np.array(ds.GetRasterBand(1).ReadAsArray())\n",
    "pos = x[x>0]\n",
    "neg = x[x<0]\n",
    "pos.sum(axis=0)\n",
    "neg.sum(axis=0)"
   ]
  },
  {
   "cell_type": "code",
   "execution_count": null,
   "metadata": {
    "collapsed": true
   },
   "outputs": [],
   "source": [
    "dataset=ds"
   ]
  },
  {
   "cell_type": "code",
   "execution_count": null,
   "metadata": {},
   "outputs": [],
   "source": [
    "band = dataset.GetRasterBand(1)\n",
    "print(\"Band Type={}\".format(gdal.GetDataTypeName(band.DataType)))\n",
    "      \n",
    "min = band.GetMinimum()\n",
    "max = band.GetMaximum()\n",
    "if not min or not max:\n",
    "    (min,max) = band.ComputeRasterMinMax(True)\n",
    "print(\"Min={:.3f}, Max={:.3f}\".format(min,max))\n",
    "      \n",
    "if band.GetOverviewCount() > 0:\n",
    "    print(\"Band has {} overviews\".format(band.GetOverviewCount()))\n",
    "      \n",
    "if band.GetRasterColorTable():\n",
    "    print(\"Band has a color table with {} entries\".format(band.GetRasterColorTable().GetCount()))"
   ]
  },
  {
   "cell_type": "code",
   "execution_count": null,
   "metadata": {},
   "outputs": [],
   "source": [
    "print(\"Driver: {}/{}\".format(dataset.GetDriver().ShortName,\n",
    "                             dataset.GetDriver().LongName))\n",
    "print(\"Size is {} x {} x {}\".format(dataset.RasterXSize,\n",
    "                                    dataset.RasterYSize,\n",
    "                                    dataset.RasterCount))\n",
    "print(\"Projection is {}\".format(dataset.GetProjection()))\n",
    "geotransform = dataset.GetGeoTransform()\n",
    "if geotransform:\n",
    "    print(\"Origin = ({}, {})\".format(geotransform[0], geotransform[3]))\n",
    "    print(\"Pixel Size = ({}, {})\".format(geotransform[1], geotransform[5]))"
   ]
  },
  {
   "cell_type": "code",
   "execution_count": null,
   "metadata": {},
   "outputs": [],
   "source": [
    "e_vol=np.array([])\n",
    "import numpy as np\n",
    "import gdal\n",
    "ds = gdal.Open(\"../../measurements/bathymetry/ontario_lld.grd\")\n",
    "x = np.array(ds.GetRasterBand(1).ReadAsArray())\n",
    "pos = x[x>0]\n",
    "neg = x[x<0]\n",
    "depths = np.linspace(0,250,501)\n",
    "for d in depths:\n",
    "    neg = x[x<=-d]+d\n",
    "    e_vol = np.append(e_vol,  -neg.sum()*(111.32*0.85*0.0008333333*1000)**2 )\n",
    "# e_vol = np.array(e_vol)[1:]-np.array(e_vol)[:-1]\n",
    "# e_vol"
   ]
  },
  {
   "cell_type": "code",
   "execution_count": null,
   "metadata": {
    "scrolled": false
   },
   "outputs": [],
   "source": [
    "-np.diff(e_vol)/0.5"
   ]
  },
  {
   "cell_type": "code",
   "execution_count": null,
   "metadata": {
    "collapsed": true
   },
   "outputs": [],
   "source": []
  }
 ],
 "metadata": {
  "anaconda-cloud": {},
  "kernelspec": {
   "display_name": "Python 3",
   "language": "python",
   "name": "python3"
  },
  "language_info": {
   "codemirror_mode": {
    "name": "ipython",
    "version": 3
   },
   "file_extension": ".py",
   "mimetype": "text/x-python",
   "name": "python",
   "nbconvert_exporter": "python",
   "pygments_lexer": "ipython3",
   "version": "3.6.3"
  }
 },
 "nbformat": 4,
 "nbformat_minor": 1
}
