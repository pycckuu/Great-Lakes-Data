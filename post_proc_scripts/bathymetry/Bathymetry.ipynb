{
 "cells": [
  {
   "cell_type": "code",
   "execution_count": 7,
   "metadata": {},
   "outputs": [],
   "source": [
    "from netCDF4 import Dataset\n",
    "import numpy as np"
   ]
  },
  {
   "cell_type": "code",
   "execution_count": 8,
   "metadata": {},
   "outputs": [],
   "source": [
    "import matplotlib.pyplot as plt\n",
    "from mpl_toolkits.basemap import Basemap\n",
    "\n",
    "%matplotlib inline"
   ]
  },
  {
   "cell_type": "code",
   "execution_count": 9,
   "metadata": {},
   "outputs": [],
   "source": [
    "nc = Dataset('../../measurements/bathymetry/erie_lld.grd')"
   ]
  },
  {
   "cell_type": "code",
   "execution_count": null,
   "metadata": {},
   "outputs": [],
   "source": [
    "# topo = -nc.variables['z'][:] #[::10,::10]\n",
    "# x = nc.variables['x'][:] #[::10]\n",
    "# y = nc.variables['y'][:] #[::10]\n",
    "# lon_0 = x.mean()\n",
    "# lat_0 = y.mean()\n",
    "# lon, lat = np.meshgrid(x, y)\n",
    "m = Basemap(width=5000000*2*0.8,height=300000*0.8, resolution='h',projection='stere',lat_0=lat_0+0.2,lon_0=lat_0-0.2)\n",
    "# x, y = m(lon, lat)"
   ]
  },
  {
   "cell_type": "code",
   "execution_count": 14,
   "metadata": {},
   "outputs": [],
   "source": [
    "import cmocean"
   ]
  },
  {
   "cell_type": "code",
   "execution_count": 15,
   "metadata": {},
   "outputs": [
    {
     "data": {
      "image/png": "[encoded data removed]",
      "text/plain": [
       "<Figure size 240x120 with 2 Axes>"
      ]
     },
     "metadata": {
      "needs_background": "light"
     },
     "output_type": "display_data"
    }
   ],
   "source": [
    "# \n",
    "\n",
    "\n",
    "levels1 = np.linspace(0,70,14*2+1)\n",
    "levels2 = np.linspace(0,70,14+1)\n",
    "# levels2 = np.linspace(-10,0,14*2+1)\n",
    "plt.figure(figsize=(12,6), dpi=20)\n",
    "\n",
    "# m.shadedrelief()\n",
    "# m.drawstates()\n",
    "# m.drawrivers()\n",
    "m.drawcoastlines()\n",
    "m.drawparallels(np.arange(41., 44, 1.),labels=[1,0,0,0], fontsize=10)\n",
    "m.drawmeridians(np.arange(-84., -78., 1.),labels=[0,0,1,0], fontsize=10)\n",
    "# cs = m.pcolor(x,y,np.squeeze(topo), cmap=cmocean.cm.deep)\n",
    "# ax.set_ylim(*[41,43])\n",
    "cax = m.contourf(x,y,topo, levels=levels1,cmap=cmocean.cm.deep)\n",
    "plt.contour(x,y,topo, levels=levels1, colors='k')  # negative contours will be dashed by default\n",
    "                 \n",
    "# c = m.contourf(x,y,topo, levels=levels2,cmap=cmocean.cm.solar)\n",
    "cbar = m.colorbar(cax,location='bottom')\n",
    "\n",
    "# cbar = m.colorbar(cs, location='bottom')\n",
    "cbar.set_label('Depth, m')\n",
    "plt.show()\n",
    "# plt.savefig('Bathymetry.png')\n"
   ]
  },
  {
   "cell_type": "code",
   "execution_count": 7,
   "metadata": {},
   "outputs": [
    {
     "data": {
      "text/plain": [
       "42.0"
      ]
     },
     "execution_count": 7,
     "metadata": {},
     "output_type": "execute_result"
    }
   ],
   "source": [
    "lat_0"
   ]
  },
  {
   "cell_type": "code",
   "execution_count": 8,
   "metadata": {},
   "outputs": [
    {
     "data": {
      "text/plain": [
       "-81.0"
      ]
     },
     "execution_count": 8,
     "metadata": {},
     "output_type": "execute_result"
    }
   ],
   "source": [
    "lon_0"
   ]
  },
  {
   "cell_type": "code",
   "execution_count": 12,
   "metadata": {
    "collapsed": true
   },
   "outputs": [],
   "source": [
    "import matplotlib.pyplot as plt\n",
    "\n",
    "%matplotlib inline"
   ]
  },
  {
   "cell_type": "code",
   "execution_count": 13,
   "metadata": {
    "collapsed": true
   },
   "outputs": [],
   "source": [
    "import gdal"
   ]
  },
  {
   "cell_type": "code",
   "execution_count": 14,
   "metadata": {},
   "outputs": [
    {
     "ename": "AttributeError",
     "evalue": "'NoneType' object has no attribute 'GetRasterBand'",
     "output_type": "error",
     "traceback": [
      "\u001b[0;31m---------------------------------------------------------------------------\u001b[0m",
      "\u001b[0;31mAttributeError\u001b[0m                            Traceback (most recent call last)",
      "\u001b[0;32m<ipython-input-14-95a0c0a14654>\u001b[0m in \u001b[0;36m<module>\u001b[0;34m()\u001b[0m\n\u001b[1;32m      2\u001b[0m \u001b[0;34m\u001b[0m\u001b[0m\n\u001b[1;32m      3\u001b[0m \u001b[0mraster\u001b[0m \u001b[0;34m=\u001b[0m \u001b[0mgdal\u001b[0m\u001b[0;34m.\u001b[0m\u001b[0mOpen\u001b[0m\u001b[0;34m(\u001b[0m\u001b[0;34m'ice/grid2011/g20110202.ct'\u001b[0m\u001b[0;34m)\u001b[0m\u001b[0;34m\u001b[0m\u001b[0m\n\u001b[0;32m----> 4\u001b[0;31m \u001b[0mband\u001b[0m \u001b[0;34m=\u001b[0m \u001b[0mraster\u001b[0m\u001b[0;34m.\u001b[0m\u001b[0mGetRasterBand\u001b[0m\u001b[0;34m(\u001b[0m\u001b[0;36m1\u001b[0m\u001b[0;34m)\u001b[0m\u001b[0;34m\u001b[0m\u001b[0m\n\u001b[0m\u001b[1;32m      5\u001b[0m \u001b[0marray\u001b[0m \u001b[0;34m=\u001b[0m \u001b[0mband\u001b[0m\u001b[0;34m.\u001b[0m\u001b[0mReadAsArray\u001b[0m\u001b[0;34m(\u001b[0m\u001b[0;34m)\u001b[0m\u001b[0;34m\u001b[0m\u001b[0m\n\u001b[1;32m      6\u001b[0m \u001b[0mplt\u001b[0m\u001b[0;34m.\u001b[0m\u001b[0mimshow\u001b[0m\u001b[0;34m(\u001b[0m\u001b[0marray\u001b[0m\u001b[0;34m)\u001b[0m\u001b[0;34m\u001b[0m\u001b[0m\n",
      "\u001b[0;31mAttributeError\u001b[0m: 'NoneType' object has no attribute 'GetRasterBand'"
     ]
    }
   ],
   "source": [
    "\n",
    "\n",
    "# raster = gdal.Open('ice/grid2011/g20110202.ct')\n",
    "# band = raster.GetRasterBand(1)\n",
    "# array = band.ReadAsArray()\n",
    "# plt.imshow(array)"
   ]
  },
  {
   "cell_type": "code",
   "execution_count": null,
   "metadata": {
    "collapsed": true
   },
   "outputs": [],
   "source": []
  },
  {
   "cell_type": "code",
   "execution_count": 15,
   "metadata": {
    "scrolled": true
   },
   "outputs": [
    {
     "name": "stderr",
     "output_type": "stream",
     "text": [
      "/Users/imarkelo/anaconda3/lib/python3.6/site-packages/ipykernel/__main__.py:7: DeprecationWarning: object of type <class 'float'> cannot be safely interpreted as an integer.\n"
     ]
    },
    {
     "data": {
      "text/plain": [
       "{0.0: 91595744.0,\n",
       " 0.5: 91590576.0,\n",
       " 1.0: 91569136.0,\n",
       " 1.5: 91551384.0,\n",
       " 2.0: 91529728.0,\n",
       " 2.5: 91504920.0,\n",
       " 3.0: 91475160.0,\n",
       " 3.5: 91438176.0,\n",
       " 4.0: 91395456.0,\n",
       " 4.5: 91344384.0,\n",
       " 5.0: 91280944.0,\n",
       " 5.5: 91208088.0,\n",
       " 6.0: 91106296.0,\n",
       " 6.5: 90999264.0,\n",
       " 7.0: 90847008.0,\n",
       " 7.5: 90654912.0,\n",
       " 8.0: 90435120.0,\n",
       " 8.5: 90200832.0,\n",
       " 9.0: 89880576.0,\n",
       " 9.5: 89521496.0,\n",
       " 10.0: 88979400.0,\n",
       " 10.5: 88483912.0,\n",
       " 11.0: 87634432.0,\n",
       " 11.5: 86570672.0,\n",
       " 12.0: 85193464.0,\n",
       " 12.5: 83913632.0,\n",
       " 13.0: 82309744.0,\n",
       " 13.5: 80934392.0,\n",
       " 14.0: 79251048.0,\n",
       " 14.5: 77833640.0,\n",
       " 15.0: 76432248.0,\n",
       " 15.5: 74903264.0,\n",
       " 16.0: 73270792.0,\n",
       " 16.5: 71451760.0,\n",
       " 17.0: 69314880.0,\n",
       " 17.5: 66707092.0,\n",
       " 18.0: 64211384.0,\n",
       " 18.5: 61514864.0,\n",
       " 19.0: 58156340.0,\n",
       " 19.5: 52280204.0,\n",
       " 20.0: 46895704.0,\n",
       " 20.5: 39887812.0,\n",
       " 21.0: 33338192.0,\n",
       " 21.5: 20598596.0,\n",
       " 22.0: 12724782.0,\n",
       " 22.5: 10737733.0,\n",
       " 23.0: 5283979.0,\n",
       " 23.5: 4031520.0,\n",
       " 24.0: 52864.1328125,\n",
       " 24.5: 34660.23046875,\n",
       " 25.0: 19105.09765625,\n",
       " 25.5: 6217.869140625,\n",
       " 26.0: -0.0,\n",
       " 26.5: -0.0,\n",
       " 27.0: -0.0,\n",
       " 27.5: -0.0,\n",
       " 28.0: -0.0,\n",
       " 28.5: -0.0,\n",
       " 29.0: -0.0,\n",
       " 29.5: -0.0,\n",
       " 30.0: -0.0,\n",
       " 30.5: -0.0,\n",
       " 31.0: -0.0,\n",
       " 31.5: -0.0,\n",
       " 32.0: -0.0,\n",
       " 32.5: -0.0,\n",
       " 33.0: -0.0,\n",
       " 33.5: -0.0,\n",
       " 34.0: -0.0,\n",
       " 34.5: -0.0,\n",
       " 35.0: -0.0,\n",
       " 35.5: -0.0,\n",
       " 36.0: -0.0,\n",
       " 36.5: -0.0,\n",
       " 37.0: -0.0,\n",
       " 37.5: -0.0,\n",
       " 38.0: -0.0,\n",
       " 38.5: -0.0,\n",
       " 39.0: -0.0,\n",
       " 39.5: -0.0,\n",
       " 40.0: -0.0,\n",
       " 40.5: -0.0,\n",
       " 41.0: -0.0,\n",
       " 41.5: -0.0,\n",
       " 42.0: -0.0,\n",
       " 42.5: -0.0,\n",
       " 43.0: -0.0,\n",
       " 43.5: -0.0,\n",
       " 44.0: -0.0,\n",
       " 44.5: -0.0,\n",
       " 45.0: -0.0,\n",
       " 45.5: -0.0,\n",
       " 46.0: -0.0,\n",
       " 46.5: -0.0,\n",
       " 47.0: -0.0,\n",
       " 47.5: -0.0,\n",
       " 48.0: -0.0,\n",
       " 48.5: -0.0,\n",
       " 49.0: -0.0,\n",
       " 49.5: -0.0,\n",
       " 50.0: -0.0,\n",
       " 50.5: -0.0,\n",
       " 51.0: -0.0,\n",
       " 51.5: -0.0,\n",
       " 52.0: -0.0,\n",
       " 52.5: -0.0,\n",
       " 53.0: -0.0,\n",
       " 53.5: -0.0,\n",
       " 54.0: -0.0,\n",
       " 54.5: -0.0,\n",
       " 55.0: -0.0,\n",
       " 55.5: -0.0,\n",
       " 56.0: -0.0,\n",
       " 56.5: -0.0,\n",
       " 57.0: -0.0,\n",
       " 57.5: -0.0,\n",
       " 58.0: -0.0,\n",
       " 58.5: -0.0,\n",
       " 59.0: -0.0,\n",
       " 59.5: -0.0,\n",
       " 60.0: -0.0,\n",
       " 60.5: -0.0,\n",
       " 61.0: -0.0,\n",
       " 61.5: -0.0,\n",
       " 62.0: -0.0,\n",
       " 62.5: -0.0,\n",
       " 63.0: -0.0,\n",
       " 63.5: -0.0,\n",
       " 64.0: -0.0,\n",
       " 64.5: -0.0}"
      ]
     },
     "execution_count": 15,
     "metadata": {},
     "output_type": "execute_result"
    }
   ],
   "source": [
    "c={}\n",
    "import numpy as np\n",
    "from osgeo import gdal\n",
    "ds = gdal.Open(\"../../measurements/bathymetry/central.tif\")\n",
    "x = np.array(ds.GetRasterBand(1).ReadAsArray())\n",
    "pos = x[x>0]\n",
    "for d in np.linspace(0,64.5,65/0.5):\n",
    "    neg = x[x<-d]\n",
    "    c[d] = -neg.sum(axis=0)/0.5\n",
    "c"
   ]
  },
  {
   "cell_type": "code",
   "execution_count": 17,
   "metadata": {},
   "outputs": [
    {
     "ename": "NameError",
     "evalue": "name 'depths' is not defined",
     "output_type": "error",
     "traceback": [
      "\u001b[0;31m---------------------------------------------------------------------------\u001b[0m",
      "\u001b[0;31mNameError\u001b[0m                                 Traceback (most recent call last)",
      "\u001b[0;32m<ipython-input-17-8b5b40a44bd5>\u001b[0m in \u001b[0;36m<module>\u001b[0;34m()\u001b[0m\n\u001b[0;32m----> 1\u001b[0;31m \u001b[0mdepths\u001b[0m\u001b[0;34m[\u001b[0m\u001b[0;34m:\u001b[0m\u001b[0;34m:\u001b[0m\u001b[0;34m-\u001b[0m\u001b[0;36m1\u001b[0m\u001b[0;34m]\u001b[0m\u001b[0;34m\u001b[0m\u001b[0m\n\u001b[0m",
      "\u001b[0;31mNameError\u001b[0m: name 'depths' is not defined"
     ]
    }
   ],
   "source": [
    "depths[::-1]"
   ]
  },
  {
   "cell_type": "code",
   "execution_count": 18,
   "metadata": {},
   "outputs": [
    {
     "name": "stderr",
     "output_type": "stream",
     "text": [
      "/Users/imarkelo/anaconda3/lib/python3.6/site-packages/ipykernel/__main__.py:9: DeprecationWarning: object of type <class 'float'> cannot be safely interpreted as an integer.\n"
     ]
    }
   ],
   "source": [
    "e_vol=np.array([])\n",
    "import numpy as np\n",
    "import gdal\n",
    "ds = gdal.Open(\"../../measurements/bathymetry/erie_lld.tif\")\n",
    "x = np.array(ds.GetRasterBand(1).ReadAsArray())\n",
    "pos = x[x>0]\n",
    "neg = x[x<0]\n",
    "e = neg.sum(axis=0)\n",
    "depths = np.linspace(0,63,63.5/0.5)\n",
    "prev_volume_below_d = 0\n",
    "for d in depths:\n",
    "    neg = x[x<=-d]+d\n",
    "    e_vol = np.append(e_vol,  -neg.sum()*(111.32*0.85*0.0008333333*1000)**2 )\n",
    "# e_vol = np.array(e_vol)[1:]-np.array(e_vol)[:-1]\n",
    "# e_vol"
   ]
  },
  {
   "cell_type": "code",
   "execution_count": null,
   "metadata": {},
   "outputs": [],
   "source": [
    "e_vol[0]/0.5*1e-9"
   ]
  },
  {
   "cell_type": "code",
   "execution_count": 21,
   "metadata": {},
   "outputs": [
    {
     "data": {
      "text/plain": [
       "10846.492564799159"
      ]
     },
     "execution_count": 21,
     "metadata": {},
     "output_type": "execute_result"
    }
   ],
   "source": [
    "e_vol.sum()*1e-9"
   ]
  },
  {
   "cell_type": "code",
   "execution_count": 19,
   "metadata": {},
   "outputs": [
    {
     "data": {
      "text/plain": [
       "[<matplotlib.lines.Line2D at 0x16d5e9dd8>]"
      ]
     },
     "execution_count": 19,
     "metadata": {},
     "output_type": "execute_result"
    },
    {
     "data": {
      "image/png": "[encoded data removed]",
      "text/plain": [
       "<Figure size 432x288 with 1 Axes>"
      ]
     },
     "metadata": {},
     "output_type": "display_data"
    }
   ],
   "source": [
    "plt.semilogy(depths, e_vol) "
   ]
  },
  {
   "cell_type": "code",
   "execution_count": null,
   "metadata": {},
   "outputs": [],
   "source": [
    "plt.plot(depths[:-1], -np.diff(e_vol)/0.5)"
   ]
  },
  {
   "cell_type": "markdown",
   "metadata": {},
   "source": [
    "### This is the volume of layers of lake Erie (eastern basin) with 0.5 step in depth np.linspace(0,63,63.5/0.5)"
   ]
  },
  {
   "cell_type": "code",
   "execution_count": 62,
   "metadata": {
    "collapsed": true
   },
   "outputs": [],
   "source": [
    "e_vol=np.array([])\n",
    "import numpy as np\n",
    "import gdal\n",
    "ds = gdal.Open(\"../../measurements/bathymetry/western.tif\")\n",
    "x = np.array(ds.GetRasterBand(1).ReadAsArray())\n",
    "pos = x[x>0]\n",
    "neg = x[x<0]\n",
    "e = neg.sum(axis=0)\n",
    "depths = np.linspace(0,63.0,127)\n",
    "prev_volume_below_d = 0\n",
    "for d in depths:\n",
    "    neg = x[x<=-d]+d\n",
    "    e_vol = np.append(e_vol,  -neg.sum()*(111.32*0.85*0.0008333333*1000)**2 )\n",
    "# e_vol = np.array(e_vol)[1:]-np.array(e_vol)[:-1]\n",
    "# e_vol"
   ]
  },
  {
   "cell_type": "code",
   "execution_count": 110,
   "metadata": {},
   "outputs": [
    {
     "data": {
      "text/plain": [
       "0.10958974247024221"
      ]
     },
     "execution_count": 110,
     "metadata": {},
     "output_type": "execute_result"
    }
   ],
   "source": [
    "(20/5787+290/6357+170/6237)/60/60/24/365*1e+9"
   ]
  },
  {
   "cell_type": "code",
   "execution_count": 93,
   "metadata": {},
   "outputs": [
    {
     "data": {
      "text/plain": [
       "2745.1756228150402"
      ]
     },
     "execution_count": 93,
     "metadata": {},
     "output_type": "execute_result"
    }
   ],
   "source": [
    "(e_vol[0]-e_vol[1])/0.5*1e-6"
   ]
  },
  {
   "cell_type": "code",
   "execution_count": 100,
   "metadata": {},
   "outputs": [
    {
     "data": {
      "text/plain": [
       "15846.994535519125"
      ]
     },
     "execution_count": 100,
     "metadata": {},
     "output_type": "execute_result"
    }
   ],
   "source": [
    "290/0.0183"
   ]
  },
  {
   "cell_type": "code",
   "execution_count": 99,
   "metadata": {},
   "outputs": [
    {
     "data": {
      "text/plain": [
       "2702.7027027027025"
      ]
     },
     "execution_count": 99,
     "metadata": {},
     "output_type": "execute_result"
    }
   ],
   "source": [
    "20/0.0074"
   ]
  },
  {
   "cell_type": "code",
   "execution_count": 98,
   "metadata": {},
   "outputs": [
    {
     "data": {
      "text/plain": [
       "7083.333333333333"
      ]
     },
     "execution_count": 98,
     "metadata": {},
     "output_type": "execute_result"
    }
   ],
   "source": [
    "170/0.024"
   ]
  },
  {
   "cell_type": "code",
   "execution_count": 107,
   "metadata": {},
   "outputs": [
    {
     "data": {
      "text/plain": [
       "18380"
      ]
     },
     "execution_count": 107,
     "metadata": {},
     "output_type": "execute_result"
    }
   ],
   "source": [
    "5780 + 6360 + 6240"
   ]
  },
  {
   "cell_type": "code",
   "execution_count": 124,
   "metadata": {},
   "outputs": [
    {
     "data": {
      "text/plain": [
       "1.1937172774869111"
      ]
     },
     "execution_count": 124,
     "metadata": {},
     "output_type": "execute_result"
    }
   ],
   "source": [
    "tau = 2.4\n",
    "z_av = 19\n",
    "sigma = 8/z_av\n",
    "tau/(1 + tau*sigma)"
   ]
  },
  {
   "cell_type": "code",
   "execution_count": null,
   "metadata": {
    "collapsed": true
   },
   "outputs": [],
   "source": [
    "tau = 2.4\n",
    "z_av = 19\n",
    "sigma = 8/z_av\n",
    "TP = "
   ]
  },
  {
   "cell_type": "code",
   "execution_count": 116,
   "metadata": {},
   "outputs": [
    {
     "data": {
      "text/plain": [
       "0.0902439024390244"
      ]
     },
     "execution_count": 116,
     "metadata": {},
     "output_type": "execute_result"
    }
   ],
   "source": []
  },
  {
   "cell_type": "code",
   "execution_count": 51,
   "metadata": {},
   "outputs": [
    {
     "data": {
      "text/plain": [
       "[<matplotlib.lines.Line2D at 0x118143198>]"
      ]
     },
     "execution_count": 51,
     "metadata": {},
     "output_type": "execute_result"
    },
    {
     "data": {
      "image/png": "[encoded data removed]",
      "text/plain": [
       "<Figure size 432x288 with 1 Axes>"
      ]
     },
     "metadata": {},
     "output_type": "display_data"
    }
   ],
   "source": [
    "plt.plot(depths, e_vol)"
   ]
  },
  {
   "cell_type": "code",
   "execution_count": 52,
   "metadata": {
    "scrolled": false
   },
   "outputs": [
    {
     "data": {
      "text/plain": [
       "[<matplotlib.lines.Line2D at 0x118166fd0>]"
      ]
     },
     "execution_count": 52,
     "metadata": {},
     "output_type": "execute_result"
    },
    {
     "data": {
      "image/png": "[encoded data removed]",
      "text/plain": [
       "<Figure size 432x288 with 1 Axes>"
      ]
     },
     "metadata": {},
     "output_type": "display_data"
    }
   ],
   "source": [
    "plt.semilogy(depths[1:], -np.diff(e_vol)/0.5 )"
   ]
  },
  {
   "cell_type": "code",
   "execution_count": 53,
   "metadata": {},
   "outputs": [
    {
     "data": {
      "text/plain": [
       "284.7521297217806"
      ]
     },
     "execution_count": 53,
     "metadata": {},
     "output_type": "execute_result"
    }
   ],
   "source": [
    "(-np.diff(e_vol)).sum()*1e-9"
   ]
  },
  {
   "cell_type": "code",
   "execution_count": 42,
   "metadata": {
    "collapsed": true
   },
   "outputs": [],
   "source": [
    "e_vol=np.array([])\n",
    "import numpy as np\n",
    "import gdal\n",
    "ds = gdal.Open(\"../../measurements/bathymetry/western.tif\")\n",
    "x = np.array(ds.GetRasterBand(1).ReadAsArray())\n",
    "pos = x[x>0]\n",
    "neg = x[x<0]\n",
    "e = neg.sum(axis=0)\n",
    "depths = np.linspace(0,63.0,127)\n",
    "prev_volume_below_d = 0\n",
    "for d in depths:\n",
    "    neg = x[x<-d]\n",
    "    e_vol = np.append(e_vol,  -neg.sum(axis=0)*0.75*(111.32*0.0008333333*1000)**2 )\n",
    "# e_vol = np.array(e_vol)[1:]-np.array(e_vol)[:-1]\n",
    "# e_vol"
   ]
  },
  {
   "cell_type": "code",
   "execution_count": 43,
   "metadata": {},
   "outputs": [
    {
     "data": {
      "text/plain": [
       "[<matplotlib.lines.Line2D at 0x116e74fd0>]"
      ]
     },
     "execution_count": 43,
     "metadata": {},
     "output_type": "execute_result"
    },
    {
     "data": {
      "image/png": "[encoded data removed]",
      "text/plain": [
       "<Figure size 432x288 with 1 Axes>"
      ]
     },
     "metadata": {},
     "output_type": "display_data"
    }
   ],
   "source": [
    "plt.semilogy(depths, e_vol)"
   ]
  },
  {
   "cell_type": "code",
   "execution_count": 44,
   "metadata": {},
   "outputs": [
    {
     "data": {
      "text/plain": [
       "[<matplotlib.lines.Line2D at 0x117ff9208>]"
      ]
     },
     "execution_count": 44,
     "metadata": {},
     "output_type": "execute_result"
    },
    {
     "data": {
      "image/png": "[encoded data removed]",
      "text/plain": [
       "<Figure size 432x288 with 1 Axes>"
      ]
     },
     "metadata": {},
     "output_type": "display_data"
    }
   ],
   "source": [
    "plt.plot(depths[1:], -np.diff(e_vol) )"
   ]
  },
  {
   "cell_type": "code",
   "execution_count": null,
   "metadata": {
    "collapsed": true
   },
   "outputs": [],
   "source": [
    "dataset = ds"
   ]
  },
  {
   "cell_type": "code",
   "execution_count": null,
   "metadata": {},
   "outputs": [],
   "source": [
    "c+e+w"
   ]
  },
  {
   "cell_type": "code",
   "execution_count": null,
   "metadata": {},
   "outputs": [],
   "source": [
    "import numpy as np\n",
    "from osgeo import gdal\n",
    "ds = gdal.Open(\"../../measurements/bathymetry/erie_lld.tif\")\n",
    "x = np.array(ds.GetRasterBand(1).ReadAsArray())\n",
    "pos = x[x>0]\n",
    "neg = x[x<0]\n",
    "pos.sum(axis=0)\n",
    "neg.sum(axis=0)"
   ]
  },
  {
   "cell_type": "code",
   "execution_count": null,
   "metadata": {},
   "outputs": [],
   "source": [
    "(x<=0).sum()"
   ]
  },
  {
   "cell_type": "code",
   "execution_count": null,
   "metadata": {
    "collapsed": true
   },
   "outputs": [],
   "source": [
    "dataset=ds"
   ]
  },
  {
   "cell_type": "code",
   "execution_count": null,
   "metadata": {
    "collapsed": true
   },
   "outputs": [],
   "source": []
  },
  {
   "cell_type": "code",
   "execution_count": null,
   "metadata": {},
   "outputs": [],
   "source": [
    "band = dataset.GetRasterBand(1)\n",
    "print(\"Band Type={}\".format(gdal.GetDataTypeName(band.DataType)))\n",
    "      \n",
    "min = band.GetMinimum()\n",
    "max = band.GetMaximum()\n",
    "if not min or not max:\n",
    "    (min,max) = band.ComputeRasterMinMax(True)\n",
    "print(\"Min={:.3f}, Max={:.3f}\".format(min,max))\n",
    "      \n",
    "if band.GetOverviewCount() > 0:\n",
    "    print(\"Band has {} overviews\".format(band.GetOverviewCount()))\n",
    "      \n",
    "if band.GetRasterColorTable():\n",
    "    print(\"Band has a color table with {} entries\".format(band.GetRasterColorTable().GetCount()))"
   ]
  },
  {
   "cell_type": "code",
   "execution_count": null,
   "metadata": {},
   "outputs": [],
   "source": [
    "print(\"Driver: {}/{}\".format(dataset.GetDriver().ShortName,\n",
    "                             dataset.GetDriver().LongName))\n",
    "print(\"Size is {} x {} x {}\".format(dataset.RasterXSize,\n",
    "                                    dataset.RasterYSize,\n",
    "                                    dataset.RasterCount))\n",
    "print(\"Projection is {}\".format(dataset.GetProjection()))\n",
    "geotransform = dataset.GetGeoTransform()\n",
    "if geotransform:\n",
    "    print(\"Origin = ({}, {})\".format(geotransform[0], geotransform[3]))\n",
    "    print(\"Pixel Size = ({}, {})\".format(geotransform[1], geotransform[5]))"
   ]
  },
  {
   "cell_type": "code",
   "execution_count": null,
   "metadata": {},
   "outputs": [],
   "source": [
    "e*1e-9*0.75*(111.32*0.0008333333*1000)**2"
   ]
  },
  {
   "cell_type": "code",
   "execution_count": null,
   "metadata": {
    "collapsed": true
   },
   "outputs": [],
   "source": [
    "scanline = band.ReadRaster(xoff=0, yoff=0,\n",
    "                           xsize=band.XSize, ysize=1,\n",
    "                           buf_xsize=band.XSize, buf_ysize=1,\n",
    "                           buf_type=gdal.GDT_Float32)"
   ]
  },
  {
   "cell_type": "code",
   "execution_count": null,
   "metadata": {
    "collapsed": true
   },
   "outputs": [],
   "source": [
    "import struct\n",
    "tuple_of_floats = struct.unpack('f' * band.XSize, scanline)"
   ]
  },
  {
   "cell_type": "code",
   "execution_count": null,
   "metadata": {
    "scrolled": true
   },
   "outputs": [],
   "source": [
    "print('{:.8f}'.format((np.array(tuple_of_floats) - tuple_of_floats[0])[4]))"
   ]
  },
  {
   "cell_type": "markdown",
   "metadata": {},
   "source": [
    "### Lake Ontario"
   ]
  },
  {
   "cell_type": "code",
   "execution_count": null,
   "metadata": {},
   "outputs": [],
   "source": [
    "import numpy as np\n",
    "from osgeo import gdal\n",
    "ds = gdal.Open(\"../../measurements/bathymetry/ontario_lld.tif\")\n",
    "x = np.array(ds.GetRasterBand(1).ReadAsArray())\n",
    "pos = x[x>0]\n",
    "neg = x[x<0]\n",
    "pos.sum(axis=0)\n",
    "neg.sum(axis=0)"
   ]
  },
  {
   "cell_type": "code",
   "execution_count": null,
   "metadata": {
    "collapsed": true
   },
   "outputs": [],
   "source": [
    "dataset=ds"
   ]
  },
  {
   "cell_type": "code",
   "execution_count": null,
   "metadata": {},
   "outputs": [],
   "source": [
    "band = dataset.GetRasterBand(1)\n",
    "print(\"Band Type={}\".format(gdal.GetDataTypeName(band.DataType)))\n",
    "      \n",
    "min = band.GetMinimum()\n",
    "max = band.GetMaximum()\n",
    "if not min or not max:\n",
    "    (min,max) = band.ComputeRasterMinMax(True)\n",
    "print(\"Min={:.3f}, Max={:.3f}\".format(min,max))\n",
    "      \n",
    "if band.GetOverviewCount() > 0:\n",
    "    print(\"Band has {} overviews\".format(band.GetOverviewCount()))\n",
    "      \n",
    "if band.GetRasterColorTable():\n",
    "    print(\"Band has a color table with {} entries\".format(band.GetRasterColorTable().GetCount()))"
   ]
  },
  {
   "cell_type": "code",
   "execution_count": null,
   "metadata": {},
   "outputs": [],
   "source": [
    "print(\"Driver: {}/{}\".format(dataset.GetDriver().ShortName,\n",
    "                             dataset.GetDriver().LongName))\n",
    "print(\"Size is {} x {} x {}\".format(dataset.RasterXSize,\n",
    "                                    dataset.RasterYSize,\n",
    "                                    dataset.RasterCount))\n",
    "print(\"Projection is {}\".format(dataset.GetProjection()))\n",
    "geotransform = dataset.GetGeoTransform()\n",
    "if geotransform:\n",
    "    print(\"Origin = ({}, {})\".format(geotransform[0], geotransform[3]))\n",
    "    print(\"Pixel Size = ({}, {})\".format(geotransform[1], geotransform[5]))"
   ]
  },
  {
   "cell_type": "code",
   "execution_count": null,
   "metadata": {},
   "outputs": [],
   "source": [
    "e_vol=np.array([])\n",
    "import numpy as np\n",
    "import gdal\n",
    "ds = gdal.Open(\"../../measurements/bathymetry/ontario_lld.grd\")\n",
    "x = np.array(ds.GetRasterBand(1).ReadAsArray())\n",
    "pos = x[x>0]\n",
    "neg = x[x<0]\n",
    "depths = np.linspace(0,250,501)\n",
    "for d in depths:\n",
    "    neg = x[x<=-d]+d\n",
    "    e_vol = np.append(e_vol,  -neg.sum()*(111.32*0.85*0.0008333333*1000)**2 )\n",
    "# e_vol = np.array(e_vol)[1:]-np.array(e_vol)[:-1]\n",
    "# e_vol"
   ]
  },
  {
   "cell_type": "code",
   "execution_count": null,
   "metadata": {
    "scrolled": false
   },
   "outputs": [],
   "source": [
    "-np.diff(e_vol)/0.5"
   ]
  },
  {
   "cell_type": "code",
   "execution_count": null,
   "metadata": {
    "collapsed": true
   },
   "outputs": [],
   "source": []
  }
 ],
 "metadata": {
  "anaconda-cloud": {},
  "kernelspec": {
   "display_name": "Python [conda env:anaconda3]",
   "language": "python",
   "name": "conda-env-anaconda3-py"
  },
  "language_info": {
   "codemirror_mode": {
    "name": "ipython",
    "version": 3
   },
   "file_extension": ".py",
   "mimetype": "text/x-python",
   "name": "python",
   "nbconvert_exporter": "python",
   "pygments_lexer": "ipython3",
   "version": "3.6.3"
  }
 },
 "nbformat": 4,
 "nbformat_minor": 1
}
