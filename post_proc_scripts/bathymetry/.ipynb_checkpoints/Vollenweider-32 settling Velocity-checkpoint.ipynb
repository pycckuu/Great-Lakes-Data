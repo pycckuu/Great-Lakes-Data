{
 "cells": [
  {
   "cell_type": "code",
   "execution_count": 4,
   "metadata": {
    "collapsed": true
   },
   "outputs": [],
   "source": [
    "import numpy as np"
   ]
  },
  {
   "cell_type": "markdown",
   "metadata": {},
   "source": [
    "### Response time for central basin:"
   ]
  },
  {
   "cell_type": "code",
   "execution_count": 12,
   "metadata": {},
   "outputs": [
    {
     "data": {
      "text/plain": [
       "0.40909090909090906"
      ]
     },
     "execution_count": 12,
     "metadata": {},
     "output_type": "execute_result"
    }
   ],
   "source": [
    "tau = 0.9\n",
    "z_av = 24\n",
    "sigma = 8/z_av\n",
    "tau/(1 + tau*sigma)"
   ]
  },
  {
   "cell_type": "markdown",
   "metadata": {},
   "source": [
    "### Tat transient: how fast 90% of steady state is reached after the perturbation. (Katsev paper)"
   ]
  },
  {
   "cell_type": "code",
   "execution_count": 13,
   "metadata": {},
   "outputs": [
    {
     "data": {
      "text/plain": [
       "0.9419666289521095"
      ]
     },
     "execution_count": 13,
     "metadata": {},
     "output_type": "execute_result"
    }
   ],
   "source": [
    "-np.log(0.1)*tau/(1 + tau*sigma)"
   ]
  },
  {
   "cell_type": "code",
   "execution_count": 11,
   "metadata": {},
   "outputs": [
    {
     "data": {
      "text/plain": [
       "1.6099999999999999"
      ]
     },
     "execution_count": 11,
     "metadata": {},
     "output_type": "execute_result"
    }
   ],
   "source": [
    "0.7*2.3"
   ]
  },
  {
   "cell_type": "markdown",
   "metadata": {},
   "source": [
    "### Export, sedimentation and TP loads"
   ]
  },
  {
   "cell_type": "code",
   "execution_count": 34,
   "metadata": {},
   "outputs": [
    {
     "name": "stdout",
     "output_type": "stream",
     "text": [
      "TP: 32.98250310272083\n",
      "Net sedimentation: 713.1352022209909\n",
      "Export: 5956.864797779009\n"
     ]
    }
   ],
   "source": [
    "tau = 0.1\n",
    "z_av = 7.4\n",
    "volume = 20*1e9\n",
    "a = 8\n",
    "q = 5787\n",
    "tp_load = 3432+71+3160+3+4\n",
    "\n",
    "\n",
    "sigma = a/z_av\n",
    "\n",
    "Q = q*60*60*24*365 #m3 yr-1\n",
    "TP_load = (tp_load)*1e3*1e3*1e3 # MTA -> mg\n",
    "\n",
    "TP_in = TP_load/Q #mg m-3\n",
    "\n",
    "TP = TP_in/(1+sigma*tau)\n",
    "\n",
    "print(\"TP:\", TP)\n",
    "\n",
    "NS = sigma * volume *TP\n",
    "print(\"Net sedimentation:\", NS*1e-9)\n",
    "\n",
    "print(\"Export:\", tp_load - NS*1e-9)"
   ]
  },
  {
   "cell_type": "code",
   "execution_count": 25,
   "metadata": {},
   "outputs": [
    {
     "data": {
      "text/plain": [
       "6666"
      ]
     },
     "execution_count": 25,
     "metadata": {},
     "output_type": "execute_result"
    }
   ],
   "source": [
    "3432+71+3160+3"
   ]
  },
  {
   "cell_type": "code",
   "execution_count": 32,
   "metadata": {},
   "outputs": [
    {
     "data": {
      "text/plain": [
       "8525"
      ]
     },
     "execution_count": 32,
     "metadata": {},
     "output_type": "execute_result"
    }
   ],
   "source": [
    "5956+297+2056+216"
   ]
  },
  {
   "cell_type": "code",
   "execution_count": 40,
   "metadata": {},
   "outputs": [
    {
     "name": "stdout",
     "output_type": "stream",
     "text": [
      "TP: 19.120192033882265\n",
      "Net sedimentation: 4847.961258864137\n",
      "Export: 3677.0387411358633\n"
     ]
    }
   ],
   "source": [
    "tau = 1.4\n",
    "z_av = 18.3\n",
    "volume = 290*1e9\n",
    "a = 16\n",
    "q = 6357\n",
    "\n",
    "tp_load = 8525\n",
    "\n",
    "\n",
    "sigma = a/z_av\n",
    "\n",
    "Q = q*60*60*24*365\n",
    "TP_load = (tp_load)*1e3*1e3*1e3\n",
    "\n",
    "TP_in = TP_load/Q\n",
    "\n",
    "TP = TP_in/(1+sigma*tau)\n",
    "\n",
    "print(\"TP:\", TP)\n",
    "\n",
    "NS = sigma * volume *TP\n",
    "print(\"Net sedimentation:\", NS*1e-9)\n",
    "\n",
    "print(\"Export:\", tp_load - NS*1e-9)"
   ]
  },
  {
   "cell_type": "code",
   "execution_count": 42,
   "metadata": {},
   "outputs": [
    {
     "data": {
      "text/plain": [
       "6241"
      ]
     },
     "execution_count": 42,
     "metadata": {},
     "output_type": "execute_result"
    }
   ],
   "source": [
    "5181 + 119 + 445+496"
   ]
  },
  {
   "cell_type": "markdown",
   "metadata": {},
   "source": [
    "### Eastern basin "
   ]
  },
  {
   "cell_type": "code",
   "execution_count": 48,
   "metadata": {},
   "outputs": [
    {
     "name": "stdout",
     "output_type": "stream",
     "text": [
      "TP: 18.202797256316664\n",
      "Net sedimentation: 2062.983689049222\n",
      "Export: 4178.016310950778\n"
     ]
    }
   ],
   "source": [
    "tau = 0.9\n",
    "z_av = 24\n",
    "volume = 170*1e9\n",
    "q = 6795\n",
    "a = 16\n",
    "\n",
    "tp_load = 6241\n",
    "\n",
    "\n",
    "sigma = a/z_av\n",
    "\n",
    "Q = q*60*60*24*365\n",
    "TP_load = (tp_load)*1e3*1e3*1e3\n",
    "\n",
    "TP_in = TP_load/Q\n",
    "\n",
    "TP = TP_in/(1+sigma*tau)\n",
    "\n",
    "print(\"TP:\", TP)\n",
    "\n",
    "NS = sigma * volume *TP\n",
    "print(\"Net sedimentation:\", NS*1e-9)\n",
    "\n",
    "print(\"Export:\", tp_load - NS*1e-9)"
   ]
  },
  {
   "cell_type": "code",
   "execution_count": 50,
   "metadata": {},
   "outputs": [
    {
     "data": {
      "text/plain": [
       "7875"
      ]
     },
     "execution_count": 50,
     "metadata": {},
     "output_type": "execute_result"
    }
   ],
   "source": [
    "1299+4514+2062"
   ]
  },
  {
   "cell_type": "code",
   "execution_count": 53,
   "metadata": {},
   "outputs": [
    {
     "data": {
      "text/plain": [
       "10299"
      ]
     },
     "execution_count": 53,
     "metadata": {},
     "output_type": "execute_result"
    }
   ],
   "source": [
    "6670 + 297+2056+216+119+445+496"
   ]
  },
  {
   "cell_type": "code",
   "execution_count": null,
   "metadata": {
    "collapsed": true
   },
   "outputs": [],
   "source": []
  }
 ],
 "metadata": {
  "anaconda-cloud": {},
  "kernelspec": {
   "display_name": "Python [conda root]",
   "language": "python",
   "name": "conda-root-py"
  },
  "language_info": {
   "codemirror_mode": {
    "name": "ipython",
    "version": 3
   },
   "file_extension": ".py",
   "mimetype": "text/x-python",
   "name": "python",
   "nbconvert_exporter": "python",
   "pygments_lexer": "ipython3",
   "version": "3.6.3"
  }
 },
 "nbformat": 4,
 "nbformat_minor": 1
}
